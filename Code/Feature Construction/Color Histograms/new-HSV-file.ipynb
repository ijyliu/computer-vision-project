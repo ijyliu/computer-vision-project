{
 "cells": [
  {
   "cell_type": "code",
   "execution_count": 1,
   "id": "164aa10b",
   "metadata": {},
   "outputs": [],
   "source": [
    "import os\n",
    "import cv2\n",
    "import numpy as np\n",
    "import matplotlib.pyplot as plt\n",
    "from skimage.color import rgb2hsv"
   ]
  },
  {
   "cell_type": "code",
   "execution_count": 2,
   "id": "21cffbfd",
   "metadata": {},
   "outputs": [],
   "source": [
    "# Define the paths and class names\n",
    "folder_path_orig_sample = '../../../Images/single class samples/No Blur'\n",
    "folder_path_multicolor_sample = '../../../Images/single class samples - multiple colors/No Blur'\n",
    "class_names = ['SUV', 'Pickup', 'Sedan', 'Convertible']"
   ]
  },
  {
   "cell_type": "code",
   "execution_count": 3,
   "id": "d92f874b",
   "metadata": {},
   "outputs": [],
   "source": [
    "# Function to load images and classify them\n",
    "def load_and_classify_images(folder, class_names):\n",
    "    class_images = {class_name: [] for class_name in class_names}\n",
    "    for filename in os.listdir(folder):\n",
    "        for class_name in class_names:\n",
    "            if filename.startswith(class_name):\n",
    "                img_path = os.path.join(folder, filename)\n",
    "                img = cv2.imread(img_path)\n",
    "                if img is not None:\n",
    "                    class_images[class_name].append(cv2.cvtColor(img, cv2.COLOR_BGR2RGB))\n",
    "    return class_images"
   ]
  },
  {
   "cell_type": "code",
   "execution_count": 14,
   "id": "a733456d",
   "metadata": {},
   "outputs": [],
   "source": [
    "# Function to plot images and their HSV histograms in a grid and save as PNG\n",
    "def plot_and_save_images_with_hsv_histograms(class_images, output_file):\n",
    "    rows = len(class_names)  # We will plot 4 rows, one for each class\n",
    "    cols = 2  # Two columns: one for the image and one for the histogram\n",
    "    \n",
    "    fig, axes = plt.subplots(rows, cols, figsize=(8, 16))\n",
    "    \n",
    "    # Ensure axes is always a 2D array\n",
    "    if rows == 1:\n",
    "        axes = np.expand_dims(axes, 0)\n",
    "    \n",
    "    for i, class_name in enumerate(class_names):\n",
    "        img = class_images.get(class_name, [])[0]  # Get the first image for each class\n",
    "        hsv = rgb2hsv(img)\n",
    "        hist_hue = np.histogram(hsv[:, :, 0], bins=256, range=(0, 1))\n",
    "        hist_saturation = np.histogram(hsv[:, :, 1], bins=256, range=(0, 1))\n",
    "        hist_value = np.histogram(hsv[:, :, 2], bins=256, range=(0, 1))\n",
    "\n",
    "        # Plot original image\n",
    "        axes[i, 0].imshow(img)\n",
    "        axes[i, 0].axis('off')\n",
    "        axes[i, 0].set_title(class_name)\n",
    "\n",
    "        # Plot histogram\n",
    "        axes[i, 1].plot(hist_hue[1][:-1], hist_hue[0], color='r', label='Hue')\n",
    "        axes[i, 1].plot(hist_saturation[1][:-1], hist_saturation[0], color='g', label='Saturation')\n",
    "        axes[i, 1].plot(hist_value[1][:-1], hist_value[0], color='b', label='Value')\n",
    "        axes[i, 1].legend(loc='upper right')\n",
    "        axes[i, 1].set_xlabel(\"Value\")\n",
    "        axes[i, 1].set_ylabel(\"Frequency\")\n",
    "    \n",
    "    plt.tight_layout()\n",
    "    plt.savefig(output_file, dpi=300)\n",
    "    plt.close()"
   ]
  },
  {
   "cell_type": "code",
   "execution_count": 15,
   "id": "2df94bda",
   "metadata": {},
   "outputs": [],
   "source": [
    "# Load the images for original and multicolor samples\n",
    "class_images_orig_sample = load_and_classify_images(folder_path_orig_sample, class_names)\n",
    "class_images_multicolor_sample = load_and_classify_images(folder_path_multicolor_sample, class_names)"
   ]
  },
  {
   "cell_type": "code",
   "execution_count": 16,
   "id": "5c215b17",
   "metadata": {
    "scrolled": false
   },
   "outputs": [],
   "source": [
    "# Create and save the PNG for original samples\n",
    "plot_and_save_images_with_hsv_histograms(class_images_orig_sample, 'original_samples_grid.png')"
   ]
  },
  {
   "cell_type": "code",
   "execution_count": 17,
   "id": "0a38a9ff",
   "metadata": {},
   "outputs": [],
   "source": [
    "# Create and save the PNG for multicolor samples\n",
    "plot_and_save_images_with_hsv_histograms(class_images_multicolor_sample, 'multicolor_samples_grid.png')"
   ]
  }
 ],
 "metadata": {
  "kernelspec": {
   "display_name": "Python 3 (ipykernel)",
   "language": "python",
   "name": "python3"
  },
  "language_info": {
   "codemirror_mode": {
    "name": "ipython",
    "version": 3
   },
   "file_extension": ".py",
   "mimetype": "text/x-python",
   "name": "python",
   "nbconvert_exporter": "python",
   "pygments_lexer": "ipython3",
   "version": "3.11.5"
  }
 },
 "nbformat": 4,
 "nbformat_minor": 5
}
