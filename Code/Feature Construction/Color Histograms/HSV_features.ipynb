{
 "cells": [
  {
   "cell_type": "code",
   "execution_count": 1,
   "id": "1e71389c",
   "metadata": {},
   "outputs": [],
   "source": [
    "import numpy as np\n",
    "from PIL import Image\n",
    "from skimage.color import rgb2hsv\n",
    "\n",
    "def compute_hsv_features(path: str, bins: int = 256) -> np.ndarray:\n",
    "    \"\"\"\n",
    "    Compute HSV histograms as feature vectors for a given image filepath.\n",
    "\n",
    "    This function processes the image by converting it to the HSV color space and then\n",
    "    computes histograms for each of the HSV channels. These histograms provide a statistical\n",
    "    representation of color distribution in the image.\n",
    "\n",
    "    Parameters:\n",
    "    - path (str): The path for the image for which HSV features are to be computed.\n",
    "    - bins (int, optional): The number of bins to use for the histograms. Default is 256.\n",
    "\n",
    "    Returns:\n",
    "    - np.ndarray: A concatenated array of the histograms for Hue, Saturation, and Value channels.\n",
    "    \"\"\"\n",
    "\n",
    "    #convert to HSV\n",
    "    img = np.array(Image.open(path))\n",
    "    hsv_img = rgb2hsv(img)\n",
    "\n",
    "    #compute histogram for each channel \n",
    "    hist_hue = np.histogram(hsv_img[:, :, 0], bins=bins, range=(0, 1))[0]\n",
    "    hist_saturation = np.histogram(hsv_img[:, :, 1], bins=bins, range=(0, 1))[0]\n",
    "    hist_value = np.histogram(hsv_img[:, :, 2], bins=bins, range=(0, 1))[0]\n",
    "\n",
    "    #concat to fomr feature vectiors\n",
    "    hsv_features = np.concatenate((hist_hue, hist_saturation, hist_value))\n",
    "\n",
    "    return hsv_features"
   ]
  }
 ],
 "metadata": {
  "kernelspec": {
   "display_name": "Python 3 (ipykernel)",
   "language": "python",
   "name": "python3"
  },
  "language_info": {
   "codemirror_mode": {
    "name": "ipython",
    "version": 3
   },
   "file_extension": ".py",
   "mimetype": "text/x-python",
   "name": "python",
   "nbconvert_exporter": "python",
   "pygments_lexer": "ipython3",
   "version": "3.11.5"
  }
 },
 "nbformat": 4,
 "nbformat_minor": 5
}
