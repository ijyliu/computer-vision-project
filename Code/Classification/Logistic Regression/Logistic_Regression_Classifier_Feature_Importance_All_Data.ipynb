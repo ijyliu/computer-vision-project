{
 "cells": [
  {
   "cell_type": "markdown",
   "metadata": {},
   "source": [
    "# Logistic Regression All_Data Feature Importance"
   ]
  },
  {
   "cell_type": "code",
   "execution_count": 14,
   "metadata": {},
   "outputs": [],
   "source": [
    "# Packages\n",
    "from Logistic_Regression_Classifier_Functions import *"
   ]
  },
  {
   "cell_type": "code",
   "execution_count": 15,
   "metadata": {},
   "outputs": [],
   "source": [
    "# Classifier Name\n",
    "classifier_name = 'Logistic Regression'"
   ]
  },
  {
   "cell_type": "code",
   "execution_count": 16,
   "metadata": {},
   "outputs": [],
   "source": [
    "# Whether this is a sample run or not\n",
    "sample_run = False"
   ]
  },
  {
   "cell_type": "markdown",
   "metadata": {},
   "source": [
    "## Load Test Data"
   ]
  },
  {
   "cell_type": "code",
   "execution_count": 17,
   "metadata": {},
   "outputs": [
    {
     "name": "stdout",
     "output_type": "stream",
     "text": [
      "all test data\n",
      "          Class                            harmonized_filename  \\\n",
      "0        Pickup        Pickup_test_orig_test_05620_resized.jpg   \n",
      "1           SUV           SUV_test_orig_test_08041_resized.jpg   \n",
      "2   Convertible   Convertible_test_orig_test_00822_resized.jpg   \n",
      "3   Convertible   Convertible_test_orig_test_00618_resized.jpg   \n",
      "4        Pickup        Pickup_test_orig_test_05241_resized.jpg   \n",
      "..          ...                                            ...   \n",
      "88        Sedan         Sedan_test_orig_test_03443_resized.jpg   \n",
      "89       Pickup       Pickup_test_orig_train_04088_resized.jpg   \n",
      "90        Sedan        Sedan_test_orig_train_03673_resized.jpg   \n",
      "91        Sedan        Sedan_test_orig_train_06616_resized.jpg   \n",
      "92  Convertible  Convertible_test_orig_train_05861_resized.jpg   \n",
      "\n",
      "                                      image_path_blur  \\\n",
      "0   ../../../Images/test/Blurred/Pickup_test_orig_...   \n",
      "1   ../../../Images/test/Blurred/SUV_test_orig_tes...   \n",
      "2   ../../../Images/test/Blurred/Convertible_test_...   \n",
      "3   ../../../Images/test/Blurred/Convertible_test_...   \n",
      "4   ../../../Images/test/Blurred/Pickup_test_orig_...   \n",
      "..                                                ...   \n",
      "88  ../../../Images/test/Blurred/Sedan_test_orig_t...   \n",
      "89  ../../../Images/test/Blurred/Pickup_test_orig_...   \n",
      "90  ../../../Images/test/Blurred/Sedan_test_orig_t...   \n",
      "91  ../../../Images/test/Blurred/Sedan_test_orig_t...   \n",
      "92  ../../../Images/test/Blurred/Convertible_test_...   \n",
      "\n",
      "                                   image_path_no_blur  \\\n",
      "0   ../../../Images/test/No_Blur/Pickup_test_orig_...   \n",
      "1   ../../../Images/test/No_Blur/SUV_test_orig_tes...   \n",
      "2   ../../../Images/test/No_Blur/Convertible_test_...   \n",
      "3   ../../../Images/test/No_Blur/Convertible_test_...   \n",
      "4   ../../../Images/test/No_Blur/Pickup_test_orig_...   \n",
      "..                                                ...   \n",
      "88  ../../../Images/test/No_Blur/Sedan_test_orig_t...   \n",
      "89  ../../../Images/test/No_Blur/Pickup_test_orig_...   \n",
      "90  ../../../Images/test/No_Blur/Sedan_test_orig_t...   \n",
      "91  ../../../Images/test/No_Blur/Sedan_test_orig_t...   \n",
      "92  ../../../Images/test/No_Blur/Convertible_test_...   \n",
      "\n",
      "    ViT_Embedding_Element_0  ViT_Embedding_Element_1  ViT_Embedding_Element_2  \\\n",
      "0                 -0.347766                 0.167595                 0.154336   \n",
      "1                 -0.098150                 0.112476                -0.029927   \n",
      "2                 -0.203125                 0.251158                -0.324457   \n",
      "3                 -0.211059                 0.216949                -0.437562   \n",
      "4                 -0.258407                 0.309153                 0.115703   \n",
      "..                      ...                      ...                      ...   \n",
      "88                -0.170689                 0.167469                -0.165911   \n",
      "89                -0.249416                 0.215597                 0.156529   \n",
      "90                -0.040393                 0.276296                -0.051275   \n",
      "91                -0.114089                 0.125190                -0.260922   \n",
      "92                -0.161454                 0.394140                -0.254677   \n",
      "\n",
      "    ViT_Embedding_Element_3  ViT_Embedding_Element_4  ViT_Embedding_Element_5  \\\n",
      "0                 -0.086329                -0.084096                 0.403538   \n",
      "1                 -0.390461                 0.041179                 0.271308   \n",
      "2                 -0.320937                -0.232326                 0.130335   \n",
      "3                 -0.345737                -0.208970                 0.345806   \n",
      "4                  0.006585                 0.145539                 0.066159   \n",
      "..                      ...                      ...                      ...   \n",
      "88                -0.464237                -0.129780                 0.177970   \n",
      "89                -0.240929                -0.168694                 0.354225   \n",
      "90                -0.225824                -0.297258                 0.278150   \n",
      "91                -0.534182                 0.093819                 0.420588   \n",
      "92                -0.426034                 0.265536                 0.211613   \n",
      "\n",
      "    ...  VGG_Embedding_Element_502  VGG_Embedding_Element_503  \\\n",
      "0   ...                   0.022588                   1.133375   \n",
      "1   ...                   0.000000                   0.253053   \n",
      "2   ...                   0.000000                   0.235702   \n",
      "3   ...                   0.128199                   0.387812   \n",
      "4   ...                   0.036451                   0.602885   \n",
      "..  ...                        ...                        ...   \n",
      "88  ...                   0.055077                   0.379769   \n",
      "89  ...                   0.006549                   0.000000   \n",
      "90  ...                   0.003398                   0.027674   \n",
      "91  ...                   0.101564                   0.283806   \n",
      "92  ...                   0.050454                   0.773631   \n",
      "\n",
      "    VGG_Embedding_Element_504  VGG_Embedding_Element_505  \\\n",
      "0                    0.451472                   0.000000   \n",
      "1                    0.224052                   0.000000   \n",
      "2                    0.434525                   0.000162   \n",
      "3                    0.062208                   0.000000   \n",
      "4                    0.000000                   0.000000   \n",
      "..                        ...                        ...   \n",
      "88                   0.151703                   0.000000   \n",
      "89                   0.485111                   0.000000   \n",
      "90                   0.026551                   0.000000   \n",
      "91                   0.220964                   0.000000   \n",
      "92                   0.412070                   0.000000   \n",
      "\n",
      "    VGG_Embedding_Element_506  VGG_Embedding_Element_507  \\\n",
      "0                    0.047339                   0.154326   \n",
      "1                    0.000000                   0.000000   \n",
      "2                    0.000000                   0.170900   \n",
      "3                    0.000000                   0.136773   \n",
      "4                    0.000000                   0.035047   \n",
      "..                        ...                        ...   \n",
      "88                   0.001070                   0.145830   \n",
      "89                   0.000000                   0.170164   \n",
      "90                   0.000000                   0.117652   \n",
      "91                   0.000000                   0.006836   \n",
      "92                   0.000000                   0.102131   \n",
      "\n",
      "    VGG_Embedding_Element_508  VGG_Embedding_Element_509  \\\n",
      "0                    0.014707                   0.381150   \n",
      "1                    0.087972                   0.227599   \n",
      "2                    0.325055                   0.418985   \n",
      "3                    0.318834                   0.245252   \n",
      "4                    0.000000                   0.561562   \n",
      "..                        ...                        ...   \n",
      "88                   0.207715                   0.018633   \n",
      "89                   0.000000                   0.392546   \n",
      "90                   0.117389                   0.781941   \n",
      "91                   0.240902                   0.981174   \n",
      "92                   0.006109                   0.016267   \n",
      "\n",
      "    VGG_Embedding_Element_510  VGG_Embedding_Element_511  \n",
      "0                    0.089064                   0.000000  \n",
      "1                    0.211084                   0.238225  \n",
      "2                    0.427169                   0.000000  \n",
      "3                    1.322474                   0.677609  \n",
      "4                    0.201122                   0.000000  \n",
      "..                        ...                        ...  \n",
      "88                   0.334320                   0.010076  \n",
      "89                   0.002490                   0.000000  \n",
      "90                   0.247370                   0.121276  \n",
      "91                   1.254761                   0.000000  \n",
      "92                   2.911038                   0.000000  \n",
      "\n",
      "[1489 rows x 4893 columns]\n"
     ]
    }
   ],
   "source": [
    "test_data = combine_directory_parquets('../../../Data/Features/All Features/test')\n",
    "print('all test data')\n",
    "print(test_data)\n",
    "\n",
    "if sample_run:\n",
    "    test_data = test_data.sample(frac=0.01).iloc[:, 0:10]"
   ]
  },
  {
   "cell_type": "markdown",
   "metadata": {},
   "source": [
    "## Prepare Matrices"
   ]
  },
  {
   "cell_type": "code",
   "execution_count": 18,
   "metadata": {},
   "outputs": [],
   "source": [
    "# Prepare matrices\n",
    "X_test, y_test = prepare_matrices(test_data)"
   ]
  },
  {
   "cell_type": "markdown",
   "metadata": {},
   "source": [
    "## Load Model"
   ]
  },
  {
   "cell_type": "code",
   "execution_count": 19,
   "metadata": {},
   "outputs": [
    {
     "name": "stderr",
     "output_type": "stream",
     "text": [
      "c:\\Users\\ijyli\\miniforge3\\envs\\computervision\\Lib\\site-packages\\sklearn\\base.py:347: InconsistentVersionWarning: Trying to unpickle estimator LogisticRegression from version 1.4.1.post1 when using version 1.3.0. This might lead to breaking code or invalid results. Use at your own risk. For more info please refer to:\n",
      "https://scikit-learn.org/stable/model_persistence.html#security-maintainability-limitations\n",
      "  warnings.warn(\n"
     ]
    },
    {
     "data": {
      "text/html": [
       "<style>#sk-container-id-2 {color: black;}#sk-container-id-2 pre{padding: 0;}#sk-container-id-2 div.sk-toggleable {background-color: white;}#sk-container-id-2 label.sk-toggleable__label {cursor: pointer;display: block;width: 100%;margin-bottom: 0;padding: 0.3em;box-sizing: border-box;text-align: center;}#sk-container-id-2 label.sk-toggleable__label-arrow:before {content: \"▸\";float: left;margin-right: 0.25em;color: #696969;}#sk-container-id-2 label.sk-toggleable__label-arrow:hover:before {color: black;}#sk-container-id-2 div.sk-estimator:hover label.sk-toggleable__label-arrow:before {color: black;}#sk-container-id-2 div.sk-toggleable__content {max-height: 0;max-width: 0;overflow: hidden;text-align: left;background-color: #f0f8ff;}#sk-container-id-2 div.sk-toggleable__content pre {margin: 0.2em;color: black;border-radius: 0.25em;background-color: #f0f8ff;}#sk-container-id-2 input.sk-toggleable__control:checked~div.sk-toggleable__content {max-height: 200px;max-width: 100%;overflow: auto;}#sk-container-id-2 input.sk-toggleable__control:checked~label.sk-toggleable__label-arrow:before {content: \"▾\";}#sk-container-id-2 div.sk-estimator input.sk-toggleable__control:checked~label.sk-toggleable__label {background-color: #d4ebff;}#sk-container-id-2 div.sk-label input.sk-toggleable__control:checked~label.sk-toggleable__label {background-color: #d4ebff;}#sk-container-id-2 input.sk-hidden--visually {border: 0;clip: rect(1px 1px 1px 1px);clip: rect(1px, 1px, 1px, 1px);height: 1px;margin: -1px;overflow: hidden;padding: 0;position: absolute;width: 1px;}#sk-container-id-2 div.sk-estimator {font-family: monospace;background-color: #f0f8ff;border: 1px dotted black;border-radius: 0.25em;box-sizing: border-box;margin-bottom: 0.5em;}#sk-container-id-2 div.sk-estimator:hover {background-color: #d4ebff;}#sk-container-id-2 div.sk-parallel-item::after {content: \"\";width: 100%;border-bottom: 1px solid gray;flex-grow: 1;}#sk-container-id-2 div.sk-label:hover label.sk-toggleable__label {background-color: #d4ebff;}#sk-container-id-2 div.sk-serial::before {content: \"\";position: absolute;border-left: 1px solid gray;box-sizing: border-box;top: 0;bottom: 0;left: 50%;z-index: 0;}#sk-container-id-2 div.sk-serial {display: flex;flex-direction: column;align-items: center;background-color: white;padding-right: 0.2em;padding-left: 0.2em;position: relative;}#sk-container-id-2 div.sk-item {position: relative;z-index: 1;}#sk-container-id-2 div.sk-parallel {display: flex;align-items: stretch;justify-content: center;background-color: white;position: relative;}#sk-container-id-2 div.sk-item::before, #sk-container-id-2 div.sk-parallel-item::before {content: \"\";position: absolute;border-left: 1px solid gray;box-sizing: border-box;top: 0;bottom: 0;left: 50%;z-index: -1;}#sk-container-id-2 div.sk-parallel-item {display: flex;flex-direction: column;z-index: 1;position: relative;background-color: white;}#sk-container-id-2 div.sk-parallel-item:first-child::after {align-self: flex-end;width: 50%;}#sk-container-id-2 div.sk-parallel-item:last-child::after {align-self: flex-start;width: 50%;}#sk-container-id-2 div.sk-parallel-item:only-child::after {width: 0;}#sk-container-id-2 div.sk-dashed-wrapped {border: 1px dashed gray;margin: 0 0.4em 0.5em 0.4em;box-sizing: border-box;padding-bottom: 0.4em;background-color: white;}#sk-container-id-2 div.sk-label label {font-family: monospace;font-weight: bold;display: inline-block;line-height: 1.2em;}#sk-container-id-2 div.sk-label-container {text-align: center;}#sk-container-id-2 div.sk-container {/* jupyter's `normalize.less` sets `[hidden] { display: none; }` but bootstrap.min.css set `[hidden] { display: none !important; }` so we also need the `!important` here to be able to override the default hidden behavior on the sphinx rendered scikit-learn.org. See: https://github.com/scikit-learn/scikit-learn/issues/21755 */display: inline-block !important;position: relative;}#sk-container-id-2 div.sk-text-repr-fallback {display: none;}</style><div id=\"sk-container-id-2\" class=\"sk-top-container\"><div class=\"sk-text-repr-fallback\"><pre>LogisticRegression(C=0.1, class_weight=&#x27;balanced&#x27;, l1_ratio=1.0, max_iter=1000,\n",
       "                   multi_class=&#x27;ovr&#x27;, penalty=&#x27;elasticnet&#x27;, solver=&#x27;saga&#x27;)</pre><b>In a Jupyter environment, please rerun this cell to show the HTML representation or trust the notebook. <br />On GitHub, the HTML representation is unable to render, please try loading this page with nbviewer.org.</b></div><div class=\"sk-container\" hidden><div class=\"sk-item\"><div class=\"sk-estimator sk-toggleable\"><input class=\"sk-toggleable__control sk-hidden--visually\" id=\"sk-estimator-id-2\" type=\"checkbox\" checked><label for=\"sk-estimator-id-2\" class=\"sk-toggleable__label sk-toggleable__label-arrow\">LogisticRegression</label><div class=\"sk-toggleable__content\"><pre>LogisticRegression(C=0.1, class_weight=&#x27;balanced&#x27;, l1_ratio=1.0, max_iter=1000,\n",
       "                   multi_class=&#x27;ovr&#x27;, penalty=&#x27;elasticnet&#x27;, solver=&#x27;saga&#x27;)</pre></div></div></div></div></div>"
      ],
      "text/plain": [
       "LogisticRegression(C=0.1, class_weight='balanced', l1_ratio=1.0, max_iter=1000,\n",
       "                   multi_class='ovr', penalty='elasticnet', solver='saga')"
      ]
     },
     "execution_count": 19,
     "metadata": {},
     "output_type": "execute_result"
    }
   ],
   "source": [
    "# Load trained model\n",
    "model = joblib.load('../../../Output/Classifier Fitting/' + classifier_name + '/All_Data Best Model.joblib')\n",
    "model"
   ]
  },
  {
   "cell_type": "markdown",
   "metadata": {},
   "source": [
    "## Feature Importance"
   ]
  },
  {
   "cell_type": "code",
   "execution_count": 20,
   "metadata": {},
   "outputs": [],
   "source": [
    "# Perform permutation importance\n",
    "result = permutation_importance(model, X_test, y_test, n_repeats=1000, random_state=222, n_jobs=-1)\n",
    "\n",
    "# Put column name, mean and std in a dataframe\n",
    "result = pd.DataFrame({'feature': test_data.select_dtypes(include=np.number).columns, 'mean': result.importances_mean, 'std': result.importances_std})\n",
    "\n",
    "# Output to Excel\n",
    "result.to_excel('../../../Output/Classifier Inference/' + classifier_name + '/permutation_importance.xlsx', index=False)\n",
    "\n",
    "result"
   ]
  }
 ],
 "metadata": {
  "kernelspec": {
   "display_name": "computervision",
   "language": "python",
   "name": "python3"
  },
  "language_info": {
   "codemirror_mode": {
    "name": "ipython",
    "version": 3
   },
   "file_extension": ".py",
   "mimetype": "text/x-python",
   "name": "python",
   "nbconvert_exporter": "python",
   "pygments_lexer": "ipython3",
   "version": "3.12.0"
  }
 },
 "nbformat": 4,
 "nbformat_minor": 2
}
