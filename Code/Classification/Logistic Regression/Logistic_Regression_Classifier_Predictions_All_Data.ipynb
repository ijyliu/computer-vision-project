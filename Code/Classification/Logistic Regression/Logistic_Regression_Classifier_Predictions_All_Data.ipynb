{
 "cells": [
  {
   "cell_type": "markdown",
   "metadata": {},
   "source": [
    "# Logistic Regression Classifier Predictions"
   ]
  },
  {
   "cell_type": "code",
   "execution_count": 1,
   "metadata": {},
   "outputs": [],
   "source": [
    "# Packages\n",
    "from Logistic_Regression_Classifier_Functions import *"
   ]
  },
  {
   "cell_type": "code",
   "execution_count": 2,
   "metadata": {},
   "outputs": [],
   "source": [
    "# Classifier Name\n",
    "classifier_name = 'All_Data'"
   ]
  },
  {
   "cell_type": "code",
   "execution_count": 3,
   "metadata": {},
   "outputs": [],
   "source": [
    "# Whether this is a sample run or not\n",
    "sample_run = True"
   ]
  },
  {
   "cell_type": "markdown",
   "metadata": {},
   "source": [
    "## Load Test Data"
   ]
  },
  {
   "cell_type": "code",
   "execution_count": 4,
   "metadata": {},
   "outputs": [
    {
     "name": "stdout",
     "output_type": "stream",
     "text": [
      "all test data\n",
      "          Class                            harmonized_filename  \\\n",
      "0        Pickup        Pickup_test_orig_test_05620_resized.jpg   \n",
      "1           SUV           SUV_test_orig_test_08041_resized.jpg   \n",
      "2   Convertible   Convertible_test_orig_test_00822_resized.jpg   \n",
      "3   Convertible   Convertible_test_orig_test_00618_resized.jpg   \n",
      "4        Pickup        Pickup_test_orig_test_05241_resized.jpg   \n",
      "..          ...                                            ...   \n",
      "88        Sedan         Sedan_test_orig_test_03443_resized.jpg   \n",
      "89       Pickup       Pickup_test_orig_train_04088_resized.jpg   \n",
      "90        Sedan        Sedan_test_orig_train_03673_resized.jpg   \n",
      "91        Sedan        Sedan_test_orig_train_06616_resized.jpg   \n",
      "92  Convertible  Convertible_test_orig_train_05861_resized.jpg   \n",
      "\n",
      "                                      image_path_blur  \\\n",
      "0   ../../../Images/test/Blurred/Pickup_test_orig_...   \n",
      "1   ../../../Images/test/Blurred/SUV_test_orig_tes...   \n",
      "2   ../../../Images/test/Blurred/Convertible_test_...   \n",
      "3   ../../../Images/test/Blurred/Convertible_test_...   \n",
      "4   ../../../Images/test/Blurred/Pickup_test_orig_...   \n",
      "..                                                ...   \n",
      "88  ../../../Images/test/Blurred/Sedan_test_orig_t...   \n",
      "89  ../../../Images/test/Blurred/Pickup_test_orig_...   \n",
      "90  ../../../Images/test/Blurred/Sedan_test_orig_t...   \n",
      "91  ../../../Images/test/Blurred/Sedan_test_orig_t...   \n",
      "92  ../../../Images/test/Blurred/Convertible_test_...   \n",
      "\n",
      "                                   image_path_no_blur  \\\n",
      "0   ../../../Images/test/No_Blur/Pickup_test_orig_...   \n",
      "1   ../../../Images/test/No_Blur/SUV_test_orig_tes...   \n",
      "2   ../../../Images/test/No_Blur/Convertible_test_...   \n",
      "3   ../../../Images/test/No_Blur/Convertible_test_...   \n",
      "4   ../../../Images/test/No_Blur/Pickup_test_orig_...   \n",
      "..                                                ...   \n",
      "88  ../../../Images/test/No_Blur/Sedan_test_orig_t...   \n",
      "89  ../../../Images/test/No_Blur/Pickup_test_orig_...   \n",
      "90  ../../../Images/test/No_Blur/Sedan_test_orig_t...   \n",
      "91  ../../../Images/test/No_Blur/Sedan_test_orig_t...   \n",
      "92  ../../../Images/test/No_Blur/Convertible_test_...   \n",
      "\n",
      "    ViT_Embedding_Element_0  ViT_Embedding_Element_1  ViT_Embedding_Element_2  \\\n",
      "0                 -0.347766                 0.167595                 0.154336   \n",
      "1                 -0.098150                 0.112476                -0.029927   \n",
      "2                 -0.203125                 0.251158                -0.324457   \n",
      "3                 -0.211059                 0.216949                -0.437562   \n",
      "4                 -0.258407                 0.309153                 0.115703   \n",
      "..                      ...                      ...                      ...   \n",
      "88                -0.170689                 0.167469                -0.165911   \n",
      "89                -0.249416                 0.215597                 0.156529   \n",
      "90                -0.040393                 0.276296                -0.051275   \n",
      "91                -0.114089                 0.125190                -0.260922   \n",
      "92                -0.161454                 0.394140                -0.254677   \n",
      "\n",
      "    ViT_Embedding_Element_3  ViT_Embedding_Element_4  ViT_Embedding_Element_5  \\\n",
      "0                 -0.086329                -0.084096                 0.403538   \n",
      "1                 -0.390461                 0.041179                 0.271308   \n",
      "2                 -0.320937                -0.232326                 0.130335   \n",
      "3                 -0.345737                -0.208970                 0.345806   \n",
      "4                  0.006585                 0.145539                 0.066159   \n",
      "..                      ...                      ...                      ...   \n",
      "88                -0.464237                -0.129780                 0.177970   \n",
      "89                -0.240929                -0.168694                 0.354225   \n",
      "90                -0.225824                -0.297258                 0.278150   \n",
      "91                -0.534182                 0.093819                 0.420588   \n",
      "92                -0.426034                 0.265536                 0.211613   \n",
      "\n",
      "    ...  VGG_Embedding_Element_502  VGG_Embedding_Element_503  \\\n",
      "0   ...                   0.022588                   1.133375   \n",
      "1   ...                   0.000000                   0.253053   \n",
      "2   ...                   0.000000                   0.235702   \n",
      "3   ...                   0.128199                   0.387812   \n",
      "4   ...                   0.036451                   0.602885   \n",
      "..  ...                        ...                        ...   \n",
      "88  ...                   0.055077                   0.379769   \n",
      "89  ...                   0.006549                   0.000000   \n",
      "90  ...                   0.003398                   0.027674   \n",
      "91  ...                   0.101564                   0.283806   \n",
      "92  ...                   0.050454                   0.773631   \n",
      "\n",
      "    VGG_Embedding_Element_504  VGG_Embedding_Element_505  \\\n",
      "0                    0.451472                   0.000000   \n",
      "1                    0.224052                   0.000000   \n",
      "2                    0.434525                   0.000162   \n",
      "3                    0.062208                   0.000000   \n",
      "4                    0.000000                   0.000000   \n",
      "..                        ...                        ...   \n",
      "88                   0.151703                   0.000000   \n",
      "89                   0.485111                   0.000000   \n",
      "90                   0.026551                   0.000000   \n",
      "91                   0.220964                   0.000000   \n",
      "92                   0.412070                   0.000000   \n",
      "\n",
      "    VGG_Embedding_Element_506  VGG_Embedding_Element_507  \\\n",
      "0                    0.047339                   0.154326   \n",
      "1                    0.000000                   0.000000   \n",
      "2                    0.000000                   0.170900   \n",
      "3                    0.000000                   0.136773   \n",
      "4                    0.000000                   0.035047   \n",
      "..                        ...                        ...   \n",
      "88                   0.001070                   0.145830   \n",
      "89                   0.000000                   0.170164   \n",
      "90                   0.000000                   0.117652   \n",
      "91                   0.000000                   0.006836   \n",
      "92                   0.000000                   0.102131   \n",
      "\n",
      "    VGG_Embedding_Element_508  VGG_Embedding_Element_509  \\\n",
      "0                    0.014707                   0.381150   \n",
      "1                    0.087972                   0.227599   \n",
      "2                    0.325055                   0.418985   \n",
      "3                    0.318834                   0.245252   \n",
      "4                    0.000000                   0.561562   \n",
      "..                        ...                        ...   \n",
      "88                   0.207715                   0.018633   \n",
      "89                   0.000000                   0.392546   \n",
      "90                   0.117389                   0.781941   \n",
      "91                   0.240902                   0.981174   \n",
      "92                   0.006109                   0.016267   \n",
      "\n",
      "    VGG_Embedding_Element_510  VGG_Embedding_Element_511  \n",
      "0                    0.089064                   0.000000  \n",
      "1                    0.211084                   0.238225  \n",
      "2                    0.427169                   0.000000  \n",
      "3                    1.322474                   0.677609  \n",
      "4                    0.201122                   0.000000  \n",
      "..                        ...                        ...  \n",
      "88                   0.334320                   0.010076  \n",
      "89                   0.002490                   0.000000  \n",
      "90                   0.247370                   0.121276  \n",
      "91                   1.254761                   0.000000  \n",
      "92                   2.911038                   0.000000  \n",
      "\n",
      "[1489 rows x 11949 columns]\n"
     ]
    }
   ],
   "source": [
    "test_data = combine_directory_parquets('../../../Data/Features/All Features/test')\n",
    "print('all test data')\n",
    "print(test_data)\n",
    "\n",
    "if sample_run:\n",
    "    test_data = test_data.sample(frac=0.01).iloc[:, 0:10]"
   ]
  },
  {
   "cell_type": "markdown",
   "metadata": {},
   "source": [
    "## Prepare Matrices"
   ]
  },
  {
   "cell_type": "code",
   "execution_count": 5,
   "metadata": {},
   "outputs": [],
   "source": [
    "# Prepare matrices\n",
    "X_test, _ = prepare_matrices(test_data)"
   ]
  },
  {
   "cell_type": "markdown",
   "metadata": {},
   "source": [
    "## Make Predictions"
   ]
  },
  {
   "cell_type": "code",
   "execution_count": 6,
   "metadata": {},
   "outputs": [
    {
     "name": "stdout",
     "output_type": "stream",
     "text": [
      "best model\n",
      "LogisticRegression(C=1, l1_ratio=1.0, max_iter=1000, multi_class='multinomial',\n",
      "                   penalty='elasticnet', solver='saga')\n",
      "predictions head\n",
      "['Sedan' 'Convertible' 'Sedan' 'Sedan' 'SUV']\n",
      "Unexpected exception formatting exception. Falling back to standard exception\n"
     ]
    },
    {
     "name": "stderr",
     "output_type": "stream",
     "text": [
      "Traceback (most recent call last):\n",
      "  File \"c:\\Users\\ijyli\\anaconda3\\envs\\computervision\\Lib\\site-packages\\IPython\\core\\interactiveshell.py\", line 3553, in run_code\n",
      "    exec(code_obj, self.user_global_ns, self.user_ns)\n",
      "  File \"C:\\Users\\ijyli\\AppData\\Local\\Temp\\ipykernel_17012\\2315729428.py\", line 1, in <module>\n",
      "    make_predictions(X_test, classifier_name)\n",
      "  File \"c:\\Users\\ijyli\\repo\\computer-vision-project\\Code\\Classification\\Logistic Regression\\Logistic_Regression_Classifier_Functions.py\", line 126, in make_predictions\n",
      "    test_data['Logistic_Regression_Classification'] = predictions\n",
      "    ^^^^^^^^^\n",
      "UnboundLocalError: cannot access local variable 'test_data' where it is not associated with a value\n",
      "\n",
      "During handling of the above exception, another exception occurred:\n",
      "\n",
      "Traceback (most recent call last):\n",
      "  File \"c:\\Users\\ijyli\\anaconda3\\envs\\computervision\\Lib\\site-packages\\IPython\\core\\interactiveshell.py\", line 2144, in showtraceback\n",
      "    stb = self.InteractiveTB.structured_traceback(\n",
      "          ^^^^^^^^^^^^^^^^^^^^^^^^^^^^^^^^^^^^^^^^\n",
      "  File \"c:\\Users\\ijyli\\anaconda3\\envs\\computervision\\Lib\\site-packages\\IPython\\core\\ultratb.py\", line 1435, in structured_traceback\n",
      "    return FormattedTB.structured_traceback(\n",
      "           ^^^^^^^^^^^^^^^^^^^^^^^^^^^^^^^^^\n",
      "  File \"c:\\Users\\ijyli\\anaconda3\\envs\\computervision\\Lib\\site-packages\\IPython\\core\\ultratb.py\", line 1326, in structured_traceback\n",
      "    return VerboseTB.structured_traceback(\n",
      "           ^^^^^^^^^^^^^^^^^^^^^^^^^^^^^^^\n",
      "  File \"c:\\Users\\ijyli\\anaconda3\\envs\\computervision\\Lib\\site-packages\\IPython\\core\\ultratb.py\", line 1173, in structured_traceback\n",
      "    formatted_exception = self.format_exception_as_a_whole(etype, evalue, etb, number_of_lines_of_context,\n",
      "                          ^^^^^^^^^^^^^^^^^^^^^^^^^^^^^^^^^^^^^^^^^^^^^^^^^^^^^^^^^^^^^^^^^^^^^^^^^^^^^^^^\n",
      "  File \"c:\\Users\\ijyli\\anaconda3\\envs\\computervision\\Lib\\site-packages\\IPython\\core\\ultratb.py\", line 1088, in format_exception_as_a_whole\n",
      "    frames.append(self.format_record(record))\n",
      "                  ^^^^^^^^^^^^^^^^^^^^^^^^^^\n",
      "  File \"c:\\Users\\ijyli\\anaconda3\\envs\\computervision\\Lib\\site-packages\\IPython\\core\\ultratb.py\", line 970, in format_record\n",
      "    frame_info.lines, Colors, self.has_colors, lvals\n",
      "    ^^^^^^^^^^^^^^^^\n",
      "  File \"c:\\Users\\ijyli\\anaconda3\\envs\\computervision\\Lib\\site-packages\\IPython\\core\\ultratb.py\", line 792, in lines\n",
      "    return self._sd.lines\n",
      "           ^^^^^^^^^^^^^^\n",
      "  File \"c:\\Users\\ijyli\\anaconda3\\envs\\computervision\\Lib\\site-packages\\stack_data\\utils.py\", line 144, in cached_property_wrapper\n",
      "    value = obj.__dict__[self.func.__name__] = self.func(obj)\n",
      "                                               ^^^^^^^^^^^^^^\n",
      "  File \"c:\\Users\\ijyli\\anaconda3\\envs\\computervision\\Lib\\site-packages\\stack_data\\core.py\", line 734, in lines\n",
      "    pieces = self.included_pieces\n",
      "             ^^^^^^^^^^^^^^^^^^^^\n",
      "  File \"c:\\Users\\ijyli\\anaconda3\\envs\\computervision\\Lib\\site-packages\\stack_data\\utils.py\", line 144, in cached_property_wrapper\n",
      "    value = obj.__dict__[self.func.__name__] = self.func(obj)\n",
      "                                               ^^^^^^^^^^^^^^\n",
      "  File \"c:\\Users\\ijyli\\anaconda3\\envs\\computervision\\Lib\\site-packages\\stack_data\\core.py\", line 677, in included_pieces\n",
      "    scope_pieces = self.scope_pieces\n",
      "                   ^^^^^^^^^^^^^^^^^\n",
      "  File \"c:\\Users\\ijyli\\anaconda3\\envs\\computervision\\Lib\\site-packages\\stack_data\\utils.py\", line 144, in cached_property_wrapper\n",
      "    value = obj.__dict__[self.func.__name__] = self.func(obj)\n",
      "                                               ^^^^^^^^^^^^^^\n",
      "  File \"c:\\Users\\ijyli\\anaconda3\\envs\\computervision\\Lib\\site-packages\\stack_data\\core.py\", line 614, in scope_pieces\n",
      "    scope_start, scope_end = self.source.line_range(self.scope)\n",
      "                             ^^^^^^^^^^^^^^^^^^^^^^^^^^^^^^^^^^\n",
      "  File \"c:\\Users\\ijyli\\anaconda3\\envs\\computervision\\Lib\\site-packages\\stack_data\\core.py\", line 178, in line_range\n",
      "    return line_range(self.asttext(), node)\n",
      "                      ^^^^^^^^^^^^\n",
      "AttributeError: 'Source' object has no attribute 'asttext'\n"
     ]
    }
   ],
   "source": [
    "make_predictions(X_test, classifier_name)"
   ]
  }
 ],
 "metadata": {
  "kernelspec": {
   "display_name": "computervision",
   "language": "python",
   "name": "python3"
  },
  "language_info": {
   "codemirror_mode": {
    "name": "ipython",
    "version": 3
   },
   "file_extension": ".py",
   "mimetype": "text/x-python",
   "name": "python",
   "nbconvert_exporter": "python",
   "pygments_lexer": "ipython3",
   "version": "3.11.8"
  }
 },
 "nbformat": 4,
 "nbformat_minor": 2
}
