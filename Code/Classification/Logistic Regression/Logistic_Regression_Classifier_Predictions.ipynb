{
 "cells": [
  {
   "cell_type": "markdown",
   "metadata": {},
   "source": [
    "# Logistic Regression Classifier Predictions"
   ]
  },
  {
   "cell_type": "code",
   "execution_count": 19,
   "metadata": {},
   "outputs": [],
   "source": [
    "# Packages\n",
    "import joblib\n",
    "import pandas as pd\n",
    "import os\n",
    "import sklearn"
   ]
  },
  {
   "cell_type": "markdown",
   "metadata": {},
   "source": [
    "## Load Test Data"
   ]
  },
  {
   "cell_type": "code",
   "execution_count": 20,
   "metadata": {},
   "outputs": [
    {
     "name": "stdout",
     "output_type": "stream",
     "text": [
      "all test data\n",
      "                                            Image Path  \\\n",
      "0    ../../../Images/test/No Blur/Pickup_test_orig_...   \n",
      "1    ../../../Images/test/No Blur/SUV_test_orig_tes...   \n",
      "2    ../../../Images/test/No Blur/Convertible_test_...   \n",
      "3    ../../../Images/test/No Blur/Convertible_test_...   \n",
      "4    ../../../Images/test/No Blur/Sedan_test_orig_t...   \n",
      "..                                                 ...   \n",
      "99   ../../../Images/test/No Blur/SUV_test_orig_tes...   \n",
      "100  ../../../Images/test/No Blur/Convertible_test_...   \n",
      "101  ../../../Images/test/No Blur/Sedan_test_orig_t...   \n",
      "102  ../../../Images/test/No Blur/SUV_test_orig_tra...   \n",
      "103  ../../../Images/test/No Blur/Convertible_test_...   \n",
      "\n",
      "     ViT_Embedding_Element_0  ViT_Embedding_Element_1  \\\n",
      "0                  -0.347766                 0.167595   \n",
      "1                  -0.098150                 0.112476   \n",
      "2                  -0.203125                 0.251158   \n",
      "3                  -0.211059                 0.216949   \n",
      "4                  -0.018404                 0.365495   \n",
      "..                       ...                      ...   \n",
      "99                 -0.068935                -0.097513   \n",
      "100                 0.149276                 0.103475   \n",
      "101                -0.192648                 0.193515   \n",
      "102                -0.420165                 0.243619   \n",
      "103                -0.003255                 0.236830   \n",
      "\n",
      "     ViT_Embedding_Element_2  ViT_Embedding_Element_3  \\\n",
      "0                   0.154336                -0.086329   \n",
      "1                  -0.029927                -0.390461   \n",
      "2                  -0.324457                -0.320937   \n",
      "3                  -0.437562                -0.345737   \n",
      "4                  -0.116391                -0.337794   \n",
      "..                       ...                      ...   \n",
      "99                 -0.106615                -0.396995   \n",
      "100                -0.370446                -0.332093   \n",
      "101                -0.150506                -0.445975   \n",
      "102                 0.081312                -0.199340   \n",
      "103                -0.319907                -0.340932   \n",
      "\n",
      "     ViT_Embedding_Element_4  ViT_Embedding_Element_5  \\\n",
      "0                  -0.084096                 0.403538   \n",
      "1                   0.041179                 0.271308   \n",
      "2                  -0.232326                 0.130335   \n",
      "3                  -0.208970                 0.345806   \n",
      "4                   0.043775                 0.298481   \n",
      "..                       ...                      ...   \n",
      "99                 -0.192001                 0.504835   \n",
      "100                -0.089426                 0.197264   \n",
      "101                 0.194246                 0.157939   \n",
      "102                 0.060824                 0.332982   \n",
      "103                 0.161805                 0.298948   \n",
      "\n",
      "     ViT_Embedding_Element_6  ViT_Embedding_Element_7  \\\n",
      "0                  -0.094797                 0.182653   \n",
      "1                  -0.166763                -0.133174   \n",
      "2                   0.092700                -0.109357   \n",
      "3                   0.154811                -0.207479   \n",
      "4                   0.016248                -0.158442   \n",
      "..                       ...                      ...   \n",
      "99                 -0.232678                -0.025490   \n",
      "100                 0.478725                 0.016513   \n",
      "101                 0.012448                -0.087978   \n",
      "102                 0.004039                 0.178969   \n",
      "103                 0.351291                -0.078388   \n",
      "\n",
      "     ViT_Embedding_Element_8  ...  ViT_Embedding_Element_1270  \\\n",
      "0                  -0.050223  ...                    0.103667   \n",
      "1                  -0.207944  ...                   -0.136374   \n",
      "2                  -0.009018  ...                    0.063583   \n",
      "3                  -0.426884  ...                   -0.117031   \n",
      "4                  -0.500732  ...                   -0.141270   \n",
      "..                       ...  ...                         ...   \n",
      "99                 -0.393624  ...                   -0.058449   \n",
      "100                -0.287152  ...                    0.045479   \n",
      "101                -0.352612  ...                   -0.100154   \n",
      "102                 0.016803  ...                    0.117627   \n",
      "103                -0.376331  ...                   -0.021217   \n",
      "\n",
      "     ViT_Embedding_Element_1271  ViT_Embedding_Element_1272  \\\n",
      "0                      0.129065                    0.146375   \n",
      "1                      0.206554                    0.096507   \n",
      "2                      0.039546                    0.009466   \n",
      "3                      0.010246                    0.093533   \n",
      "4                      0.313682                    0.117644   \n",
      "..                          ...                         ...   \n",
      "99                     0.179680                   -0.015158   \n",
      "100                    0.214564                   -0.160749   \n",
      "101                    0.151836                    0.140754   \n",
      "102                    0.131936                    0.102489   \n",
      "103                    0.213823                    0.071449   \n",
      "\n",
      "     ViT_Embedding_Element_1273  ViT_Embedding_Element_1274  \\\n",
      "0                      0.068690                    0.368767   \n",
      "1                      0.194407                    0.306974   \n",
      "2                     -0.019277                    0.186735   \n",
      "3                      0.115892                    0.348864   \n",
      "4                      0.337868                    0.413010   \n",
      "..                          ...                         ...   \n",
      "99                     0.243995                    0.269876   \n",
      "100                    0.328060                    0.130850   \n",
      "101                    0.335498                    0.285565   \n",
      "102                    0.008034                    0.285841   \n",
      "103                    0.339802                    0.272521   \n",
      "\n",
      "     ViT_Embedding_Element_1275  ViT_Embedding_Element_1276  \\\n",
      "0                      0.365623                    0.063385   \n",
      "1                      0.409345                    0.067247   \n",
      "2                      0.414770                    0.286491   \n",
      "3                      0.511090                    0.423479   \n",
      "4                      0.330330                    0.107204   \n",
      "..                          ...                         ...   \n",
      "99                     0.339623                    0.039897   \n",
      "100                    0.317940                    0.173628   \n",
      "101                    0.239071                   -0.099499   \n",
      "102                    0.393728                    0.107275   \n",
      "103                    0.255393                    0.224202   \n",
      "\n",
      "     ViT_Embedding_Element_1277  ViT_Embedding_Element_1278  \\\n",
      "0                     -0.234059                   -0.018408   \n",
      "1                     -0.192672                   -0.253553   \n",
      "2                     -0.098782                    0.220570   \n",
      "3                     -0.321593                   -0.079706   \n",
      "4                      0.050324                   -0.348025   \n",
      "..                          ...                         ...   \n",
      "99                    -0.111263                   -0.227501   \n",
      "100                   -0.199028                    0.075167   \n",
      "101                   -0.119795                   -0.035125   \n",
      "102                   -0.320724                   -0.207916   \n",
      "103                   -0.133380                    0.076144   \n",
      "\n",
      "     ViT_Embedding_Element_1279  \n",
      "0                     -0.402432  \n",
      "1                     -0.302315  \n",
      "2                     -0.366277  \n",
      "3                     -0.417897  \n",
      "4                     -0.345868  \n",
      "..                          ...  \n",
      "99                    -0.041518  \n",
      "100                   -0.297731  \n",
      "101                   -0.305061  \n",
      "102                   -0.325996  \n",
      "103                   -0.341300  \n",
      "\n",
      "[1656 rows x 1281 columns]\n"
     ]
    }
   ],
   "source": [
    "def combine_directory_parquets(directory_path):\n",
    "    '''\n",
    "    Combines all parquet files in a directory into a single dataframe.\n",
    "    '''\n",
    "    # If path does not end in a slash, add one\n",
    "    if directory_path[-1] != '/':\n",
    "        directory_path += '/'\n",
    "    # list of files in directory\n",
    "    file_list = [f for f in os.listdir(directory_path) if f.endswith('.parquet')]\n",
    "    # read in all parquet files\n",
    "    combined_df = pd.concat([pd.read_parquet(directory_path + f) for f in file_list])\n",
    "    # Return combined dataframe\n",
    "    return combined_df\n",
    "test_data = combine_directory_parquets('../../../Data/Features/All Features/test')\n",
    "# Drop test_80_20, Class\n",
    "test_data = test_data.drop(columns=['test_80_20', 'Class'])\n",
    "print('all test data')\n",
    "print(test_data)"
   ]
  },
  {
   "cell_type": "markdown",
   "metadata": {},
   "source": [
    "## Load model from 'Best Logistic Regression Model.pkl'"
   ]
  },
  {
   "cell_type": "code",
   "execution_count": 21,
   "metadata": {},
   "outputs": [
    {
     "name": "stdout",
     "output_type": "stream",
     "text": [
      "best model\n",
      "LogisticRegression(C=1, class_weight='balanced', l1_ratio=0.75, max_iter=1000,\n",
      "                   multi_class='ovr', penalty='elasticnet', solver='saga')\n"
     ]
    }
   ],
   "source": [
    "best_model = joblib.load('Best Logistic Regression Model.joblib')\n",
    "print('best model')\n",
    "print(best_model)"
   ]
  },
  {
   "cell_type": "markdown",
   "metadata": {},
   "source": [
    "## Create X_test"
   ]
  },
  {
   "cell_type": "code",
   "execution_count": 22,
   "metadata": {},
   "outputs": [],
   "source": [
    "X_test = test_data.drop(columns=['Image Path'])\n"
   ]
  },
  {
   "cell_type": "markdown",
   "metadata": {},
   "source": [
    "## Preprocess with standard scalar"
   ]
  },
  {
   "cell_type": "code",
   "execution_count": 23,
   "metadata": {},
   "outputs": [],
   "source": [
    "scaler = sklearn.preprocessing.StandardScaler()\n",
    "X_test = scaler.fit_transform(X_test)"
   ]
  },
  {
   "cell_type": "markdown",
   "metadata": {},
   "source": [
    "## Predictions"
   ]
  },
  {
   "cell_type": "code",
   "execution_count": 24,
   "metadata": {},
   "outputs": [
    {
     "name": "stdout",
     "output_type": "stream",
     "text": [
      "predictions head\n",
      "['SUV' 'Sedan' 'Convertible' 'Convertible' 'Convertible']\n"
     ]
    }
   ],
   "source": [
    "predictions = best_model.predict(X_test)\n",
    "print('predictions head')\n",
    "print(predictions[:5])\n",
    "\n",
    "# Add to test_data\n",
    "test_data['Logistic_Regression_Classification'] = predictions"
   ]
  },
  {
   "cell_type": "markdown",
   "metadata": {},
   "source": [
    "## Save Predictions to Excel"
   ]
  },
  {
   "cell_type": "code",
   "execution_count": 25,
   "metadata": {},
   "outputs": [],
   "source": [
    "test_data[['Image Path', 'Logistic_Regression_Classification']].to_excel('../../../Data/Predictions/Logistic Regression/Logistic_Regression_Classifier_Predictions.xlsx', index=False)"
   ]
  }
 ],
 "metadata": {
  "kernelspec": {
   "display_name": "computervision",
   "language": "python",
   "name": "python3"
  },
  "language_info": {
   "codemirror_mode": {
    "name": "ipython",
    "version": 3
   },
   "file_extension": ".py",
   "mimetype": "text/x-python",
   "name": "python",
   "nbconvert_exporter": "python",
   "pygments_lexer": "ipython3",
   "version": "3.11.8"
  }
 },
 "nbformat": 4,
 "nbformat_minor": 2
}
