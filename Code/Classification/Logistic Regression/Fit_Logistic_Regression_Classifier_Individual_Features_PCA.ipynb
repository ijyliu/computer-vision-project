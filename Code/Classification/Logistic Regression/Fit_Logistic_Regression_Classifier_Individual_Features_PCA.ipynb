{
 "cells": [
  {
   "cell_type": "markdown",
   "metadata": {},
   "source": [
    "# Fit Logistic Regression Classifier on Individual Features PCA Data"
   ]
  },
  {
   "cell_type": "code",
   "execution_count": 1,
   "metadata": {},
   "outputs": [],
   "source": [
    "# Packages\n",
    "from Logistic_Regression_Classifier_Functions import *"
   ]
  },
  {
   "cell_type": "code",
   "execution_count": 2,
   "metadata": {},
   "outputs": [],
   "source": [
    "# Set classifier name\n",
    "classifier_name = 'Individual_Features_PCA'"
   ]
  },
  {
   "cell_type": "code",
   "execution_count": 3,
   "metadata": {},
   "outputs": [],
   "source": [
    "# Sample run or not\n",
    "sample_run = False"
   ]
  },
  {
   "cell_type": "markdown",
   "metadata": {},
   "source": [
    "## Load Training Data"
   ]
  },
  {
   "cell_type": "code",
   "execution_count": 4,
   "metadata": {},
   "outputs": [
    {
     "name": "stdout",
     "output_type": "stream",
     "text": [
      "all training data\n",
      "           Class                             harmonized_filename  \\\n",
      "0          Sedan         Sedan_train_orig_test_00191_resized.jpg   \n",
      "1    Convertible  Convertible_train_orig_train_07913_resized.jpg   \n",
      "2         Pickup          SUV_train_orig_train_00163_resized.jpg   \n",
      "3          Sedan        Sedan_train_orig_train_06113_resized.jpg   \n",
      "4          Sedan         Sedan_train_orig_test_05711_resized.jpg   \n",
      "..           ...                                             ...   \n",
      "370        Sedan        Sedan_train_orig_train_05259_resized.jpg   \n",
      "371          SUV          SUV_train_orig_train_03648_resized.jpg   \n",
      "372  Convertible  Convertible_train_orig_train_00655_resized.jpg   \n",
      "373        Sedan         Sedan_train_orig_test_00110_resized.jpg   \n",
      "374          SUV           SUV_train_orig_test_04057_resized.jpg   \n",
      "\n",
      "                                       image_path_blur  \\\n",
      "0    ../../../Images/train/Blurred/Sedan_train_orig...   \n",
      "1    ../../../Images/train/Blurred/Convertible_trai...   \n",
      "2    ../../../Images/train/Blurred/SUV_train_orig_t...   \n",
      "3    ../../../Images/train/Blurred/Sedan_train_orig...   \n",
      "4    ../../../Images/train/Blurred/Sedan_train_orig...   \n",
      "..                                                 ...   \n",
      "370  ../../../Images/train/Blurred/Sedan_train_orig...   \n",
      "371  ../../../Images/train/Blurred/SUV_train_orig_t...   \n",
      "372  ../../../Images/train/Blurred/Convertible_trai...   \n",
      "373  ../../../Images/train/Blurred/Sedan_train_orig...   \n",
      "374  ../../../Images/train/Blurred/SUV_train_orig_t...   \n",
      "\n",
      "                                    image_path_no_blur  \\\n",
      "0    ../../../Images/train/No_Blur/Sedan_train_orig...   \n",
      "1    ../../../Images/train/No_Blur/Convertible_trai...   \n",
      "2    ../../../Images/train/No_Blur/SUV_train_orig_t...   \n",
      "3    ../../../Images/train/No_Blur/Sedan_train_orig...   \n",
      "4    ../../../Images/train/No_Blur/Sedan_train_orig...   \n",
      "..                                                 ...   \n",
      "370  ../../../Images/train/No_Blur/Sedan_train_orig...   \n",
      "371  ../../../Images/train/No_Blur/SUV_train_orig_t...   \n",
      "372  ../../../Images/train/No_Blur/Convertible_trai...   \n",
      "373  ../../../Images/train/No_Blur/Sedan_train_orig...   \n",
      "374  ../../../Images/train/No_Blur/SUV_train_orig_t...   \n",
      "\n",
      "     HOG 16 PPC Features_PCA_0  HOG 16 PPC Features_PCA_1  \\\n",
      "0                    -1.774509                  -8.305442   \n",
      "1                    -0.631016                  11.446967   \n",
      "2                    -1.458419                   1.503325   \n",
      "3                    21.843843                   4.953846   \n",
      "4                    19.903404                 -24.535086   \n",
      "..                         ...                        ...   \n",
      "370                  -5.604991                  19.801804   \n",
      "371                   2.226568                  14.522734   \n",
      "372                  15.388529                  -7.516678   \n",
      "373                  21.058105                   7.620107   \n",
      "374                  15.562311                  -2.720250   \n",
      "\n",
      "     HOG 16 PPC Features_PCA_2  HOG 16 PPC Features_PCA_3  \\\n",
      "0                     4.658122                  -2.065250   \n",
      "1                   -12.674256                  15.673360   \n",
      "2                    15.900046                  -4.295038   \n",
      "3                   -10.553631                  17.482836   \n",
      "4                    -3.307904                  -9.596292   \n",
      "..                         ...                        ...   \n",
      "370                   8.952227                   0.654342   \n",
      "371                 -20.518402                  -8.154932   \n",
      "372                 -15.156733                 -18.158611   \n",
      "373                 -10.563203                  -2.872869   \n",
      "374                  -1.361926                 -14.178078   \n",
      "\n",
      "     HOG 16 PPC Features_PCA_4  HOG 16 PPC Features_PCA_5  ...  \\\n",
      "0                    15.944094                   5.733390  ...   \n",
      "1                    -4.117634                  13.216136  ...   \n",
      "2                     2.866775                  -5.028551  ...   \n",
      "3                    -6.097320                  14.043873  ...   \n",
      "4                   -13.100369                  16.174278  ...   \n",
      "..                         ...                        ...  ...   \n",
      "370                   9.982774                   2.259128  ...   \n",
      "371                 -15.974015                  -8.674196  ...   \n",
      "372                   4.362125                 -11.838497  ...   \n",
      "373                  -1.591984                  19.873260  ...   \n",
      "374                   9.056263                 -28.024969  ...   \n",
      "\n",
      "     Vision Transformer Features_PCA_390  Vision Transformer Features_PCA_391  \\\n",
      "0                               0.008084                             0.532703   \n",
      "1                              -0.009157                             0.007703   \n",
      "2                              -0.202979                             0.043191   \n",
      "3                              -0.147602                            -0.859889   \n",
      "4                              -0.268696                            -0.336736   \n",
      "..                                   ...                                  ...   \n",
      "370                             0.177246                            -0.291399   \n",
      "371                            -0.443175                            -0.146126   \n",
      "372                            -0.216462                             0.409969   \n",
      "373                            -0.588691                            -1.394434   \n",
      "374                             0.131523                             0.068914   \n",
      "\n",
      "     Vision Transformer Features_PCA_392  Vision Transformer Features_PCA_393  \\\n",
      "0                              -0.418699                            -0.374415   \n",
      "1                               0.601899                             0.517565   \n",
      "2                              -0.029348                             0.313731   \n",
      "3                              -0.281681                             0.253424   \n",
      "4                               0.125878                             0.795603   \n",
      "..                                   ...                                  ...   \n",
      "370                            -0.112429                            -0.364161   \n",
      "371                             0.693807                             0.575446   \n",
      "372                            -0.132017                            -1.011774   \n",
      "373                             0.313761                            -0.052131   \n",
      "374                             0.201462                            -0.279738   \n",
      "\n",
      "     Vision Transformer Features_PCA_394  Vision Transformer Features_PCA_395  \\\n",
      "0                              -0.313738                             0.499064   \n",
      "1                              -0.312628                             0.145521   \n",
      "2                               0.013629                             0.841238   \n",
      "3                               0.415120                             0.792116   \n",
      "4                              -0.242335                             0.020973   \n",
      "..                                   ...                                  ...   \n",
      "370                            -0.135561                             0.270031   \n",
      "371                             0.012954                             0.240887   \n",
      "372                            -0.301406                            -0.486052   \n",
      "373                             0.344082                            -0.599578   \n",
      "374                            -0.137323                             0.201260   \n",
      "\n",
      "     Vision Transformer Features_PCA_396  Vision Transformer Features_PCA_397  \\\n",
      "0                              -0.208203                             0.667356   \n",
      "1                               1.317239                            -0.246785   \n",
      "2                               0.572750                             0.614857   \n",
      "3                               0.435011                             0.229112   \n",
      "4                              -0.577873                             0.852441   \n",
      "..                                   ...                                  ...   \n",
      "370                            -0.053864                            -0.009161   \n",
      "371                            -0.418123                            -0.318537   \n",
      "372                             0.228628                            -0.320907   \n",
      "373                            -0.149764                             0.753587   \n",
      "374                             0.522689                            -0.939550   \n",
      "\n",
      "     Vision Transformer Features_PCA_398  Vision Transformer Features_PCA_399  \n",
      "0                              -0.087261                             0.458939  \n",
      "1                              -0.531379                             0.593786  \n",
      "2                              -0.103891                             0.565968  \n",
      "3                              -0.082454                            -0.689774  \n",
      "4                               1.047275                             0.473565  \n",
      "..                                   ...                                  ...  \n",
      "370                            -0.415572                            -0.000476  \n",
      "371                             0.483076                             0.584090  \n",
      "372                             0.014629                             0.185233  \n",
      "373                             0.684521                            -0.520342  \n",
      "374                            -0.001575                             0.291164  \n",
      "\n",
      "[6003 rows x 2614 columns]\n"
     ]
    }
   ],
   "source": [
    "training_data = combine_directory_parquets('../../../Data/Features/All Features Individual Features PCA/train')\n",
    "print('all training data')\n",
    "print(training_data)\n",
    "\n",
    "# If sample run, take a sample of the data and a reduced number of features\n",
    "if sample_run:\n",
    "    training_data = training_data.sample(frac=0.01).iloc[:, 0:10]"
   ]
  },
  {
   "cell_type": "code",
   "execution_count": 5,
   "metadata": {},
   "outputs": [
    {
     "name": "stdout",
     "output_type": "stream",
     "text": [
      "Class\n",
      "object\n",
      "harmonized_filename\n",
      "object\n",
      "image_path_blur\n",
      "object\n",
      "image_path_no_blur\n",
      "object\n",
      "HOG 16 PPC Features_PCA_0\n",
      "float32\n",
      "HOG 16 PPC Features_PCA_1\n",
      "float32\n",
      "HOG 16 PPC Features_PCA_2\n",
      "float32\n",
      "HOG 16 PPC Features_PCA_3\n",
      "float32\n",
      "HOG 16 PPC Features_PCA_4\n",
      "float32\n",
      "HOG 16 PPC Features_PCA_5\n",
      "float32\n"
     ]
    }
   ],
   "source": [
    "# Iterate over and print column names\n",
    "for column in training_data.columns:\n",
    "    print(column)\n",
    "    # type\n",
    "    print(training_data[column].dtype)"
   ]
  },
  {
   "cell_type": "markdown",
   "metadata": {},
   "source": [
    "## Prepare Matrices"
   ]
  },
  {
   "cell_type": "code",
   "execution_count": 6,
   "metadata": {},
   "outputs": [],
   "source": [
    "X_train, y_train = prepare_matrices(training_data)"
   ]
  },
  {
   "cell_type": "markdown",
   "metadata": {},
   "source": [
    "## Fit Classifier"
   ]
  },
  {
   "cell_type": "code",
   "execution_count": 7,
   "metadata": {},
   "outputs": [
    {
     "name": "stdout",
     "output_type": "stream",
     "text": [
      "hyperparameter settings\n",
      "[{'solver': ['saga'], 'penalty': [None], 'C': [1], 'class_weight': [None, 'balanced'], 'multi_class': ['ovr', 'multinomial']}, {'solver': ['saga'], 'penalty': ['elasticnet'], 'C': [0.001, 0.01, 0.1, 1, 10, 100], 'l1_ratio': [0.0, 0.25, 0.5, 0.75, 1.0], 'class_weight': [None, 'balanced'], 'multi_class': ['ovr', 'multinomial']}]\n",
      "training time in minutes:  0.059971022605896\n",
      "training time per image in minutes:  0.0009995170434316\n",
      "train accuracy of best model:  0.2833333333333333\n",
      "mean cross validated accuracy of best model:  0.3333333333333333\n",
      "hyperparameters searched:  [{'solver': ['saga'], 'penalty': [None], 'C': [1], 'class_weight': [None, 'balanced'], 'multi_class': ['ovr', 'multinomial']}, {'solver': ['saga'], 'penalty': ['elasticnet'], 'C': [0.001, 0.01, 0.1, 1, 10, 100], 'l1_ratio': [0.0, 0.25, 0.5, 0.75, 1.0], 'class_weight': [None, 'balanced'], 'multi_class': ['ovr', 'multinomial']}]\n",
      "tuned hyperparameters:  {'C': 0.1, 'class_weight': 'balanced', 'l1_ratio': 0.5, 'multi_class': 'multinomial', 'penalty': 'elasticnet', 'solver': 'saga'}\n"
     ]
    }
   ],
   "source": [
    "fit_logistic_regression_classifier(X_train, y_train, classifier_name)"
   ]
  }
 ],
 "metadata": {
  "kernelspec": {
   "display_name": "computervision",
   "language": "python",
   "name": "python3"
  },
  "language_info": {
   "codemirror_mode": {
    "name": "ipython",
    "version": 3
   },
   "file_extension": ".py",
   "mimetype": "text/x-python",
   "name": "python",
   "nbconvert_exporter": "python",
   "pygments_lexer": "ipython3",
   "version": "3.11.8"
  }
 },
 "nbformat": 4,
 "nbformat_minor": 2
}
