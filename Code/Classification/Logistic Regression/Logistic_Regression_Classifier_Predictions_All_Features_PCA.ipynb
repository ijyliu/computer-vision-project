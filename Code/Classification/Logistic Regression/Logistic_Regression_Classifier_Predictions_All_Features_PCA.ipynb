{
 "cells": [
  {
   "cell_type": "markdown",
   "metadata": {},
   "source": [
    "# Logistic Regression Classifier Predictions"
   ]
  },
  {
   "cell_type": "code",
   "execution_count": 1,
   "metadata": {},
   "outputs": [],
   "source": [
    "# Packages\n",
    "from Logistic_Regression_Classifier_Functions import *"
   ]
  },
  {
   "cell_type": "code",
   "execution_count": 2,
   "metadata": {},
   "outputs": [],
   "source": [
    "# Classifier Name\n",
    "classifier_name = 'All_Features_PCA'"
   ]
  },
  {
   "cell_type": "code",
   "execution_count": 3,
   "metadata": {},
   "outputs": [],
   "source": [
    "# Whether this is a sample run or not\n",
    "sample_run = False"
   ]
  },
  {
   "cell_type": "markdown",
   "metadata": {},
   "source": [
    "## Load Test Data"
   ]
  },
  {
   "cell_type": "code",
   "execution_count": 4,
   "metadata": {},
   "outputs": [
    {
     "name": "stdout",
     "output_type": "stream",
     "text": [
      "all test data\n",
      "     Class                       harmonized_filename  \\\n",
      "0    Sedan    Sedan_test_orig_test_02070_resized.jpg   \n",
      "1    Sedan    Sedan_test_orig_test_05952_resized.jpg   \n",
      "2    Sedan   Sedan_test_orig_train_08046_resized.jpg   \n",
      "3      SUV      SUV_test_orig_test_00921_resized.jpg   \n",
      "4      SUV     SUV_test_orig_train_03917_resized.jpg   \n",
      "..     ...                                       ...   \n",
      "88     SUV      SUV_test_orig_test_05041_resized.jpg   \n",
      "89   Sedan    Sedan_test_orig_test_03443_resized.jpg   \n",
      "90  Pickup  Pickup_test_orig_train_04088_resized.jpg   \n",
      "91   Sedan   Sedan_test_orig_train_03673_resized.jpg   \n",
      "92   Sedan   Sedan_test_orig_train_06616_resized.jpg   \n",
      "\n",
      "                                      image_path_blur  \\\n",
      "0   ../../../Images/test/Blurred/Sedan_test_orig_t...   \n",
      "1   ../../../Images/test/Blurred/Sedan_test_orig_t...   \n",
      "2   ../../../Images/test/Blurred/Sedan_test_orig_t...   \n",
      "3   ../../../Images/test/Blurred/SUV_test_orig_tes...   \n",
      "4   ../../../Images/test/Blurred/SUV_test_orig_tra...   \n",
      "..                                                ...   \n",
      "88  ../../../Images/test/Blurred/SUV_test_orig_tes...   \n",
      "89  ../../../Images/test/Blurred/Sedan_test_orig_t...   \n",
      "90  ../../../Images/test/Blurred/Pickup_test_orig_...   \n",
      "91  ../../../Images/test/Blurred/Sedan_test_orig_t...   \n",
      "92  ../../../Images/test/Blurred/Sedan_test_orig_t...   \n",
      "\n",
      "                                   image_path_no_blur  All Features_PCA_0  \\\n",
      "0   ../../../Images/test/No_Blur/Sedan_test_orig_t...           -6.990904   \n",
      "1   ../../../Images/test/No_Blur/Sedan_test_orig_t...           15.547967   \n",
      "2   ../../../Images/test/No_Blur/Sedan_test_orig_t...           12.637518   \n",
      "3   ../../../Images/test/No_Blur/SUV_test_orig_tes...            2.544836   \n",
      "4   ../../../Images/test/No_Blur/SUV_test_orig_tra...           21.314866   \n",
      "..                                                ...                 ...   \n",
      "88  ../../../Images/test/No_Blur/SUV_test_orig_tes...            4.224072   \n",
      "89  ../../../Images/test/No_Blur/Sedan_test_orig_t...           12.339253   \n",
      "90  ../../../Images/test/No_Blur/Pickup_test_orig_...          -32.779678   \n",
      "91  ../../../Images/test/No_Blur/Sedan_test_orig_t...           -2.079561   \n",
      "92  ../../../Images/test/No_Blur/Sedan_test_orig_t...            9.310702   \n",
      "\n",
      "    All Features_PCA_1  All Features_PCA_2  All Features_PCA_3  \\\n",
      "0            -3.200830           15.275629            8.628781   \n",
      "1            38.916794           11.098074            1.697756   \n",
      "2            23.474318           -3.580046           11.640196   \n",
      "3           -15.772142          -29.560953          -16.578640   \n",
      "4             9.737223            5.604927          -23.858905   \n",
      "..                 ...                 ...                 ...   \n",
      "88            4.153494           13.497448           -2.832947   \n",
      "89           -8.639370           22.579441           -2.573716   \n",
      "90           16.104165          -22.102676           -8.115009   \n",
      "91          -26.848298          -14.338475           18.175206   \n",
      "92          -29.889079            8.215676           21.659739   \n",
      "\n",
      "    All Features_PCA_4  All Features_PCA_5  ...  All Features_PCA_1490  \\\n",
      "0            -9.519654           17.349227  ...              -0.332544   \n",
      "1             4.563522            1.405077  ...              -0.891757   \n",
      "2            -6.822529            8.759198  ...               1.353636   \n",
      "3            -6.568159            5.586886  ...              -1.340881   \n",
      "4             1.409176           -5.595996  ...               0.915971   \n",
      "..                 ...                 ...  ...                    ...   \n",
      "88          -19.334771           11.895302  ...               1.362277   \n",
      "89          -22.591148           -5.528287  ...               0.811751   \n",
      "90           -5.026084            6.206875  ...               0.607747   \n",
      "91           22.045283          -27.164697  ...               0.355106   \n",
      "92           29.208622           -5.807491  ...              -0.087843   \n",
      "\n",
      "    All Features_PCA_1491  All Features_PCA_1492  All Features_PCA_1493  \\\n",
      "0                0.141043               0.021174               0.586792   \n",
      "1               -0.357932               0.107585              -1.503773   \n",
      "2                0.230535              -0.227958               0.296504   \n",
      "3               -0.270067               0.728761              -0.660735   \n",
      "4                0.748039              -0.045629              -0.606615   \n",
      "..                    ...                    ...                    ...   \n",
      "88               1.224158               0.537673              -0.097273   \n",
      "89               1.479180              -0.684535              -0.650944   \n",
      "90               0.343927              -0.789301              -0.476670   \n",
      "91              -0.144502              -0.800328              -0.186561   \n",
      "92               0.011420               0.005912              -0.529825   \n",
      "\n",
      "    All Features_PCA_1494  All Features_PCA_1495  All Features_PCA_1496  \\\n",
      "0                0.182852               0.979258              -0.607330   \n",
      "1               -0.261431              -0.875915               0.926041   \n",
      "2                1.707603               0.486125               0.642673   \n",
      "3                0.353568               1.220075               0.399705   \n",
      "4                0.620401              -0.935057               0.240115   \n",
      "..                    ...                    ...                    ...   \n",
      "88               0.094079              -0.790378               1.156851   \n",
      "89               0.693713               1.631056               0.240309   \n",
      "90              -0.248685              -0.360589               1.046381   \n",
      "91               1.282132               0.023170              -0.529969   \n",
      "92              -0.084074               0.590275               0.303014   \n",
      "\n",
      "    All Features_PCA_1497  All Features_PCA_1498  All Features_PCA_1499  \n",
      "0                0.656153              -0.487718              -0.279664  \n",
      "1                0.244745              -0.580804              -0.938659  \n",
      "2               -0.790991               0.177488              -0.479993  \n",
      "3               -0.514409               1.066678              -0.364402  \n",
      "4                0.939792               0.804145              -0.227615  \n",
      "..                    ...                    ...                    ...  \n",
      "88              -1.674831              -1.301797               1.076906  \n",
      "89               0.774536               1.112378               0.847703  \n",
      "90               0.807112              -0.499620               0.777492  \n",
      "91               0.445358              -0.136691               1.089014  \n",
      "92               1.214107              -0.213177               0.152596  \n",
      "\n",
      "[1489 rows x 1504 columns]\n"
     ]
    }
   ],
   "source": [
    "test_data = combine_directory_parquets('../../../Data/Features/All Features All Features PCA/test')\n",
    "print('all test data')\n",
    "print(test_data)\n",
    "\n",
    "if sample_run:\n",
    "    test_data = test_data.sample(frac=0.01).iloc[:, 0:10]"
   ]
  },
  {
   "cell_type": "markdown",
   "metadata": {},
   "source": [
    "## Prepare Matrices"
   ]
  },
  {
   "cell_type": "code",
   "execution_count": 5,
   "metadata": {},
   "outputs": [],
   "source": [
    "# Prepare matrices\n",
    "X_test, _ = prepare_matrices(test_data)"
   ]
  },
  {
   "cell_type": "markdown",
   "metadata": {},
   "source": [
    "## Make Predictions"
   ]
  },
  {
   "cell_type": "code",
   "execution_count": 6,
   "metadata": {},
   "outputs": [
    {
     "name": "stdout",
     "output_type": "stream",
     "text": [
      "best model\n",
      "LogisticRegression(C=0.1, class_weight='balanced', l1_ratio=1.0, max_iter=1000,\n",
      "                   multi_class='ovr', penalty='elasticnet', solver='saga')\n",
      "predictions head\n",
      "['Sedan' 'Sedan' 'Sedan' 'Pickup' 'SUV']\n",
      "prediction time in minutes:  0.0002644260724385579\n",
      "prediction time per image in minutes:  1.775863481790181e-07\n"
     ]
    }
   ],
   "source": [
    "make_predictions(test_data, X_test, classifier_name)"
   ]
  }
 ],
 "metadata": {
  "kernelspec": {
   "display_name": "computervision",
   "language": "python",
   "name": "python3"
  },
  "language_info": {
   "codemirror_mode": {
    "name": "ipython",
    "version": 3
   },
   "file_extension": ".py",
   "mimetype": "text/x-python",
   "name": "python",
   "nbconvert_exporter": "python",
   "pygments_lexer": "ipython3",
   "version": "3.11.8"
  }
 },
 "nbformat": 4,
 "nbformat_minor": 2
}
