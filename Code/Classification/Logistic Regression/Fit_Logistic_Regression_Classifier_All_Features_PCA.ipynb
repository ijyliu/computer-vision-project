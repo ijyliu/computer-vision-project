{
 "cells": [
  {
   "cell_type": "markdown",
   "metadata": {},
   "source": [
    "# Fit Logistic Regression Classifier on All Features PCA Data"
   ]
  },
  {
   "cell_type": "code",
   "execution_count": 1,
   "metadata": {},
   "outputs": [],
   "source": [
    "# Packages\n",
    "from Logistic_Regression_Classifier_Functions import *"
   ]
  },
  {
   "cell_type": "code",
   "execution_count": 2,
   "metadata": {},
   "outputs": [],
   "source": [
    "# Set classifier name\n",
    "classifier_name = 'All_Features_PCA'"
   ]
  },
  {
   "cell_type": "code",
   "execution_count": 3,
   "metadata": {},
   "outputs": [],
   "source": [
    "# Sample run or not\n",
    "sample_run = False"
   ]
  },
  {
   "cell_type": "markdown",
   "metadata": {},
   "source": [
    "## Load Training Data"
   ]
  },
  {
   "cell_type": "code",
   "execution_count": 4,
   "metadata": {},
   "outputs": [
    {
     "name": "stdout",
     "output_type": "stream",
     "text": [
      "all training data\n",
      "           Class                             harmonized_filename  \\\n",
      "0          Sedan         Sedan_train_orig_test_00191_resized.jpg   \n",
      "1    Convertible  Convertible_train_orig_train_07913_resized.jpg   \n",
      "2         Pickup          SUV_train_orig_train_00163_resized.jpg   \n",
      "3          Sedan        Sedan_train_orig_train_06113_resized.jpg   \n",
      "4          Sedan         Sedan_train_orig_test_05711_resized.jpg   \n",
      "..           ...                                             ...   \n",
      "370        Sedan        Sedan_train_orig_train_05259_resized.jpg   \n",
      "371          SUV          SUV_train_orig_train_03648_resized.jpg   \n",
      "372  Convertible  Convertible_train_orig_train_00655_resized.jpg   \n",
      "373        Sedan         Sedan_train_orig_test_00110_resized.jpg   \n",
      "374          SUV           SUV_train_orig_test_04057_resized.jpg   \n",
      "\n",
      "                                       image_path_blur  \\\n",
      "0    ../../../Images/train/Blurred/Sedan_train_orig...   \n",
      "1    ../../../Images/train/Blurred/Convertible_trai...   \n",
      "2    ../../../Images/train/Blurred/SUV_train_orig_t...   \n",
      "3    ../../../Images/train/Blurred/Sedan_train_orig...   \n",
      "4    ../../../Images/train/Blurred/Sedan_train_orig...   \n",
      "..                                                 ...   \n",
      "370  ../../../Images/train/Blurred/Sedan_train_orig...   \n",
      "371  ../../../Images/train/Blurred/SUV_train_orig_t...   \n",
      "372  ../../../Images/train/Blurred/Convertible_trai...   \n",
      "373  ../../../Images/train/Blurred/Sedan_train_orig...   \n",
      "374  ../../../Images/train/Blurred/SUV_train_orig_t...   \n",
      "\n",
      "                                    image_path_no_blur  All Features_PCA_0  \\\n",
      "0    ../../../Images/train/No_Blur/Sedan_train_orig...           -1.044615   \n",
      "1    ../../../Images/train/No_Blur/Convertible_trai...            1.578773   \n",
      "2    ../../../Images/train/No_Blur/SUV_train_orig_t...           -0.969920   \n",
      "3    ../../../Images/train/No_Blur/Sedan_train_orig...           28.084537   \n",
      "4    ../../../Images/train/No_Blur/Sedan_train_orig...           11.535358   \n",
      "..                                                 ...                 ...   \n",
      "370  ../../../Images/train/No_Blur/Sedan_train_orig...           -6.996851   \n",
      "371  ../../../Images/train/No_Blur/SUV_train_orig_t...            2.957150   \n",
      "372  ../../../Images/train/No_Blur/Convertible_trai...           17.624590   \n",
      "373  ../../../Images/train/No_Blur/Sedan_train_orig...           27.245585   \n",
      "374  ../../../Images/train/No_Blur/SUV_train_orig_t...           22.874834   \n",
      "\n",
      "     All Features_PCA_1  All Features_PCA_2  All Features_PCA_3  \\\n",
      "0             -9.283975           -0.815883           -6.470930   \n",
      "1             12.038787            5.786199           30.695768   \n",
      "2              5.388502           -1.899415          -34.485269   \n",
      "3             -0.547925           -2.612536           27.751169   \n",
      "4            -34.826655           -9.846612           13.338617   \n",
      "..                  ...                 ...                 ...   \n",
      "370           24.608316            4.851780           -8.454821   \n",
      "371           17.608255          -21.144497           10.570509   \n",
      "372          -10.478007          -13.320860           -1.064565   \n",
      "373            5.961572          -15.589272           21.850252   \n",
      "374           -1.167416          -18.828367          -29.143480   \n",
      "\n",
      "     All Features_PCA_4  All Features_PCA_5  ...  All Features_PCA_1490  \\\n",
      "0              3.974906           14.707679  ...              -0.090388   \n",
      "1             -7.771265           -1.695317  ...               0.066061   \n",
      "2             -4.868373          -10.229839  ...              -0.089848   \n",
      "3             -7.278785           -9.951955  ...               0.353419   \n",
      "4             24.457912          -13.044104  ...              -0.133156   \n",
      "..                  ...                 ...  ...                    ...   \n",
      "370            0.098566           10.916466  ...              -0.043118   \n",
      "371           -4.178342          -15.464524  ...               0.393181   \n",
      "372            5.145004           11.969585  ...              -0.560388   \n",
      "373           13.124504           -2.948579  ...               0.230211   \n",
      "374           -9.422938            9.239281  ...              -0.202235   \n",
      "\n",
      "     All Features_PCA_1491  All Features_PCA_1492  All Features_PCA_1493  \\\n",
      "0                 1.198649               1.394248               0.273815   \n",
      "1                -0.439013              -0.368465               0.804536   \n",
      "2                 0.162044              -0.424084              -0.075776   \n",
      "3                -0.442749               1.812681               0.616638   \n",
      "4                -0.301700               0.294507              -0.976242   \n",
      "..                     ...                    ...                    ...   \n",
      "370              -0.024362              -0.486780               0.224163   \n",
      "371               0.751342              -0.170557               0.099735   \n",
      "372               1.422333              -0.408011              -0.236599   \n",
      "373              -1.002452              -0.374768               0.884933   \n",
      "374               0.594271               0.243757              -0.441513   \n",
      "\n",
      "     All Features_PCA_1494  All Features_PCA_1495  All Features_PCA_1496  \\\n",
      "0                 0.329818               1.930925               1.726194   \n",
      "1                 0.761872              -0.089721               0.927933   \n",
      "2                -0.004622               0.002296               0.127106   \n",
      "3                 1.236581               2.180907              -1.516374   \n",
      "4                -0.295374              -0.643194              -0.314454   \n",
      "..                     ...                    ...                    ...   \n",
      "370              -0.609675              -0.042415               1.349885   \n",
      "371              -0.147165              -1.122115               0.330267   \n",
      "372              -0.748785               0.288037              -0.119115   \n",
      "373               0.175908               0.334323               0.957936   \n",
      "374               0.903961               0.344302               0.591697   \n",
      "\n",
      "     All Features_PCA_1497  All Features_PCA_1498  All Features_PCA_1499  \n",
      "0                 0.505991              -0.217441               1.261893  \n",
      "1                -0.591063              -0.673773               0.243699  \n",
      "2                -1.573267               0.929816              -1.181670  \n",
      "3                 0.413284               0.565334               0.292066  \n",
      "4                -1.118118               0.219779               0.892312  \n",
      "..                     ...                    ...                    ...  \n",
      "370               0.373705               0.609312              -0.096771  \n",
      "371               0.865426               0.804227               0.416587  \n",
      "372              -0.773772              -0.278517              -0.427166  \n",
      "373              -1.080089              -0.601998              -0.383598  \n",
      "374              -1.162777               0.873245               0.170024  \n",
      "\n",
      "[6003 rows x 1504 columns]\n"
     ]
    }
   ],
   "source": [
    "training_data = combine_directory_parquets('../../../Data/Features/All Features All Features PCA/train')\n",
    "print('all training data')\n",
    "print(training_data)\n",
    "\n",
    "# If sample run, take a sample of the data and a reduced number of features\n",
    "if sample_run:\n",
    "    training_data = training_data.sample(frac=0.01).iloc[:, 0:10]"
   ]
  },
  {
   "cell_type": "markdown",
   "metadata": {},
   "source": [
    "## Prepare Matrices"
   ]
  },
  {
   "cell_type": "code",
   "execution_count": 5,
   "metadata": {},
   "outputs": [],
   "source": [
    "X_train, y_train = prepare_matrices(training_data)"
   ]
  },
  {
   "cell_type": "markdown",
   "metadata": {},
   "source": [
    "## Fit Classifier"
   ]
  },
  {
   "cell_type": "code",
   "execution_count": 6,
   "metadata": {},
   "outputs": [
    {
     "name": "stdout",
     "output_type": "stream",
     "text": [
      "hyperparameter settings\n",
      "[{'solver': ['saga'], 'penalty': [None], 'C': [1], 'class_weight': [None, 'balanced'], 'multi_class': ['ovr', 'multinomial']}, {'solver': ['saga'], 'penalty': ['elasticnet'], 'C': [0.001, 0.01, 0.1, 1, 10, 100], 'l1_ratio': [0.0, 0.25, 0.5, 0.75, 1.0], 'class_weight': [None, 'balanced'], 'multi_class': ['ovr', 'multinomial']}]\n"
     ]
    },
    {
     "name": "stderr",
     "output_type": "stream",
     "text": [
      "c:\\Users\\ijyli\\anaconda3\\envs\\computervision\\Lib\\site-packages\\sklearn\\model_selection\\_split.py:737: UserWarning: The least populated class in y has only 4 members, which is less than n_splits=5.\n",
      "  warnings.warn(\n",
      "c:\\Users\\ijyli\\anaconda3\\envs\\computervision\\Lib\\site-packages\\sklearn\\linear_model\\_sag.py:350: ConvergenceWarning: The max_iter was reached which means the coef_ did not converge\n",
      "  warnings.warn(\n"
     ]
    },
    {
     "name": "stdout",
     "output_type": "stream",
     "text": [
      "training time in minutes:  0.07184510231018067\n",
      "training time per image in minutes:  0.0011974183718363445\n",
      "train accuracy of best model:  0.65\n",
      "mean cross validated accuracy of best model:  0.6\n",
      "hyperparameters searched:  [{'solver': ['saga'], 'penalty': [None], 'C': [1], 'class_weight': [None, 'balanced'], 'multi_class': ['ovr', 'multinomial']}, {'solver': ['saga'], 'penalty': ['elasticnet'], 'C': [0.001, 0.01, 0.1, 1, 10, 100], 'l1_ratio': [0.0, 0.25, 0.5, 0.75, 1.0], 'class_weight': [None, 'balanced'], 'multi_class': ['ovr', 'multinomial']}]\n",
      "tuned hyperparameters:  {'C': 1, 'class_weight': 'balanced', 'l1_ratio': 0.0, 'multi_class': 'multinomial', 'penalty': 'elasticnet', 'solver': 'saga'}\n"
     ]
    }
   ],
   "source": [
    "fit_logistic_regression_classifier(X_train, y_train, classifier_name)"
   ]
  }
 ],
 "metadata": {
  "kernelspec": {
   "display_name": "computervision",
   "language": "python",
   "name": "python3"
  },
  "language_info": {
   "codemirror_mode": {
    "name": "ipython",
    "version": 3
   },
   "file_extension": ".py",
   "mimetype": "text/x-python",
   "name": "python",
   "nbconvert_exporter": "python",
   "pygments_lexer": "ipython3",
   "version": "3.11.8"
  }
 },
 "nbformat": 4,
 "nbformat_minor": 2
}
