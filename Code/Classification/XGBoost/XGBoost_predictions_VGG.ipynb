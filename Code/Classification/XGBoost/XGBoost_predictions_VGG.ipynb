{
 "cells": [
  {
   "cell_type": "code",
   "execution_count": 1,
   "id": "07ad1a35",
   "metadata": {},
   "outputs": [],
   "source": [
    "from XGBoost_Classifier_functions import *"
   ]
  },
  {
   "cell_type": "code",
   "execution_count": 2,
   "id": "c79024cf",
   "metadata": {},
   "outputs": [],
   "source": [
    "# Classifier Name\n",
    "classifier_name = 'VGG'"
   ]
  },
  {
   "cell_type": "code",
   "execution_count": 3,
   "id": "559834ac",
   "metadata": {},
   "outputs": [],
   "source": [
    "# Whether this is a sample run or not\n",
    "sample_run = False"
   ]
  },
  {
   "cell_type": "code",
   "execution_count": 4,
   "id": "1de05ca6",
   "metadata": {},
   "outputs": [
    {
     "name": "stdout",
     "output_type": "stream",
     "text": [
      "VGG test data\n",
      "          Class                            harmonized_filename  \\\n",
      "0           SUV           SUV_test_orig_test_05204_resized.jpg   \n",
      "1         Sedan         Sedan_test_orig_test_01445_resized.jpg   \n",
      "2        Pickup        Pickup_test_orig_test_01801_resized.jpg   \n",
      "3         Sedan        Sedan_test_orig_train_02900_resized.jpg   \n",
      "4   Convertible  Convertible_test_orig_train_07925_resized.jpg   \n",
      "..          ...                                            ...   \n",
      "88       Pickup        Pickup_test_orig_test_05241_resized.jpg   \n",
      "89  Convertible  Convertible_test_orig_train_04435_resized.jpg   \n",
      "90        Sedan         Sedan_test_orig_test_00105_resized.jpg   \n",
      "91       Pickup        Pickup_test_orig_test_07521_resized.jpg   \n",
      "92          SUV           SUV_test_orig_test_06507_resized.jpg   \n",
      "\n",
      "                                      image_path_blur  \\\n",
      "0   ../../../Images/test/Blurred/SUV_test_orig_tes...   \n",
      "1   ../../../Images/test/Blurred/Sedan_test_orig_t...   \n",
      "2   ../../../Images/test/Blurred/Pickup_test_orig_...   \n",
      "3   ../../../Images/test/Blurred/Sedan_test_orig_t...   \n",
      "4   ../../../Images/test/Blurred/Convertible_test_...   \n",
      "..                                                ...   \n",
      "88  ../../../Images/test/Blurred/Pickup_test_orig_...   \n",
      "89  ../../../Images/test/Blurred/Convertible_test_...   \n",
      "90  ../../../Images/test/Blurred/Sedan_test_orig_t...   \n",
      "91  ../../../Images/test/Blurred/Pickup_test_orig_...   \n",
      "92  ../../../Images/test/Blurred/SUV_test_orig_tes...   \n",
      "\n",
      "                                   image_path_no_blur  \\\n",
      "0   ../../../Images/test/No_Blur/SUV_test_orig_tes...   \n",
      "1   ../../../Images/test/No_Blur/Sedan_test_orig_t...   \n",
      "2   ../../../Images/test/No_Blur/Pickup_test_orig_...   \n",
      "3   ../../../Images/test/No_Blur/Sedan_test_orig_t...   \n",
      "4   ../../../Images/test/No_Blur/Convertible_test_...   \n",
      "..                                                ...   \n",
      "88  ../../../Images/test/No_Blur/Pickup_test_orig_...   \n",
      "89  ../../../Images/test/No_Blur/Convertible_test_...   \n",
      "90  ../../../Images/test/No_Blur/Sedan_test_orig_t...   \n",
      "91  ../../../Images/test/No_Blur/Pickup_test_orig_...   \n",
      "92  ../../../Images/test/No_Blur/SUV_test_orig_tes...   \n",
      "\n",
      "    VGG_Embedding_Element_0  VGG_Embedding_Element_1  VGG_Embedding_Element_2  \\\n",
      "0                  0.256886                 0.014705                 0.000000   \n",
      "1                  0.017299                 1.080279                 0.000000   \n",
      "2                  0.261010                 0.370242                 0.019681   \n",
      "3                  0.056710                 0.937881                 0.022163   \n",
      "4                  0.032715                 0.032935                 0.004446   \n",
      "..                      ...                      ...                      ...   \n",
      "88                 0.000000                 0.206162                 0.025580   \n",
      "89                 0.074408                 0.381188                 0.000000   \n",
      "90                 0.001813                 0.056266                 0.016630   \n",
      "91                 0.352758                 0.145790                 0.163916   \n",
      "92                 0.041941                 0.094810                 0.056781   \n",
      "\n",
      "    VGG_Embedding_Element_3  VGG_Embedding_Element_4  VGG_Embedding_Element_5  \\\n",
      "0                  0.000000                 0.185725                 0.000000   \n",
      "1                  0.000000                 0.089484                 0.043215   \n",
      "2                  0.024617                 0.007864                 0.000000   \n",
      "3                  0.000000                 0.000000                 0.000000   \n",
      "4                  0.052438                 0.000000                 0.068364   \n",
      "..                      ...                      ...                      ...   \n",
      "88                 0.000000                 0.000000                 0.000000   \n",
      "89                 0.000000                 0.074578                 0.000000   \n",
      "90                 0.000000                 0.000000                 0.000000   \n",
      "91                 0.000000                 0.254776                 0.025853   \n",
      "92                 0.013747                 0.014368                 0.000000   \n",
      "\n",
      "    ...  VGG_Embedding_Element_502  VGG_Embedding_Element_503  \\\n",
      "0   ...                   0.168325                   0.563752   \n",
      "1   ...                   0.089265                   0.000000   \n",
      "2   ...                   0.477338                   0.052425   \n",
      "3   ...                   0.057768                   0.777413   \n",
      "4   ...                   0.055057                   0.528111   \n",
      "..  ...                        ...                        ...   \n",
      "88  ...                   0.036451                   0.602885   \n",
      "89  ...                   0.047582                   0.117062   \n",
      "90  ...                   0.197001                   0.331237   \n",
      "91  ...                   0.008566                   0.237870   \n",
      "92  ...                   0.024904                   0.569708   \n",
      "\n",
      "    VGG_Embedding_Element_504  VGG_Embedding_Element_505  \\\n",
      "0                    0.057050                   0.000000   \n",
      "1                    0.107211                   0.001121   \n",
      "2                    0.174046                   0.000000   \n",
      "3                    0.591298                   0.000000   \n",
      "4                    0.102963                   0.000000   \n",
      "..                        ...                        ...   \n",
      "88                   0.000000                   0.000000   \n",
      "89                   0.175089                   0.000000   \n",
      "90                   0.022715                   0.145851   \n",
      "91                   0.301180                   0.000000   \n",
      "92                   0.373815                   0.037307   \n",
      "\n",
      "    VGG_Embedding_Element_506  VGG_Embedding_Element_507  \\\n",
      "0                    0.000000                   0.214228   \n",
      "1                    0.000000                   0.124731   \n",
      "2                    0.000000                   0.388359   \n",
      "3                    0.000000                   0.036307   \n",
      "4                    0.000000                   0.048731   \n",
      "..                        ...                        ...   \n",
      "88                   0.000000                   0.035047   \n",
      "89                   0.000000                   0.000000   \n",
      "90                   0.000000                   0.164234   \n",
      "91                   0.000672                   0.242734   \n",
      "92                   0.008432                   0.023078   \n",
      "\n",
      "    VGG_Embedding_Element_508  VGG_Embedding_Element_509  \\\n",
      "0                    0.009949                   0.132087   \n",
      "1                    0.161692                   1.670775   \n",
      "2                    0.008709                   0.263208   \n",
      "3                    0.364919                   0.083522   \n",
      "4                    0.182427                   0.000009   \n",
      "..                        ...                        ...   \n",
      "88                   0.000000                   0.561562   \n",
      "89                   0.055792                   0.097906   \n",
      "90                   0.009297                   0.259832   \n",
      "91                   0.196190                   0.040980   \n",
      "92                   0.000000                   0.333420   \n",
      "\n",
      "    VGG_Embedding_Element_510  VGG_Embedding_Element_511  \n",
      "0                    0.130220                   0.024219  \n",
      "1                    0.032121                   0.027089  \n",
      "2                    0.252122                   0.006022  \n",
      "3                    0.122601                   0.000000  \n",
      "4                    2.300909                   0.151730  \n",
      "..                        ...                        ...  \n",
      "88                   0.201122                   0.000000  \n",
      "89                   0.191465                   0.021248  \n",
      "90                   0.670181                   0.000000  \n",
      "91                   0.050319                   0.000000  \n",
      "92                   0.056495                   0.000000  \n",
      "\n",
      "[1489 rows x 516 columns]\n"
     ]
    }
   ],
   "source": [
    "#load test data\n",
    "test_data = combine_directory_parquets('../../../Data/Features/VGG/test')\n",
    "print('VGG test data')\n",
    "print(test_data)\n",
    "\n",
    "if sample_run:\n",
    "    test_data = test_data.sample(frac=0.01).iloc[:, 0:10]"
   ]
  },
  {
   "cell_type": "code",
   "execution_count": 5,
   "id": "391e9b69",
   "metadata": {},
   "outputs": [],
   "source": [
    "# Prepare matrices\n",
    "X_test, _, label_encoder, _ = prepare_matrices(test_data)"
   ]
  },
  {
   "cell_type": "code",
   "execution_count": 6,
   "id": "0fb91b1b",
   "metadata": {},
   "outputs": [
    {
     "name": "stdout",
     "output_type": "stream",
     "text": [
      "Prediction time in minutes:  0.00022011995315551758\n",
      "Prediction time per image in minutes:  1.4783072743822537e-07\n",
      "limited cols in test data\n",
      "added to test data\n",
      "Predictions made successfully.\n"
     ]
    }
   ],
   "source": [
    "#make predictions\n",
    "make_predictions(test_data, X_test, classifier_name, label_encoder)\n",
    "print('Predictions made successfully.')"
   ]
  }
 ],
 "metadata": {
  "kernelspec": {
   "display_name": "Python 3",
   "language": "python",
   "name": "python3"
  },
  "language_info": {
   "codemirror_mode": {
    "name": "ipython",
    "version": 3
   },
   "file_extension": ".py",
   "mimetype": "text/x-python",
   "name": "python",
   "nbconvert_exporter": "python",
   "pygments_lexer": "ipython3",
   "version": "3.12.0"
  }
 },
 "nbformat": 4,
 "nbformat_minor": 5
}
