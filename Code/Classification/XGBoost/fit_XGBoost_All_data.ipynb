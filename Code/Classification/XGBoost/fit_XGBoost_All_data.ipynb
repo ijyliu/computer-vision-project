{
 "cells": [
  {
   "cell_type": "code",
   "execution_count": 1,
   "id": "f809b7b8",
   "metadata": {
    "execution": {
     "iopub.execute_input": "2024-04-07T22:20:35.296530Z",
     "iopub.status.busy": "2024-04-07T22:20:35.295756Z",
     "iopub.status.idle": "2024-04-07T22:20:36.842536Z",
     "shell.execute_reply": "2024-04-07T22:20:36.841833Z"
    }
   },
   "outputs": [],
   "source": [
    "from XGBoost_Classifier_functions import *"
   ]
  },
  {
   "cell_type": "code",
   "execution_count": 2,
   "id": "4efd1592",
   "metadata": {
    "execution": {
     "iopub.execute_input": "2024-04-07T22:20:36.847076Z",
     "iopub.status.busy": "2024-04-07T22:20:36.846841Z",
     "iopub.status.idle": "2024-04-07T22:20:36.850287Z",
     "shell.execute_reply": "2024-04-07T22:20:36.849669Z"
    }
   },
   "outputs": [],
   "source": [
    "# Set classifier name\n",
    "classifier_name = 'All_Data'"
   ]
  },
  {
   "cell_type": "code",
   "execution_count": 3,
   "id": "d13ddec8",
   "metadata": {
    "execution": {
     "iopub.execute_input": "2024-04-07T22:20:36.854371Z",
     "iopub.status.busy": "2024-04-07T22:20:36.854184Z",
     "iopub.status.idle": "2024-04-07T22:20:36.857517Z",
     "shell.execute_reply": "2024-04-07T22:20:36.856866Z"
    }
   },
   "outputs": [],
   "source": [
    "# Sample run or not\n",
    "sample_run = False"
   ]
  },
  {
   "cell_type": "code",
   "execution_count": 4,
   "id": "3c73f709",
   "metadata": {
    "execution": {
     "iopub.execute_input": "2024-04-07T22:20:36.862061Z",
     "iopub.status.busy": "2024-04-07T22:20:36.861699Z",
     "iopub.status.idle": "2024-04-07T22:20:44.407958Z",
     "shell.execute_reply": "2024-04-07T22:20:44.407446Z"
    }
   },
   "outputs": [
    {
     "name": "stdout",
     "output_type": "stream",
     "text": [
      "all training data\n",
      "           Class                             harmonized_filename  \\\n",
      "0          Sedan         Sedan_train_orig_test_00191_resized.jpg   \n",
      "1    Convertible  Convertible_train_orig_train_07913_resized.jpg   \n",
      "2         Pickup          SUV_train_orig_train_00163_resized.jpg   \n",
      "3          Sedan        Sedan_train_orig_train_06113_resized.jpg   \n",
      "4          Sedan         Sedan_train_orig_test_05711_resized.jpg   \n",
      "..           ...                                             ...   \n",
      "371        Sedan        Sedan_train_orig_train_05545_resized.jpg   \n",
      "372       Pickup        Pickup_train_orig_test_01575_resized.jpg   \n",
      "373          SUV          SUV_train_orig_train_06550_resized.jpg   \n",
      "374          SUV          SUV_train_orig_train_03292_resized.jpg   \n",
      "375        Sedan        Sedan_train_orig_train_01250_resized.jpg   \n",
      "\n",
      "                                       image_path_blur  \\\n",
      "0    ../../../Images/train/Blurred/Sedan_train_orig...   \n",
      "1    ../../../Images/train/Blurred/Convertible_trai...   \n",
      "2    ../../../Images/train/Blurred/SUV_train_orig_t...   \n",
      "3    ../../../Images/train/Blurred/Sedan_train_orig...   \n",
      "4    ../../../Images/train/Blurred/Sedan_train_orig...   \n",
      "..                                                 ...   \n",
      "371  ../../../Images/train/Blurred/Sedan_train_orig...   \n",
      "372  ../../../Images/train/Blurred/Pickup_train_ori...   \n",
      "373  ../../../Images/train/Blurred/SUV_train_orig_t...   \n",
      "374  ../../../Images/train/Blurred/SUV_train_orig_t...   \n",
      "375  ../../../Images/train/Blurred/Sedan_train_orig...   \n",
      "\n",
      "                                    image_path_no_blur  \\\n",
      "0    ../../../Images/train/No_Blur/Sedan_train_orig...   \n",
      "1    ../../../Images/train/No_Blur/Convertible_trai...   \n",
      "2    ../../../Images/train/No_Blur/SUV_train_orig_t...   \n",
      "3    ../../../Images/train/No_Blur/Sedan_train_orig...   \n",
      "4    ../../../Images/train/No_Blur/Sedan_train_orig...   \n",
      "..                                                 ...   \n",
      "371  ../../../Images/train/No_Blur/Sedan_train_orig...   \n",
      "372  ../../../Images/train/No_Blur/Pickup_train_ori...   \n",
      "373  ../../../Images/train/No_Blur/SUV_train_orig_t...   \n",
      "374  ../../../Images/train/No_Blur/SUV_train_orig_t...   \n",
      "375  ../../../Images/train/No_Blur/Sedan_train_orig...   \n",
      "\n",
      "     ViT_Embedding_Element_0  ViT_Embedding_Element_1  \\\n",
      "0                  -0.052638                 0.210155   \n",
      "1                  -0.053365                -0.012969   \n",
      "2                  -0.231644                 0.217559   \n",
      "3                  -0.131876                -0.059137   \n",
      "4                  -0.137697                -0.034049   \n",
      "..                       ...                      ...   \n",
      "371                -0.089810                -0.029637   \n",
      "372                -0.468693                 0.288532   \n",
      "373                -0.175269                 0.168410   \n",
      "374                -0.193457                -0.112036   \n",
      "375                -0.066035                 0.148686   \n",
      "\n",
      "     ViT_Embedding_Element_2  ViT_Embedding_Element_3  \\\n",
      "0                  -0.048611                -0.339807   \n",
      "1                  -0.126072                -0.528833   \n",
      "2                   0.148840                -0.031623   \n",
      "3                  -0.162552                -0.181742   \n",
      "4                  -0.131621                -0.360250   \n",
      "..                       ...                      ...   \n",
      "371                -0.175630                -0.246021   \n",
      "372                 0.036225                -0.221235   \n",
      "373                 0.039366                -0.386296   \n",
      "374                -0.059668                -0.404732   \n",
      "375                -0.276431                -0.365761   \n",
      "\n",
      "     ViT_Embedding_Element_4  ViT_Embedding_Element_5  ...  \\\n",
      "0                   0.025407                 0.359100  ...   \n",
      "1                  -0.093094                 0.364149  ...   \n",
      "2                   0.302713                 0.311490  ...   \n",
      "3                  -0.040232                 0.265681  ...   \n",
      "4                  -0.414254                 0.417757  ...   \n",
      "..                       ...                      ...  ...   \n",
      "371                 0.050356                 0.382653  ...   \n",
      "372                -0.298643                 0.309445  ...   \n",
      "373                -0.041420                 0.368673  ...   \n",
      "374                 0.035218                 0.276104  ...   \n",
      "375                -0.077168                 0.379195  ...   \n",
      "\n",
      "     VGG_Embedding_Element_502  VGG_Embedding_Element_503  \\\n",
      "0                     0.036875                   0.238585   \n",
      "1                     0.179681                   0.552611   \n",
      "2                     0.071343                   0.971925   \n",
      "3                     0.000000                   0.402103   \n",
      "4                     0.026835                   0.112992   \n",
      "..                         ...                        ...   \n",
      "371                   0.104169                   0.050916   \n",
      "372                   0.028996                   0.000000   \n",
      "373                   0.174214                   0.000000   \n",
      "374                   0.005623                   0.265550   \n",
      "375                   0.002088                   0.046367   \n",
      "\n",
      "     VGG_Embedding_Element_504  VGG_Embedding_Element_505  \\\n",
      "0                     0.114500                        0.0   \n",
      "1                     0.070589                        0.0   \n",
      "2                     0.417361                        0.0   \n",
      "3                     0.426712                        0.0   \n",
      "4                     0.050516                        0.0   \n",
      "..                         ...                        ...   \n",
      "371                   0.055621                        0.0   \n",
      "372                   0.094114                        0.0   \n",
      "373                   0.451644                        0.0   \n",
      "374                   0.087664                        0.0   \n",
      "375                   0.363429                        0.0   \n",
      "\n",
      "     VGG_Embedding_Element_506  VGG_Embedding_Element_507  \\\n",
      "0                     0.000000                   0.003912   \n",
      "1                     0.000000                   0.003084   \n",
      "2                     0.000000                   0.265667   \n",
      "3                     0.000000                   0.129737   \n",
      "4                     0.010970                   0.020962   \n",
      "..                         ...                        ...   \n",
      "371                   0.000000                   0.000000   \n",
      "372                   0.000000                   0.026601   \n",
      "373                   0.000000                   0.124163   \n",
      "374                   0.000000                   0.075826   \n",
      "375                   0.003887                   0.115289   \n",
      "\n",
      "     VGG_Embedding_Element_508  VGG_Embedding_Element_509  \\\n",
      "0                     0.013859                   0.577903   \n",
      "1                     0.000000                   0.158566   \n",
      "2                     0.000000                   0.000000   \n",
      "3                     0.070158                   0.281973   \n",
      "4                     0.326658                   0.301997   \n",
      "..                         ...                        ...   \n",
      "371                   0.000000                   0.611282   \n",
      "372                   0.073691                   0.005785   \n",
      "373                   0.107490                   0.495028   \n",
      "374                   0.000000                   0.000836   \n",
      "375                   0.642568                   0.254694   \n",
      "\n",
      "     VGG_Embedding_Element_510  VGG_Embedding_Element_511  \n",
      "0                     0.026354                   0.000000  \n",
      "1                     0.394515                   0.068858  \n",
      "2                     0.006162                   0.134851  \n",
      "3                     0.493978                   0.000000  \n",
      "4                     0.114266                   0.000000  \n",
      "..                         ...                        ...  \n",
      "371                   0.102053                   0.000000  \n",
      "372                   0.877821                   0.323551  \n",
      "373                   0.036843                   0.000000  \n",
      "374                   0.034066                   0.000000  \n",
      "375                   0.079848                   0.277217  \n",
      "\n",
      "[6003 rows x 4893 columns]\n"
     ]
    }
   ],
   "source": [
    "#load Training data\n",
    "training_data = combine_directory_parquets('../../../Data/Features/All Features/train')\n",
    "print('all training data')\n",
    "print(training_data)\n",
    "\n",
    "# If sample run, take a sample of the data and a reduced number of features\n",
    "if sample_run:\n",
    "    training_data = training_data.sample(frac=0.01).iloc[:, 0:10]"
   ]
  },
  {
   "cell_type": "code",
   "execution_count": 5,
   "id": "c0c33650",
   "metadata": {
    "execution": {
     "iopub.execute_input": "2024-04-07T22:20:44.413649Z",
     "iopub.status.busy": "2024-04-07T22:20:44.413437Z",
     "iopub.status.idle": "2024-04-07T22:20:45.246210Z",
     "shell.execute_reply": "2024-04-07T22:20:45.245713Z"
    }
   },
   "outputs": [],
   "source": [
    "#prepare matrices\n",
    "sample_data = training_data.sample(frac=0.1)\n",
    "X_train, y_train = prepare_matrices(training_data)"
   ]
  },
  {
   "cell_type": "code",
   "execution_count": 6,
   "id": "53b8d534",
   "metadata": {
    "execution": {
     "iopub.execute_input": "2024-04-07T22:20:45.250457Z",
     "iopub.status.busy": "2024-04-07T22:20:45.250293Z",
     "iopub.status.idle": "2024-04-08T02:15:17.592810Z",
     "shell.execute_reply": "2024-04-08T02:15:17.592210Z"
    }
   },
   "outputs": [
    {
     "name": "stderr",
     "output_type": "stream",
     "text": [
      "/scratch/users/ijyliu/conda/envs/scf_general/lib/python3.11/site-packages/joblib/externals/loky/process_executor.py:752: UserWarning: A worker stopped while some jobs were given to the executor. This can be caused by a too short worker timeout or by a memory leak.\n",
      "  warnings.warn(\n"
     ]
    },
    {
     "name": "stdout",
     "output_type": "stream",
     "text": [
      "Training time in minutes:  234.5295533180237\n",
      "Training time per image in minutes:  0.03906872452407524\n",
      "Train accuracy of best model:  1.0\n",
      "Mean cross validated accuracy of best model:  0.9093798223702472\n"
     ]
    },
    {
     "name": "stdout",
     "output_type": "stream",
     "text": [
      "Hyperparameters searched:  [{'learning_rate': [0.01, 0.1, 0.3], 'n_estimators': [100, 200], 'max_depth': [3, 6], 'subsample': [0.8, 1], 'colsample_bytree': [0.8, 1]}]\n",
      "Tuned hyperparameters:  {'colsample_bytree': 1, 'learning_rate': 0.3, 'max_depth': 3, 'n_estimators': 200, 'subsample': 0.8}\n"
     ]
    }
   ],
   "source": [
    "fit_xgboost_classifier(X_train, y_train, classifier_name)"
   ]
  }
 ],
 "metadata": {
  "kernelspec": {
   "display_name": "Python 3 (ipykernel)",
   "language": "python",
   "name": "python3"
  },
  "language_info": {
   "codemirror_mode": {
    "name": "ipython",
    "version": 3
   },
   "file_extension": ".py",
   "mimetype": "text/x-python",
   "name": "python",
   "nbconvert_exporter": "python",
   "pygments_lexer": "ipython3",
   "version": "3.11.8"
  }
 },
 "nbformat": 4,
 "nbformat_minor": 5
}
