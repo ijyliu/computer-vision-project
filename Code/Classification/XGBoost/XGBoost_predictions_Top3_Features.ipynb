{
 "cells": [
  {
   "cell_type": "code",
   "execution_count": 1,
   "id": "07ad1a35",
   "metadata": {},
   "outputs": [],
   "source": [
    "from XGBoost_Classifier_functions import *"
   ]
  },
  {
   "cell_type": "code",
   "execution_count": 2,
   "id": "c79024cf",
   "metadata": {},
   "outputs": [],
   "source": [
    "# Classifier Name\n",
    "classifier_name = 'Top3_Features'"
   ]
  },
  {
   "cell_type": "code",
   "execution_count": 3,
   "id": "559834ac",
   "metadata": {},
   "outputs": [],
   "source": [
    "# Whether this is a sample run or not\n",
    "sample_run = False"
   ]
  },
  {
   "cell_type": "code",
   "execution_count": 4,
   "id": "1de05ca6",
   "metadata": {},
   "outputs": [
    {
     "name": "stdout",
     "output_type": "stream",
     "text": [
      "Top3_Features test data\n",
      "          Class                            harmonized_filename  \\\n",
      "0         Sedan        Sedan_test_orig_train_05437_resized.jpg   \n",
      "1        Pickup       Pickup_test_orig_train_03359_resized.jpg   \n",
      "2           SUV           SUV_test_orig_test_03954_resized.jpg   \n",
      "3           SUV           SUV_test_orig_test_06649_resized.jpg   \n",
      "4         Sedan         Sedan_test_orig_test_06584_resized.jpg   \n",
      "..          ...                                            ...   \n",
      "88          SUV           SUV_test_orig_test_01361_resized.jpg   \n",
      "89        Sedan         Sedan_test_orig_test_01649_resized.jpg   \n",
      "90  Convertible   Convertible_test_orig_test_07402_resized.jpg   \n",
      "91  Convertible  Convertible_test_orig_train_06708_resized.jpg   \n",
      "92  Convertible   Convertible_test_orig_test_07063_resized.jpg   \n",
      "\n",
      "                                      image_path_blur  \\\n",
      "0   ../../../Images/test/Blurred/Sedan_test_orig_t...   \n",
      "1   ../../../Images/test/Blurred/Pickup_test_orig_...   \n",
      "2   ../../../Images/test/Blurred/SUV_test_orig_tes...   \n",
      "3   ../../../Images/test/Blurred/SUV_test_orig_tes...   \n",
      "4   ../../../Images/test/Blurred/Sedan_test_orig_t...   \n",
      "..                                                ...   \n",
      "88  ../../../Images/test/Blurred/SUV_test_orig_tes...   \n",
      "89  ../../../Images/test/Blurred/Sedan_test_orig_t...   \n",
      "90  ../../../Images/test/Blurred/Convertible_test_...   \n",
      "91  ../../../Images/test/Blurred/Convertible_test_...   \n",
      "92  ../../../Images/test/Blurred/Convertible_test_...   \n",
      "\n",
      "                                   image_path_no_blur  HSV_0  HSV_1  HSV_2  \\\n",
      "0   ../../../Images/test/No_Blur/Sedan_test_orig_t...  20360      0      3   \n",
      "1   ../../../Images/test/No_Blur/Pickup_test_orig_...  11613      0     12   \n",
      "2   ../../../Images/test/No_Blur/SUV_test_orig_tes...   1560      8     11   \n",
      "3   ../../../Images/test/No_Blur/SUV_test_orig_tes...   3389     14    114   \n",
      "4   ../../../Images/test/No_Blur/Sedan_test_orig_t...   2010     18     22   \n",
      "..                                                ...    ...    ...    ...   \n",
      "88  ../../../Images/test/No_Blur/SUV_test_orig_tes...    617     24     17   \n",
      "89  ../../../Images/test/No_Blur/Sedan_test_orig_t...  13124     34     91   \n",
      "90  ../../../Images/test/No_Blur/Convertible_test_...   1564      3     17   \n",
      "91  ../../../Images/test/No_Blur/Convertible_test_...    168      2      1   \n",
      "92  ../../../Images/test/No_Blur/Convertible_test_...   1965    688    963   \n",
      "\n",
      "    HSV_3  HSV_4  HSV_5  ...  VGG_Embedding_Element_502  \\\n",
      "0       6      4      2  ...                   0.150243   \n",
      "1      13      2      1  ...                   0.010515   \n",
      "2      22      5      3  ...                   0.073244   \n",
      "3     191     34     18  ...                   0.031909   \n",
      "4    2600      9     13  ...                   0.105276   \n",
      "..    ...    ...    ...  ...                        ...   \n",
      "88      8     11     15  ...                   0.054857   \n",
      "89    985     50     74  ...                   0.099542   \n",
      "90     33      3      3  ...                   0.242517   \n",
      "91      3      1      1  ...                   0.034040   \n",
      "92    720    494   1130  ...                   0.026593   \n",
      "\n",
      "    VGG_Embedding_Element_503  VGG_Embedding_Element_504  \\\n",
      "0                    0.264980                   0.352080   \n",
      "1                    0.935640                   0.440709   \n",
      "2                    0.000000                   0.510363   \n",
      "3                    0.000000                   0.122666   \n",
      "4                    0.000000                   0.301258   \n",
      "..                        ...                        ...   \n",
      "88                   0.011710                   0.150295   \n",
      "89                   0.129908                   0.527993   \n",
      "90                   0.586864                   0.496459   \n",
      "91                   1.245239                   0.731827   \n",
      "92                   0.339625                   0.061522   \n",
      "\n",
      "    VGG_Embedding_Element_505  VGG_Embedding_Element_506  \\\n",
      "0                    0.030870                   0.000000   \n",
      "1                    0.000000                   0.397143   \n",
      "2                    0.016521                   0.000000   \n",
      "3                    0.000000                   0.038126   \n",
      "4                    0.000000                   0.000000   \n",
      "..                        ...                        ...   \n",
      "88                   0.000000                   0.008429   \n",
      "89                   0.013505                   0.000000   \n",
      "90                   0.000000                   0.000000   \n",
      "91                   0.000000                   0.000000   \n",
      "92                   0.017490                   0.000000   \n",
      "\n",
      "    VGG_Embedding_Element_507  VGG_Embedding_Element_508  \\\n",
      "0                    0.005269                   0.085076   \n",
      "1                    0.358335                   0.026000   \n",
      "2                    0.146333                   0.000060   \n",
      "3                    0.107039                   0.015900   \n",
      "4                    0.027415                   0.255073   \n",
      "..                        ...                        ...   \n",
      "88                   0.024524                   0.309261   \n",
      "89                   0.000000                   0.671070   \n",
      "90                   0.255278                   0.067638   \n",
      "91                   0.127707                   0.006418   \n",
      "92                   0.002405                   0.015634   \n",
      "\n",
      "    VGG_Embedding_Element_509  VGG_Embedding_Element_510  \\\n",
      "0                    0.184339                   0.393665   \n",
      "1                    0.439225                   0.561005   \n",
      "2                    1.518961                   0.189747   \n",
      "3                    0.521024                   0.037165   \n",
      "4                    0.399262                   0.089734   \n",
      "..                        ...                        ...   \n",
      "88                   0.000000                   0.121847   \n",
      "89                   0.071508                   0.178081   \n",
      "90                   0.000000                   0.732926   \n",
      "91                   0.175328                   0.619127   \n",
      "92                   0.608576                   0.651216   \n",
      "\n",
      "    VGG_Embedding_Element_511  \n",
      "0                    0.048444  \n",
      "1                    0.136741  \n",
      "2                    0.162572  \n",
      "3                    0.036494  \n",
      "4                    0.010790  \n",
      "..                        ...  \n",
      "88                   0.045280  \n",
      "89                   0.044341  \n",
      "90                   0.000000  \n",
      "91                   0.012838  \n",
      "92                   0.207761  \n",
      "\n",
      "[1489 rows x 1309 columns]\n"
     ]
    }
   ],
   "source": [
    "#load test data\n",
    "test_data = combine_directory_parquets('../../../Data/Features/Top3_Features/test')\n",
    "print('Top3_Features test data')\n",
    "print(test_data)\n",
    "\n",
    "if sample_run:\n",
    "    test_data = test_data.sample(frac=0.01).iloc[:, 0:10]"
   ]
  },
  {
   "cell_type": "code",
   "execution_count": 5,
   "id": "391e9b69",
   "metadata": {},
   "outputs": [],
   "source": [
    "# Prepare matrices\n",
    "X_test, _, label_encoder, _ = prepare_matrices(test_data)"
   ]
  },
  {
   "cell_type": "code",
   "execution_count": 6,
   "id": "0fb91b1b",
   "metadata": {},
   "outputs": [
    {
     "name": "stdout",
     "output_type": "stream",
     "text": [
      "Prediction time in minutes:  0.0005675911903381348\n",
      "Prediction time per image in minutes:  3.8118951668108445e-07\n",
      "limited cols in test data\n",
      "added to test data\n",
      "Predictions made successfully.\n"
     ]
    }
   ],
   "source": [
    "#make predictions\n",
    "make_predictions(test_data, X_test, classifier_name, label_encoder)\n",
    "print('Predictions made successfully.')"
   ]
  }
 ],
 "metadata": {
  "kernelspec": {
   "display_name": "Python 3",
   "language": "python",
   "name": "python3"
  },
  "language_info": {
   "codemirror_mode": {
    "name": "ipython",
    "version": 3
   },
   "file_extension": ".py",
   "mimetype": "text/x-python",
   "name": "python",
   "nbconvert_exporter": "python",
   "pygments_lexer": "ipython3",
   "version": "3.12.0"
  }
 },
 "nbformat": 4,
 "nbformat_minor": 5
}
