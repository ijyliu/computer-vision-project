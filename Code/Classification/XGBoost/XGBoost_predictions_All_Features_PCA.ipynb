{
 "cells": [
  {
   "cell_type": "code",
   "execution_count": null,
   "id": "a2425347",
   "metadata": {},
   "outputs": [],
   "source": [
    "from XGBoost_Classifier_functions import *"
   ]
  },
  {
   "cell_type": "code",
   "execution_count": null,
   "id": "ecf9cd13",
   "metadata": {},
   "outputs": [],
   "source": [
    "# Classifier Name\n",
    "classifier_name = 'All_Features_PCA'"
   ]
  },
  {
   "cell_type": "code",
   "execution_count": null,
   "id": "8e834337",
   "metadata": {},
   "outputs": [],
   "source": [
    "# Whether this is a sample run or not\n",
    "sample_run = False"
   ]
  },
  {
   "cell_type": "code",
   "execution_count": 1,
   "id": "fe3e042f",
   "metadata": {},
   "outputs": [],
   "source": [
    "#load test data \n",
    "test_data = combine_directory_parquets('../../../Data/Features/All Features All Features PCA/test')\n",
    "print('all test data')\n",
    "print(test_data)\n",
    "\n",
    "if sample_run:\n",
    "    test_data = test_data.sample(frac=0.01).iloc[:, 0:10]"
   ]
  },
  {
   "cell_type": "code",
   "execution_count": null,
   "id": "63456563",
   "metadata": {},
   "outputs": [],
   "source": [
    "# Prepare matrices\n",
    "X_test, _, label_encoder, _ = prepare_matrices(test_data)"
   ]
  },
  {
   "cell_type": "code",
   "execution_count": null,
   "id": "9fa37399",
   "metadata": {},
   "outputs": [],
   "source": [
    "make_predictions(test_data, X_test, classifier_name, label_encoder)\n",
    "print('Predictions made successfully.')"
   ]
  }
 ],
 "metadata": {
  "kernelspec": {
   "display_name": "Python 3 (ipykernel)",
   "language": "python",
   "name": "python3"
  },
  "language_info": {
   "codemirror_mode": {
    "name": "ipython",
    "version": 3
   },
   "file_extension": ".py",
   "mimetype": "text/x-python",
   "name": "python",
   "nbconvert_exporter": "python",
   "pygments_lexer": "ipython3",
   "version": "3.11.5"
  }
 },
 "nbformat": 4,
 "nbformat_minor": 5
}
