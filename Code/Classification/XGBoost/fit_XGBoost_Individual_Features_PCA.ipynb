{
 "cells": [
  {
   "cell_type": "code",
   "execution_count": 1,
   "id": "420439e5",
   "metadata": {
    "execution": {
     "iopub.execute_input": "2024-04-07T22:20:15.350694Z",
     "iopub.status.busy": "2024-04-07T22:20:15.350412Z",
     "iopub.status.idle": "2024-04-07T22:20:16.818781Z",
     "shell.execute_reply": "2024-04-07T22:20:16.818019Z"
    }
   },
   "outputs": [],
   "source": [
    "from XGBoost_Classifier_functions import *"
   ]
  },
  {
   "cell_type": "code",
   "execution_count": 2,
   "id": "6c5d5dea",
   "metadata": {
    "execution": {
     "iopub.execute_input": "2024-04-07T22:20:16.821208Z",
     "iopub.status.busy": "2024-04-07T22:20:16.820905Z",
     "iopub.status.idle": "2024-04-07T22:20:16.823632Z",
     "shell.execute_reply": "2024-04-07T22:20:16.823155Z"
    }
   },
   "outputs": [],
   "source": [
    "# Set classifier name\n",
    "classifier_name = 'Individual_Features_PCA'"
   ]
  },
  {
   "cell_type": "code",
   "execution_count": 3,
   "id": "a9a5da0b",
   "metadata": {
    "execution": {
     "iopub.execute_input": "2024-04-07T22:20:16.825313Z",
     "iopub.status.busy": "2024-04-07T22:20:16.824997Z",
     "iopub.status.idle": "2024-04-07T22:20:16.827383Z",
     "shell.execute_reply": "2024-04-07T22:20:16.826892Z"
    }
   },
   "outputs": [],
   "source": [
    "# Sample run or not\n",
    "sample_run = False"
   ]
  },
  {
   "cell_type": "code",
   "execution_count": 4,
   "id": "3e4838e8",
   "metadata": {
    "execution": {
     "iopub.execute_input": "2024-04-07T22:20:16.828920Z",
     "iopub.status.busy": "2024-04-07T22:20:16.828700Z",
     "iopub.status.idle": "2024-04-07T22:20:19.710406Z",
     "shell.execute_reply": "2024-04-07T22:20:19.709595Z"
    }
   },
   "outputs": [
    {
     "name": "stdout",
     "output_type": "stream",
     "text": [
      "all training data\n",
      "           Class                            harmonized_filename  \\\n",
      "0            SUV          SUV_train_orig_test_07234_resized.jpg   \n",
      "1            SUV         SUV_train_orig_train_03426_resized.jpg   \n",
      "2          Sedan       Sedan_train_orig_train_00433_resized.jpg   \n",
      "3            SUV         SUV_train_orig_train_03381_resized.jpg   \n",
      "4          Sedan        Sedan_train_orig_test_07466_resized.jpg   \n",
      "..           ...                                            ...   \n",
      "370  Convertible  Convertible_train_orig_test_07372_resized.jpg   \n",
      "371          SUV         SUV_train_orig_train_07504_resized.jpg   \n",
      "372          SUV         SUV_train_orig_train_05279_resized.jpg   \n",
      "373       Pickup       Pickup_train_orig_test_04234_resized.jpg   \n",
      "374  Convertible  Convertible_train_orig_test_04220_resized.jpg   \n",
      "\n",
      "                                       image_path_blur  \\\n",
      "0    ../../../Images/train/Blurred/SUV_train_orig_t...   \n",
      "1    ../../../Images/train/Blurred/SUV_train_orig_t...   \n",
      "2    ../../../Images/train/Blurred/Sedan_train_orig...   \n",
      "3    ../../../Images/train/Blurred/SUV_train_orig_t...   \n",
      "4    ../../../Images/train/Blurred/Sedan_train_orig...   \n",
      "..                                                 ...   \n",
      "370  ../../../Images/train/Blurred/Convertible_trai...   \n",
      "371  ../../../Images/train/Blurred/SUV_train_orig_t...   \n",
      "372  ../../../Images/train/Blurred/SUV_train_orig_t...   \n",
      "373  ../../../Images/train/Blurred/Pickup_train_ori...   \n",
      "374  ../../../Images/train/Blurred/Convertible_trai...   \n",
      "\n",
      "                                    image_path_no_blur  \\\n",
      "0    ../../../Images/train/No_Blur/SUV_train_orig_t...   \n",
      "1    ../../../Images/train/No_Blur/SUV_train_orig_t...   \n",
      "2    ../../../Images/train/No_Blur/Sedan_train_orig...   \n",
      "3    ../../../Images/train/No_Blur/SUV_train_orig_t...   \n",
      "4    ../../../Images/train/No_Blur/Sedan_train_orig...   \n",
      "..                                                 ...   \n",
      "370  ../../../Images/train/No_Blur/Convertible_trai...   \n",
      "371  ../../../Images/train/No_Blur/SUV_train_orig_t...   \n",
      "372  ../../../Images/train/No_Blur/SUV_train_orig_t...   \n",
      "373  ../../../Images/train/No_Blur/Pickup_train_ori...   \n",
      "374  ../../../Images/train/No_Blur/Convertible_trai...   \n",
      "\n",
      "     HOG 24 PPC Features_PCA_0  HOG 24 PPC Features_PCA_1  \\\n",
      "0                    11.537605                  -0.849453   \n",
      "1                     0.892846                  16.327513   \n",
      "2                   -16.678310                  -3.998198   \n",
      "3                     5.152669                  -9.614632   \n",
      "4                     3.161433                 -14.664129   \n",
      "..                         ...                        ...   \n",
      "370                  16.835110                   2.779669   \n",
      "371                   5.854806                  -2.620645   \n",
      "372                   5.072601                  -1.268303   \n",
      "373                  12.201488                 -16.311344   \n",
      "374                   0.207784                  27.593346   \n",
      "\n",
      "     HOG 24 PPC Features_PCA_2  HOG 24 PPC Features_PCA_3  \\\n",
      "0                     7.618513                   5.204954   \n",
      "1                    -3.599078                  -8.781940   \n",
      "2                    -4.669609                   1.205891   \n",
      "3                   -10.092970                   1.390902   \n",
      "4                    -0.004743                   9.538074   \n",
      "..                         ...                        ...   \n",
      "370                  -2.201864                  -3.733494   \n",
      "371                   7.927474                  -2.821291   \n",
      "372                  10.942527                  10.163486   \n",
      "373                   0.040083                 -16.338444   \n",
      "374                   7.219152                 -11.556028   \n",
      "\n",
      "     HOG 24 PPC Features_PCA_4  HOG 24 PPC Features_PCA_5  ...  \\\n",
      "0                     3.364285                  -9.249058  ...   \n",
      "1                     8.040628                  -1.300560  ...   \n",
      "2                     3.870348                  -3.785981  ...   \n",
      "3                    10.002347                   7.394424  ...   \n",
      "4                    16.649792                   0.021812  ...   \n",
      "..                         ...                        ...  ...   \n",
      "370                  -8.305746                 -10.185285  ...   \n",
      "371                  -0.226838                  -3.882393  ...   \n",
      "372                  -6.688125                  -2.125663  ...   \n",
      "373                   3.313340                   6.796412  ...   \n",
      "374                 -12.818466                  -0.507729  ...   \n",
      "\n",
      "     Vision Transformer Features_PCA_390  Vision Transformer Features_PCA_391  \\\n",
      "0                               0.173264                            -1.149497   \n",
      "1                               1.101895                             0.686018   \n",
      "2                              -0.409612                            -0.065717   \n",
      "3                              -0.294352                             0.310003   \n",
      "4                              -0.356250                             0.318180   \n",
      "..                                   ...                                  ...   \n",
      "370                             0.640503                            -0.123330   \n",
      "371                            -0.317978                            -0.040134   \n",
      "372                             0.341105                            -0.361898   \n",
      "373                             0.896518                             0.171490   \n",
      "374                             0.477134                             0.270405   \n",
      "\n",
      "     Vision Transformer Features_PCA_392  Vision Transformer Features_PCA_393  \\\n",
      "0                              -0.295057                             0.049446   \n",
      "1                              -0.144083                             0.398713   \n",
      "2                               0.170490                            -0.253642   \n",
      "3                              -0.665626                             0.174353   \n",
      "4                              -0.511208                             0.108405   \n",
      "..                                   ...                                  ...   \n",
      "370                             0.817722                            -0.253880   \n",
      "371                             0.352679                            -0.632085   \n",
      "372                            -0.046813                            -0.261831   \n",
      "373                            -0.490006                            -0.502953   \n",
      "374                            -0.709648                             0.416310   \n",
      "\n",
      "     Vision Transformer Features_PCA_394  Vision Transformer Features_PCA_395  \\\n",
      "0                               0.046930                            -0.164809   \n",
      "1                               1.062701                            -0.467337   \n",
      "2                               0.098132                            -0.641881   \n",
      "3                               0.004101                             0.113714   \n",
      "4                              -0.023855                             0.251999   \n",
      "..                                   ...                                  ...   \n",
      "370                            -1.064852                            -1.062421   \n",
      "371                             0.168376                            -0.402225   \n",
      "372                            -0.620996                             0.172295   \n",
      "373                             0.203383                             0.325148   \n",
      "374                             0.321640                            -0.187906   \n",
      "\n",
      "     Vision Transformer Features_PCA_396  Vision Transformer Features_PCA_397  \\\n",
      "0                               0.568285                             0.557749   \n",
      "1                               0.263045                             0.218592   \n",
      "2                              -0.370324                            -0.532994   \n",
      "3                              -0.183661                             0.186515   \n",
      "4                               0.173760                             0.586780   \n",
      "..                                   ...                                  ...   \n",
      "370                            -0.813581                            -0.099910   \n",
      "371                             0.518691                             0.684926   \n",
      "372                             0.353505                            -0.095355   \n",
      "373                            -0.230775                             0.040374   \n",
      "374                            -0.132833                             0.388992   \n",
      "\n",
      "     Vision Transformer Features_PCA_398  Vision Transformer Features_PCA_399  \n",
      "0                              -0.119404                             0.205179  \n",
      "1                              -0.132297                             0.734323  \n",
      "2                               0.111406                             0.027793  \n",
      "3                              -0.178104                            -0.321714  \n",
      "4                              -0.018944                            -0.297215  \n",
      "..                                   ...                                  ...  \n",
      "370                             0.252268                            -0.768380  \n",
      "371                             0.120741                            -0.075716  \n",
      "372                            -0.452147                            -0.225943  \n",
      "373                             0.692208                             0.622326  \n",
      "374                            -0.135059                             0.016707  \n",
      "\n",
      "[6003 rows x 1614 columns]\n"
     ]
    }
   ],
   "source": [
    "#load Training data\n",
    "training_data = combine_directory_parquets('../../../Data/Features/All Features Individual Features PCA/train')\n",
    "print('all training data')\n",
    "print(training_data)\n",
    "\n",
    "# If sample run, take a sample of the data and a reduced number of features\n",
    "if sample_run:\n",
    "    training_data = training_data.sample(frac=0.01).iloc[:, 0:10]"
   ]
  },
  {
   "cell_type": "code",
   "execution_count": 5,
   "id": "9072ce3c",
   "metadata": {
    "execution": {
     "iopub.execute_input": "2024-04-07T22:20:19.712616Z",
     "iopub.status.busy": "2024-04-07T22:20:19.712410Z",
     "iopub.status.idle": "2024-04-07T22:20:19.820061Z",
     "shell.execute_reply": "2024-04-07T22:20:19.819192Z"
    }
   },
   "outputs": [],
   "source": [
    "#prepare matrices\n",
    "# X_train, y_train = prepare_matrices(training_data)\n",
    "X_train, y_train, label_encoder, scaler = prepare_matrices(training_data) "
   ]
  },
  {
   "cell_type": "code",
   "execution_count": null,
   "id": "636f1ccd",
   "metadata": {
    "execution": {
     "iopub.execute_input": "2024-04-07T22:20:19.822364Z",
     "iopub.status.busy": "2024-04-07T22:20:19.822200Z",
     "iopub.status.idle": "2024-04-07T23:02:40.398571Z",
     "shell.execute_reply": "2024-04-07T23:02:40.398137Z"
    }
   },
   "outputs": [],
   "source": [
    "fit_xgboost_classifier(X_train, y_train, classifier_name)"
   ]
  }
 ],
 "metadata": {
  "kernelspec": {
   "display_name": "Python 3 (ipykernel)",
   "language": "python",
   "name": "python3"
  },
  "language_info": {
   "codemirror_mode": {
    "name": "ipython",
    "version": 3
   },
   "file_extension": ".py",
   "mimetype": "text/x-python",
   "name": "python",
   "nbconvert_exporter": "python",
   "pygments_lexer": "ipython3",
   "version": "3.11.5"
  }
 },
 "nbformat": 4,
 "nbformat_minor": 5
}
