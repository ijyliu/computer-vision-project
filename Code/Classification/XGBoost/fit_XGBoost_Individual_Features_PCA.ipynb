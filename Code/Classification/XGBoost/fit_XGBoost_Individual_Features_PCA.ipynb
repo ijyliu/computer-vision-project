{
 "cells": [
  {
   "cell_type": "code",
   "execution_count": 1,
   "id": "420439e5",
   "metadata": {
    "execution": {
     "iopub.execute_input": "2024-04-07T19:24:34.207948Z",
     "iopub.status.busy": "2024-04-07T19:24:34.207670Z",
     "iopub.status.idle": "2024-04-07T19:24:37.318358Z",
     "shell.execute_reply": "2024-04-07T19:24:37.317739Z"
    }
   },
   "outputs": [],
   "source": [
    "from XGBoost_Classifier_functions import *"
   ]
  },
  {
   "cell_type": "code",
   "execution_count": 2,
   "id": "6c5d5dea",
   "metadata": {
    "execution": {
     "iopub.execute_input": "2024-04-07T19:24:37.322432Z",
     "iopub.status.busy": "2024-04-07T19:24:37.322140Z",
     "iopub.status.idle": "2024-04-07T19:24:37.325556Z",
     "shell.execute_reply": "2024-04-07T19:24:37.324846Z"
    }
   },
   "outputs": [],
   "source": [
    "# Set classifier name\n",
    "classifier_name = 'Individual_Features_PCA'"
   ]
  },
  {
   "cell_type": "code",
   "execution_count": 3,
   "id": "a9a5da0b",
   "metadata": {
    "execution": {
     "iopub.execute_input": "2024-04-07T19:24:37.329008Z",
     "iopub.status.busy": "2024-04-07T19:24:37.328800Z",
     "iopub.status.idle": "2024-04-07T19:24:37.331648Z",
     "shell.execute_reply": "2024-04-07T19:24:37.330945Z"
    }
   },
   "outputs": [],
   "source": [
    "# Sample run or not\n",
    "sample_run = False"
   ]
  },
  {
   "cell_type": "code",
   "execution_count": 4,
   "id": "3e4838e8",
   "metadata": {
    "execution": {
     "iopub.execute_input": "2024-04-07T19:24:37.334291Z",
     "iopub.status.busy": "2024-04-07T19:24:37.334017Z",
     "iopub.status.idle": "2024-04-07T19:24:41.412961Z",
     "shell.execute_reply": "2024-04-07T19:24:41.412006Z"
    }
   },
   "outputs": [
    {
     "name": "stdout",
     "output_type": "stream",
     "text": [
      "all training data\n",
      "           Class                             harmonized_filename  \\\n",
      "0          Sedan         Sedan_train_orig_test_01516_resized.jpg   \n",
      "1            SUV          SUV_train_orig_train_00294_resized.jpg   \n",
      "2    Convertible  Convertible_train_orig_train_04236_resized.jpg   \n",
      "3         Pickup       Pickup_train_orig_train_03906_resized.jpg   \n",
      "4            SUV           SUV_train_orig_test_01344_resized.jpg   \n",
      "..           ...                                             ...   \n",
      "370        Sedan        Sedan_train_orig_train_04326_resized.jpg   \n",
      "371        Sedan        Sedan_train_orig_train_03399_resized.jpg   \n",
      "372        Sedan         Sedan_train_orig_test_02403_resized.jpg   \n",
      "373          SUV          SUV_train_orig_train_04499_resized.jpg   \n",
      "374          SUV           SUV_train_orig_test_07234_resized.jpg   \n",
      "\n",
      "                                       image_path_blur  \\\n",
      "0    ../../../Images/train/Blurred/Sedan_train_orig...   \n",
      "1    ../../../Images/train/Blurred/SUV_train_orig_t...   \n",
      "2    ../../../Images/train/Blurred/Convertible_trai...   \n",
      "3    ../../../Images/train/Blurred/Pickup_train_ori...   \n",
      "4    ../../../Images/train/Blurred/SUV_train_orig_t...   \n",
      "..                                                 ...   \n",
      "370  ../../../Images/train/Blurred/Sedan_train_orig...   \n",
      "371  ../../../Images/train/Blurred/Sedan_train_orig...   \n",
      "372  ../../../Images/train/Blurred/Sedan_train_orig...   \n",
      "373  ../../../Images/train/Blurred/SUV_train_orig_t...   \n",
      "374  ../../../Images/train/Blurred/SUV_train_orig_t...   \n",
      "\n",
      "                                    image_path_no_blur  \\\n",
      "0    ../../../Images/train/No_Blur/Sedan_train_orig...   \n",
      "1    ../../../Images/train/No_Blur/SUV_train_orig_t...   \n",
      "2    ../../../Images/train/No_Blur/Convertible_trai...   \n",
      "3    ../../../Images/train/No_Blur/Pickup_train_ori...   \n",
      "4    ../../../Images/train/No_Blur/SUV_train_orig_t...   \n",
      "..                                                 ...   \n",
      "370  ../../../Images/train/No_Blur/Sedan_train_orig...   \n",
      "371  ../../../Images/train/No_Blur/Sedan_train_orig...   \n",
      "372  ../../../Images/train/No_Blur/Sedan_train_orig...   \n",
      "373  ../../../Images/train/No_Blur/SUV_train_orig_t...   \n",
      "374  ../../../Images/train/No_Blur/SUV_train_orig_t...   \n",
      "\n",
      "     HOG 16 PPC Features_PCA_0  HOG 16 PPC Features_PCA_1  \\\n",
      "0                    13.034457                   0.026943   \n",
      "1                    -6.782529                 -10.248545   \n",
      "2                    43.241894                  -1.475512   \n",
      "3                   -26.994261                   0.395208   \n",
      "4                     5.945345                  -6.912283   \n",
      "..                         ...                        ...   \n",
      "370                  14.783742                   0.969649   \n",
      "371                  -5.424210                  -4.787318   \n",
      "372                  11.934977                  -3.580847   \n",
      "373                  19.080912                  31.118650   \n",
      "374                   5.954812                 -12.409231   \n",
      "\n",
      "     HOG 16 PPC Features_PCA_2  HOG 16 PPC Features_PCA_3  \\\n",
      "0                   -11.726943                   4.718040   \n",
      "1                    11.675692                  27.596039   \n",
      "2                     1.697126                  25.781616   \n",
      "3                    13.161525                  -3.686848   \n",
      "4                   -12.565371                   2.681651   \n",
      "..                         ...                        ...   \n",
      "370                  14.105597                  13.515124   \n",
      "371                   1.527521                  -4.586510   \n",
      "372                   4.394609                  13.306817   \n",
      "373                   7.139990                 -20.996302   \n",
      "374                   2.585513                   6.921977   \n",
      "\n",
      "     HOG 16 PPC Features_PCA_4  HOG 16 PPC Features_PCA_5  ...  \\\n",
      "0                   -11.608150                  15.943305  ...   \n",
      "1                    -4.146516                  -3.886413  ...   \n",
      "2                     0.110872                 -15.321147  ...   \n",
      "3                    -4.267534                  -6.618966  ...   \n",
      "4                    -1.976164                 -17.947805  ...   \n",
      "..                         ...                        ...  ...   \n",
      "370                  24.340591                 -10.255008  ...   \n",
      "371                 -11.748707                  -9.474442  ...   \n",
      "372                  -4.585701                  -7.631726  ...   \n",
      "373                   3.624311                  -4.069880  ...   \n",
      "374                 -11.412652                 -13.479122  ...   \n",
      "\n",
      "     Vision Transformer Features_PCA_390  Vision Transformer Features_PCA_391  \\\n",
      "0                              -0.609621                             0.086700   \n",
      "1                              -0.775789                             0.846241   \n",
      "2                              -0.631603                             0.405188   \n",
      "3                               0.093825                             0.634066   \n",
      "4                              -0.372753                            -0.264131   \n",
      "..                                   ...                                  ...   \n",
      "370                            -0.512415                             0.117146   \n",
      "371                             0.149726                             0.452007   \n",
      "372                             0.482615                             0.197586   \n",
      "373                             0.131653                             0.512909   \n",
      "374                            -0.369222                             0.621634   \n",
      "\n",
      "     Vision Transformer Features_PCA_392  Vision Transformer Features_PCA_393  \\\n",
      "0                              -0.243262                             0.138006   \n",
      "1                               0.353734                            -0.256290   \n",
      "2                              -0.473778                             0.304584   \n",
      "3                              -0.613985                            -0.344096   \n",
      "4                               0.010751                            -0.601002   \n",
      "..                                   ...                                  ...   \n",
      "370                             0.038570                            -0.217550   \n",
      "371                             0.359841                            -0.534662   \n",
      "372                            -0.470125                            -0.597541   \n",
      "373                             0.174121                            -0.260839   \n",
      "374                            -0.275756                             0.397908   \n",
      "\n",
      "     Vision Transformer Features_PCA_394  Vision Transformer Features_PCA_395  \\\n",
      "0                              -0.341135                            -0.318946   \n",
      "1                              -0.072173                            -0.107621   \n",
      "2                               0.065917                             0.291241   \n",
      "3                              -0.197742                            -0.014526   \n",
      "4                              -0.023288                             0.479201   \n",
      "..                                   ...                                  ...   \n",
      "370                             0.177121                            -0.085636   \n",
      "371                            -0.485150                             0.392636   \n",
      "372                            -0.538248                             0.082394   \n",
      "373                            -0.477301                             0.544902   \n",
      "374                             0.567464                             0.572166   \n",
      "\n",
      "     Vision Transformer Features_PCA_396  Vision Transformer Features_PCA_397  \\\n",
      "0                               0.014362                            -0.101620   \n",
      "1                              -0.493653                            -0.635278   \n",
      "2                              -0.527639                             0.217226   \n",
      "3                               0.615269                            -0.237018   \n",
      "4                               0.631001                            -0.035158   \n",
      "..                                   ...                                  ...   \n",
      "370                            -0.551275                            -0.032808   \n",
      "371                            -0.247139                             0.718501   \n",
      "372                             0.020120                            -0.221159   \n",
      "373                             0.262101                            -0.103108   \n",
      "374                             0.107167                             0.204514   \n",
      "\n",
      "     Vision Transformer Features_PCA_398  Vision Transformer Features_PCA_399  \n",
      "0                               0.007076                             0.033288  \n",
      "1                              -0.187973                             0.330390  \n",
      "2                               0.660351                             0.954376  \n",
      "3                               0.268111                            -0.018751  \n",
      "4                              -0.215727                            -0.185237  \n",
      "..                                   ...                                  ...  \n",
      "370                            -0.475173                            -0.471370  \n",
      "371                            -0.078493                             0.159727  \n",
      "372                            -0.503728                             0.716640  \n",
      "373                             0.283538                            -0.142936  \n",
      "374                            -0.136900                             0.084389  \n",
      "\n",
      "[6003 rows x 2614 columns]\n"
     ]
    }
   ],
   "source": [
    "#load Training data\n",
    "training_data = combine_directory_parquets('../../../Data/Features/All Features Individual Features PCA/train')\n",
    "print('all training data')\n",
    "print(training_data)\n",
    "\n",
    "# If sample run, take a sample of the data and a reduced number of features\n",
    "if sample_run:\n",
    "    training_data = training_data.sample(frac=0.01).iloc[:, 0:10]"
   ]
  },
  {
   "cell_type": "code",
   "execution_count": 5,
   "id": "9072ce3c",
   "metadata": {
    "execution": {
     "iopub.execute_input": "2024-04-07T19:24:41.416246Z",
     "iopub.status.busy": "2024-04-07T19:24:41.416054Z",
     "iopub.status.idle": "2024-04-07T19:24:41.579147Z",
     "shell.execute_reply": "2024-04-07T19:24:41.578284Z"
    }
   },
   "outputs": [],
   "source": [
    "#prepare matrices\n",
    "X_train, y_train = prepare_matrices(training_data)"
   ]
  },
  {
   "cell_type": "code",
   "execution_count": 6,
   "id": "636f1ccd",
   "metadata": {
    "execution": {
     "iopub.execute_input": "2024-04-07T19:24:41.582262Z",
     "iopub.status.busy": "2024-04-07T19:24:41.582109Z",
     "iopub.status.idle": "2024-04-07T20:38:11.001919Z",
     "shell.execute_reply": "2024-04-07T20:38:11.001450Z"
    }
   },
   "outputs": [
    {
     "name": "stderr",
     "output_type": "stream",
     "text": [
      "/scratch/users/ijyliu/conda/envs/scf_general/lib/python3.11/site-packages/joblib/externals/loky/process_executor.py:752: UserWarning: A worker stopped while some jobs were given to the executor. This can be caused by a too short worker timeout or by a memory leak.\n",
      "  warnings.warn(\n"
     ]
    },
    {
     "name": "stdout",
     "output_type": "stream",
     "text": [
      "Training time in minutes:  73.48660935560862\n",
      "Training time per image in minutes:  0.012241647402233654\n",
      "Train accuracy of best model:  1.0\n",
      "Mean cross validated accuracy of best model:  0.8853918956425202\n",
      "Hyperparameters searched:  [{'learning_rate': [0.01, 0.1, 0.3], 'n_estimators': [100, 200], 'max_depth': [3, 6], 'subsample': [0.8, 1], 'colsample_bytree': [0.8, 1]}]\n",
      "Tuned hyperparameters:  {'colsample_bytree': 1, 'learning_rate': 0.3, 'max_depth': 3, 'n_estimators': 200, 'subsample': 0.8}\n"
     ]
    }
   ],
   "source": [
    "fit_xgboost_classifier(X_train, y_train, classifier_name)"
   ]
  }
 ],
 "metadata": {
  "kernelspec": {
   "display_name": "Python 3 (ipykernel)",
   "language": "python",
   "name": "python3"
  },
  "language_info": {
   "codemirror_mode": {
    "name": "ipython",
    "version": 3
   },
   "file_extension": ".py",
   "mimetype": "text/x-python",
   "name": "python",
   "nbconvert_exporter": "python",
   "pygments_lexer": "ipython3",
   "version": "3.11.8"
  }
 },
 "nbformat": 4,
 "nbformat_minor": 5
}
