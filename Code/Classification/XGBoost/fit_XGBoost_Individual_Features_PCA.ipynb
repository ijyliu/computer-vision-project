{
 "cells": [
  {
   "cell_type": "code",
   "execution_count": 1,
   "id": "420439e5",
   "metadata": {
    "execution": {
     "iopub.execute_input": "2024-04-14T17:59:47.174695Z",
     "iopub.status.busy": "2024-04-14T17:59:47.174216Z",
     "iopub.status.idle": "2024-04-14T17:59:49.540670Z",
     "shell.execute_reply": "2024-04-14T17:59:49.539279Z"
    }
   },
   "outputs": [],
   "source": [
    "from XGBoost_Classifier_functions import *"
   ]
  },
  {
   "cell_type": "code",
   "execution_count": 2,
   "id": "6c5d5dea",
   "metadata": {
    "execution": {
     "iopub.execute_input": "2024-04-14T17:59:49.546765Z",
     "iopub.status.busy": "2024-04-14T17:59:49.546076Z",
     "iopub.status.idle": "2024-04-14T17:59:49.552206Z",
     "shell.execute_reply": "2024-04-14T17:59:49.550914Z"
    }
   },
   "outputs": [],
   "source": [
    "# Set classifier name\n",
    "classifier_name = 'Individual_Features_PCA'"
   ]
  },
  {
   "cell_type": "code",
   "execution_count": 3,
   "id": "a9a5da0b",
   "metadata": {
    "execution": {
     "iopub.execute_input": "2024-04-14T17:59:49.557801Z",
     "iopub.status.busy": "2024-04-14T17:59:49.557303Z",
     "iopub.status.idle": "2024-04-14T17:59:49.562962Z",
     "shell.execute_reply": "2024-04-14T17:59:49.561663Z"
    }
   },
   "outputs": [],
   "source": [
    "# Sample run or not\n",
    "sample_run = False"
   ]
  },
  {
   "cell_type": "code",
   "execution_count": 4,
   "id": "3e4838e8",
   "metadata": {
    "execution": {
     "iopub.execute_input": "2024-04-14T17:59:49.568405Z",
     "iopub.status.busy": "2024-04-14T17:59:49.567915Z",
     "iopub.status.idle": "2024-04-14T17:59:51.840345Z",
     "shell.execute_reply": "2024-04-14T17:59:51.839205Z"
    }
   },
   "outputs": [
    {
     "name": "stdout",
     "output_type": "stream",
     "text": [
      "all training data\n",
      "           Class                             harmonized_filename  \\\n",
      "0          Sedan         Sedan_train_orig_test_02604_resized.jpg   \n",
      "1    Convertible  Convertible_train_orig_train_02141_resized.jpg   \n",
      "2            SUV           SUV_train_orig_test_07033_resized.jpg   \n",
      "3         Pickup        Pickup_train_orig_test_04604_resized.jpg   \n",
      "4            SUV          SUV_train_orig_train_00954_resized.jpg   \n",
      "..           ...                                             ...   \n",
      "370          SUV           SUV_train_orig_test_07327_resized.jpg   \n",
      "371        Sedan        Sedan_train_orig_train_05545_resized.jpg   \n",
      "372       Pickup        Pickup_train_orig_test_01575_resized.jpg   \n",
      "373          SUV          SUV_train_orig_train_06550_resized.jpg   \n",
      "374          SUV          SUV_train_orig_train_03292_resized.jpg   \n",
      "\n",
      "                                       image_path_blur  \\\n",
      "0    ../../../Images/train/Blurred/Sedan_train_orig...   \n",
      "1    ../../../Images/train/Blurred/Convertible_trai...   \n",
      "2    ../../../Images/train/Blurred/SUV_train_orig_t...   \n",
      "3    ../../../Images/train/Blurred/Pickup_train_ori...   \n",
      "4    ../../../Images/train/Blurred/SUV_train_orig_t...   \n",
      "..                                                 ...   \n",
      "370  ../../../Images/train/Blurred/SUV_train_orig_t...   \n",
      "371  ../../../Images/train/Blurred/Sedan_train_orig...   \n",
      "372  ../../../Images/train/Blurred/Pickup_train_ori...   \n",
      "373  ../../../Images/train/Blurred/SUV_train_orig_t...   \n",
      "374  ../../../Images/train/Blurred/SUV_train_orig_t...   \n",
      "\n",
      "                                    image_path_no_blur  \\\n",
      "0    ../../../Images/train/No_Blur/Sedan_train_orig...   \n",
      "1    ../../../Images/train/No_Blur/Convertible_trai...   \n",
      "2    ../../../Images/train/No_Blur/SUV_train_orig_t...   \n",
      "3    ../../../Images/train/No_Blur/Pickup_train_ori...   \n",
      "4    ../../../Images/train/No_Blur/SUV_train_orig_t...   \n",
      "..                                                 ...   \n",
      "370  ../../../Images/train/No_Blur/SUV_train_orig_t...   \n",
      "371  ../../../Images/train/No_Blur/Sedan_train_orig...   \n",
      "372  ../../../Images/train/No_Blur/Pickup_train_ori...   \n",
      "373  ../../../Images/train/No_Blur/SUV_train_orig_t...   \n",
      "374  ../../../Images/train/No_Blur/SUV_train_orig_t...   \n",
      "\n",
      "     HOG 24 PPC Features_PCA_0  HOG 24 PPC Features_PCA_1  \\\n",
      "0                   -13.802928                   6.999941   \n",
      "1                    -1.123945                   2.285401   \n",
      "2                    12.402746                  17.969261   \n",
      "3                   -15.975964                   7.332300   \n",
      "4                    -1.560789                 -10.625336   \n",
      "..                         ...                        ...   \n",
      "370                 -10.373208                  -7.324116   \n",
      "371                  18.359066                  -6.849634   \n",
      "372                  10.804030                  -7.229443   \n",
      "373                   7.048667                  19.822006   \n",
      "374                   7.464299                   4.685475   \n",
      "\n",
      "     HOG 24 PPC Features_PCA_2  HOG 24 PPC Features_PCA_3  \\\n",
      "0                    12.725439                 -11.562008   \n",
      "1                    -5.996251                  -1.595302   \n",
      "2                    10.720808                   9.022891   \n",
      "3                    -0.520107                   1.260257   \n",
      "4                   -16.144798                  -8.046105   \n",
      "..                         ...                        ...   \n",
      "370                  -5.385140                  -0.245393   \n",
      "371                  -2.237363                  -5.959460   \n",
      "372                  -1.237560                 -16.414675   \n",
      "373                  -1.701929                   7.284530   \n",
      "374                  -9.832492                  13.212408   \n",
      "\n",
      "     HOG 24 PPC Features_PCA_4  HOG 24 PPC Features_PCA_5  ...  \\\n",
      "0                    -3.356943                   0.657194  ...   \n",
      "1                    -0.775260                  -0.962399  ...   \n",
      "2                   -11.327049                   2.121405  ...   \n",
      "3                     2.369666                   3.272045  ...   \n",
      "4                    11.809104                   6.870220  ...   \n",
      "..                         ...                        ...  ...   \n",
      "370                   7.917032                 -10.520319  ...   \n",
      "371                   4.660710                  19.832678  ...   \n",
      "372                  10.905763                  -3.763451  ...   \n",
      "373                   6.604071                  18.366087  ...   \n",
      "374                  -7.260567                  -0.174988  ...   \n",
      "\n",
      "     Vision Transformer Features_PCA_390  Vision Transformer Features_PCA_391  \\\n",
      "0                               0.192498                             0.398227   \n",
      "1                               0.577688                            -0.688643   \n",
      "2                              -0.986866                            -0.796418   \n",
      "3                               0.597563                             0.910305   \n",
      "4                               0.741262                             0.274294   \n",
      "..                                   ...                                  ...   \n",
      "370                             0.013913                            -0.528272   \n",
      "371                            -0.787560                            -0.515213   \n",
      "372                            -0.400997                            -0.441299   \n",
      "373                            -0.079748                             0.368032   \n",
      "374                             0.274556                             0.275924   \n",
      "\n",
      "     Vision Transformer Features_PCA_392  Vision Transformer Features_PCA_393  \\\n",
      "0                               0.234316                            -0.083640   \n",
      "1                              -0.595687                             0.188339   \n",
      "2                              -0.673893                            -0.570477   \n",
      "3                               0.905081                             0.527022   \n",
      "4                               0.680125                             0.626336   \n",
      "..                                   ...                                  ...   \n",
      "370                            -0.165275                             0.014874   \n",
      "371                            -0.233815                            -0.049029   \n",
      "372                            -0.280406                            -0.595354   \n",
      "373                             0.333392                             0.134045   \n",
      "374                             0.826676                             0.212587   \n",
      "\n",
      "     Vision Transformer Features_PCA_394  Vision Transformer Features_PCA_395  \\\n",
      "0                              -0.165200                            -0.321154   \n",
      "1                              -0.261199                             0.874729   \n",
      "2                               0.668787                            -0.531167   \n",
      "3                              -0.206878                            -0.020945   \n",
      "4                              -0.434542                             0.209719   \n",
      "..                                   ...                                  ...   \n",
      "370                             0.122110                             0.032882   \n",
      "371                             0.116980                             0.444415   \n",
      "372                             0.802761                             0.159461   \n",
      "373                            -0.284243                            -0.645028   \n",
      "374                             0.735935                            -0.059162   \n",
      "\n",
      "     Vision Transformer Features_PCA_396  Vision Transformer Features_PCA_397  \\\n",
      "0                               0.145974                            -0.621972   \n",
      "1                              -0.706853                             0.755494   \n",
      "2                              -0.649948                             0.340670   \n",
      "3                               0.250323                             0.029915   \n",
      "4                               0.134516                            -0.624941   \n",
      "..                                   ...                                  ...   \n",
      "370                             0.160424                            -0.425966   \n",
      "371                            -0.227843                            -0.264825   \n",
      "372                             0.108924                             0.240623   \n",
      "373                            -0.229334                             0.290533   \n",
      "374                            -0.051731                            -0.951299   \n",
      "\n",
      "     Vision Transformer Features_PCA_398  Vision Transformer Features_PCA_399  \n",
      "0                               0.224515                             0.063331  \n",
      "1                              -0.262815                            -0.021966  \n",
      "2                              -0.236774                            -0.006328  \n",
      "3                              -0.036836                            -0.316846  \n",
      "4                              -0.077999                            -0.135254  \n",
      "..                                   ...                                  ...  \n",
      "370                            -0.543230                             0.341818  \n",
      "371                            -0.280470                             0.164370  \n",
      "372                            -0.365340                             0.840881  \n",
      "373                            -0.693892                            -0.348344  \n",
      "374                            -0.098475                             0.222257  \n",
      "\n",
      "[6003 rows x 1614 columns]\n"
     ]
    }
   ],
   "source": [
    "#load Training data\n",
    "training_data = combine_directory_parquets('../../../Data/Features/All Features Individual Features PCA/train')\n",
    "print('all training data')\n",
    "print(training_data)\n",
    "\n",
    "# If sample run, take a sample of the data and a reduced number of features\n",
    "if sample_run:\n",
    "    training_data = training_data.sample(frac=0.01).iloc[:, 0:10]"
   ]
  },
  {
   "cell_type": "code",
   "execution_count": 5,
   "id": "9072ce3c",
   "metadata": {
    "execution": {
     "iopub.execute_input": "2024-04-14T17:59:51.845790Z",
     "iopub.status.busy": "2024-04-14T17:59:51.845421Z",
     "iopub.status.idle": "2024-04-14T17:59:52.250581Z",
     "shell.execute_reply": "2024-04-14T17:59:52.249832Z"
    }
   },
   "outputs": [],
   "source": [
    "#prepare matrices\n",
    "# X_train, y_train = prepare_matrices(training_data)\n",
    "X_train, y_train, label_encoder, scaler = prepare_matrices(training_data) "
   ]
  },
  {
   "cell_type": "code",
   "execution_count": 6,
   "id": "636f1ccd",
   "metadata": {
    "execution": {
     "iopub.execute_input": "2024-04-14T17:59:52.254979Z",
     "iopub.status.busy": "2024-04-14T17:59:52.254795Z",
     "iopub.status.idle": "2024-04-14T19:13:19.485604Z",
     "shell.execute_reply": "2024-04-14T19:13:19.484754Z"
    }
   },
   "outputs": [
    {
     "name": "stderr",
     "output_type": "stream",
     "text": [
      "/scratch/users/ijyliu/conda/envs/scf_general/lib/python3.11/site-packages/joblib/externals/loky/process_executor.py:752: UserWarning: A worker stopped while some jobs were given to the executor. This can be caused by a too short worker timeout or by a memory leak.\n",
      "  warnings.warn(\n"
     ]
    },
    {
     "name": "stdout",
     "output_type": "stream",
     "text": [
      "Training time in minutes:  73.44739904403687\n",
      "Training time per image in minutes:  0.012235115616198047\n",
      "Train accuracy of best model:  1.0\n",
      "Mean cross validated accuracy of best model:  0.890555925617541\n"
     ]
    },
    {
     "name": "stdout",
     "output_type": "stream",
     "text": [
      "Hyperparameters searched:  {'n_estimators': [100, 200, 300], 'learning_rate': [0.1, 0.3, 0.5], 'max_depth': [2, 3, 5], 'min_child_weight': [1, 3, 5], 'k_folds': 5}\n",
      "Tuned hyperparameters:  {'learning_rate': 0.5, 'max_depth': 3, 'min_child_weight': 3, 'n_estimators': 300}\n"
     ]
    }
   ],
   "source": [
    "fit_xgboost_classifier(X_train, y_train, classifier_name)"
   ]
  }
 ],
 "metadata": {
  "kernelspec": {
   "display_name": "Python 3 (ipykernel)",
   "language": "python",
   "name": "python3"
  },
  "language_info": {
   "codemirror_mode": {
    "name": "ipython",
    "version": 3
   },
   "file_extension": ".py",
   "mimetype": "text/x-python",
   "name": "python",
   "nbconvert_exporter": "python",
   "pygments_lexer": "ipython3",
   "version": "3.11.8"
  }
 },
 "nbformat": 4,
 "nbformat_minor": 5
}
