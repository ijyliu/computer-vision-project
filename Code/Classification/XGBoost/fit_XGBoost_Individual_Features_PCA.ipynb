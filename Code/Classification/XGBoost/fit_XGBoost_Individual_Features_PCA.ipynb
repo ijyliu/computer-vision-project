{
 "cells": [
  {
   "cell_type": "code",
   "execution_count": null,
   "id": "420439e5",
   "metadata": {},
   "outputs": [],
   "source": [
    "from XGBoost_Classifier_functions import *"
   ]
  },
  {
   "cell_type": "code",
   "execution_count": null,
   "id": "6c5d5dea",
   "metadata": {},
   "outputs": [],
   "source": [
    "# Set classifier name\n",
    "classifier_name = 'Individual_Features_PCA'"
   ]
  },
  {
   "cell_type": "code",
   "execution_count": null,
   "id": "a9a5da0b",
   "metadata": {},
   "outputs": [],
   "source": [
    "# Sample run or not\n",
    "sample_run = False"
   ]
  },
  {
   "cell_type": "code",
   "execution_count": null,
   "id": "3e4838e8",
   "metadata": {},
   "outputs": [],
   "source": [
    "#load Training data\n",
    "training_data = combine_directory_parquets('../../../Data/Features/All Features Individual Features PCA/train')\n",
    "print('all training data')\n",
    "print(training_data)\n",
    "\n",
    "# If sample run, take a sample of the data and a reduced number of features\n",
    "if sample_run:\n",
    "    training_data = training_data.sample(frac=0.01).iloc[:, 0:10]"
   ]
  },
  {
   "cell_type": "code",
   "execution_count": null,
   "id": "9072ce3c",
   "metadata": {},
   "outputs": [],
   "source": [
    "#prepare matrices\n",
    "X_train, y_train = prepare_matrices(training_data)"
   ]
  },
  {
   "cell_type": "code",
   "execution_count": null,
   "id": "636f1ccd",
   "metadata": {},
   "outputs": [],
   "source": [
    "fit_xgboost_classifier(X_train, y_train, classifier_name)"
   ]
  }
 ],
 "metadata": {
  "kernelspec": {
   "display_name": "Python 3 (ipykernel)",
   "language": "python",
   "name": "python3"
  },
  "language_info": {
   "codemirror_mode": {
    "name": "ipython",
    "version": 3
   },
   "file_extension": ".py",
   "mimetype": "text/x-python",
   "name": "python",
   "nbconvert_exporter": "python",
   "pygments_lexer": "ipython3",
   "version": "3.11.5"
  }
 },
 "nbformat": 4,
 "nbformat_minor": 5
}
