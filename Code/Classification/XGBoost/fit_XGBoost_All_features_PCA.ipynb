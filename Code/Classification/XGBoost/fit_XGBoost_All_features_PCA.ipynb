{
 "cells": [
  {
   "cell_type": "code",
   "execution_count": 1,
   "id": "a82021c3",
   "metadata": {
    "execution": {
     "iopub.execute_input": "2024-04-14T17:59:37.608392Z",
     "iopub.status.busy": "2024-04-14T17:59:37.607554Z",
     "iopub.status.idle": "2024-04-14T17:59:39.241649Z",
     "shell.execute_reply": "2024-04-14T17:59:39.240694Z"
    }
   },
   "outputs": [],
   "source": [
    "from XGBoost_Classifier_functions import *"
   ]
  },
  {
   "cell_type": "code",
   "execution_count": 2,
   "id": "9200b5b1",
   "metadata": {
    "execution": {
     "iopub.execute_input": "2024-04-14T17:59:39.246798Z",
     "iopub.status.busy": "2024-04-14T17:59:39.246358Z",
     "iopub.status.idle": "2024-04-14T17:59:39.250449Z",
     "shell.execute_reply": "2024-04-14T17:59:39.249691Z"
    }
   },
   "outputs": [],
   "source": [
    "# Set classifier name\n",
    "classifier_name = 'All_Features_PCA'"
   ]
  },
  {
   "cell_type": "code",
   "execution_count": 3,
   "id": "52a2e97c",
   "metadata": {
    "execution": {
     "iopub.execute_input": "2024-04-14T17:59:39.254417Z",
     "iopub.status.busy": "2024-04-14T17:59:39.254072Z",
     "iopub.status.idle": "2024-04-14T17:59:39.257973Z",
     "shell.execute_reply": "2024-04-14T17:59:39.257181Z"
    }
   },
   "outputs": [],
   "source": [
    "# Sample run or not\n",
    "sample_run = False"
   ]
  },
  {
   "cell_type": "code",
   "execution_count": 4,
   "id": "878e4208",
   "metadata": {
    "execution": {
     "iopub.execute_input": "2024-04-14T17:59:39.261860Z",
     "iopub.status.busy": "2024-04-14T17:59:39.261603Z",
     "iopub.status.idle": "2024-04-14T17:59:42.321819Z",
     "shell.execute_reply": "2024-04-14T17:59:42.320580Z"
    }
   },
   "outputs": [
    {
     "name": "stdout",
     "output_type": "stream",
     "text": [
      "all training data\n",
      "           Class                             harmonized_filename  \\\n",
      "0          Sedan         Sedan_train_orig_test_03563_resized.jpg   \n",
      "1            SUV           SUV_train_orig_test_00825_resized.jpg   \n",
      "2    Convertible  Convertible_train_orig_train_00932_resized.jpg   \n",
      "3          Sedan        Sedan_train_orig_train_06768_resized.jpg   \n",
      "4          Sedan         Sedan_train_orig_test_02848_resized.jpg   \n",
      "..           ...                                             ...   \n",
      "370        Sedan        Sedan_train_orig_train_00836_resized.jpg   \n",
      "371          SUV           SUV_train_orig_test_01121_resized.jpg   \n",
      "372  Convertible  Convertible_train_orig_train_04053_resized.jpg   \n",
      "373          SUV           SUV_train_orig_test_00651_resized.jpg   \n",
      "374          SUV           SUV_train_orig_test_03924_resized.jpg   \n",
      "\n",
      "                                       image_path_blur  \\\n",
      "0    ../../../Images/train/Blurred/Sedan_train_orig...   \n",
      "1    ../../../Images/train/Blurred/SUV_train_orig_t...   \n",
      "2    ../../../Images/train/Blurred/Convertible_trai...   \n",
      "3    ../../../Images/train/Blurred/Sedan_train_orig...   \n",
      "4    ../../../Images/train/Blurred/Sedan_train_orig...   \n",
      "..                                                 ...   \n",
      "370  ../../../Images/train/Blurred/Sedan_train_orig...   \n",
      "371  ../../../Images/train/Blurred/SUV_train_orig_t...   \n",
      "372  ../../../Images/train/Blurred/Convertible_trai...   \n",
      "373  ../../../Images/train/Blurred/SUV_train_orig_t...   \n",
      "374  ../../../Images/train/Blurred/SUV_train_orig_t...   \n",
      "\n",
      "                                    image_path_no_blur  All Features_PCA_0  \\\n",
      "0    ../../../Images/train/No_Blur/Sedan_train_orig...            2.538193   \n",
      "1    ../../../Images/train/No_Blur/SUV_train_orig_t...            4.773567   \n",
      "2    ../../../Images/train/No_Blur/Convertible_trai...           -3.459115   \n",
      "3    ../../../Images/train/No_Blur/Sedan_train_orig...           -4.189785   \n",
      "4    ../../../Images/train/No_Blur/Sedan_train_orig...            2.809561   \n",
      "..                                                 ...                 ...   \n",
      "370  ../../../Images/train/No_Blur/Sedan_train_orig...           -6.509076   \n",
      "371  ../../../Images/train/No_Blur/SUV_train_orig_t...           15.078087   \n",
      "372  ../../../Images/train/No_Blur/Convertible_trai...            2.154696   \n",
      "373  ../../../Images/train/No_Blur/SUV_train_orig_t...           28.196114   \n",
      "374  ../../../Images/train/No_Blur/SUV_train_orig_t...           -9.362688   \n",
      "\n",
      "     All Features_PCA_1  All Features_PCA_2  All Features_PCA_3  \\\n",
      "0            -11.293142          -14.049952           -9.703988   \n",
      "1             18.151963            2.411749            2.853611   \n",
      "2             -2.144880          -12.615752           -0.155644   \n",
      "3             -0.634370            5.954816            0.823730   \n",
      "4             -8.023968           -1.684429           10.835074   \n",
      "..                  ...                 ...                 ...   \n",
      "370            0.116229          -10.185959           -4.163957   \n",
      "371            2.040913           11.858702           -1.468266   \n",
      "372           16.132917          -10.852185          -10.378342   \n",
      "373            6.876242           -3.621222          -15.846212   \n",
      "374          -12.107665           -0.126856           -7.944141   \n",
      "\n",
      "     All Features_PCA_4  All Features_PCA_5  ...  All Features_PCA_1240  \\\n",
      "0              6.818367           -0.542333  ...              -0.247541   \n",
      "1            -16.224099            1.837664  ...               0.431482   \n",
      "2             25.821437            3.029406  ...               1.169764   \n",
      "3            -15.549448           -8.212064  ...              -0.582540   \n",
      "4            -20.736166            6.663403  ...              -0.728117   \n",
      "..                  ...                 ...  ...                    ...   \n",
      "370           -2.703523          -19.875977  ...               0.265139   \n",
      "371           -4.556930           -2.676338  ...               0.058400   \n",
      "372           14.743664          -11.334160  ...              -0.437504   \n",
      "373            7.319688            3.839812  ...               0.336920   \n",
      "374           -7.905347           28.977466  ...               0.143804   \n",
      "\n",
      "     All Features_PCA_1241  All Features_PCA_1242  All Features_PCA_1243  \\\n",
      "0                 0.227732              -0.207891               0.324502   \n",
      "1                -0.309091               0.276872               0.211702   \n",
      "2                -0.589799               0.108177               0.464796   \n",
      "3                 0.042242              -0.037586              -0.964603   \n",
      "4                -0.080076              -0.181618               0.127006   \n",
      "..                     ...                    ...                    ...   \n",
      "370               0.269937              -0.103837               0.126044   \n",
      "371               0.486364               0.752741              -0.172557   \n",
      "372               0.352923               0.299387               0.324642   \n",
      "373               0.489210               0.518745              -0.452856   \n",
      "374              -0.459470               0.502148              -0.554328   \n",
      "\n",
      "     All Features_PCA_1244  All Features_PCA_1245  All Features_PCA_1246  \\\n",
      "0                -0.896738              -1.205802              -0.047746   \n",
      "1                -0.205586               0.210954              -0.599031   \n",
      "2                 1.169551              -0.356363               0.309009   \n",
      "3                 0.622351               0.071866               0.182031   \n",
      "4                -0.514954              -0.210094               0.535480   \n",
      "..                     ...                    ...                    ...   \n",
      "370               0.013048              -0.470904               0.251057   \n",
      "371               0.486907               0.449322               0.137839   \n",
      "372               0.297439              -0.402218              -0.165099   \n",
      "373               0.035330               0.009263               0.464656   \n",
      "374              -0.053075              -0.252387              -0.493491   \n",
      "\n",
      "     All Features_PCA_1247  All Features_PCA_1248  All Features_PCA_1249  \n",
      "0                -1.103540              -0.042228               0.023136  \n",
      "1                 0.769147              -0.292447               0.849481  \n",
      "2                -0.507190              -0.118509              -0.341984  \n",
      "3                 0.171947               0.397056               0.266889  \n",
      "4                -0.267971               0.496315               0.037196  \n",
      "..                     ...                    ...                    ...  \n",
      "370               0.497211               0.025574               0.173134  \n",
      "371               0.953632              -0.082474              -0.155186  \n",
      "372               0.938498               0.108808              -0.304107  \n",
      "373              -0.574255               0.938688               0.001250  \n",
      "374              -0.175240               0.491581               0.258595  \n",
      "\n",
      "[6003 rows x 1254 columns]\n"
     ]
    }
   ],
   "source": [
    "#load Training data\n",
    "training_data = combine_directory_parquets('../../../Data/Features/All Features All Features PCA/train')\n",
    "print('all training data')\n",
    "print(training_data)\n",
    "\n",
    "# If sample run, take a sample of the data and a reduced number of features\n",
    "if sample_run:\n",
    "    training_data = training_data.sample(frac=0.01).iloc[:, 0:10]"
   ]
  },
  {
   "cell_type": "code",
   "execution_count": 5,
   "id": "59126e9f",
   "metadata": {
    "execution": {
     "iopub.execute_input": "2024-04-14T17:59:42.327033Z",
     "iopub.status.busy": "2024-04-14T17:59:42.326800Z",
     "iopub.status.idle": "2024-04-14T17:59:42.601173Z",
     "shell.execute_reply": "2024-04-14T17:59:42.600249Z"
    }
   },
   "outputs": [],
   "source": [
    "#prepare matrices\n",
    "# X_train, y_train = prepare_matrices(training_data)\n",
    "X_train, y_train, label_encoder, scaler = prepare_matrices(training_data) "
   ]
  },
  {
   "cell_type": "code",
   "execution_count": 6,
   "id": "d797f14b",
   "metadata": {
    "execution": {
     "iopub.execute_input": "2024-04-14T17:59:42.606039Z",
     "iopub.status.busy": "2024-04-14T17:59:42.605809Z",
     "iopub.status.idle": "2024-04-14T19:28:04.890699Z",
     "shell.execute_reply": "2024-04-14T19:28:04.888129Z"
    },
    "scrolled": true
   },
   "outputs": [
    {
     "name": "stderr",
     "output_type": "stream",
     "text": [
      "/scratch/users/ijyliu/conda/envs/scf_general/lib/python3.11/site-packages/joblib/externals/loky/process_executor.py:752: UserWarning: A worker stopped while some jobs were given to the executor. This can be caused by a too short worker timeout or by a memory leak.\n",
      "  warnings.warn(\n"
     ]
    },
    {
     "name": "stdout",
     "output_type": "stream",
     "text": [
      "Training time in minutes:  88.3571818669637\n",
      "Training time per image in minutes:  0.01471883755904776\n",
      "Train accuracy of best model:  1.0\n",
      "Mean cross validated accuracy of best model:  0.8604021648626144\n"
     ]
    },
    {
     "name": "stdout",
     "output_type": "stream",
     "text": [
      "Hyperparameters searched:  {'n_estimators': [100, 200, 300], 'learning_rate': [0.1, 0.3, 0.5], 'max_depth': [2, 3, 5], 'min_child_weight': [1, 3, 5], 'k_folds': 5}\n",
      "Tuned hyperparameters:  {'learning_rate': 0.5, 'max_depth': 3, 'min_child_weight': 3, 'n_estimators': 300}\n"
     ]
    }
   ],
   "source": [
    "fit_xgboost_classifier(X_train, y_train, classifier_name)"
   ]
  }
 ],
 "metadata": {
  "kernelspec": {
   "display_name": "Python 3 (ipykernel)",
   "language": "python",
   "name": "python3"
  },
  "language_info": {
   "codemirror_mode": {
    "name": "ipython",
    "version": 3
   },
   "file_extension": ".py",
   "mimetype": "text/x-python",
   "name": "python",
   "nbconvert_exporter": "python",
   "pygments_lexer": "ipython3",
   "version": "3.11.8"
  }
 },
 "nbformat": 4,
 "nbformat_minor": 5
}
