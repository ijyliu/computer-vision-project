{
 "cells": [
  {
   "cell_type": "code",
   "execution_count": 1,
   "id": "a82021c3",
   "metadata": {
    "execution": {
     "iopub.execute_input": "2024-04-07T22:20:24.046349Z",
     "iopub.status.busy": "2024-04-07T22:20:24.046076Z",
     "iopub.status.idle": "2024-04-07T22:20:25.302905Z",
     "shell.execute_reply": "2024-04-07T22:20:25.302413Z"
    }
   },
   "outputs": [],
   "source": [
    "from XGBoost_Classifier_functions import *"
   ]
  },
  {
   "cell_type": "code",
   "execution_count": 2,
   "id": "9200b5b1",
   "metadata": {
    "execution": {
     "iopub.execute_input": "2024-04-07T22:20:25.305413Z",
     "iopub.status.busy": "2024-04-07T22:20:25.305140Z",
     "iopub.status.idle": "2024-04-07T22:20:25.307602Z",
     "shell.execute_reply": "2024-04-07T22:20:25.307238Z"
    }
   },
   "outputs": [],
   "source": [
    "# Set classifier name\n",
    "classifier_name = 'All_Features_PCA'"
   ]
  },
  {
   "cell_type": "code",
   "execution_count": 3,
   "id": "52a2e97c",
   "metadata": {
    "execution": {
     "iopub.execute_input": "2024-04-07T22:20:25.309428Z",
     "iopub.status.busy": "2024-04-07T22:20:25.309163Z",
     "iopub.status.idle": "2024-04-07T22:20:25.311190Z",
     "shell.execute_reply": "2024-04-07T22:20:25.310833Z"
    }
   },
   "outputs": [],
   "source": [
    "# Sample run or not\n",
    "sample_run = False"
   ]
  },
  {
   "cell_type": "code",
   "execution_count": 4,
   "id": "878e4208",
   "metadata": {
    "execution": {
     "iopub.execute_input": "2024-04-07T22:20:25.313034Z",
     "iopub.status.busy": "2024-04-07T22:20:25.312645Z",
     "iopub.status.idle": "2024-04-07T22:20:27.725142Z",
     "shell.execute_reply": "2024-04-07T22:20:27.724711Z"
    }
   },
   "outputs": [
    {
     "name": "stdout",
     "output_type": "stream",
     "text": [
      "all training data\n",
      "           Class                            harmonized_filename  \\\n",
      "0            SUV          SUV_train_orig_test_07234_resized.jpg   \n",
      "1            SUV         SUV_train_orig_train_03426_resized.jpg   \n",
      "2          Sedan       Sedan_train_orig_train_00433_resized.jpg   \n",
      "3            SUV         SUV_train_orig_train_03381_resized.jpg   \n",
      "4          Sedan        Sedan_train_orig_test_07466_resized.jpg   \n",
      "..           ...                                            ...   \n",
      "370  Convertible  Convertible_train_orig_test_07372_resized.jpg   \n",
      "371          SUV         SUV_train_orig_train_07504_resized.jpg   \n",
      "372          SUV         SUV_train_orig_train_05279_resized.jpg   \n",
      "373       Pickup       Pickup_train_orig_test_04234_resized.jpg   \n",
      "374  Convertible  Convertible_train_orig_test_04220_resized.jpg   \n",
      "\n",
      "                                       image_path_blur  \\\n",
      "0    ../../../Images/train/Blurred/SUV_train_orig_t...   \n",
      "1    ../../../Images/train/Blurred/SUV_train_orig_t...   \n",
      "2    ../../../Images/train/Blurred/Sedan_train_orig...   \n",
      "3    ../../../Images/train/Blurred/SUV_train_orig_t...   \n",
      "4    ../../../Images/train/Blurred/Sedan_train_orig...   \n",
      "..                                                 ...   \n",
      "370  ../../../Images/train/Blurred/Convertible_trai...   \n",
      "371  ../../../Images/train/Blurred/SUV_train_orig_t...   \n",
      "372  ../../../Images/train/Blurred/SUV_train_orig_t...   \n",
      "373  ../../../Images/train/Blurred/Pickup_train_ori...   \n",
      "374  ../../../Images/train/Blurred/Convertible_trai...   \n",
      "\n",
      "                                    image_path_no_blur  All Features_PCA_0  \\\n",
      "0    ../../../Images/train/No_Blur/SUV_train_orig_t...           25.145085   \n",
      "1    ../../../Images/train/No_Blur/SUV_train_orig_t...            7.717482   \n",
      "2    ../../../Images/train/No_Blur/Sedan_train_orig...            5.180652   \n",
      "3    ../../../Images/train/No_Blur/SUV_train_orig_t...           19.116697   \n",
      "4    ../../../Images/train/No_Blur/Sedan_train_orig...           -7.212819   \n",
      "..                                                 ...                 ...   \n",
      "370  ../../../Images/train/No_Blur/Convertible_trai...          -19.302218   \n",
      "371  ../../../Images/train/No_Blur/SUV_train_orig_t...           24.203458   \n",
      "372  ../../../Images/train/No_Blur/SUV_train_orig_t...           -5.569236   \n",
      "373  ../../../Images/train/No_Blur/Pickup_train_ori...           22.367278   \n",
      "374  ../../../Images/train/No_Blur/Convertible_trai...          -21.406933   \n",
      "\n",
      "     All Features_PCA_1  All Features_PCA_2  All Features_PCA_3  \\\n",
      "0              8.947328           -1.386140          -12.489963   \n",
      "1             25.251725           -2.878187            8.619907   \n",
      "2            -18.764555           -4.975013           13.694222   \n",
      "3             -0.526699           -5.733903           -9.487318   \n",
      "4            -11.933631          -11.039178           -6.331898   \n",
      "..                  ...                 ...                 ...   \n",
      "370            8.102629            2.898998          -12.297525   \n",
      "371            3.418982            6.580006          -12.461895   \n",
      "372           11.785905          -12.864676           -2.193522   \n",
      "373           -5.793724            8.713184          -22.586954   \n",
      "374           20.327924            8.860998           15.090791   \n",
      "\n",
      "     All Features_PCA_4  All Features_PCA_5  ...  All Features_PCA_1240  \\\n",
      "0             -6.343173           -3.717600  ...               0.439435   \n",
      "1             -0.023036            5.182604  ...              -0.353133   \n",
      "2             -5.004696           -3.039336  ...               0.311289   \n",
      "3             -5.491038            0.997209  ...               0.335375   \n",
      "4            -10.326670           -4.997215  ...              -0.236657   \n",
      "..                  ...                 ...  ...                    ...   \n",
      "370           29.755198            0.850605  ...              -1.109317   \n",
      "371           -7.760661            2.853156  ...               0.326286   \n",
      "372          -14.914350            9.404342  ...              -0.143081   \n",
      "373            3.974342            4.593227  ...               0.777182   \n",
      "374           19.285839          -11.446975  ...              -0.822633   \n",
      "\n",
      "     All Features_PCA_1241  All Features_PCA_1242  All Features_PCA_1243  \\\n",
      "0                 0.568867              -0.650437              -0.167775   \n",
      "1                 0.309505               0.020904              -1.079875   \n",
      "2                -0.440603              -0.374321              -0.906506   \n",
      "3                -0.972303               0.742242               0.178635   \n",
      "4                 0.396470              -0.210886              -0.236385   \n",
      "..                     ...                    ...                    ...   \n",
      "370              -0.991955              -0.207190              -0.576410   \n",
      "371              -0.059389              -0.304406               1.186249   \n",
      "372               0.004118              -0.802897               0.729549   \n",
      "373              -0.040625              -0.660089               0.906133   \n",
      "374              -0.089246              -0.768664              -0.279156   \n",
      "\n",
      "     All Features_PCA_1244  All Features_PCA_1245  All Features_PCA_1246  \\\n",
      "0                -0.104855              -0.713800              -0.294475   \n",
      "1                 0.737994               0.546003              -0.946220   \n",
      "2                -0.441965              -0.318905              -0.063911   \n",
      "3                 0.692253              -0.085700              -0.049715   \n",
      "4                -0.101107              -0.846370              -0.568283   \n",
      "..                     ...                    ...                    ...   \n",
      "370              -0.388748              -0.323398               0.116702   \n",
      "371              -0.006797              -0.050300               0.388822   \n",
      "372              -0.438863               0.000227              -0.152263   \n",
      "373              -0.748768              -0.409377              -0.869255   \n",
      "374               0.461895               0.296120              -0.464550   \n",
      "\n",
      "     All Features_PCA_1247  All Features_PCA_1248  All Features_PCA_1249  \n",
      "0                 0.870414              -0.041488               0.358186  \n",
      "1                -0.001505               1.127295              -0.032759  \n",
      "2                -0.440967              -0.423951              -0.239264  \n",
      "3                -0.303535               0.169654               0.373774  \n",
      "4                 0.468793              -0.002949               0.192095  \n",
      "..                     ...                    ...                    ...  \n",
      "370              -0.088474              -0.521342              -0.621816  \n",
      "371               0.713417              -0.166579              -0.265210  \n",
      "372               0.636467               0.367062              -0.149499  \n",
      "373              -0.506983              -0.772646              -0.105348  \n",
      "374              -1.029694              -0.305403               0.011698  \n",
      "\n",
      "[6003 rows x 1254 columns]\n"
     ]
    }
   ],
   "source": [
    "#load Training data\n",
    "training_data = combine_directory_parquets('../../../Data/Features/All Features All Features PCA/train')\n",
    "print('all training data')\n",
    "print(training_data)\n",
    "\n",
    "# If sample run, take a sample of the data and a reduced number of features\n",
    "if sample_run:\n",
    "    training_data = training_data.sample(frac=0.01).iloc[:, 0:10]"
   ]
  },
  {
   "cell_type": "code",
   "execution_count": 5,
   "id": "59126e9f",
   "metadata": {
    "execution": {
     "iopub.execute_input": "2024-04-07T22:20:27.728647Z",
     "iopub.status.busy": "2024-04-07T22:20:27.728461Z",
     "iopub.status.idle": "2024-04-07T22:20:27.806460Z",
     "shell.execute_reply": "2024-04-07T22:20:27.806014Z"
    }
   },
   "outputs": [],
   "source": [
    "#prepare matrices\n",
    "# X_train, y_train = prepare_matrices(training_data)\n",
    "X_train, y_train, label_encoder, scaler = prepare_matrices(training_data) "
   ]
  },
  {
   "cell_type": "code",
   "execution_count": null,
   "id": "d797f14b",
   "metadata": {
    "execution": {
     "iopub.execute_input": "2024-04-07T22:20:27.809585Z",
     "iopub.status.busy": "2024-04-07T22:20:27.809174Z",
     "iopub.status.idle": "2024-04-07T22:55:17.993920Z",
     "shell.execute_reply": "2024-04-07T22:55:17.993503Z"
    },
    "scrolled": true
   },
   "outputs": [],
   "source": [
    "fit_xgboost_classifier(X_train, y_train, classifier_name)"
   ]
  }
 ],
 "metadata": {
  "kernelspec": {
   "display_name": "Python 3 (ipykernel)",
   "language": "python",
   "name": "python3"
  },
  "language_info": {
   "codemirror_mode": {
    "name": "ipython",
    "version": 3
   },
   "file_extension": ".py",
   "mimetype": "text/x-python",
   "name": "python",
   "nbconvert_exporter": "python",
   "pygments_lexer": "ipython3",
   "version": "3.11.5"
  }
 },
 "nbformat": 4,
 "nbformat_minor": 5
}
