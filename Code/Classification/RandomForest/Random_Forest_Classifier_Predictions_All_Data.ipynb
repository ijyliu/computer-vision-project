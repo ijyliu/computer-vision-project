{
 "cells": [
  {
   "cell_type": "markdown",
   "metadata": {},
   "source": [
    "# Random Forest Classifier Predictions"
   ]
  },
  {
   "cell_type": "code",
   "execution_count": 8,
   "metadata": {},
   "outputs": [],
   "source": [
    "# Packages\n",
    "from Random_Forest_Classifier_Functions import *"
   ]
  },
  {
   "cell_type": "code",
   "execution_count": 9,
   "metadata": {},
   "outputs": [],
   "source": [
    "# Classifier Name\n",
    "classifier_name = 'All_Data'"
   ]
  },
  {
   "cell_type": "code",
   "execution_count": 10,
   "metadata": {},
   "outputs": [],
   "source": [
    "# Whether this is a sample run or not\n",
    "sample_run = False"
   ]
  },
  {
   "cell_type": "markdown",
   "metadata": {},
   "source": [
    "## Load Test Data"
   ]
  },
  {
   "cell_type": "code",
   "execution_count": 11,
   "metadata": {},
   "outputs": [
    {
     "name": "stdout",
     "output_type": "stream",
     "text": [
      "all test data\n",
      "          Class                            harmonized_filename  \\\n",
      "0         Sedan        Sedan_test_orig_train_00139_resized.jpg   \n",
      "1         Sedan        Sedan_test_orig_train_07621_resized.jpg   \n",
      "2   Convertible  Convertible_test_orig_train_03174_resized.jpg   \n",
      "3         Sedan        Sedan_test_orig_train_03693_resized.jpg   \n",
      "4         Sedan        Sedan_test_orig_train_02582_resized.jpg   \n",
      "..          ...                                            ...   \n",
      "88        Sedan         Sedan_test_orig_test_05891_resized.jpg   \n",
      "89          SUV          SUV_test_orig_train_07587_resized.jpg   \n",
      "90  Convertible   Convertible_test_orig_test_01119_resized.jpg   \n",
      "91          SUV          SUV_test_orig_train_00986_resized.jpg   \n",
      "92  Convertible   Convertible_test_orig_test_03679_resized.jpg   \n",
      "\n",
      "                                      image_path_blur  \\\n",
      "0   ../../../Images/test/Blurred/Sedan_test_orig_t...   \n",
      "1   ../../../Images/test/Blurred/Sedan_test_orig_t...   \n",
      "2   ../../../Images/test/Blurred/Convertible_test_...   \n",
      "3   ../../../Images/test/Blurred/Sedan_test_orig_t...   \n",
      "4   ../../../Images/test/Blurred/Sedan_test_orig_t...   \n",
      "..                                                ...   \n",
      "88  ../../../Images/test/Blurred/Sedan_test_orig_t...   \n",
      "89  ../../../Images/test/Blurred/SUV_test_orig_tra...   \n",
      "90  ../../../Images/test/Blurred/Convertible_test_...   \n",
      "91  ../../../Images/test/Blurred/SUV_test_orig_tra...   \n",
      "92  ../../../Images/test/Blurred/Convertible_test_...   \n",
      "\n",
      "                                   image_path_no_blur  \\\n",
      "0   ../../../Images/test/No_Blur/Sedan_test_orig_t...   \n",
      "1   ../../../Images/test/No_Blur/Sedan_test_orig_t...   \n",
      "2   ../../../Images/test/No_Blur/Convertible_test_...   \n",
      "3   ../../../Images/test/No_Blur/Sedan_test_orig_t...   \n",
      "4   ../../../Images/test/No_Blur/Sedan_test_orig_t...   \n",
      "..                                                ...   \n",
      "88  ../../../Images/test/No_Blur/Sedan_test_orig_t...   \n",
      "89  ../../../Images/test/No_Blur/SUV_test_orig_tra...   \n",
      "90  ../../../Images/test/No_Blur/Convertible_test_...   \n",
      "91  ../../../Images/test/No_Blur/SUV_test_orig_tra...   \n",
      "92  ../../../Images/test/No_Blur/Convertible_test_...   \n",
      "\n",
      "    ViT_Embedding_Element_0  ViT_Embedding_Element_1  ViT_Embedding_Element_2  \\\n",
      "0                 -0.093118                 0.023944                -0.003103   \n",
      "1                 -0.157546                 0.469937                 0.000550   \n",
      "2                  0.030750                 0.109448                -0.242908   \n",
      "3                 -0.108213                 0.111616                -0.070978   \n",
      "4                  0.003776                -0.067427                -0.259577   \n",
      "..                      ...                      ...                      ...   \n",
      "88                -0.114986                 0.416919                 0.006434   \n",
      "89                -0.305994                 0.223288                 0.097211   \n",
      "90                -0.173839                 0.076692                -0.421268   \n",
      "91                -0.267668                 0.138908                 0.038328   \n",
      "92                -0.155250                 0.203669                -0.095840   \n",
      "\n",
      "    ViT_Embedding_Element_3  ViT_Embedding_Element_4  ViT_Embedding_Element_5  \\\n",
      "0                 -0.350056                 0.041266                 0.347084   \n",
      "1                 -0.287341                -0.052400                 0.316043   \n",
      "2                 -0.441038                 0.030309                 0.144850   \n",
      "3                 -0.475809                -0.051620                 0.436657   \n",
      "4                 -0.343545                -0.001688                 0.403953   \n",
      "..                      ...                      ...                      ...   \n",
      "88                -0.099978                -0.204515                 0.248269   \n",
      "89                -0.386351                -0.377188                 0.331570   \n",
      "90                -0.441278                -0.168950                 0.282274   \n",
      "91                -0.266403                -0.158171                 0.425292   \n",
      "92                -0.442104                -0.161215                 0.360146   \n",
      "\n",
      "    ...  VGG_Embedding_Element_502  VGG_Embedding_Element_503  \\\n",
      "0   ...                   0.189833                   0.110823   \n",
      "1   ...                   0.212087                   0.635821   \n",
      "2   ...                   0.033483                   0.347566   \n",
      "3   ...                   0.280684                   1.392077   \n",
      "4   ...                   0.113534                   0.262125   \n",
      "..  ...                        ...                        ...   \n",
      "88  ...                   0.000000                   0.005129   \n",
      "89  ...                   0.199793                   0.929628   \n",
      "90  ...                   0.043615                   0.021536   \n",
      "91  ...                   0.010004                   0.000000   \n",
      "92  ...                   0.071644                   0.655622   \n",
      "\n",
      "    VGG_Embedding_Element_504  VGG_Embedding_Element_505  \\\n",
      "0                    0.319500                   0.008201   \n",
      "1                    0.062735                   0.000000   \n",
      "2                    0.744787                   0.000000   \n",
      "3                    0.284330                   0.000000   \n",
      "4                    0.113362                   0.000000   \n",
      "..                        ...                        ...   \n",
      "88                   0.138585                   0.000000   \n",
      "89                   0.305258                   0.000000   \n",
      "90                   0.026432                   0.000000   \n",
      "91                   0.010803                   0.015291   \n",
      "92                   0.129675                   0.000000   \n",
      "\n",
      "    VGG_Embedding_Element_506  VGG_Embedding_Element_507  \\\n",
      "0                         0.0                   0.006219   \n",
      "1                         0.0                   0.000000   \n",
      "2                         0.0                   0.024235   \n",
      "3                         0.0                   0.052147   \n",
      "4                         0.0                   0.010891   \n",
      "..                        ...                        ...   \n",
      "88                        0.0                   0.023525   \n",
      "89                        0.0                   0.358714   \n",
      "90                        0.0                   0.000013   \n",
      "91                        0.0                   0.296516   \n",
      "92                        0.0                   0.037926   \n",
      "\n",
      "    VGG_Embedding_Element_508  VGG_Embedding_Element_509  \\\n",
      "0                    0.120207                   1.124781   \n",
      "1                    0.024936                   0.010255   \n",
      "2                    0.373275                   0.040228   \n",
      "3                    0.000000                   0.358211   \n",
      "4                    0.023042                   0.125790   \n",
      "..                        ...                        ...   \n",
      "88                   0.001275                   0.669245   \n",
      "89                   0.080601                   0.075457   \n",
      "90                   0.039712                   1.059636   \n",
      "91                   0.030328                   0.587830   \n",
      "92                   0.073187                   0.000000   \n",
      "\n",
      "    VGG_Embedding_Element_510  VGG_Embedding_Element_511  \n",
      "0                    0.027993                   0.000000  \n",
      "1                    0.827088                   0.000000  \n",
      "2                    0.279140                   0.073507  \n",
      "3                    0.235602                   0.000000  \n",
      "4                    0.553510                   0.010388  \n",
      "..                        ...                        ...  \n",
      "88                   0.289033                   0.031903  \n",
      "89                   0.332380                   0.000000  \n",
      "90                   0.645128                   0.056297  \n",
      "91                   0.304661                   0.000000  \n",
      "92                   0.459025                   0.420617  \n",
      "\n",
      "[1489 rows x 4893 columns]\n"
     ]
    }
   ],
   "source": [
    "test_data = combine_directory_parquets('../../../Data/Features/All Features/test')\n",
    "print('all test data')\n",
    "print(test_data)\n",
    "\n",
    "if sample_run:\n",
    "    test_data = test_data.sample(frac=0.01).iloc[:, 0:10]"
   ]
  },
  {
   "cell_type": "markdown",
   "metadata": {},
   "source": [
    "## Prepare Matrices"
   ]
  },
  {
   "cell_type": "code",
   "execution_count": 12,
   "metadata": {},
   "outputs": [],
   "source": [
    "# Prepare matrices\n",
    "X_test, _ = prepare_matrices(test_data)"
   ]
  },
  {
   "cell_type": "markdown",
   "metadata": {},
   "source": [
    "## Make Predictions"
   ]
  },
  {
   "cell_type": "code",
   "execution_count": 13,
   "metadata": {},
   "outputs": [
    {
     "name": "stdout",
     "output_type": "stream",
     "text": [
      "best model\n",
      "RandomForestClassifier(max_depth=10, min_samples_leaf=4, min_samples_split=10)\n",
      "predictions head\n",
      "['Sedan' 'SUV' 'Pickup' 'Sedan' 'Sedan']\n",
      "prediction time in minutes:  0.00010412931442260742\n",
      "prediction time per image in minutes:  6.941954294840495e-06\n",
      "saved prediction statistics\n",
      "limited cols in test data\n",
      "added to test data\n"
     ]
    }
   ],
   "source": [
    "make_predictions(test_data, X_test, classifier_name)"
   ]
  }
 ],
 "metadata": {
  "kernelspec": {
   "display_name": "Python 3.11.4",
   "language": "python",
   "name": "python3"
  },
  "language_info": {
   "codemirror_mode": {
    "name": "ipython",
    "version": 3
   },
   "file_extension": ".py",
   "mimetype": "text/x-python",
   "name": "python",
   "nbconvert_exporter": "python",
   "pygments_lexer": "ipython3",
   "version": "3.11.4"
  },
  "vscode": {
   "interpreter": {
    "hash": "a7e314ba9f666ce3cc3d9c6ca90df4ff5d73fd085762bb8502c032e8e0761c3b"
   }
  }
 },
 "nbformat": 4,
 "nbformat_minor": 2
}
