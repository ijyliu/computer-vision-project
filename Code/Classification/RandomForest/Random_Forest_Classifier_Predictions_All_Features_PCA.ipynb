{
 "cells": [
  {
   "cell_type": "markdown",
   "metadata": {},
   "source": [
    "# Random Forest Classifier Predictions"
   ]
  },
  {
   "cell_type": "code",
   "execution_count": 1,
   "metadata": {},
   "outputs": [],
   "source": [
    "# Packages\n",
    "from Random_Forest_Classifier_Functions import *"
   ]
  },
  {
   "cell_type": "code",
   "execution_count": 2,
   "metadata": {},
   "outputs": [],
   "source": [
    "# Classifier Name\n",
    "classifier_name = 'All_Features_PCA'"
   ]
  },
  {
   "cell_type": "code",
   "execution_count": 3,
   "metadata": {},
   "outputs": [],
   "source": [
    "# Whether this is a sample run or not\n",
    "sample_run = False"
   ]
  },
  {
   "cell_type": "markdown",
   "metadata": {},
   "source": [
    "## Load Test Data"
   ]
  },
  {
   "cell_type": "code",
   "execution_count": 4,
   "metadata": {},
   "outputs": [
    {
     "name": "stdout",
     "output_type": "stream",
     "text": [
      "all test data\n",
      "          Class                           harmonized_filename  \\\n",
      "0           SUV          SUV_test_orig_test_00661_resized.jpg   \n",
      "1           SUV         SUV_test_orig_train_06195_resized.jpg   \n",
      "2           SUV         SUV_test_orig_train_06253_resized.jpg   \n",
      "3         Sedan        Sedan_test_orig_test_00728_resized.jpg   \n",
      "4   Convertible  Convertible_test_orig_test_03444_resized.jpg   \n",
      "..          ...                                           ...   \n",
      "88        Sedan        Sedan_test_orig_test_02949_resized.jpg   \n",
      "89  Convertible  Convertible_test_orig_test_02412_resized.jpg   \n",
      "90  Convertible  Convertible_test_orig_test_07495_resized.jpg   \n",
      "91          SUV          SUV_test_orig_test_01451_resized.jpg   \n",
      "92       Pickup       Pickup_test_orig_test_02951_resized.jpg   \n",
      "\n",
      "                                      image_path_blur  \\\n",
      "0   ../../../Images/test/Blurred/SUV_test_orig_tes...   \n",
      "1   ../../../Images/test/Blurred/SUV_test_orig_tra...   \n",
      "2   ../../../Images/test/Blurred/SUV_test_orig_tra...   \n",
      "3   ../../../Images/test/Blurred/Sedan_test_orig_t...   \n",
      "4   ../../../Images/test/Blurred/Convertible_test_...   \n",
      "..                                                ...   \n",
      "88  ../../../Images/test/Blurred/Sedan_test_orig_t...   \n",
      "89  ../../../Images/test/Blurred/Convertible_test_...   \n",
      "90  ../../../Images/test/Blurred/Convertible_test_...   \n",
      "91  ../../../Images/test/Blurred/SUV_test_orig_tes...   \n",
      "92  ../../../Images/test/Blurred/Pickup_test_orig_...   \n",
      "\n",
      "                                   image_path_no_blur  All Features_PCA_0  \\\n",
      "0   ../../../Images/test/No_Blur/SUV_test_orig_tes...           24.189841   \n",
      "1   ../../../Images/test/No_Blur/SUV_test_orig_tra...           12.219520   \n",
      "2   ../../../Images/test/No_Blur/SUV_test_orig_tra...           24.161322   \n",
      "3   ../../../Images/test/No_Blur/Sedan_test_orig_t...           -4.099487   \n",
      "4   ../../../Images/test/No_Blur/Convertible_test_...           -9.203965   \n",
      "..                                                ...                 ...   \n",
      "88  ../../../Images/test/No_Blur/Sedan_test_orig_t...           -6.879784   \n",
      "89  ../../../Images/test/No_Blur/Convertible_test_...           -9.542293   \n",
      "90  ../../../Images/test/No_Blur/Convertible_test_...           15.881731   \n",
      "91  ../../../Images/test/No_Blur/SUV_test_orig_tes...            1.979564   \n",
      "92  ../../../Images/test/No_Blur/Pickup_test_orig_...            7.145793   \n",
      "\n",
      "    All Features_PCA_1  All Features_PCA_2  All Features_PCA_3  \\\n",
      "0            -5.353944            3.409188            8.286682   \n",
      "1            12.948000           13.662393            0.322938   \n",
      "2             0.590867            7.004649            2.185908   \n",
      "3           -10.840219          -15.541879          -20.017697   \n",
      "4            10.866028           -7.620927          -10.245730   \n",
      "..                 ...                 ...                 ...   \n",
      "88            3.990734            7.315486           17.111347   \n",
      "89          -16.192677            8.279517           13.935344   \n",
      "90          -15.983639            6.304697           11.330469   \n",
      "91           -3.494390           -7.026909          -10.114535   \n",
      "92           23.364697           -5.343775          -18.763533   \n",
      "\n",
      "    All Features_PCA_4  All Features_PCA_5  ...  All Features_PCA_1240  \\\n",
      "0           -17.785014          -16.507821  ...               0.590218   \n",
      "1            -6.503505            5.477149  ...              -0.385268   \n",
      "2           -12.841302           -3.440686  ...               0.097145   \n",
      "3             1.188028           -1.422613  ...              -0.266812   \n",
      "4            15.230822          -14.637056  ...              -0.193305   \n",
      "..                 ...                 ...  ...                    ...   \n",
      "88           -4.480714          -10.178239  ...              -0.271607   \n",
      "89            7.876961          -15.649933  ...               0.577037   \n",
      "90           -3.785225           -8.131360  ...              -0.011164   \n",
      "91           18.482240           -0.449605  ...               0.467714   \n",
      "92            5.322151            0.169505  ...               0.123798   \n",
      "\n",
      "    All Features_PCA_1241  All Features_PCA_1242  All Features_PCA_1243  \\\n",
      "0                0.067863              -0.072049              -0.036748   \n",
      "1               -0.595833               0.087051              -0.117248   \n",
      "2               -0.442154              -0.333089               0.385312   \n",
      "3               -0.827017              -0.098920               0.848387   \n",
      "4                0.581778               0.843821              -0.563212   \n",
      "..                    ...                    ...                    ...   \n",
      "88              -0.132447              -0.091503              -0.360158   \n",
      "89              -0.270347               0.181194               1.487782   \n",
      "90              -0.240483               0.652127              -0.027718   \n",
      "91               0.191442               0.757926              -0.354645   \n",
      "92              -0.151661              -0.124144              -0.800477   \n",
      "\n",
      "    All Features_PCA_1244  All Features_PCA_1245  All Features_PCA_1246  \\\n",
      "0               -0.230772              -0.387870               0.658966   \n",
      "1                0.576187              -0.175961              -0.367276   \n",
      "2               -0.186064              -0.356838              -0.456831   \n",
      "3               -0.035210              -0.067890               0.622868   \n",
      "4                0.682042              -0.162764              -0.105226   \n",
      "..                    ...                    ...                    ...   \n",
      "88              -0.069330               0.345966              -0.325294   \n",
      "89               1.210559              -0.707528              -0.358803   \n",
      "90               0.268978               0.259013              -0.104524   \n",
      "91              -0.557661              -0.077274               0.699362   \n",
      "92               0.001545               1.421789              -0.094797   \n",
      "\n",
      "    All Features_PCA_1247  All Features_PCA_1248  All Features_PCA_1249  \n",
      "0                0.525238              -0.588856               0.667842  \n",
      "1                0.996419              -0.054803               0.560479  \n",
      "2               -0.553160              -0.184211              -0.126749  \n",
      "3               -0.895439               0.632801               0.453250  \n",
      "4                0.591590               0.600809               0.293710  \n",
      "..                    ...                    ...                    ...  \n",
      "88              -0.206045               0.204797               0.522377  \n",
      "89              -0.473933              -0.742445               0.820921  \n",
      "90              -0.771116               0.193949               0.507832  \n",
      "91               0.067800              -0.413927               0.123804  \n",
      "92               0.590467              -0.062087               0.787476  \n",
      "\n",
      "[1489 rows x 1254 columns]\n"
     ]
    }
   ],
   "source": [
    "test_data = combine_directory_parquets('../../../Data/Features/All Features All Features PCA/test')\n",
    "print('all test data')\n",
    "print(test_data)\n",
    "\n",
    "if sample_run:\n",
    "    test_data = test_data.sample(frac=0.01).iloc[:, 0:10]"
   ]
  },
  {
   "cell_type": "markdown",
   "metadata": {},
   "source": [
    "## Prepare Matrices"
   ]
  },
  {
   "cell_type": "code",
   "execution_count": 5,
   "metadata": {},
   "outputs": [],
   "source": [
    "# Prepare matrices\n",
    "X_test, _ = prepare_matrices(test_data)"
   ]
  },
  {
   "cell_type": "markdown",
   "metadata": {},
   "source": [
    "## Make Predictions"
   ]
  },
  {
   "cell_type": "code",
   "execution_count": 6,
   "metadata": {},
   "outputs": [
    {
     "name": "stdout",
     "output_type": "stream",
     "text": [
      "best model\n",
      "RandomForestClassifier(max_depth=60, min_samples_leaf=4, min_samples_split=5)\n",
      "predictions head\n",
      "['Convertible' 'Sedan' 'SUV' 'Sedan' 'Sedan']\n",
      "prediction time in minutes:  3.283421198527018e-05\n",
      "prediction time per image in minutes:  2.188947465684679e-06\n",
      "saved prediction statistics\n",
      "limited cols in test data\n",
      "added to test data\n"
     ]
    }
   ],
   "source": [
    "make_predictions(test_data, X_test, classifier_name)"
   ]
  }
 ],
 "metadata": {
  "kernelspec": {
   "display_name": "Python 3.11.4",
   "language": "python",
   "name": "python3"
  },
  "language_info": {
   "codemirror_mode": {
    "name": "ipython",
    "version": 3
   },
   "file_extension": ".py",
   "mimetype": "text/x-python",
   "name": "python",
   "nbconvert_exporter": "python",
   "pygments_lexer": "ipython3",
   "version": "3.11.4"
  },
  "vscode": {
   "interpreter": {
    "hash": "a7e314ba9f666ce3cc3d9c6ca90df4ff5d73fd085762bb8502c032e8e0761c3b"
   }
  }
 },
 "nbformat": 4,
 "nbformat_minor": 2
}
