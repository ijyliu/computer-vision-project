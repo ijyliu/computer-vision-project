{
 "cells": [
  {
   "cell_type": "markdown",
   "metadata": {},
   "source": [
    "# Fit Random Forest Classifier on All Features PCA Data"
   ]
  },
  {
   "cell_type": "code",
   "execution_count": 1,
   "metadata": {
    "execution": {
     "iopub.execute_input": "2024-04-07T22:19:46.067633Z",
     "iopub.status.busy": "2024-04-07T22:19:46.067165Z",
     "iopub.status.idle": "2024-04-07T22:19:48.413408Z",
     "shell.execute_reply": "2024-04-07T22:19:48.412160Z"
    }
   },
   "outputs": [],
   "source": [
    "# Packages\n",
    "from Random_Forest_Classifier_Functions import *"
   ]
  },
  {
   "cell_type": "code",
   "execution_count": 2,
   "metadata": {
    "execution": {
     "iopub.execute_input": "2024-04-07T22:19:48.418208Z",
     "iopub.status.busy": "2024-04-07T22:19:48.417907Z",
     "iopub.status.idle": "2024-04-07T22:19:48.421949Z",
     "shell.execute_reply": "2024-04-07T22:19:48.420977Z"
    }
   },
   "outputs": [],
   "source": [
    "# Set classifier name\n",
    "classifier_name = 'All_Features_PCA'"
   ]
  },
  {
   "cell_type": "code",
   "execution_count": 3,
   "metadata": {
    "execution": {
     "iopub.execute_input": "2024-04-07T22:19:48.426228Z",
     "iopub.status.busy": "2024-04-07T22:19:48.425974Z",
     "iopub.status.idle": "2024-04-07T22:19:48.430147Z",
     "shell.execute_reply": "2024-04-07T22:19:48.429075Z"
    }
   },
   "outputs": [],
   "source": [
    "# Sample run or not\n",
    "sample_run = False"
   ]
  },
  {
   "cell_type": "markdown",
   "metadata": {},
   "source": [
    "## Load Training Data"
   ]
  },
  {
   "cell_type": "code",
   "execution_count": 4,
   "metadata": {
    "execution": {
     "iopub.execute_input": "2024-04-07T22:19:48.435034Z",
     "iopub.status.busy": "2024-04-07T22:19:48.434711Z",
     "iopub.status.idle": "2024-04-07T22:19:51.489927Z",
     "shell.execute_reply": "2024-04-07T22:19:51.489426Z"
    }
   },
   "outputs": [
    {
     "name": "stdout",
     "output_type": "stream",
     "text": [
      "all training data\n",
      "           Class                            harmonized_filename  \\\n",
      "0            SUV          SUV_train_orig_test_07234_resized.jpg   \n",
      "1            SUV         SUV_train_orig_train_03426_resized.jpg   \n",
      "2          Sedan       Sedan_train_orig_train_00433_resized.jpg   \n",
      "3            SUV         SUV_train_orig_train_03381_resized.jpg   \n",
      "4          Sedan        Sedan_train_orig_test_07466_resized.jpg   \n",
      "..           ...                                            ...   \n",
      "370  Convertible  Convertible_train_orig_test_07372_resized.jpg   \n",
      "371          SUV         SUV_train_orig_train_07504_resized.jpg   \n",
      "372          SUV         SUV_train_orig_train_05279_resized.jpg   \n",
      "373       Pickup       Pickup_train_orig_test_04234_resized.jpg   \n",
      "374  Convertible  Convertible_train_orig_test_04220_resized.jpg   \n",
      "\n",
      "                                       image_path_blur  \\\n",
      "0    ../../../Images/train/Blurred/SUV_train_orig_t...   \n",
      "1    ../../../Images/train/Blurred/SUV_train_orig_t...   \n",
      "2    ../../../Images/train/Blurred/Sedan_train_orig...   \n",
      "3    ../../../Images/train/Blurred/SUV_train_orig_t...   \n",
      "4    ../../../Images/train/Blurred/Sedan_train_orig...   \n",
      "..                                                 ...   \n",
      "370  ../../../Images/train/Blurred/Convertible_trai...   \n",
      "371  ../../../Images/train/Blurred/SUV_train_orig_t...   \n",
      "372  ../../../Images/train/Blurred/SUV_train_orig_t...   \n",
      "373  ../../../Images/train/Blurred/Pickup_train_ori...   \n",
      "374  ../../../Images/train/Blurred/Convertible_trai...   \n",
      "\n",
      "                                    image_path_no_blur  All Features_PCA_0  \\\n",
      "0    ../../../Images/train/No_Blur/SUV_train_orig_t...           25.145085   \n",
      "1    ../../../Images/train/No_Blur/SUV_train_orig_t...            7.717482   \n",
      "2    ../../../Images/train/No_Blur/Sedan_train_orig...            5.180652   \n",
      "3    ../../../Images/train/No_Blur/SUV_train_orig_t...           19.116697   \n",
      "4    ../../../Images/train/No_Blur/Sedan_train_orig...           -7.212819   \n",
      "..                                                 ...                 ...   \n",
      "370  ../../../Images/train/No_Blur/Convertible_trai...          -19.302218   \n",
      "371  ../../../Images/train/No_Blur/SUV_train_orig_t...           24.203458   \n",
      "372  ../../../Images/train/No_Blur/SUV_train_orig_t...           -5.569236   \n",
      "373  ../../../Images/train/No_Blur/Pickup_train_ori...           22.367278   \n",
      "374  ../../../Images/train/No_Blur/Convertible_trai...          -21.406933   \n",
      "\n",
      "     All Features_PCA_1  All Features_PCA_2  All Features_PCA_3  \\\n",
      "0              8.947328           -1.386140          -12.489963   \n",
      "1             25.251725           -2.878187            8.619907   \n",
      "2            -18.764555           -4.975013           13.694222   \n",
      "3             -0.526699           -5.733903           -9.487318   \n",
      "4            -11.933631          -11.039178           -6.331898   \n",
      "..                  ...                 ...                 ...   \n",
      "370            8.102629            2.898998          -12.297525   \n",
      "371            3.418982            6.580006          -12.461895   \n",
      "372           11.785905          -12.864676           -2.193522   \n",
      "373           -5.793724            8.713184          -22.586954   \n",
      "374           20.327924            8.860998           15.090791   \n",
      "\n",
      "     All Features_PCA_4  All Features_PCA_5  ...  All Features_PCA_1240  \\\n",
      "0             -6.343173           -3.717600  ...               0.439435   \n",
      "1             -0.023036            5.182604  ...              -0.353133   \n",
      "2             -5.004696           -3.039336  ...               0.311289   \n",
      "3             -5.491038            0.997209  ...               0.335375   \n",
      "4            -10.326670           -4.997215  ...              -0.236657   \n",
      "..                  ...                 ...  ...                    ...   \n",
      "370           29.755198            0.850605  ...              -1.109317   \n",
      "371           -7.760661            2.853156  ...               0.326286   \n",
      "372          -14.914350            9.404342  ...              -0.143081   \n",
      "373            3.974342            4.593227  ...               0.777182   \n",
      "374           19.285839          -11.446975  ...              -0.822633   \n",
      "\n",
      "     All Features_PCA_1241  All Features_PCA_1242  All Features_PCA_1243  \\\n",
      "0                 0.568867              -0.650437              -0.167775   \n",
      "1                 0.309505               0.020904              -1.079875   \n",
      "2                -0.440603              -0.374321              -0.906506   \n",
      "3                -0.972303               0.742242               0.178635   \n",
      "4                 0.396470              -0.210886              -0.236385   \n",
      "..                     ...                    ...                    ...   \n",
      "370              -0.991955              -0.207190              -0.576410   \n",
      "371              -0.059389              -0.304406               1.186249   \n",
      "372               0.004118              -0.802897               0.729549   \n",
      "373              -0.040625              -0.660089               0.906133   \n",
      "374              -0.089246              -0.768664              -0.279156   \n",
      "\n",
      "     All Features_PCA_1244  All Features_PCA_1245  All Features_PCA_1246  \\\n",
      "0                -0.104855              -0.713800              -0.294475   \n",
      "1                 0.737994               0.546003              -0.946220   \n",
      "2                -0.441965              -0.318905              -0.063911   \n",
      "3                 0.692253              -0.085700              -0.049715   \n",
      "4                -0.101107              -0.846370              -0.568283   \n",
      "..                     ...                    ...                    ...   \n",
      "370              -0.388748              -0.323398               0.116702   \n",
      "371              -0.006797              -0.050300               0.388822   \n",
      "372              -0.438863               0.000227              -0.152263   \n",
      "373              -0.748768              -0.409377              -0.869255   \n",
      "374               0.461895               0.296120              -0.464550   \n",
      "\n",
      "     All Features_PCA_1247  All Features_PCA_1248  All Features_PCA_1249  \n",
      "0                 0.870414              -0.041488               0.358186  \n",
      "1                -0.001505               1.127295              -0.032759  \n",
      "2                -0.440967              -0.423951              -0.239264  \n",
      "3                -0.303535               0.169654               0.373774  \n",
      "4                 0.468793              -0.002949               0.192095  \n",
      "..                     ...                    ...                    ...  \n",
      "370              -0.088474              -0.521342              -0.621816  \n",
      "371               0.713417              -0.166579              -0.265210  \n",
      "372               0.636467               0.367062              -0.149499  \n",
      "373              -0.506983              -0.772646              -0.105348  \n",
      "374              -1.029694              -0.305403               0.011698  \n",
      "\n",
      "[6003 rows x 1254 columns]\n"
     ]
    }
   ],
   "source": [
    "training_data = combine_directory_parquets('../../../Data/Features/All Features All Features PCA/train')\n",
    "print('all training data')\n",
    "print(training_data)\n",
    "\n",
    "# If sample run, take a sample of the data and a reduced number of features\n",
    "if sample_run:\n",
    "    training_data = training_data.sample(frac=0.01).iloc[:, 0:10]"
   ]
  },
  {
   "cell_type": "markdown",
   "metadata": {},
   "source": [
    "## Prepare Matrices"
   ]
  },
  {
   "cell_type": "code",
   "execution_count": 5,
   "metadata": {
    "execution": {
     "iopub.execute_input": "2024-04-07T22:19:51.562760Z",
     "iopub.status.busy": "2024-04-07T22:19:51.562172Z",
     "iopub.status.idle": "2024-04-07T22:19:51.726753Z",
     "shell.execute_reply": "2024-04-07T22:19:51.725880Z"
    }
   },
   "outputs": [],
   "source": [
    "X_train, y_train = prepare_matrices(training_data)"
   ]
  },
  {
   "cell_type": "markdown",
   "metadata": {},
   "source": [
    "## Fit Classifier"
   ]
  },
  {
   "cell_type": "code",
   "execution_count": 6,
   "metadata": {
    "execution": {
     "iopub.execute_input": "2024-04-07T22:19:51.731393Z",
     "iopub.status.busy": "2024-04-07T22:19:51.731223Z",
     "iopub.status.idle": "2024-04-08T02:27:26.472654Z",
     "shell.execute_reply": "2024-04-08T02:27:26.472165Z"
    }
   },
   "outputs": [
    {
     "name": "stdout",
     "output_type": "stream",
     "text": [
      "hyperparameter settings\n",
      "{'n_estimators': [100, 500, 1000], 'max_features': ['auto', 'sqrt'], 'max_depth': [10, 20, 30, 40, 50, 60], 'min_samples_split': [5, 10], 'min_samples_leaf': [2, 4], 'bootstrap': [True, False]}\n"
     ]
    },
    {
     "name": "stderr",
     "output_type": "stream",
     "text": [
      "/Users/mayanksethi/miniconda3/lib/python3.11/site-packages/sklearn/model_selection/_validation.py:547: FitFailedWarning: \n",
      "720 fits failed out of a total of 1440.\n",
      "The score on these train-test partitions for these parameters will be set to nan.\n",
      "If these failures are not expected, you can try to debug them by setting error_score='raise'.\n",
      "\n",
      "Below are more details about the failures:\n",
      "--------------------------------------------------------------------------------\n",
      "373 fits failed with the following error:\n",
      "Traceback (most recent call last):\n",
      "  File \"/Users/mayanksethi/miniconda3/lib/python3.11/site-packages/sklearn/model_selection/_validation.py\", line 895, in _fit_and_score\n",
      "    estimator.fit(X_train, y_train, **fit_params)\n",
      "  File \"/Users/mayanksethi/miniconda3/lib/python3.11/site-packages/sklearn/base.py\", line 1467, in wrapper\n",
      "    estimator._validate_params()\n",
      "  File \"/Users/mayanksethi/miniconda3/lib/python3.11/site-packages/sklearn/base.py\", line 666, in _validate_params\n",
      "    validate_parameter_constraints(\n",
      "  File \"/Users/mayanksethi/miniconda3/lib/python3.11/site-packages/sklearn/utils/_param_validation.py\", line 95, in validate_parameter_constraints\n",
      "    raise InvalidParameterError(\n",
      "sklearn.utils._param_validation.InvalidParameterError: The 'max_features' parameter of RandomForestClassifier must be an int in the range [1, inf), a float in the range (0.0, 1.0], a str among {'sqrt', 'log2'} or None. Got 'auto' instead.\n",
      "\n",
      "--------------------------------------------------------------------------------\n",
      "347 fits failed with the following error:\n",
      "Traceback (most recent call last):\n",
      "  File \"/Users/mayanksethi/miniconda3/lib/python3.11/site-packages/sklearn/model_selection/_validation.py\", line 895, in _fit_and_score\n",
      "    estimator.fit(X_train, y_train, **fit_params)\n",
      "  File \"/Users/mayanksethi/miniconda3/lib/python3.11/site-packages/sklearn/base.py\", line 1467, in wrapper\n",
      "    estimator._validate_params()\n",
      "  File \"/Users/mayanksethi/miniconda3/lib/python3.11/site-packages/sklearn/base.py\", line 666, in _validate_params\n",
      "    validate_parameter_constraints(\n",
      "  File \"/Users/mayanksethi/miniconda3/lib/python3.11/site-packages/sklearn/utils/_param_validation.py\", line 95, in validate_parameter_constraints\n",
      "    raise InvalidParameterError(\n",
      "sklearn.utils._param_validation.InvalidParameterError: The 'max_features' parameter of RandomForestClassifier must be an int in the range [1, inf), a float in the range (0.0, 1.0], a str among {'log2', 'sqrt'} or None. Got 'auto' instead.\n",
      "\n",
      "  warnings.warn(some_fits_failed_message, FitFailedWarning)\n",
      "/Users/mayanksethi/miniconda3/lib/python3.11/site-packages/sklearn/model_selection/_search.py:1051: UserWarning: One or more of the test scores are non-finite: [       nan        nan        nan        nan        nan        nan\n",
      "        nan        nan        nan        nan        nan        nan\n",
      " 0.56666667 0.56666667 0.56666667 0.56666667 0.55       0.55\n",
      " 0.6        0.55       0.6        0.58333333 0.6        0.56666667\n",
      "        nan        nan        nan        nan        nan        nan\n",
      "        nan        nan        nan        nan        nan        nan\n",
      " 0.56666667 0.6        0.58333333 0.56666667 0.56666667 0.55\n",
      " 0.55       0.6        0.56666667 0.6        0.6        0.58333333\n",
      "        nan        nan        nan        nan        nan        nan\n",
      "        nan        nan        nan        nan        nan        nan\n",
      " 0.58333333 0.56666667 0.56666667 0.56666667 0.58333333 0.6\n",
      " 0.55       0.61666667 0.58333333 0.56666667 0.6        0.58333333\n",
      "        nan        nan        nan        nan        nan        nan\n",
      "        nan        nan        nan        nan        nan        nan\n",
      " 0.53333333 0.56666667 0.56666667 0.6        0.56666667 0.55\n",
      " 0.61666667 0.6        0.6        0.58333333 0.6        0.58333333\n",
      "        nan        nan        nan        nan        nan        nan\n",
      "        nan        nan        nan        nan        nan        nan\n",
      " 0.61666667 0.56666667 0.56666667 0.56666667 0.55       0.56666667\n",
      " 0.6        0.58333333 0.56666667 0.56666667 0.58333333 0.58333333\n",
      "        nan        nan        nan        nan        nan        nan\n",
      "        nan        nan        nan        nan        nan        nan\n",
      " 0.6        0.58333333 0.58333333 0.55       0.55       0.56666667\n",
      " 0.65       0.58333333 0.58333333 0.56666667 0.58333333 0.55\n",
      "        nan        nan        nan        nan        nan        nan\n",
      "        nan        nan        nan        nan        nan        nan\n",
      " 0.58333333 0.56666667 0.56666667 0.56666667 0.53333333 0.55\n",
      " 0.65       0.63333333 0.61666667 0.56666667 0.6        0.6\n",
      "        nan        nan        nan        nan        nan        nan\n",
      "        nan        nan        nan        nan        nan        nan\n",
      " 0.58333333 0.56666667 0.55       0.53333333 0.55       0.55\n",
      " 0.6        0.65       0.63333333 0.63333333 0.6        0.6\n",
      "        nan        nan        nan        nan        nan        nan\n",
      "        nan        nan        nan        nan        nan        nan\n",
      " 0.6        0.56666667 0.56666667 0.56666667 0.55       0.55\n",
      " 0.58333333 0.63333333 0.63333333 0.63333333 0.6        0.6\n",
      "        nan        nan        nan        nan        nan        nan\n",
      "        nan        nan        nan        nan        nan        nan\n",
      " 0.56666667 0.56666667 0.56666667 0.58333333 0.53333333 0.53333333\n",
      " 0.63333333 0.65       0.63333333 0.6        0.6        0.6\n",
      "        nan        nan        nan        nan        nan        nan\n",
      "        nan        nan        nan        nan        nan        nan\n",
      " 0.6        0.55       0.56666667 0.55       0.56666667 0.55\n",
      " 0.63333333 0.63333333 0.65       0.61666667 0.6        0.6\n",
      "        nan        nan        nan        nan        nan        nan\n",
      "        nan        nan        nan        nan        nan        nan\n",
      " 0.56666667 0.58333333 0.56666667 0.55       0.55       0.55\n",
      " 0.6        0.63333333 0.61666667 0.6        0.61666667 0.6       ]\n",
      "  warnings.warn(\n"
     ]
    },
    {
     "name": "stdout",
     "output_type": "stream",
     "text": [
      "training time in minutes:  1.1850793321927389\n",
      "training time per image in minutes:  0.019751322203212313\n",
      "train accuracy of best model:  0.95\n",
      "mean cross validated accuracy of best model:  0.65\n",
      "hyperparameters searched:  {'n_estimators': [100, 500, 1000], 'max_features': ['auto', 'sqrt'], 'max_depth': [10, 20, 30, 40, 50, 60], 'min_samples_split': [5, 10], 'min_samples_leaf': [2, 4], 'bootstrap': [True, False]}\n",
      "tuned hyperparameters:  {'bootstrap': True, 'max_depth': 60, 'max_features': 'sqrt', 'min_samples_leaf': 4, 'min_samples_split': 5, 'n_estimators': 100}\n"
     ]
    }
   ],
   "source": [
    "fit_random_forest_classifier(X_train, y_train, classifier_name)"
   ]
  }
 ],
 "metadata": {
  "kernelspec": {
   "display_name": "Python 3.11.4",
   "language": "python",
   "name": "python3"
  },
  "language_info": {
   "codemirror_mode": {
    "name": "ipython",
    "version": 3
   },
   "file_extension": ".py",
   "mimetype": "text/x-python",
   "name": "python",
   "nbconvert_exporter": "python",
   "pygments_lexer": "ipython3",
   "version": "3.11.4"
  },
  "vscode": {
   "interpreter": {
    "hash": "a7e314ba9f666ce3cc3d9c6ca90df4ff5d73fd085762bb8502c032e8e0761c3b"
   }
  }
 },
 "nbformat": 4,
 "nbformat_minor": 2
}
