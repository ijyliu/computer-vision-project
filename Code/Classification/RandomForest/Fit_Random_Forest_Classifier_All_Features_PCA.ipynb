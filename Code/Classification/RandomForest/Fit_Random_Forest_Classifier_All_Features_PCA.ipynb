{
 "cells": [
  {
   "cell_type": "markdown",
   "metadata": {},
   "source": [
    "# Fit Random Forest Classifier on All Features PCA Data"
   ]
  },
  {
   "cell_type": "code",
   "execution_count": 5,
   "metadata": {
    "execution": {
     "iopub.execute_input": "2024-04-07T22:19:46.067633Z",
     "iopub.status.busy": "2024-04-07T22:19:46.067165Z",
     "iopub.status.idle": "2024-04-07T22:19:48.413408Z",
     "shell.execute_reply": "2024-04-07T22:19:48.412160Z"
    }
   },
   "outputs": [],
   "source": [
    "# Packages\n",
    "from Random_Forest_Classifier_Functions import *"
   ]
  },
  {
   "cell_type": "code",
   "execution_count": 6,
   "metadata": {
    "execution": {
     "iopub.execute_input": "2024-04-07T22:19:48.418208Z",
     "iopub.status.busy": "2024-04-07T22:19:48.417907Z",
     "iopub.status.idle": "2024-04-07T22:19:48.421949Z",
     "shell.execute_reply": "2024-04-07T22:19:48.420977Z"
    }
   },
   "outputs": [],
   "source": [
    "# Set classifier name\n",
    "classifier_name = 'All_Features_PCA'"
   ]
  },
  {
   "cell_type": "code",
   "execution_count": 7,
   "metadata": {
    "execution": {
     "iopub.execute_input": "2024-04-07T22:19:48.426228Z",
     "iopub.status.busy": "2024-04-07T22:19:48.425974Z",
     "iopub.status.idle": "2024-04-07T22:19:48.430147Z",
     "shell.execute_reply": "2024-04-07T22:19:48.429075Z"
    }
   },
   "outputs": [],
   "source": [
    "# Sample run or not\n",
    "sample_run = False"
   ]
  },
  {
   "cell_type": "markdown",
   "metadata": {},
   "source": [
    "## Load Training Data"
   ]
  },
  {
   "cell_type": "code",
   "execution_count": 8,
   "metadata": {
    "execution": {
     "iopub.execute_input": "2024-04-07T22:19:48.435034Z",
     "iopub.status.busy": "2024-04-07T22:19:48.434711Z",
     "iopub.status.idle": "2024-04-07T22:19:51.489927Z",
     "shell.execute_reply": "2024-04-07T22:19:51.489426Z"
    }
   },
   "outputs": [
    {
     "name": "stdout",
     "output_type": "stream",
     "text": [
      "all training data\n",
      "           Class                             harmonized_filename  \\\n",
      "0          Sedan         Sedan_train_orig_test_01516_resized.jpg   \n",
      "1            SUV          SUV_train_orig_train_00294_resized.jpg   \n",
      "2    Convertible  Convertible_train_orig_train_04236_resized.jpg   \n",
      "3         Pickup       Pickup_train_orig_train_03906_resized.jpg   \n",
      "4            SUV           SUV_train_orig_test_01344_resized.jpg   \n",
      "..           ...                                             ...   \n",
      "370        Sedan        Sedan_train_orig_train_01922_resized.jpg   \n",
      "371        Sedan         Sedan_train_orig_test_05602_resized.jpg   \n",
      "372        Sedan         Sedan_train_orig_test_03912_resized.jpg   \n",
      "373  Convertible  Convertible_train_orig_train_06995_resized.jpg   \n",
      "374          SUV          SUV_train_orig_train_05988_resized.jpg   \n",
      "\n",
      "                                       image_path_blur  \\\n",
      "0    ../../../Images/train/Blurred/Sedan_train_orig...   \n",
      "1    ../../../Images/train/Blurred/SUV_train_orig_t...   \n",
      "2    ../../../Images/train/Blurred/Convertible_trai...   \n",
      "3    ../../../Images/train/Blurred/Pickup_train_ori...   \n",
      "4    ../../../Images/train/Blurred/SUV_train_orig_t...   \n",
      "..                                                 ...   \n",
      "370  ../../../Images/train/Blurred/Sedan_train_orig...   \n",
      "371  ../../../Images/train/Blurred/Sedan_train_orig...   \n",
      "372  ../../../Images/train/Blurred/Sedan_train_orig...   \n",
      "373  ../../../Images/train/Blurred/Convertible_trai...   \n",
      "374  ../../../Images/train/Blurred/SUV_train_orig_t...   \n",
      "\n",
      "                                    image_path_no_blur  All Features_PCA_0  \\\n",
      "0    ../../../Images/train/No_Blur/Sedan_train_orig...           -3.780501   \n",
      "1    ../../../Images/train/No_Blur/SUV_train_orig_t...           24.052466   \n",
      "2    ../../../Images/train/No_Blur/Convertible_trai...          -24.789901   \n",
      "3    ../../../Images/train/No_Blur/Pickup_train_ori...           31.209693   \n",
      "4    ../../../Images/train/No_Blur/SUV_train_orig_t...           13.561928   \n",
      "..                                                 ...                 ...   \n",
      "370  ../../../Images/train/No_Blur/Sedan_train_orig...          -18.182846   \n",
      "371  ../../../Images/train/No_Blur/Sedan_train_orig...           -6.994086   \n",
      "372  ../../../Images/train/No_Blur/Sedan_train_orig...            8.884255   \n",
      "373  ../../../Images/train/No_Blur/Convertible_trai...          -18.461488   \n",
      "374  ../../../Images/train/No_Blur/SUV_train_orig_t...           15.579932   \n",
      "\n",
      "     All Features_PCA_1  All Features_PCA_2  All Features_PCA_3  \\\n",
      "0             -1.817449            8.706007           -9.679778   \n",
      "1             -2.685585            7.599253           -6.197271   \n",
      "2             24.581438           21.386484          -13.411965   \n",
      "3             -7.972429           12.335894            6.382077   \n",
      "4             12.378206           21.995006          -17.856079   \n",
      "..                  ...                 ...                 ...   \n",
      "370           -0.573844            8.314368           10.886151   \n",
      "371          -21.390319            4.839550            4.305839   \n",
      "372          -12.698648          -10.969878           28.152978   \n",
      "373          -13.466681           19.817335           -0.723878   \n",
      "374          -15.394479          -12.941784           20.652200   \n",
      "\n",
      "     All Features_PCA_4  All Features_PCA_5  ...  All Features_PCA_1240  \\\n",
      "0              3.802446           30.792145  ...              -0.788811   \n",
      "1            -12.946408           -6.605353  ...              -0.284212   \n",
      "2             12.095373           -9.937232  ...              -0.153121   \n",
      "3             -7.079158           -8.030692  ...              -0.184901   \n",
      "4             -1.354425            6.100403  ...              -0.364838   \n",
      "..                  ...                 ...  ...                    ...   \n",
      "370           -8.635317            2.568706  ...              -0.245260   \n",
      "371           -0.562049            4.983119  ...               0.233572   \n",
      "372           -0.805095           -8.041846  ...               0.600598   \n",
      "373           -2.438499           -4.689307  ...               0.126545   \n",
      "374            6.985247            4.309748  ...               0.293654   \n",
      "\n",
      "     All Features_PCA_1241  All Features_PCA_1242  All Features_PCA_1243  \\\n",
      "0                 0.212799               0.080046               0.882347   \n",
      "1                 0.185958              -0.203562               0.637383   \n",
      "2                -0.529828               0.507799              -0.014615   \n",
      "3                -0.068405              -0.026684              -0.271665   \n",
      "4                 0.297000               1.399819               0.740682   \n",
      "..                     ...                    ...                    ...   \n",
      "370              -0.318843              -0.844843               0.592754   \n",
      "371              -0.383371               0.120882               0.627304   \n",
      "372               0.532161               0.138029              -0.210800   \n",
      "373              -0.248572               0.075208              -0.160092   \n",
      "374               0.168228              -0.470903               0.747682   \n",
      "\n",
      "     All Features_PCA_1244  All Features_PCA_1245  All Features_PCA_1246  \\\n",
      "0                 0.512600              -0.559694              -0.084644   \n",
      "1                -0.233308              -0.212903               0.258365   \n",
      "2                -0.173331              -0.066539               0.088690   \n",
      "3                 0.197894              -0.286354              -0.012828   \n",
      "4                 0.287526              -0.580016               0.072023   \n",
      "..                     ...                    ...                    ...   \n",
      "370              -0.161425               0.458261              -0.525640   \n",
      "371              -1.073841              -0.495448               0.501952   \n",
      "372               0.093379              -0.030320              -0.339814   \n",
      "373              -0.159479              -0.290332               0.079392   \n",
      "374               0.456953               0.295458               0.950542   \n",
      "\n",
      "     All Features_PCA_1247  All Features_PCA_1248  All Features_PCA_1249  \n",
      "0                -0.051200               1.430595              -0.996111  \n",
      "1                -0.622498               0.595963               0.397052  \n",
      "2                 0.244770               1.474125               0.351973  \n",
      "3                -0.967987              -0.012850              -0.127744  \n",
      "4                 0.544022              -0.440140              -0.025669  \n",
      "..                     ...                    ...                    ...  \n",
      "370               1.152464               0.157808               0.161093  \n",
      "371               0.089593              -0.373281              -0.626297  \n",
      "372              -0.221743              -0.256005               0.633202  \n",
      "373              -0.136783              -0.480106               0.714859  \n",
      "374               0.070292              -0.690545              -0.158120  \n",
      "\n",
      "[6003 rows x 1254 columns]\n"
     ]
    }
   ],
   "source": [
    "training_data = combine_directory_parquets('../../../Data/Features/All Features All Features PCA/train')\n",
    "print('all training data')\n",
    "print(training_data)\n",
    "\n",
    "# If sample run, take a sample of the data and a reduced number of features\n",
    "if sample_run:\n",
    "    training_data = training_data.sample(frac=0.01).iloc[:, 0:10]"
   ]
  },
  {
   "cell_type": "markdown",
   "metadata": {},
   "source": [
    "## Prepare Matrices"
   ]
  },
  {
   "cell_type": "code",
   "execution_count": 9,
   "metadata": {
    "execution": {
     "iopub.execute_input": "2024-04-07T22:19:51.562760Z",
     "iopub.status.busy": "2024-04-07T22:19:51.562172Z",
     "iopub.status.idle": "2024-04-07T22:19:51.726753Z",
     "shell.execute_reply": "2024-04-07T22:19:51.725880Z"
    }
   },
   "outputs": [],
   "source": [
    "X_train, y_train = prepare_matrices(training_data)"
   ]
  },
  {
   "cell_type": "markdown",
   "metadata": {},
   "source": [
    "## Fit Classifier"
   ]
  },
  {
   "cell_type": "code",
   "execution_count": 10,
   "metadata": {
    "execution": {
     "iopub.execute_input": "2024-04-07T22:19:51.731393Z",
     "iopub.status.busy": "2024-04-07T22:19:51.731223Z",
     "iopub.status.idle": "2024-04-08T02:27:26.472654Z",
     "shell.execute_reply": "2024-04-08T02:27:26.472165Z"
    }
   },
   "outputs": [
    {
     "name": "stdout",
     "output_type": "stream",
     "text": [
      "hyperparameter settings\n",
      "{'n_estimators': [100, 500, 1000], 'max_features': ['sqrt'], 'max_depth': [10, 20, 30, 40, 50, 60], 'min_samples_split': [5, 10], 'min_samples_leaf': [2, 4], 'bootstrap': [True, False]}\n",
      "Unexpected exception formatting exception. Falling back to standard exception\n"
     ]
    },
    {
     "name": "stderr",
     "output_type": "stream",
     "text": [
      "Traceback (most recent call last):\n",
      "  File \"c:\\Users\\ijyli\\miniforge3\\envs\\computervision\\Lib\\site-packages\\IPython\\core\\interactiveshell.py\", line 3553, in run_code\n",
      "    exec(code_obj, self.user_global_ns, self.user_ns)\n",
      "  File \"C:\\Users\\ijyli\\AppData\\Local\\Temp\\ipykernel_18524\\126223068.py\", line 1, in <module>\n",
      "    fit_random_forest_classifier(X_train, y_train, classifier_name)\n",
      "  File \"c:\\Users\\ijyli\\repo\\computer-vision-project\\Code\\Classification\\RandomForest\\Random_Forest_Classifier_Functions.py\", line 77, in fit_random_forest_classifier\n",
      "    gs = GridSearchCV(rf, hyperparameter_settings, scoring='accuracy', cv=5, n_jobs=-1).fit(X_train, y_train)\n",
      "         ^^^^^^^^^^^^^^^^^^^^^^^^^^^^^^^^^^^^^^^^^^^^^^^^^^^^^^^^^^^^^^^^^^^^^^^^^^^^^^^^^^^^^^^^^^^^^^^^^^^^\n",
      "  File \"c:\\Users\\ijyli\\miniforge3\\envs\\computervision\\Lib\\site-packages\\sklearn\\base.py\", line 1151, in wrapper\n",
      "    return fit_method(estimator, *args, **kwargs)\n",
      "           ^^^^^^^^^^^^^^^^^^^^^^^^^^^^^^^^^^^^^^\n",
      "  File \"c:\\Users\\ijyli\\miniforge3\\envs\\computervision\\Lib\\site-packages\\sklearn\\model_selection\\_search.py\", line 898, in fit\n",
      "    self._run_search(evaluate_candidates)\n",
      "  File \"c:\\Users\\ijyli\\miniforge3\\envs\\computervision\\Lib\\site-packages\\sklearn\\model_selection\\_search.py\", line 1419, in _run_search\n",
      "    evaluate_candidates(ParameterGrid(self.param_grid))\n",
      "  File \"c:\\Users\\ijyli\\miniforge3\\envs\\computervision\\Lib\\site-packages\\sklearn\\model_selection\\_search.py\", line 845, in evaluate_candidates\n",
      "    out = parallel(\n",
      "          ^^^^^^^^^\n",
      "  File \"c:\\Users\\ijyli\\miniforge3\\envs\\computervision\\Lib\\site-packages\\sklearn\\utils\\parallel.py\", line 65, in __call__\n",
      "    return super().__call__(iterable_with_config)\n",
      "           ^^^^^^^^^^^^^^^^^^^^^^^^^^^^^^^^^^^^^^\n",
      "  File \"c:\\Users\\ijyli\\miniforge3\\envs\\computervision\\Lib\\site-packages\\joblib\\parallel.py\", line 1098, in __call__\n",
      "    self.retrieve()\n",
      "  File \"c:\\Users\\ijyli\\miniforge3\\envs\\computervision\\Lib\\site-packages\\joblib\\parallel.py\", line 975, in retrieve\n",
      "    self._output.extend(job.get(timeout=self.timeout))\n",
      "                        ^^^^^^^^^^^^^^^^^^^^^^^^^^^^^\n",
      "  File \"c:\\Users\\ijyli\\miniforge3\\envs\\computervision\\Lib\\site-packages\\joblib\\_parallel_backends.py\", line 567, in wrap_future_result\n",
      "    return future.result(timeout=timeout)\n",
      "           ^^^^^^^^^^^^^^^^^^^^^^^^^^^^^^\n",
      "  File \"c:\\Users\\ijyli\\miniforge3\\envs\\computervision\\Lib\\concurrent\\futures\\_base.py\", line 451, in result\n",
      "    self._condition.wait(timeout)\n",
      "  File \"c:\\Users\\ijyli\\miniforge3\\envs\\computervision\\Lib\\threading.py\", line 334, in wait\n",
      "    waiter.acquire()\n",
      "KeyboardInterrupt\n",
      "\n",
      "During handling of the above exception, another exception occurred:\n",
      "\n",
      "Traceback (most recent call last):\n",
      "  File \"c:\\Users\\ijyli\\miniforge3\\envs\\computervision\\Lib\\site-packages\\IPython\\core\\interactiveshell.py\", line 2144, in showtraceback\n",
      "    stb = self.InteractiveTB.structured_traceback(\n",
      "          ^^^^^^^^^^^^^^^^^^^^^^^^^^^^^^^^^^^^^^^^\n",
      "  File \"c:\\Users\\ijyli\\miniforge3\\envs\\computervision\\Lib\\site-packages\\IPython\\core\\ultratb.py\", line 1435, in structured_traceback\n",
      "    return FormattedTB.structured_traceback(\n",
      "           ^^^^^^^^^^^^^^^^^^^^^^^^^^^^^^^^^\n",
      "  File \"c:\\Users\\ijyli\\miniforge3\\envs\\computervision\\Lib\\site-packages\\IPython\\core\\ultratb.py\", line 1326, in structured_traceback\n",
      "    return VerboseTB.structured_traceback(\n",
      "           ^^^^^^^^^^^^^^^^^^^^^^^^^^^^^^^\n",
      "  File \"c:\\Users\\ijyli\\miniforge3\\envs\\computervision\\Lib\\site-packages\\IPython\\core\\ultratb.py\", line 1173, in structured_traceback\n",
      "    formatted_exception = self.format_exception_as_a_whole(etype, evalue, etb, number_of_lines_of_context,\n",
      "                          ^^^^^^^^^^^^^^^^^^^^^^^^^^^^^^^^^^^^^^^^^^^^^^^^^^^^^^^^^^^^^^^^^^^^^^^^^^^^^^^^\n",
      "  File \"c:\\Users\\ijyli\\miniforge3\\envs\\computervision\\Lib\\site-packages\\IPython\\core\\ultratb.py\", line 1088, in format_exception_as_a_whole\n",
      "    frames.append(self.format_record(record))\n",
      "                  ^^^^^^^^^^^^^^^^^^^^^^^^^^\n",
      "  File \"c:\\Users\\ijyli\\miniforge3\\envs\\computervision\\Lib\\site-packages\\IPython\\core\\ultratb.py\", line 970, in format_record\n",
      "    frame_info.lines, Colors, self.has_colors, lvals\n",
      "    ^^^^^^^^^^^^^^^^\n",
      "  File \"c:\\Users\\ijyli\\miniforge3\\envs\\computervision\\Lib\\site-packages\\IPython\\core\\ultratb.py\", line 792, in lines\n",
      "    return self._sd.lines\n",
      "           ^^^^^^^^^^^^^^\n",
      "  File \"c:\\Users\\ijyli\\miniforge3\\envs\\computervision\\Lib\\site-packages\\stack_data\\utils.py\", line 144, in cached_property_wrapper\n",
      "    value = obj.__dict__[self.func.__name__] = self.func(obj)\n",
      "                                               ^^^^^^^^^^^^^^\n",
      "  File \"c:\\Users\\ijyli\\miniforge3\\envs\\computervision\\Lib\\site-packages\\stack_data\\core.py\", line 734, in lines\n",
      "    pieces = self.included_pieces\n",
      "             ^^^^^^^^^^^^^^^^^^^^\n",
      "  File \"c:\\Users\\ijyli\\miniforge3\\envs\\computervision\\Lib\\site-packages\\stack_data\\utils.py\", line 144, in cached_property_wrapper\n",
      "    value = obj.__dict__[self.func.__name__] = self.func(obj)\n",
      "                                               ^^^^^^^^^^^^^^\n",
      "  File \"c:\\Users\\ijyli\\miniforge3\\envs\\computervision\\Lib\\site-packages\\stack_data\\core.py\", line 677, in included_pieces\n",
      "    scope_pieces = self.scope_pieces\n",
      "                   ^^^^^^^^^^^^^^^^^\n",
      "  File \"c:\\Users\\ijyli\\miniforge3\\envs\\computervision\\Lib\\site-packages\\stack_data\\utils.py\", line 144, in cached_property_wrapper\n",
      "    value = obj.__dict__[self.func.__name__] = self.func(obj)\n",
      "                                               ^^^^^^^^^^^^^^\n",
      "  File \"c:\\Users\\ijyli\\miniforge3\\envs\\computervision\\Lib\\site-packages\\stack_data\\core.py\", line 614, in scope_pieces\n",
      "    scope_start, scope_end = self.source.line_range(self.scope)\n",
      "                             ^^^^^^^^^^^^^^^^^^^^^^^^^^^^^^^^^^\n",
      "  File \"c:\\Users\\ijyli\\miniforge3\\envs\\computervision\\Lib\\site-packages\\stack_data\\core.py\", line 178, in line_range\n",
      "    return line_range(self.asttext(), node)\n",
      "                      ^^^^^^^^^^^^\n",
      "AttributeError: 'Source' object has no attribute 'asttext'\n"
     ]
    }
   ],
   "source": [
    "fit_random_forest_classifier(X_train, y_train, classifier_name)"
   ]
  }
 ],
 "metadata": {
  "kernelspec": {
   "display_name": "Python 3.11.4",
   "language": "python",
   "name": "python3"
  },
  "language_info": {
   "codemirror_mode": {
    "name": "ipython",
    "version": 3
   },
   "file_extension": ".py",
   "mimetype": "text/x-python",
   "name": "python",
   "nbconvert_exporter": "python",
   "pygments_lexer": "ipython3",
   "version": "3.12.0"
  },
  "vscode": {
   "interpreter": {
    "hash": "a7e314ba9f666ce3cc3d9c6ca90df4ff5d73fd085762bb8502c032e8e0761c3b"
   }
  }
 },
 "nbformat": 4,
 "nbformat_minor": 2
}
