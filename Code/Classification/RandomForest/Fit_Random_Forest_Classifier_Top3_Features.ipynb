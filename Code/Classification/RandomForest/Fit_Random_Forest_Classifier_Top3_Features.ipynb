{
 "cells": [
  {
   "cell_type": "markdown",
   "metadata": {},
   "source": [
    "# Fit Random Forest Classifier on Top3_Features"
   ]
  },
  {
   "cell_type": "code",
   "execution_count": 1,
   "metadata": {
    "execution": {
     "iopub.execute_input": "2024-04-15T00:26:18.311826Z",
     "iopub.status.busy": "2024-04-15T00:26:18.311523Z",
     "iopub.status.idle": "2024-04-15T00:26:19.344348Z",
     "shell.execute_reply": "2024-04-15T00:26:19.343945Z"
    }
   },
   "outputs": [],
   "source": [
    "# Packages\n",
    "from Random_Forest_Classifier_Functions import *"
   ]
  },
  {
   "cell_type": "code",
   "execution_count": 2,
   "metadata": {
    "execution": {
     "iopub.execute_input": "2024-04-15T00:26:19.346983Z",
     "iopub.status.busy": "2024-04-15T00:26:19.346690Z",
     "iopub.status.idle": "2024-04-15T00:26:19.348968Z",
     "shell.execute_reply": "2024-04-15T00:26:19.348699Z"
    }
   },
   "outputs": [],
   "source": [
    "# Set classifier name\n",
    "classifier_name = 'Top3_Features'"
   ]
  },
  {
   "cell_type": "code",
   "execution_count": 3,
   "metadata": {
    "execution": {
     "iopub.execute_input": "2024-04-15T00:26:19.350464Z",
     "iopub.status.busy": "2024-04-15T00:26:19.350332Z",
     "iopub.status.idle": "2024-04-15T00:26:19.352095Z",
     "shell.execute_reply": "2024-04-15T00:26:19.351833Z"
    }
   },
   "outputs": [],
   "source": [
    "# Sample run or not\n",
    "sample_run = False"
   ]
  },
  {
   "cell_type": "markdown",
   "metadata": {},
   "source": [
    "## Load Training Data"
   ]
  },
  {
   "cell_type": "code",
   "execution_count": 4,
   "metadata": {
    "execution": {
     "iopub.execute_input": "2024-04-15T00:26:19.353858Z",
     "iopub.status.busy": "2024-04-15T00:26:19.353621Z",
     "iopub.status.idle": "2024-04-15T00:26:20.435585Z",
     "shell.execute_reply": "2024-04-15T00:26:20.435131Z"
    }
   },
   "outputs": [
    {
     "name": "stdout",
     "output_type": "stream",
     "text": [
      "Top3_Features training data\n",
      "      Class                       harmonized_filename  \\\n",
      "0     Sedan  Sedan_train_orig_train_03288_resized.jpg   \n",
      "1       SUV    SUV_train_orig_train_07585_resized.jpg   \n",
      "2     Sedan  Sedan_train_orig_train_04237_resized.jpg   \n",
      "3     Sedan   Sedan_train_orig_test_03262_resized.jpg   \n",
      "4     Sedan  Sedan_train_orig_train_00285_resized.jpg   \n",
      "..      ...                                       ...   \n",
      "370   Sedan  Sedan_train_orig_train_00584_resized.jpg   \n",
      "371  Pickup     SUV_train_orig_test_03496_resized.jpg   \n",
      "372   Sedan  Sedan_train_orig_train_04536_resized.jpg   \n",
      "373   Sedan   Sedan_train_orig_test_03563_resized.jpg   \n",
      "374     SUV     SUV_train_orig_test_00825_resized.jpg   \n",
      "\n",
      "                                       image_path_blur  \\\n",
      "0    ../../../Images/train/Blurred/Sedan_train_orig...   \n",
      "1    ../../../Images/train/Blurred/SUV_train_orig_t...   \n",
      "2    ../../../Images/train/Blurred/Sedan_train_orig...   \n",
      "3    ../../../Images/train/Blurred/Sedan_train_orig...   \n",
      "4    ../../../Images/train/Blurred/Sedan_train_orig...   \n",
      "..                                                 ...   \n",
      "370  ../../../Images/train/Blurred/Sedan_train_orig...   \n",
      "371  ../../../Images/train/Blurred/SUV_train_orig_t...   \n",
      "372  ../../../Images/train/Blurred/Sedan_train_orig...   \n",
      "373  ../../../Images/train/Blurred/Sedan_train_orig...   \n",
      "374  ../../../Images/train/Blurred/SUV_train_orig_t...   \n",
      "\n",
      "                                    image_path_no_blur  HSV_0  HSV_1  HSV_2  \\\n",
      "0    ../../../Images/train/No_Blur/Sedan_train_orig...   2965     21     18   \n",
      "1    ../../../Images/train/No_Blur/SUV_train_orig_t...   2401      4      2   \n",
      "2    ../../../Images/train/No_Blur/Sedan_train_orig...   4188    118     89   \n",
      "3    ../../../Images/train/No_Blur/Sedan_train_orig...   1444      4     15   \n",
      "4    ../../../Images/train/No_Blur/Sedan_train_orig...  16545      2     18   \n",
      "..                                                 ...    ...    ...    ...   \n",
      "370  ../../../Images/train/No_Blur/Sedan_train_orig...   9795      5      5   \n",
      "371  ../../../Images/train/No_Blur/SUV_train_orig_t...   2845   1303   1669   \n",
      "372  ../../../Images/train/No_Blur/Sedan_train_orig...   1918    131    113   \n",
      "373  ../../../Images/train/No_Blur/Sedan_train_orig...   2136      5     10   \n",
      "374  ../../../Images/train/No_Blur/SUV_train_orig_t...   2761     32     28   \n",
      "\n",
      "     HSV_3  HSV_4  HSV_5  ...  VGG_Embedding_Element_502  \\\n",
      "0       22      0      5  ...                   0.068520   \n",
      "1       13      6      2  ...                   0.185066   \n",
      "2       61     52     40  ...                   0.168606   \n",
      "3       37      8      6  ...                   0.000000   \n",
      "4       21      3      5  ...                   0.043784   \n",
      "..     ...    ...    ...  ...                        ...   \n",
      "370      2      4      6  ...                   0.042972   \n",
      "371   2064   2484   2518  ...                   0.153382   \n",
      "372    113    107    108  ...                   0.000000   \n",
      "373     12     12     17  ...                   0.420666   \n",
      "374     44     15     27  ...                   0.015418   \n",
      "\n",
      "     VGG_Embedding_Element_503  VGG_Embedding_Element_504  \\\n",
      "0                     0.245923                   0.265898   \n",
      "1                     0.419695                   0.282230   \n",
      "2                     1.126409                   0.014857   \n",
      "3                     0.682249                   0.505969   \n",
      "4                     0.052729                   0.000000   \n",
      "..                         ...                        ...   \n",
      "370                   0.003706                   0.088194   \n",
      "371                   1.079071                   0.204037   \n",
      "372                   0.000000                   0.062211   \n",
      "373                   0.101877                   0.192068   \n",
      "374                   0.540698                   0.254100   \n",
      "\n",
      "     VGG_Embedding_Element_505  VGG_Embedding_Element_506  \\\n",
      "0                     0.000000                   0.000000   \n",
      "1                     0.000000                   0.000000   \n",
      "2                     0.000000                   0.000000   \n",
      "3                     0.000000                   0.000000   \n",
      "4                     0.000000                   0.000000   \n",
      "..                         ...                        ...   \n",
      "370                   0.010124                   0.000000   \n",
      "371                   0.041157                   0.059563   \n",
      "372                   0.000000                   0.000000   \n",
      "373                   0.110953                   0.000000   \n",
      "374                   0.000000                   0.131235   \n",
      "\n",
      "     VGG_Embedding_Element_507  VGG_Embedding_Element_508  \\\n",
      "0                     0.022708                   0.169460   \n",
      "1                     0.061978                   0.075444   \n",
      "2                     0.051714                   0.000000   \n",
      "3                     0.000000                   0.066378   \n",
      "4                     0.082231                   0.304175   \n",
      "..                         ...                        ...   \n",
      "370                   0.022942                   0.024802   \n",
      "371                   0.252593                   0.060600   \n",
      "372                   0.031490                   0.026626   \n",
      "373                   0.000000                   0.308141   \n",
      "374                   0.153392                   0.027624   \n",
      "\n",
      "     VGG_Embedding_Element_509  VGG_Embedding_Element_510  \\\n",
      "0                     0.999265                   0.837819   \n",
      "1                     0.851132                   0.212112   \n",
      "2                     0.655338                   0.038927   \n",
      "3                     0.126800                   0.307204   \n",
      "4                     0.353385                   0.239815   \n",
      "..                         ...                        ...   \n",
      "370                   0.608959                   0.152497   \n",
      "371                   0.173828                   0.626874   \n",
      "372                   0.505696                   0.434206   \n",
      "373                   0.231855                   0.200215   \n",
      "374                   0.411518                   0.150222   \n",
      "\n",
      "     VGG_Embedding_Element_511  \n",
      "0                     0.000000  \n",
      "1                     0.541119  \n",
      "2                     0.000000  \n",
      "3                     0.063123  \n",
      "4                     0.072161  \n",
      "..                         ...  \n",
      "370                   0.000000  \n",
      "371                   0.140817  \n",
      "372                   0.062028  \n",
      "373                   0.002272  \n",
      "374                   0.063276  \n",
      "\n",
      "[6003 rows x 1309 columns]\n"
     ]
    }
   ],
   "source": [
    "training_data = combine_directory_parquets('../../../Data/Features/Top3_Features/train')\n",
    "print('Top3_Features training data')\n",
    "print(training_data)\n",
    "\n",
    "# If sample run, take a sample of the data and a reduced number of features\n",
    "if sample_run:\n",
    "    training_data = training_data.sample(frac=0.01).iloc[:, 0:10]"
   ]
  },
  {
   "cell_type": "markdown",
   "metadata": {},
   "source": [
    "## Prepare Matrices"
   ]
  },
  {
   "cell_type": "code",
   "execution_count": 5,
   "metadata": {
    "execution": {
     "iopub.execute_input": "2024-04-15T00:26:20.485250Z",
     "iopub.status.busy": "2024-04-15T00:26:20.484990Z",
     "iopub.status.idle": "2024-04-15T00:26:20.581063Z",
     "shell.execute_reply": "2024-04-15T00:26:20.580557Z"
    }
   },
   "outputs": [],
   "source": [
    "X_train, y_train = prepare_matrices(training_data)"
   ]
  },
  {
   "cell_type": "markdown",
   "metadata": {},
   "source": [
    "## Fit Classifier"
   ]
  },
  {
   "cell_type": "code",
   "execution_count": 6,
   "metadata": {
    "execution": {
     "iopub.execute_input": "2024-04-15T00:26:20.583441Z",
     "iopub.status.busy": "2024-04-15T00:26:20.583254Z",
     "iopub.status.idle": "2024-04-15T01:14:35.563914Z",
     "shell.execute_reply": "2024-04-15T01:14:35.563029Z"
    }
   },
   "outputs": [
    {
     "name": "stdout",
     "output_type": "stream",
     "text": [
      "hyperparameter settings\n",
      "{'n_estimators': [500, 1000, 1500], 'max_features': ['sqrt'], 'max_depth': [20, 40, 60, 80], 'bootstrap': [True, False], 'min_samples_leaf': [1, 2]}\n"
     ]
    },
    {
     "name": "stdout",
     "output_type": "stream",
     "text": [
      "training time in minutes:  48.222123980522156\n",
      "training time per image in minutes:  0.00803300416133969\n"
     ]
    },
    {
     "name": "stdout",
     "output_type": "stream",
     "text": [
      "train accuracy of best model:  1.0\n",
      "mean cross validated accuracy of best model:  0.7932697751873439\n",
      "hyperparameters searched:  {'n_estimators': [500, 1000, 1500], 'max_features': ['sqrt'], 'max_depth': [20, 40, 60, 80], 'bootstrap': [True, False], 'min_samples_leaf': [1, 2]}\n",
      "tuned hyperparameters:  {'bootstrap': False, 'max_depth': 80, 'max_features': 'sqrt', 'min_samples_leaf': 2, 'n_estimators': 500}\n"
     ]
    }
   ],
   "source": [
    "fit_random_forest_classifier(X_train, y_train, classifier_name)"
   ]
  }
 ],
 "metadata": {
  "kernelspec": {
   "display_name": "Python 3",
   "language": "python",
   "name": "python3"
  },
  "language_info": {
   "codemirror_mode": {
    "name": "ipython",
    "version": 3
   },
   "file_extension": ".py",
   "mimetype": "text/x-python",
   "name": "python",
   "nbconvert_exporter": "python",
   "pygments_lexer": "ipython3",
   "version": "3.11.8"
  }
 },
 "nbformat": 4,
 "nbformat_minor": 2
}
