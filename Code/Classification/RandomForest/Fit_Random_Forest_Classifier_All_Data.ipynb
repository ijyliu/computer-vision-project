{
 "cells": [
  {
   "cell_type": "markdown",
   "metadata": {},
   "source": [
    "# Fit Random Forest Classifier on All Data"
   ]
  },
  {
   "cell_type": "code",
   "execution_count": 1,
   "metadata": {
    "execution": {
     "iopub.execute_input": "2024-04-07T22:19:26.204339Z",
     "iopub.status.busy": "2024-04-07T22:19:26.203565Z",
     "iopub.status.idle": "2024-04-07T22:19:28.250013Z",
     "shell.execute_reply": "2024-04-07T22:19:28.249098Z"
    }
   },
   "outputs": [],
   "source": [
    "# Packages\n",
    "from Random_Forest_Classifier_Functions import *"
   ]
  },
  {
   "cell_type": "code",
   "execution_count": 2,
   "metadata": {
    "execution": {
     "iopub.execute_input": "2024-04-07T22:19:28.254821Z",
     "iopub.status.busy": "2024-04-07T22:19:28.254476Z",
     "iopub.status.idle": "2024-04-07T22:19:28.257798Z",
     "shell.execute_reply": "2024-04-07T22:19:28.257222Z"
    }
   },
   "outputs": [],
   "source": [
    "# Set classifier name\n",
    "classifier_name = 'All_Data'"
   ]
  },
  {
   "cell_type": "code",
   "execution_count": 3,
   "metadata": {
    "execution": {
     "iopub.execute_input": "2024-04-07T22:19:28.262074Z",
     "iopub.status.busy": "2024-04-07T22:19:28.261823Z",
     "iopub.status.idle": "2024-04-07T22:19:28.264793Z",
     "shell.execute_reply": "2024-04-07T22:19:28.264226Z"
    }
   },
   "outputs": [],
   "source": [
    "# Sample run or not\n",
    "sample_run = False"
   ]
  },
  {
   "cell_type": "markdown",
   "metadata": {},
   "source": [
    "## Load Training Data"
   ]
  },
  {
   "cell_type": "code",
   "execution_count": 4,
   "metadata": {
    "execution": {
     "iopub.execute_input": "2024-04-07T22:19:28.269269Z",
     "iopub.status.busy": "2024-04-07T22:19:28.269037Z",
     "iopub.status.idle": "2024-04-07T22:19:37.570307Z",
     "shell.execute_reply": "2024-04-07T22:19:37.569300Z"
    }
   },
   "outputs": [
    {
     "name": "stdout",
     "output_type": "stream",
     "text": [
      "all training data\n",
      "           Class                             harmonized_filename  \\\n",
      "0         Pickup       Pickup_train_orig_train_02014_resized.jpg   \n",
      "1          Sedan         Sedan_train_orig_test_03371_resized.jpg   \n",
      "2          Sedan        Sedan_train_orig_train_01087_resized.jpg   \n",
      "3          Sedan         Sedan_train_orig_test_05800_resized.jpg   \n",
      "4          Sedan        Sedan_train_orig_train_01720_resized.jpg   \n",
      "..           ...                                             ...   \n",
      "370          SUV           SUV_train_orig_test_06741_resized.jpg   \n",
      "371  Convertible  Convertible_train_orig_train_03194_resized.jpg   \n",
      "372        Sedan         Sedan_train_orig_test_07086_resized.jpg   \n",
      "373       Pickup        Pickup_train_orig_test_04744_resized.jpg   \n",
      "374  Convertible  Convertible_train_orig_train_05719_resized.jpg   \n",
      "\n",
      "                                       image_path_blur  \\\n",
      "0    ../../../Images/train/Blurred/Pickup_train_ori...   \n",
      "1    ../../../Images/train/Blurred/Sedan_train_orig...   \n",
      "2    ../../../Images/train/Blurred/Sedan_train_orig...   \n",
      "3    ../../../Images/train/Blurred/Sedan_train_orig...   \n",
      "4    ../../../Images/train/Blurred/Sedan_train_orig...   \n",
      "..                                                 ...   \n",
      "370  ../../../Images/train/Blurred/SUV_train_orig_t...   \n",
      "371  ../../../Images/train/Blurred/Convertible_trai...   \n",
      "372  ../../../Images/train/Blurred/Sedan_train_orig...   \n",
      "373  ../../../Images/train/Blurred/Pickup_train_ori...   \n",
      "374  ../../../Images/train/Blurred/Convertible_trai...   \n",
      "\n",
      "                                    image_path_no_blur  \\\n",
      "0    ../../../Images/train/No_Blur/Pickup_train_ori...   \n",
      "1    ../../../Images/train/No_Blur/Sedan_train_orig...   \n",
      "2    ../../../Images/train/No_Blur/Sedan_train_orig...   \n",
      "3    ../../../Images/train/No_Blur/Sedan_train_orig...   \n",
      "4    ../../../Images/train/No_Blur/Sedan_train_orig...   \n",
      "..                                                 ...   \n",
      "370  ../../../Images/train/No_Blur/SUV_train_orig_t...   \n",
      "371  ../../../Images/train/No_Blur/Convertible_trai...   \n",
      "372  ../../../Images/train/No_Blur/Sedan_train_orig...   \n",
      "373  ../../../Images/train/No_Blur/Pickup_train_ori...   \n",
      "374  ../../../Images/train/No_Blur/Convertible_trai...   \n",
      "\n",
      "     ViT_Embedding_Element_0  ViT_Embedding_Element_1  \\\n",
      "0                  -0.440284                 0.279516   \n",
      "1                  -0.138772                 0.006297   \n",
      "2                  -0.262150                 0.140860   \n",
      "3                  -0.146410                 0.289804   \n",
      "4                  -0.226553                 0.007174   \n",
      "..                       ...                      ...   \n",
      "370                -0.239391                 0.165558   \n",
      "371                 0.017532                -0.003061   \n",
      "372                -0.165545                 0.438279   \n",
      "373                -0.420587                 0.177563   \n",
      "374                -0.276439                 0.381539   \n",
      "\n",
      "     ViT_Embedding_Element_2  ViT_Embedding_Element_3  \\\n",
      "0                   0.112816                -0.164339   \n",
      "1                   0.017159                -0.368060   \n",
      "2                   0.011239                -0.213304   \n",
      "3                  -0.115417                -0.396354   \n",
      "4                  -0.116793                -0.478734   \n",
      "..                       ...                      ...   \n",
      "370                -0.066215                -0.410301   \n",
      "371                -0.332836                -0.370449   \n",
      "372                 0.123479                -0.372294   \n",
      "373                -0.078176                -0.264531   \n",
      "374                -0.188567                -0.333177   \n",
      "\n",
      "     ViT_Embedding_Element_4  ViT_Embedding_Element_5  ...  \\\n",
      "0                  -0.144242                 0.374242  ...   \n",
      "1                   0.083312                 0.275344  ...   \n",
      "2                  -0.573705                 0.244731  ...   \n",
      "3                  -0.490808                 0.480852  ...   \n",
      "4                  -0.076380                 0.429462  ...   \n",
      "..                       ...                      ...  ...   \n",
      "370                -0.196426                 0.291246  ...   \n",
      "371                 0.029328                 0.281718  ...   \n",
      "372                 0.202333                 0.386767  ...   \n",
      "373                -0.348283                 0.330579  ...   \n",
      "374                 0.195207                 0.279392  ...   \n",
      "\n",
      "     VGG_Embedding_Element_502  VGG_Embedding_Element_503  \\\n",
      "0                     0.015193                   1.136281   \n",
      "1                     0.042679                   0.866493   \n",
      "2                     0.478943                   0.111787   \n",
      "3                     0.042551                   0.281891   \n",
      "4                     0.027471                   1.517789   \n",
      "..                         ...                        ...   \n",
      "370                   0.060643                   0.115438   \n",
      "371                   0.058240                   0.132724   \n",
      "372                   0.037796                   0.388903   \n",
      "373                   0.000000                   0.436663   \n",
      "374                   0.027946                   0.624038   \n",
      "\n",
      "     VGG_Embedding_Element_504  VGG_Embedding_Element_505  \\\n",
      "0                     0.334297                   0.006272   \n",
      "1                     0.075713                   0.000000   \n",
      "2                     0.074151                   0.014714   \n",
      "3                     0.467090                   0.000000   \n",
      "4                     0.285491                   0.021864   \n",
      "..                         ...                        ...   \n",
      "370                   0.131283                   0.000000   \n",
      "371                   0.482398                   0.000000   \n",
      "372                   0.261520                   0.052679   \n",
      "373                   0.045767                   0.000000   \n",
      "374                   0.386649                   0.000000   \n",
      "\n",
      "     VGG_Embedding_Element_506  VGG_Embedding_Element_507  \\\n",
      "0                     0.000000                   0.335663   \n",
      "1                     0.000000                   0.000618   \n",
      "2                     0.000000                   0.091857   \n",
      "3                     0.003971                   0.042616   \n",
      "4                     0.018889                   0.007682   \n",
      "..                         ...                        ...   \n",
      "370                   0.000000                   0.233349   \n",
      "371                   0.023278                   0.040898   \n",
      "372                   0.008912                   0.008629   \n",
      "373                   0.000000                   0.001340   \n",
      "374                   0.000000                   0.040036   \n",
      "\n",
      "     VGG_Embedding_Element_508  VGG_Embedding_Element_509  \\\n",
      "0                     0.142557                   0.162502   \n",
      "1                     0.033054                   0.341689   \n",
      "2                     0.045422                   0.430004   \n",
      "3                     0.028649                   0.288409   \n",
      "4                     0.080250                   0.036420   \n",
      "..                         ...                        ...   \n",
      "370                   0.053879                   0.210898   \n",
      "371                   0.174572                   0.053352   \n",
      "372                   0.127326                   0.319184   \n",
      "373                   0.213249                   0.000000   \n",
      "374                   0.011239                   0.278036   \n",
      "\n",
      "     VGG_Embedding_Element_510  VGG_Embedding_Element_511  \n",
      "0                     0.271791                   0.670488  \n",
      "1                     0.442764                   0.000000  \n",
      "2                     0.651348                   0.000000  \n",
      "3                     0.269555                   0.000000  \n",
      "4                     0.413217                   0.000000  \n",
      "..                         ...                        ...  \n",
      "370                   0.061914                   0.005600  \n",
      "371                   1.128099                   0.016985  \n",
      "372                   0.080151                   0.000000  \n",
      "373                   0.425962                   0.000000  \n",
      "374                   0.000000                   0.066800  \n",
      "\n",
      "[6003 rows x 4893 columns]\n"
     ]
    }
   ],
   "source": [
    "training_data = combine_directory_parquets('../../../Data/Features/All Features/train')\n",
    "print('all training data')\n",
    "print(training_data)\n",
    "\n",
    "# If sample run, take a sample of the data and a reduced number of features\n",
    "if sample_run:\n",
    "    training_data = training_data.sample(frac=0.01).iloc[:, 0:10]"
   ]
  },
  {
   "cell_type": "markdown",
   "metadata": {},
   "source": [
    "## Prepare Matrices"
   ]
  },
  {
   "cell_type": "code",
   "execution_count": 5,
   "metadata": {
    "execution": {
     "iopub.execute_input": "2024-04-07T22:19:37.650084Z",
     "iopub.status.busy": "2024-04-07T22:19:37.649695Z",
     "iopub.status.idle": "2024-04-07T22:19:38.560840Z",
     "shell.execute_reply": "2024-04-07T22:19:38.560060Z"
    }
   },
   "outputs": [],
   "source": [
    "X_train, y_train = prepare_matrices(training_data)"
   ]
  },
  {
   "cell_type": "markdown",
   "metadata": {},
   "source": [
    "## Fit Classifier"
   ]
  },
  {
   "cell_type": "code",
   "execution_count": 6,
   "metadata": {
    "execution": {
     "iopub.execute_input": "2024-04-07T22:19:38.564237Z",
     "iopub.status.busy": "2024-04-07T22:19:38.564038Z",
     "iopub.status.idle": "2024-04-08T23:23:18.009537Z",
     "shell.execute_reply": "2024-04-08T23:23:18.008026Z"
    }
   },
   "outputs": [
    {
     "name": "stdout",
     "output_type": "stream",
     "text": [
      "hyperparameter settings\n",
      "{'n_estimators': [100, 500, 1000], 'max_features': ['sqrt'], 'max_depth': [10, 20, 30, 40, 50, 60], 'min_samples_split': [5, 10], 'min_samples_leaf': [2, 4], 'bootstrap': [True, False]}\n",
      "training time in minutes:  0.38831018209457396\n",
      "training time per image in minutes:  0.0064718363682429\n",
      "train accuracy of best model:  0.9\n",
      "mean cross validated accuracy of best model:  0.6333333333333334\n",
      "hyperparameters searched:  {'n_estimators': [100, 500, 1000], 'max_features': ['sqrt'], 'max_depth': [10, 20, 30, 40, 50, 60], 'min_samples_split': [5, 10], 'min_samples_leaf': [2, 4], 'bootstrap': [True, False]}\n",
      "tuned hyperparameters:  {'bootstrap': True, 'max_depth': 20, 'max_features': 'sqrt', 'min_samples_leaf': 4, 'min_samples_split': 10, 'n_estimators': 500}\n"
     ]
    }
   ],
   "source": [
    "fit_random_forest_classifier(X_train, y_train, classifier_name)"
   ]
  }
 ],
 "metadata": {
  "kernelspec": {
   "display_name": "Python 3.11.4",
   "language": "python",
   "name": "python3"
  },
  "language_info": {
   "codemirror_mode": {
    "name": "ipython",
    "version": 3
   },
   "file_extension": ".py",
   "mimetype": "text/x-python",
   "name": "python",
   "nbconvert_exporter": "python",
   "pygments_lexer": "ipython3",
   "version": "3.11.4"
  },
  "vscode": {
   "interpreter": {
    "hash": "a7e314ba9f666ce3cc3d9c6ca90df4ff5d73fd085762bb8502c032e8e0761c3b"
   }
  }
 },
 "nbformat": 4,
 "nbformat_minor": 2
}
