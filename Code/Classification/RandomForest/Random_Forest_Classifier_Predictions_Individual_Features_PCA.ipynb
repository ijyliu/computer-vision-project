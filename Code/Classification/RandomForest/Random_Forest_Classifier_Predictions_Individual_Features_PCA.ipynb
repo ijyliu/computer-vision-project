{
 "cells": [
  {
   "cell_type": "markdown",
   "metadata": {},
   "source": [
    "# Random Forest Classifier Predictions"
   ]
  },
  {
   "cell_type": "code",
   "execution_count": 2,
   "metadata": {},
   "outputs": [],
   "source": [
    "# Packages\n",
    "from Random_Forest_Classifier_Functions import *"
   ]
  },
  {
   "cell_type": "code",
   "execution_count": 3,
   "metadata": {},
   "outputs": [],
   "source": [
    "# Classifier Name\n",
    "classifier_name = 'Individual_Features_PCA'"
   ]
  },
  {
   "cell_type": "code",
   "execution_count": 1,
   "metadata": {},
   "outputs": [],
   "source": [
    "# Whether this is a sample run or not\n",
    "sample_run = False"
   ]
  },
  {
   "cell_type": "markdown",
   "metadata": {},
   "source": [
    "## Load Test Data"
   ]
  },
  {
   "cell_type": "code",
   "execution_count": 4,
   "metadata": {},
   "outputs": [
    {
     "name": "stdout",
     "output_type": "stream",
     "text": [
      "all test data\n",
      "          Class                           harmonized_filename  \\\n",
      "0           SUV          SUV_test_orig_test_00661_resized.jpg   \n",
      "1           SUV         SUV_test_orig_train_06195_resized.jpg   \n",
      "2           SUV         SUV_test_orig_train_06253_resized.jpg   \n",
      "3         Sedan        Sedan_test_orig_test_00728_resized.jpg   \n",
      "4   Convertible  Convertible_test_orig_test_03444_resized.jpg   \n",
      "..          ...                                           ...   \n",
      "88        Sedan        Sedan_test_orig_test_02949_resized.jpg   \n",
      "89  Convertible  Convertible_test_orig_test_02412_resized.jpg   \n",
      "90  Convertible  Convertible_test_orig_test_07495_resized.jpg   \n",
      "91          SUV          SUV_test_orig_test_01451_resized.jpg   \n",
      "92       Pickup       Pickup_test_orig_test_02951_resized.jpg   \n",
      "\n",
      "                                      image_path_blur  \\\n",
      "0   ../../../Images/test/Blurred/SUV_test_orig_tes...   \n",
      "1   ../../../Images/test/Blurred/SUV_test_orig_tra...   \n",
      "2   ../../../Images/test/Blurred/SUV_test_orig_tra...   \n",
      "3   ../../../Images/test/Blurred/Sedan_test_orig_t...   \n",
      "4   ../../../Images/test/Blurred/Convertible_test_...   \n",
      "..                                                ...   \n",
      "88  ../../../Images/test/Blurred/Sedan_test_orig_t...   \n",
      "89  ../../../Images/test/Blurred/Convertible_test_...   \n",
      "90  ../../../Images/test/Blurred/Convertible_test_...   \n",
      "91  ../../../Images/test/Blurred/SUV_test_orig_tes...   \n",
      "92  ../../../Images/test/Blurred/Pickup_test_orig_...   \n",
      "\n",
      "                                   image_path_no_blur  \\\n",
      "0   ../../../Images/test/No_Blur/SUV_test_orig_tes...   \n",
      "1   ../../../Images/test/No_Blur/SUV_test_orig_tra...   \n",
      "2   ../../../Images/test/No_Blur/SUV_test_orig_tra...   \n",
      "3   ../../../Images/test/No_Blur/Sedan_test_orig_t...   \n",
      "4   ../../../Images/test/No_Blur/Convertible_test_...   \n",
      "..                                                ...   \n",
      "88  ../../../Images/test/No_Blur/Sedan_test_orig_t...   \n",
      "89  ../../../Images/test/No_Blur/Convertible_test_...   \n",
      "90  ../../../Images/test/No_Blur/Convertible_test_...   \n",
      "91  ../../../Images/test/No_Blur/SUV_test_orig_tes...   \n",
      "92  ../../../Images/test/No_Blur/Pickup_test_orig_...   \n",
      "\n",
      "    HOG 24 PPC Features_PCA_0  HOG 24 PPC Features_PCA_1  \\\n",
      "0                  -14.870975                  -4.653887   \n",
      "1                   -5.794342                   4.889170   \n",
      "2                   -9.253970                  -4.034060   \n",
      "3                   21.932644                 -11.175597   \n",
      "4                   17.933830                  -1.242029   \n",
      "..                        ...                        ...   \n",
      "88                 -14.339278                  11.578579   \n",
      "89                 -15.540852                   2.573123   \n",
      "90                 -17.523714                  -3.755729   \n",
      "91                  11.078793                  -4.594364   \n",
      "92                  24.157959                   5.021049   \n",
      "\n",
      "    HOG 24 PPC Features_PCA_2  HOG 24 PPC Features_PCA_3  \\\n",
      "0                   21.002193                  -5.575131   \n",
      "1                    0.118378                   3.054490   \n",
      "2                    7.554849                   0.594535   \n",
      "3                   -1.218205                 -13.560007   \n",
      "4                    1.727693                 -23.660141   \n",
      "..                        ...                        ...   \n",
      "88                   6.035952                   5.746413   \n",
      "89                   6.685235                  -4.572884   \n",
      "90                  10.590260                  -7.328133   \n",
      "91                   3.911525                  -6.710567   \n",
      "92                 -15.685809                   2.574809   \n",
      "\n",
      "    HOG 24 PPC Features_PCA_4  HOG 24 PPC Features_PCA_5  ...  \\\n",
      "0                   -4.685645                  -4.869786  ...   \n",
      "1                    2.273831                   5.666584  ...   \n",
      "2                    3.642405                   2.820397  ...   \n",
      "3                   -6.974362                   2.007789  ...   \n",
      "4                    4.856015                   6.924372  ...   \n",
      "..                        ...                        ...  ...   \n",
      "88                   5.322889                   1.366101  ...   \n",
      "89                   4.081420                   6.269675  ...   \n",
      "90                   5.411130                   5.130219  ...   \n",
      "91                 -12.625536                 -11.728759  ...   \n",
      "92                   9.146120                  -6.046826  ...   \n",
      "\n",
      "    Vision Transformer Features_PCA_390  Vision Transformer Features_PCA_391  \\\n",
      "0                              0.230728                             0.476085   \n",
      "1                              0.216268                             0.840651   \n",
      "2                              0.605496                             0.349749   \n",
      "3                             -0.197477                             0.051006   \n",
      "4                              0.751990                            -0.559521   \n",
      "..                                  ...                                  ...   \n",
      "88                            -0.655426                            -0.289380   \n",
      "89                            -0.233248                             0.412501   \n",
      "90                             0.079844                             0.108188   \n",
      "91                            -0.390834                            -0.482590   \n",
      "92                             0.835179                            -0.715777   \n",
      "\n",
      "    Vision Transformer Features_PCA_392  Vision Transformer Features_PCA_393  \\\n",
      "0                              0.027502                             0.288336   \n",
      "1                             -0.028872                             0.096502   \n",
      "2                             -0.232518                            -0.213391   \n",
      "3                             -0.567349                             0.397214   \n",
      "4                             -0.557813                            -0.225702   \n",
      "..                                  ...                                  ...   \n",
      "88                            -0.770985                             1.544601   \n",
      "89                            -0.855971                             0.061813   \n",
      "90                             0.337860                            -0.030151   \n",
      "91                             0.551186                            -0.699427   \n",
      "92                             0.186127                            -0.331823   \n",
      "\n",
      "    Vision Transformer Features_PCA_394  Vision Transformer Features_PCA_395  \\\n",
      "0                             -0.712354                            -0.842137   \n",
      "1                             -0.818975                            -0.051901   \n",
      "2                             -0.133566                             0.201531   \n",
      "3                              0.273587                            -0.268785   \n",
      "4                             -0.230204                            -0.184074   \n",
      "..                                  ...                                  ...   \n",
      "88                            -0.230244                             0.513680   \n",
      "89                            -0.478718                             0.709546   \n",
      "90                             0.365348                            -0.274803   \n",
      "91                             0.922151                             0.911333   \n",
      "92                             0.415222                            -0.508213   \n",
      "\n",
      "    Vision Transformer Features_PCA_396  Vision Transformer Features_PCA_397  \\\n",
      "0                              0.728954                            -0.092161   \n",
      "1                              0.503116                            -0.043099   \n",
      "2                             -0.769947                            -0.258978   \n",
      "3                             -0.031982                             0.350317   \n",
      "4                              0.144500                            -0.020274   \n",
      "..                                  ...                                  ...   \n",
      "88                             0.671166                             0.132880   \n",
      "89                             0.168446                             0.618037   \n",
      "90                             0.419271                             0.556970   \n",
      "91                             0.473069                            -0.190621   \n",
      "92                             0.587600                            -0.610506   \n",
      "\n",
      "    Vision Transformer Features_PCA_398  Vision Transformer Features_PCA_399  \n",
      "0                              0.029981                            -0.350844  \n",
      "1                             -0.580745                            -0.591049  \n",
      "2                              0.816351                             0.206252  \n",
      "3                              0.402310                             0.216588  \n",
      "4                              0.717528                            -0.359884  \n",
      "..                                  ...                                  ...  \n",
      "88                            -1.039667                             0.601101  \n",
      "89                             0.078100                            -0.025677  \n",
      "90                            -0.373302                             0.572955  \n",
      "91                            -0.290928                             0.399065  \n",
      "92                             1.598160                             0.272384  \n",
      "\n",
      "[1489 rows x 1614 columns]\n"
     ]
    }
   ],
   "source": [
    "test_data = combine_directory_parquets('../../../Data/Features/All Features Individual Features PCA/test')\n",
    "print('all test data')\n",
    "print(test_data)\n",
    "\n",
    "if sample_run:\n",
    "    test_data = test_data.sample(frac=0.01).iloc[:, 0:10]"
   ]
  },
  {
   "cell_type": "markdown",
   "metadata": {},
   "source": [
    "## Prepare Matrices"
   ]
  },
  {
   "cell_type": "code",
   "execution_count": 5,
   "metadata": {},
   "outputs": [],
   "source": [
    "# Prepare matrices\n",
    "X_test, _ = prepare_matrices(test_data)"
   ]
  },
  {
   "cell_type": "markdown",
   "metadata": {},
   "source": [
    "## Make Predictions"
   ]
  },
  {
   "cell_type": "code",
   "execution_count": 6,
   "metadata": {},
   "outputs": [
    {
     "name": "stdout",
     "output_type": "stream",
     "text": [
      "best model\n",
      "RandomForestClassifier(max_depth=20, min_samples_leaf=4, min_samples_split=10,\n",
      "                       n_estimators=1000)\n",
      "predictions head\n",
      "['Sedan' 'Sedan' 'SUV' 'Sedan' 'Sedan']\n",
      "prediction time in minutes:  0.0001778841018676758\n",
      "prediction time per image in minutes:  1.185894012451172e-05\n",
      "saved prediction statistics\n",
      "limited cols in test data\n",
      "added to test data\n"
     ]
    }
   ],
   "source": [
    "make_predictions(test_data, X_test, classifier_name)"
   ]
  }
 ],
 "metadata": {
  "kernelspec": {
   "display_name": "Python 3.11.4",
   "language": "python",
   "name": "python3"
  },
  "language_info": {
   "codemirror_mode": {
    "name": "ipython",
    "version": 3
   },
   "file_extension": ".py",
   "mimetype": "text/x-python",
   "name": "python",
   "nbconvert_exporter": "python",
   "pygments_lexer": "ipython3",
   "version": "3.11.4"
  },
  "vscode": {
   "interpreter": {
    "hash": "a7e314ba9f666ce3cc3d9c6ca90df4ff5d73fd085762bb8502c032e8e0761c3b"
   }
  }
 },
 "nbformat": 4,
 "nbformat_minor": 2
}
