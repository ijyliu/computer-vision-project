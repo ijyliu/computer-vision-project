{
 "cells": [
  {
   "cell_type": "markdown",
   "id": "596d9308",
   "metadata": {},
   "source": [
    "# Fit ANN Classifier on VGG"
   ]
  },
  {
   "cell_type": "code",
   "execution_count": 1,
   "id": "9148cf66",
   "metadata": {},
   "outputs": [
    {
     "name": "stdout",
     "output_type": "stream",
     "text": [
      "Unexpected exception formatting exception. Falling back to standard exception\n"
     ]
    },
    {
     "name": "stderr",
     "output_type": "stream",
     "text": [
      "Traceback (most recent call last):\n",
      "  File \"c:\\Users\\ijyli\\miniforge3\\envs\\computervision\\Lib\\site-packages\\IPython\\core\\interactiveshell.py\", line 3553, in run_code\n",
      "    exec(code_obj, self.user_global_ns, self.user_ns)\n",
      "  File \"C:\\Users\\ijyli\\AppData\\Local\\Temp\\ipykernel_8124\\1604881158.py\", line 2, in <module>\n",
      "    from ANN_Classifier_Functions import *\n",
      "  File \"c:\\Users\\ijyli\\repo\\computer-vision-project\\Code\\Classification\\ANN\\ANN_Classifier_Functions.py\", line 9, in <module>\n",
      "    from tensorflow.keras.models import Sequential\n",
      "ModuleNotFoundError: No module named 'tensorflow'\n",
      "\n",
      "During handling of the above exception, another exception occurred:\n",
      "\n",
      "Traceback (most recent call last):\n",
      "  File \"c:\\Users\\ijyli\\miniforge3\\envs\\computervision\\Lib\\site-packages\\IPython\\core\\interactiveshell.py\", line 2144, in showtraceback\n",
      "    stb = self.InteractiveTB.structured_traceback(\n",
      "          ^^^^^^^^^^^^^^^^^^^^^^^^^^^^^^^^^^^^^^^^\n",
      "  File \"c:\\Users\\ijyli\\miniforge3\\envs\\computervision\\Lib\\site-packages\\IPython\\core\\ultratb.py\", line 1435, in structured_traceback\n",
      "    return FormattedTB.structured_traceback(\n",
      "           ^^^^^^^^^^^^^^^^^^^^^^^^^^^^^^^^^\n",
      "  File \"c:\\Users\\ijyli\\miniforge3\\envs\\computervision\\Lib\\site-packages\\IPython\\core\\ultratb.py\", line 1326, in structured_traceback\n",
      "    return VerboseTB.structured_traceback(\n",
      "           ^^^^^^^^^^^^^^^^^^^^^^^^^^^^^^^\n",
      "  File \"c:\\Users\\ijyli\\miniforge3\\envs\\computervision\\Lib\\site-packages\\IPython\\core\\ultratb.py\", line 1173, in structured_traceback\n",
      "    formatted_exception = self.format_exception_as_a_whole(etype, evalue, etb, number_of_lines_of_context,\n",
      "                          ^^^^^^^^^^^^^^^^^^^^^^^^^^^^^^^^^^^^^^^^^^^^^^^^^^^^^^^^^^^^^^^^^^^^^^^^^^^^^^^^\n",
      "  File \"c:\\Users\\ijyli\\miniforge3\\envs\\computervision\\Lib\\site-packages\\IPython\\core\\ultratb.py\", line 1088, in format_exception_as_a_whole\n",
      "    frames.append(self.format_record(record))\n",
      "                  ^^^^^^^^^^^^^^^^^^^^^^^^^^\n",
      "  File \"c:\\Users\\ijyli\\miniforge3\\envs\\computervision\\Lib\\site-packages\\IPython\\core\\ultratb.py\", line 970, in format_record\n",
      "    frame_info.lines, Colors, self.has_colors, lvals\n",
      "    ^^^^^^^^^^^^^^^^\n",
      "  File \"c:\\Users\\ijyli\\miniforge3\\envs\\computervision\\Lib\\site-packages\\IPython\\core\\ultratb.py\", line 792, in lines\n",
      "    return self._sd.lines\n",
      "           ^^^^^^^^^^^^^^\n",
      "  File \"c:\\Users\\ijyli\\miniforge3\\envs\\computervision\\Lib\\site-packages\\stack_data\\utils.py\", line 144, in cached_property_wrapper\n",
      "    value = obj.__dict__[self.func.__name__] = self.func(obj)\n",
      "                                               ^^^^^^^^^^^^^^\n",
      "  File \"c:\\Users\\ijyli\\miniforge3\\envs\\computervision\\Lib\\site-packages\\stack_data\\core.py\", line 734, in lines\n",
      "    pieces = self.included_pieces\n",
      "             ^^^^^^^^^^^^^^^^^^^^\n",
      "  File \"c:\\Users\\ijyli\\miniforge3\\envs\\computervision\\Lib\\site-packages\\stack_data\\utils.py\", line 144, in cached_property_wrapper\n",
      "    value = obj.__dict__[self.func.__name__] = self.func(obj)\n",
      "                                               ^^^^^^^^^^^^^^\n",
      "  File \"c:\\Users\\ijyli\\miniforge3\\envs\\computervision\\Lib\\site-packages\\stack_data\\core.py\", line 677, in included_pieces\n",
      "    scope_pieces = self.scope_pieces\n",
      "                   ^^^^^^^^^^^^^^^^^\n",
      "  File \"c:\\Users\\ijyli\\miniforge3\\envs\\computervision\\Lib\\site-packages\\stack_data\\utils.py\", line 144, in cached_property_wrapper\n",
      "    value = obj.__dict__[self.func.__name__] = self.func(obj)\n",
      "                                               ^^^^^^^^^^^^^^\n",
      "  File \"c:\\Users\\ijyli\\miniforge3\\envs\\computervision\\Lib\\site-packages\\stack_data\\core.py\", line 614, in scope_pieces\n",
      "    scope_start, scope_end = self.source.line_range(self.scope)\n",
      "                             ^^^^^^^^^^^^^^^^^^^^^^^^^^^^^^^^^^\n",
      "  File \"c:\\Users\\ijyli\\miniforge3\\envs\\computervision\\Lib\\site-packages\\stack_data\\core.py\", line 178, in line_range\n",
      "    return line_range(self.asttext(), node)\n",
      "                      ^^^^^^^^^^^^\n",
      "AttributeError: 'Source' object has no attribute 'asttext'\n"
     ]
    }
   ],
   "source": [
    "# Packages\n",
    "from ANN_Classifier_Functions import *"
   ]
  },
  {
   "cell_type": "code",
   "execution_count": null,
   "id": "2f8ddb19",
   "metadata": {},
   "outputs": [],
   "source": [
    "# Set classifier name\n",
    "classifier_name = 'VGG'"
   ]
  },
  {
   "cell_type": "code",
   "execution_count": null,
   "id": "85ce82a4",
   "metadata": {},
   "outputs": [],
   "source": [
    "# Sample run or not\n",
    "sample_run = True"
   ]
  },
  {
   "cell_type": "markdown",
   "id": "d8d9a680",
   "metadata": {},
   "source": [
    "## Load Training Data"
   ]
  },
  {
   "cell_type": "code",
   "execution_count": null,
   "id": "2a46f379",
   "metadata": {},
   "outputs": [
    {
     "name": "stdout",
     "output_type": "stream",
     "text": [
      "all training data\n",
      "           Class                            harmonized_filename  \\\n",
      "0          Sedan       Sedan_train_orig_train_04172_resized.jpg   \n",
      "1    Convertible  Convertible_train_orig_test_01764_resized.jpg   \n",
      "2          Sedan        Sedan_train_orig_test_07195_resized.jpg   \n",
      "3          Sedan        Sedan_train_orig_test_04947_resized.jpg   \n",
      "4          Sedan       Sedan_train_orig_train_00667_resized.jpg   \n",
      "..           ...                                            ...   \n",
      "370          SUV         SUV_train_orig_train_06863_resized.jpg   \n",
      "371          SUV         SUV_train_orig_train_01462_resized.jpg   \n",
      "372        Sedan        Sedan_train_orig_test_00447_resized.jpg   \n",
      "373        Sedan       Sedan_train_orig_train_00248_resized.jpg   \n",
      "374          SUV          SUV_train_orig_test_06498_resized.jpg   \n",
      "\n",
      "                                       image_path_blur  \\\n",
      "0    ../../../Images/train/Blurred/Sedan_train_orig...   \n",
      "1    ../../../Images/train/Blurred/Convertible_trai...   \n",
      "2    ../../../Images/train/Blurred/Sedan_train_orig...   \n",
      "3    ../../../Images/train/Blurred/Sedan_train_orig...   \n",
      "4    ../../../Images/train/Blurred/Sedan_train_orig...   \n",
      "..                                                 ...   \n",
      "370  ../../../Images/train/Blurred/SUV_train_orig_t...   \n",
      "371  ../../../Images/train/Blurred/SUV_train_orig_t...   \n",
      "372  ../../../Images/train/Blurred/Sedan_train_orig...   \n",
      "373  ../../../Images/train/Blurred/Sedan_train_orig...   \n",
      "374  ../../../Images/train/Blurred/SUV_train_orig_t...   \n",
      "\n",
      "                                    image_path_no_blur  \\\n",
      "0    ../../../Images/train/No_Blur/Sedan_train_orig...   \n",
      "1    ../../../Images/train/No_Blur/Convertible_trai...   \n",
      "2    ../../../Images/train/No_Blur/Sedan_train_orig...   \n",
      "3    ../../../Images/train/No_Blur/Sedan_train_orig...   \n",
      "4    ../../../Images/train/No_Blur/Sedan_train_orig...   \n",
      "..                                                 ...   \n",
      "370  ../../../Images/train/No_Blur/SUV_train_orig_t...   \n",
      "371  ../../../Images/train/No_Blur/SUV_train_orig_t...   \n",
      "372  ../../../Images/train/No_Blur/Sedan_train_orig...   \n",
      "373  ../../../Images/train/No_Blur/Sedan_train_orig...   \n",
      "374  ../../../Images/train/No_Blur/SUV_train_orig_t...   \n",
      "\n",
      "     VGG_Embedding_Element_0  VGG_Embedding_Element_1  \\\n",
      "0                   0.057273                 0.085857   \n",
      "1                   0.293713                 0.714101   \n",
      "2                   0.043017                 1.089323   \n",
      "3                   0.027134                 0.049786   \n",
      "4                   0.023348                 0.939732   \n",
      "..                       ...                      ...   \n",
      "370                 0.084982                 0.347321   \n",
      "371                 0.374684                 0.409171   \n",
      "372                 0.099367                 0.029753   \n",
      "373                 0.388457                 0.963108   \n",
      "374                 0.017682                 0.349721   \n",
      "\n",
      "     VGG_Embedding_Element_2  VGG_Embedding_Element_3  \\\n",
      "0                   0.014088                 0.000000   \n",
      "1                   0.075956                 0.144106   \n",
      "2                   0.000000                 0.004603   \n",
      "3                   0.030874                 0.000000   \n",
      "4                   0.000000                 0.000000   \n",
      "..                       ...                      ...   \n",
      "370                 0.000000                 0.000000   \n",
      "371                 0.000000                 0.027036   \n",
      "372                 0.002249                 0.057514   \n",
      "373                 0.000000                 0.000000   \n",
      "374                 0.018899                 0.065000   \n",
      "\n",
      "     VGG_Embedding_Element_4  VGG_Embedding_Element_5  ...  \\\n",
      "0                   0.000000                 0.000000  ...   \n",
      "1                   0.011360                 0.000000  ...   \n",
      "2                   0.012446                 0.000000  ...   \n",
      "3                   0.003062                 0.000000  ...   \n",
      "4                   0.000000                 0.007038  ...   \n",
      "..                       ...                      ...  ...   \n",
      "370                 0.000000                 0.000000  ...   \n",
      "371                 0.019062                 0.000000  ...   \n",
      "372                 0.060027                 0.000000  ...   \n",
      "373                 0.000000                 0.012721  ...   \n",
      "374                 0.683379                 0.141726  ...   \n",
      "\n",
      "     VGG_Embedding_Element_502  VGG_Embedding_Element_503  \\\n",
      "0                     0.052797                   0.479325   \n",
      "1                     0.066524                   0.156991   \n",
      "2                     0.252442                   0.081028   \n",
      "3                     0.119230                   1.161802   \n",
      "4                     0.055250                   0.061042   \n",
      "..                         ...                        ...   \n",
      "370                   0.119653                   0.424786   \n",
      "371                   0.043383                   0.339691   \n",
      "372                   0.054231                   0.839363   \n",
      "373                   0.265267                   0.026011   \n",
      "374                   0.136066                   0.222768   \n",
      "\n",
      "     VGG_Embedding_Element_504  VGG_Embedding_Element_505  \\\n",
      "0                     0.288115                   0.000000   \n",
      "1                     0.154690                   0.000000   \n",
      "2                     0.072416                   0.164781   \n",
      "3                     0.791576                   0.000000   \n",
      "4                     0.148557                   0.000000   \n",
      "..                         ...                        ...   \n",
      "370                   0.073681                   0.613023   \n",
      "371                   0.132173                   0.000000   \n",
      "372                   0.163768                   0.000000   \n",
      "373                   0.055237                   0.000000   \n",
      "374                   0.527103                   0.030765   \n",
      "\n",
      "     VGG_Embedding_Element_506  VGG_Embedding_Element_507  \\\n",
      "0                     0.005827                   0.039591   \n",
      "1                     0.000000                   0.037017   \n",
      "2                     0.000000                   0.063925   \n",
      "3                     0.000000                   0.017989   \n",
      "4                     0.000000                   0.009107   \n",
      "..                         ...                        ...   \n",
      "370                   0.000000                   0.030949   \n",
      "371                   0.000000                   0.037711   \n",
      "372                   0.035609                   0.082619   \n",
      "373                   0.000000                   0.000000   \n",
      "374                   0.000000                   0.058966   \n",
      "\n",
      "     VGG_Embedding_Element_508  VGG_Embedding_Element_509  \\\n",
      "0                     0.000000                   0.063602   \n",
      "1                     0.350120                   0.543494   \n",
      "2                     0.189980                   0.426336   \n",
      "3                     0.000000                   0.532629   \n",
      "4                     0.030275                   0.246710   \n",
      "..                         ...                        ...   \n",
      "370                   0.000000                   0.160083   \n",
      "371                   0.404705                   0.000000   \n",
      "372                   0.082794                   0.387321   \n",
      "373                   0.101233                   0.602741   \n",
      "374                   0.118444                   0.113864   \n",
      "\n",
      "     VGG_Embedding_Element_510  VGG_Embedding_Element_511  \n",
      "0                     0.365371                   0.000000  \n",
      "1                     0.100478                   0.000000  \n",
      "2                     0.031850                   0.021951  \n",
      "3                     0.047045                   0.000000  \n",
      "4                     0.672856                   0.009486  \n",
      "..                         ...                        ...  \n",
      "370                   0.000000                   0.005173  \n",
      "371                   1.060452                   0.019516  \n",
      "372                   0.371584                   0.000000  \n",
      "373                   0.158400                   0.000000  \n",
      "374                   0.549723                   0.031593  \n",
      "\n",
      "[6003 rows x 516 columns]\n"
     ]
    }
   ],
   "source": [
    "training_data = combine_directory_parquets('../../../Data/Features/VGG/train')\n",
    "print('all training data')\n",
    "print(training_data)\n",
    "\n",
    "# If sample run, take a sample of the data and a reduced number of features\n",
    "if sample_run:\n",
    "    training_data = training_data.sample(frac=0.01).iloc[:, 0:10]"
   ]
  },
  {
   "cell_type": "markdown",
   "id": "e2a2ca6a",
   "metadata": {},
   "source": [
    "## Prepare Matrices"
   ]
  },
  {
   "cell_type": "code",
   "execution_count": null,
   "id": "78478af8",
   "metadata": {},
   "outputs": [],
   "source": [
    "X_train, y_train = prepare_matrices(training_data)"
   ]
  },
  {
   "cell_type": "markdown",
   "id": "20858cfb",
   "metadata": {},
   "source": [
    "## Fit Classifier"
   ]
  },
  {
   "cell_type": "code",
   "execution_count": null,
   "id": "0e3123ce",
   "metadata": {},
   "outputs": [
    {
     "name": "stdout",
     "output_type": "stream",
     "text": [
      "Training time in minutes:  0.047627496719360354\n",
      "Training time per image in minutes:  0.0007937916119893393\n",
      "Train accuracy of best model:  0.6333333333333333\n",
      "Mean cross validated accuracy of best model:  0.4833333333333333\n",
      "Hyperparameters searched:  {'c_values': array([  0.1,   1. ,  10. , 100. ]), 'kernel_grid': ['rbf', 'poly'], 'gamma_grid': array([  0.1,   1. ,  10. , 100. ]), 'degree_grid': [2, 3, 5, 7], 'k_folds': 5}\n",
      "Tuned hyperparameters:  {'C': 1.0, 'degree': 2, 'gamma': 0.1, 'kernel': 'rbf'}\n"
     ]
    }
   ],
   "source": [
    "fit_ann_classifier(X_train, y_train, classifier_name)"
   ]
  }
 ],
 "metadata": {
  "kernelspec": {
   "display_name": "Python 3",
   "language": "python",
   "name": "python3"
  },
  "language_info": {
   "codemirror_mode": {
    "name": "ipython",
    "version": 3
   },
   "file_extension": ".py",
   "mimetype": "text/x-python",
   "name": "python",
   "nbconvert_exporter": "python",
   "pygments_lexer": "ipython3",
   "version": "3.12.0"
  }
 },
 "nbformat": 4,
 "nbformat_minor": 5
}
