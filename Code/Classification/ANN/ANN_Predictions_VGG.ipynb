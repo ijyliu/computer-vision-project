{
 "cells": [
  {
   "cell_type": "markdown",
   "id": "7f5eaf6f",
   "metadata": {},
   "source": [
    "# ANN Classifier Predictions"
   ]
  },
  {
   "cell_type": "code",
   "execution_count": 7,
   "id": "3e640128",
   "metadata": {},
   "outputs": [],
   "source": [
    "# Packages\n",
    "from ANN_Classifier_Functions import *"
   ]
  },
  {
   "cell_type": "code",
   "execution_count": 8,
   "id": "ba24077e",
   "metadata": {},
   "outputs": [],
   "source": [
    "# Classifier Name\n",
    "classifier_name = 'VGG'"
   ]
  },
  {
   "cell_type": "code",
   "execution_count": 9,
   "id": "26ee6d93",
   "metadata": {},
   "outputs": [],
   "source": [
    "# Whether this is a sample run or not\n",
    "sample_run = False"
   ]
  },
  {
   "cell_type": "markdown",
   "id": "7ce1b6a2",
   "metadata": {},
   "source": [
    "## Load Test Data"
   ]
  },
  {
   "cell_type": "code",
   "execution_count": 10,
   "id": "01ef62a1",
   "metadata": {},
   "outputs": [
    {
     "name": "stdout",
     "output_type": "stream",
     "text": [
      "all test data\n",
      "          Class                            harmonized_filename  \\\n",
      "0        Pickup        Pickup_test_orig_test_05620_resized.jpg   \n",
      "1           SUV           SUV_test_orig_test_08041_resized.jpg   \n",
      "2   Convertible   Convertible_test_orig_test_00822_resized.jpg   \n",
      "3   Convertible   Convertible_test_orig_test_00618_resized.jpg   \n",
      "4        Pickup        Pickup_test_orig_test_05241_resized.jpg   \n",
      "..          ...                                            ...   \n",
      "88        Sedan         Sedan_test_orig_test_03443_resized.jpg   \n",
      "89       Pickup       Pickup_test_orig_train_04088_resized.jpg   \n",
      "90        Sedan        Sedan_test_orig_train_03673_resized.jpg   \n",
      "91        Sedan        Sedan_test_orig_train_06616_resized.jpg   \n",
      "92  Convertible  Convertible_test_orig_train_05861_resized.jpg   \n",
      "\n",
      "                                      image_path_blur  \\\n",
      "0   ../../../Images/test/Blurred/Pickup_test_orig_...   \n",
      "1   ../../../Images/test/Blurred/SUV_test_orig_tes...   \n",
      "2   ../../../Images/test/Blurred/Convertible_test_...   \n",
      "3   ../../../Images/test/Blurred/Convertible_test_...   \n",
      "4   ../../../Images/test/Blurred/Pickup_test_orig_...   \n",
      "..                                                ...   \n",
      "88  ../../../Images/test/Blurred/Sedan_test_orig_t...   \n",
      "89  ../../../Images/test/Blurred/Pickup_test_orig_...   \n",
      "90  ../../../Images/test/Blurred/Sedan_test_orig_t...   \n",
      "91  ../../../Images/test/Blurred/Sedan_test_orig_t...   \n",
      "92  ../../../Images/test/Blurred/Convertible_test_...   \n",
      "\n",
      "                                   image_path_no_blur  \\\n",
      "0   ../../../Images/test/No_Blur/Pickup_test_orig_...   \n",
      "1   ../../../Images/test/No_Blur/SUV_test_orig_tes...   \n",
      "2   ../../../Images/test/No_Blur/Convertible_test_...   \n",
      "3   ../../../Images/test/No_Blur/Convertible_test_...   \n",
      "4   ../../../Images/test/No_Blur/Pickup_test_orig_...   \n",
      "..                                                ...   \n",
      "88  ../../../Images/test/No_Blur/Sedan_test_orig_t...   \n",
      "89  ../../../Images/test/No_Blur/Pickup_test_orig_...   \n",
      "90  ../../../Images/test/No_Blur/Sedan_test_orig_t...   \n",
      "91  ../../../Images/test/No_Blur/Sedan_test_orig_t...   \n",
      "92  ../../../Images/test/No_Blur/Convertible_test_...   \n",
      "\n",
      "    ViT_Embedding_Element_0  ViT_Embedding_Element_1  ViT_Embedding_Element_2  \\\n",
      "0                 -0.347766                 0.167595                 0.154336   \n",
      "1                 -0.098150                 0.112476                -0.029927   \n",
      "2                 -0.203125                 0.251158                -0.324457   \n",
      "3                 -0.211059                 0.216949                -0.437562   \n",
      "4                 -0.258407                 0.309153                 0.115703   \n",
      "..                      ...                      ...                      ...   \n",
      "88                -0.170689                 0.167469                -0.165911   \n",
      "89                -0.249416                 0.215597                 0.156529   \n",
      "90                -0.040393                 0.276296                -0.051275   \n",
      "91                -0.114089                 0.125190                -0.260922   \n",
      "92                -0.161454                 0.394140                -0.254677   \n",
      "\n",
      "    ViT_Embedding_Element_3  ViT_Embedding_Element_4  ViT_Embedding_Element_5  \\\n",
      "0                 -0.086329                -0.084096                 0.403538   \n",
      "1                 -0.390461                 0.041179                 0.271308   \n",
      "2                 -0.320937                -0.232326                 0.130335   \n",
      "3                 -0.345737                -0.208970                 0.345806   \n",
      "4                  0.006585                 0.145539                 0.066159   \n",
      "..                      ...                      ...                      ...   \n",
      "88                -0.464237                -0.129780                 0.177970   \n",
      "89                -0.240929                -0.168694                 0.354225   \n",
      "90                -0.225824                -0.297258                 0.278150   \n",
      "91                -0.534182                 0.093819                 0.420588   \n",
      "92                -0.426034                 0.265536                 0.211613   \n",
      "\n",
      "    ...  VGG_Embedding_Element_502  VGG_Embedding_Element_503  \\\n",
      "0   ...                   0.022588                   1.133375   \n",
      "1   ...                   0.000000                   0.253053   \n",
      "2   ...                   0.000000                   0.235702   \n",
      "3   ...                   0.128199                   0.387812   \n",
      "4   ...                   0.036451                   0.602885   \n",
      "..  ...                        ...                        ...   \n",
      "88  ...                   0.055077                   0.379769   \n",
      "89  ...                   0.006549                   0.000000   \n",
      "90  ...                   0.003398                   0.027674   \n",
      "91  ...                   0.101564                   0.283806   \n",
      "92  ...                   0.050454                   0.773631   \n",
      "\n",
      "    VGG_Embedding_Element_504  VGG_Embedding_Element_505  \\\n",
      "0                    0.451472                   0.000000   \n",
      "1                    0.224052                   0.000000   \n",
      "2                    0.434525                   0.000162   \n",
      "3                    0.062208                   0.000000   \n",
      "4                    0.000000                   0.000000   \n",
      "..                        ...                        ...   \n",
      "88                   0.151703                   0.000000   \n",
      "89                   0.485111                   0.000000   \n",
      "90                   0.026551                   0.000000   \n",
      "91                   0.220964                   0.000000   \n",
      "92                   0.412070                   0.000000   \n",
      "\n",
      "    VGG_Embedding_Element_506  VGG_Embedding_Element_507  \\\n",
      "0                    0.047339                   0.154326   \n",
      "1                    0.000000                   0.000000   \n",
      "2                    0.000000                   0.170900   \n",
      "3                    0.000000                   0.136773   \n",
      "4                    0.000000                   0.035047   \n",
      "..                        ...                        ...   \n",
      "88                   0.001070                   0.145830   \n",
      "89                   0.000000                   0.170164   \n",
      "90                   0.000000                   0.117652   \n",
      "91                   0.000000                   0.006836   \n",
      "92                   0.000000                   0.102131   \n",
      "\n",
      "    VGG_Embedding_Element_508  VGG_Embedding_Element_509  \\\n",
      "0                    0.014707                   0.381150   \n",
      "1                    0.087972                   0.227599   \n",
      "2                    0.325055                   0.418985   \n",
      "3                    0.318834                   0.245252   \n",
      "4                    0.000000                   0.561562   \n",
      "..                        ...                        ...   \n",
      "88                   0.207715                   0.018633   \n",
      "89                   0.000000                   0.392546   \n",
      "90                   0.117389                   0.781941   \n",
      "91                   0.240902                   0.981174   \n",
      "92                   0.006109                   0.016267   \n",
      "\n",
      "    VGG_Embedding_Element_510  VGG_Embedding_Element_511  \n",
      "0                    0.089064                   0.000000  \n",
      "1                    0.211084                   0.238225  \n",
      "2                    0.427169                   0.000000  \n",
      "3                    1.322474                   0.677609  \n",
      "4                    0.201122                   0.000000  \n",
      "..                        ...                        ...  \n",
      "88                   0.334320                   0.010076  \n",
      "89                   0.002490                   0.000000  \n",
      "90                   0.247370                   0.121276  \n",
      "91                   1.254761                   0.000000  \n",
      "92                   2.911038                   0.000000  \n",
      "\n",
      "[1489 rows x 4893 columns]\n"
     ]
    }
   ],
   "source": [
    "test_data = combine_directory_parquets('../../../Data/Features/VGG/test')\n",
    "print('VGG test data')\n",
    "print(test_data)\n",
    "\n",
    "if sample_run:\n",
    "    test_data = test_data.sample(frac=0.01).iloc[:, 0:10]"
   ]
  },
  {
   "cell_type": "markdown",
   "id": "621f345d",
   "metadata": {},
   "source": [
    "## Prepare Matrices"
   ]
  },
  {
   "cell_type": "code",
   "execution_count": 11,
   "id": "03c02dd4",
   "metadata": {},
   "outputs": [],
   "source": [
    "# Prepare matrices\n",
    "X_test, _ = prepare_matrices(test_data)"
   ]
  },
  {
   "cell_type": "markdown",
   "id": "e6aa4fe7",
   "metadata": {},
   "source": [
    "## Make Predictions"
   ]
  },
  {
   "cell_type": "code",
   "execution_count": 12,
   "id": "689bea81",
   "metadata": {},
   "outputs": [
    {
     "name": "stdout",
     "output_type": "stream",
     "text": [
      "Prediction time in minutes:  9.1552734375e-06\n",
      "Prediction time per image in minutes:  6.103515625e-07\n"
     ]
    }
   ],
   "source": [
    "make_predictions(test_data, X_test, classifier_name)"
   ]
  },
  {
   "cell_type": "code",
   "execution_count": null,
   "id": "8f14ba32",
   "metadata": {},
   "outputs": [],
   "source": [
    "# SVM Classifier Predictions\n",
    "\n",
    "# Packages\n",
    "from SVM_Classifier_Functions import *\n",
    "\n",
    "# Classifier Name\n",
    "classifier_name = 'VGG'\n",
    "\n",
    "# Whether this is a sample run or not\n",
    "sample_run = False\n",
    "\n",
    "## Load Test Data\n",
    "\n",
    "test_data = combine_directory_parquets('../../../Data/Features/VGG/test')\n",
    "print('VGG test data')\n",
    "print(test_data)\n",
    "\n",
    "if sample_run:\n",
    "    test_data = test_data.sample(frac=0.01).iloc[:, 0:10]\n",
    "\n",
    "## Prepare Matrices\n",
    "\n",
    "# Prepare matrices\n",
    "X_test, _ = prepare_matrices(test_data)\n",
    "\n",
    "## Make Predictions\n",
    "\n",
    "make_predictions(test_data, X_test, classifier_name)"
   ]
  }
 ],
 "metadata": {
  "kernelspec": {
   "display_name": "Python 3",
   "language": "python",
   "name": "python3"
  },
  "language_info": {
   "codemirror_mode": {
    "name": "ipython",
    "version": 3
   },
   "file_extension": ".py",
   "mimetype": "text/x-python",
   "name": "python",
   "nbconvert_exporter": "python",
   "pygments_lexer": "ipython3",
   "version": "3.8.8"
  }
 },
 "nbformat": 4,
 "nbformat_minor": 5
}
