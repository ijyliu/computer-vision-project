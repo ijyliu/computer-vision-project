{
 "cells": [
  {
   "cell_type": "markdown",
   "metadata": {},
   "source": [
    "# GPT-4 Vision Relabeled Test\n",
    "\n",
    "Test accuracy of GPT-4 Vision on relabeled test set."
   ]
  },
  {
   "cell_type": "code",
   "execution_count": 222,
   "metadata": {},
   "outputs": [],
   "source": [
    "# Packages\n",
    "import base64\n",
    "import requests\n",
    "import openai\n",
    "import os\n",
    "import pandas as pd"
   ]
  },
  {
   "cell_type": "code",
   "execution_count": 223,
   "metadata": {},
   "outputs": [],
   "source": [
    "# Get and set API key\n",
    "with open(os.path.expanduser('~') + '/Documents/OpenAI/computer-vision-project.txt', 'r') as file:\n",
    "    api_key = file.read()\n",
    "openai.api_key = api_key"
   ]
  },
  {
   "cell_type": "code",
   "execution_count": 224,
   "metadata": {},
   "outputs": [],
   "source": [
    "# test run or not\n",
    "test_run = False"
   ]
  },
  {
   "cell_type": "markdown",
   "metadata": {},
   "source": [
    "## Load Data"
   ]
  },
  {
   "cell_type": "code",
   "execution_count": 225,
   "metadata": {},
   "outputs": [
    {
     "data": {
      "text/html": [
       "<div>\n",
       "<style scoped>\n",
       "    .dataframe tbody tr th:only-of-type {\n",
       "        vertical-align: middle;\n",
       "    }\n",
       "\n",
       "    .dataframe tbody tr th {\n",
       "        vertical-align: top;\n",
       "    }\n",
       "\n",
       "    .dataframe thead th {\n",
       "        text-align: right;\n",
       "    }\n",
       "</style>\n",
       "<table border=\"1\" class=\"dataframe\">\n",
       "  <thead>\n",
       "    <tr style=\"text-align: right;\">\n",
       "      <th></th>\n",
       "      <th>filename</th>\n",
       "      <th>label</th>\n",
       "      <th>New Class</th>\n",
       "      <th>Old Class</th>\n",
       "      <th>non_blurred_image_path</th>\n",
       "    </tr>\n",
       "  </thead>\n",
       "  <tbody>\n",
       "    <tr>\n",
       "      <th>0</th>\n",
       "      <td>Convertible_test_orig_test_00023_resized_no_bl...</td>\n",
       "      <td>2</td>\n",
       "      <td>Convertible</td>\n",
       "      <td>Convertible</td>\n",
       "      <td>../../../Images/test/No Blur/Convertible_test_...</td>\n",
       "    </tr>\n",
       "    <tr>\n",
       "      <th>1</th>\n",
       "      <td>Convertible_test_orig_test_00096_resized_no_bl...</td>\n",
       "      <td>2</td>\n",
       "      <td>Convertible</td>\n",
       "      <td>Convertible</td>\n",
       "      <td>../../../Images/test/No Blur/Convertible_test_...</td>\n",
       "    </tr>\n",
       "    <tr>\n",
       "      <th>2</th>\n",
       "      <td>Convertible_test_orig_test_00107_resized_no_bl...</td>\n",
       "      <td>2</td>\n",
       "      <td>Convertible</td>\n",
       "      <td>Convertible</td>\n",
       "      <td>../../../Images/test/No Blur/Convertible_test_...</td>\n",
       "    </tr>\n",
       "    <tr>\n",
       "      <th>3</th>\n",
       "      <td>Convertible_test_orig_test_00135_resized_no_bl...</td>\n",
       "      <td>2</td>\n",
       "      <td>Convertible</td>\n",
       "      <td>Convertible</td>\n",
       "      <td>../../../Images/test/No Blur/Convertible_test_...</td>\n",
       "    </tr>\n",
       "    <tr>\n",
       "      <th>4</th>\n",
       "      <td>Convertible_test_orig_test_00147_resized_no_bl...</td>\n",
       "      <td>2</td>\n",
       "      <td>Convertible</td>\n",
       "      <td>Convertible</td>\n",
       "      <td>../../../Images/test/No Blur/Convertible_test_...</td>\n",
       "    </tr>\n",
       "    <tr>\n",
       "      <th>...</th>\n",
       "      <td>...</td>\n",
       "      <td>...</td>\n",
       "      <td>...</td>\n",
       "      <td>...</td>\n",
       "      <td>...</td>\n",
       "    </tr>\n",
       "    <tr>\n",
       "      <th>1650</th>\n",
       "      <td>Sedan_test_orig_train_08018_resized_no_blur.jpg</td>\n",
       "      <td>3</td>\n",
       "      <td>Sedan</td>\n",
       "      <td>Sedan</td>\n",
       "      <td>../../../Images/test/No Blur/Sedan_test_orig_t...</td>\n",
       "    </tr>\n",
       "    <tr>\n",
       "      <th>1652</th>\n",
       "      <td>Sedan_test_orig_train_08043_resized_no_blur.jpg</td>\n",
       "      <td>3</td>\n",
       "      <td>Sedan</td>\n",
       "      <td>Sedan</td>\n",
       "      <td>../../../Images/test/No Blur/Sedan_test_orig_t...</td>\n",
       "    </tr>\n",
       "    <tr>\n",
       "      <th>1653</th>\n",
       "      <td>Sedan_test_orig_train_08046_resized_no_blur.jpg</td>\n",
       "      <td>3</td>\n",
       "      <td>Sedan</td>\n",
       "      <td>Sedan</td>\n",
       "      <td>../../../Images/test/No Blur/Sedan_test_orig_t...</td>\n",
       "    </tr>\n",
       "    <tr>\n",
       "      <th>1654</th>\n",
       "      <td>Sedan_test_orig_train_08098_resized_no_blur.jpg</td>\n",
       "      <td>3</td>\n",
       "      <td>Sedan</td>\n",
       "      <td>Sedan</td>\n",
       "      <td>../../../Images/test/No Blur/Sedan_test_orig_t...</td>\n",
       "    </tr>\n",
       "    <tr>\n",
       "      <th>1655</th>\n",
       "      <td>Sedan_test_orig_train_08113_resized_no_blur.jpg</td>\n",
       "      <td>3</td>\n",
       "      <td>Sedan</td>\n",
       "      <td>Sedan</td>\n",
       "      <td>../../../Images/test/No Blur/Sedan_test_orig_t...</td>\n",
       "    </tr>\n",
       "  </tbody>\n",
       "</table>\n",
       "<p>1489 rows × 5 columns</p>\n",
       "</div>"
      ],
      "text/plain": [
       "                                               filename  label    New Class  \\\n",
       "0     Convertible_test_orig_test_00023_resized_no_bl...      2  Convertible   \n",
       "1     Convertible_test_orig_test_00096_resized_no_bl...      2  Convertible   \n",
       "2     Convertible_test_orig_test_00107_resized_no_bl...      2  Convertible   \n",
       "3     Convertible_test_orig_test_00135_resized_no_bl...      2  Convertible   \n",
       "4     Convertible_test_orig_test_00147_resized_no_bl...      2  Convertible   \n",
       "...                                                 ...    ...          ...   \n",
       "1650    Sedan_test_orig_train_08018_resized_no_blur.jpg      3        Sedan   \n",
       "1652    Sedan_test_orig_train_08043_resized_no_blur.jpg      3        Sedan   \n",
       "1653    Sedan_test_orig_train_08046_resized_no_blur.jpg      3        Sedan   \n",
       "1654    Sedan_test_orig_train_08098_resized_no_blur.jpg      3        Sedan   \n",
       "1655    Sedan_test_orig_train_08113_resized_no_blur.jpg      3        Sedan   \n",
       "\n",
       "        Old Class                             non_blurred_image_path  \n",
       "0     Convertible  ../../../Images/test/No Blur/Convertible_test_...  \n",
       "1     Convertible  ../../../Images/test/No Blur/Convertible_test_...  \n",
       "2     Convertible  ../../../Images/test/No Blur/Convertible_test_...  \n",
       "3     Convertible  ../../../Images/test/No Blur/Convertible_test_...  \n",
       "4     Convertible  ../../../Images/test/No Blur/Convertible_test_...  \n",
       "...           ...                                                ...  \n",
       "1650        Sedan  ../../../Images/test/No Blur/Sedan_test_orig_t...  \n",
       "1652        Sedan  ../../../Images/test/No Blur/Sedan_test_orig_t...  \n",
       "1653        Sedan  ../../../Images/test/No Blur/Sedan_test_orig_t...  \n",
       "1654        Sedan  ../../../Images/test/No Blur/Sedan_test_orig_t...  \n",
       "1655        Sedan  ../../../Images/test/No Blur/Sedan_test_orig_t...  \n",
       "\n",
       "[1489 rows x 5 columns]"
      ]
     },
     "execution_count": 225,
     "metadata": {},
     "output_type": "execute_result"
    }
   ],
   "source": [
    "# Load \"relabeled_test_no_blur_old_and_new_labels.xlsx\"\n",
    "relabeled_test_no_blur_old_and_new_labels = pd.read_excel('../../../Data/Relabeled_Test_No_Blur/relabeled_test_no_blur_old_and_new_labels.xlsx')\n",
    "\n",
    "# Delete if 'New Class' is not 'SUV', 'Sedan', 'Pickup', or 'Convertible'\n",
    "relabeled_test_no_blur_old_and_new_labels = relabeled_test_no_blur_old_and_new_labels[relabeled_test_no_blur_old_and_new_labels['New Class'].isin(['SUV', 'Sedan', 'Pickup', 'Convertible'])]\n",
    "\n",
    "# For testing, limit to 5 rows\n",
    "if test_run:\n",
    "    relabeled_test_no_blur_old_and_new_labels = relabeled_test_no_blur_old_and_new_labels.head(5)\n",
    "\n",
    "# Delete if 'New Class' is not 'SUV', 'Sedan', 'Pickup', or 'Convertible'\n",
    "relabeled_test_no_blur_old_and_new_labels = relabeled_test_no_blur_old_and_new_labels[relabeled_test_no_blur_old_and_new_labels['New Class'].isin(['SUV', 'Sedan', 'Pickup', 'Convertible'])]\n",
    "\n",
    "# Construct image path\n",
    "relabeled_test_no_blur_old_and_new_labels['non_blurred_image_path'] = '../../../Images/test/No Blur/' + relabeled_test_no_blur_old_and_new_labels['filename']\n",
    "\n",
    "relabeled_test_no_blur_old_and_new_labels"
   ]
  },
  {
   "cell_type": "markdown",
   "metadata": {},
   "source": [
    "## Image Processing"
   ]
  },
  {
   "cell_type": "code",
   "execution_count": 226,
   "metadata": {},
   "outputs": [],
   "source": [
    "# Function to encode the image\n",
    "def encode_image(image_path):\n",
    "  with open(image_path, \"rb\") as image_file:\n",
    "    return base64.b64encode(image_file.read()).decode('utf-8')\n",
    "\n",
    "# Function to classify the image\n",
    "def classify_image(image_path):\n",
    "\n",
    "  # Getting the base64 string\n",
    "  base64_image = encode_image(image_path)\n",
    "\n",
    "  # Setting the headers\n",
    "  headers = {\n",
    "    \"Content-Type\": \"application/json\",\n",
    "    \"Authorization\": f\"Bearer {api_key}\"\n",
    "  }\n",
    "\n",
    "  # Create payload\n",
    "  payload = {\n",
    "    \"model\": \"gpt-4-vision-preview\",\n",
    "    \"messages\": [\n",
    "      {\n",
    "        \"role\": \"user\",\n",
    "        \"content\": [\n",
    "          {\n",
    "            \"type\": \"text\",\n",
    "            \"text\": \"Please classify the image as one of the following classes: SUV, Sedan, Pickup, or Convertible. Return only the word SUV, Sedan, Pickup, or Convertible.\"\n",
    "          },\n",
    "          {\n",
    "            \"type\": \"image_url\",\n",
    "            \"image_url\": {\n",
    "              \"url\": f\"data:image/jpeg;base64,{base64_image}\"\n",
    "            }\n",
    "          }\n",
    "        ]\n",
    "      }\n",
    "    ],\n",
    "    \"max_tokens\": 300\n",
    "  }\n",
    "\n",
    "  response = requests.post(\"https://api.openai.com/v1/chat/completions\", headers=headers, json=payload)\n",
    "\n",
    "  return response.json()"
   ]
  },
  {
   "cell_type": "code",
   "execution_count": 227,
   "metadata": {},
   "outputs": [
    {
     "data": {
      "text/plain": [
       "{'id': 'chatcmpl-95zOwSBZuHSyoM9zg12KQWGd3WK0b',\n",
       " 'object': 'chat.completion',\n",
       " 'created': 1711214694,\n",
       " 'model': 'gpt-4-1106-vision-preview',\n",
       " 'choices': [{'index': 0,\n",
       "   'message': {'role': 'assistant', 'content': 'Convertible'},\n",
       "   'finish_reason': 'stop'}],\n",
       " 'usage': {'prompt_tokens': 299, 'completion_tokens': 1, 'total_tokens': 300},\n",
       " 'system_fingerprint': None}"
      ]
     },
     "execution_count": 227,
     "metadata": {},
     "output_type": "execute_result"
    }
   ],
   "source": [
    "# Test on one image\n",
    "response = classify_image(relabeled_test_no_blur_old_and_new_labels['non_blurred_image_path'].iloc[0])\n",
    "response"
   ]
  },
  {
   "cell_type": "code",
   "execution_count": 228,
   "metadata": {},
   "outputs": [
    {
     "data": {
      "text/plain": [
       "'Convertible'"
      ]
     },
     "execution_count": 228,
     "metadata": {},
     "output_type": "execute_result"
    }
   ],
   "source": [
    "response['choices'][0]['message']['content']"
   ]
  },
  {
   "cell_type": "markdown",
   "metadata": {},
   "source": [
    "## Checkpoint - continue evaluating on images that haven't been classified below yet on prior runs"
   ]
  },
  {
   "cell_type": "code",
   "execution_count": 229,
   "metadata": {},
   "outputs": [
    {
     "data": {
      "text/html": [
       "<div>\n",
       "<style scoped>\n",
       "    .dataframe tbody tr th:only-of-type {\n",
       "        vertical-align: middle;\n",
       "    }\n",
       "\n",
       "    .dataframe tbody tr th {\n",
       "        vertical-align: top;\n",
       "    }\n",
       "\n",
       "    .dataframe thead th {\n",
       "        text-align: right;\n",
       "    }\n",
       "</style>\n",
       "<table border=\"1\" class=\"dataframe\">\n",
       "  <thead>\n",
       "    <tr style=\"text-align: right;\">\n",
       "      <th></th>\n",
       "      <th>filename</th>\n",
       "      <th>label</th>\n",
       "      <th>New Class</th>\n",
       "      <th>Old Class</th>\n",
       "      <th>non_blurred_image_path</th>\n",
       "      <th>gpt_4_v_classification</th>\n",
       "    </tr>\n",
       "  </thead>\n",
       "  <tbody>\n",
       "  </tbody>\n",
       "</table>\n",
       "</div>"
      ],
      "text/plain": [
       "Empty DataFrame\n",
       "Columns: [filename, label, New Class, Old Class, non_blurred_image_path, gpt_4_v_classification]\n",
       "Index: []"
      ]
     },
     "execution_count": 229,
     "metadata": {},
     "output_type": "execute_result"
    }
   ],
   "source": [
    "# Check if file '../../../Data/Predictions/GPT-4 Vision/GPT-4_Vision_Relabeled_Test_No_Blur_predictions.xlsx' exists\n",
    "if os.path.exists('../../../Data/Predictions/GPT-4 Vision/GPT-4_Vision_Relabeled_Test_No_Blur_predictions.xlsx'):\n",
    "    # Flag\n",
    "    pre_existing_file = True\n",
    "    # Read the existing file\n",
    "    GPT_4_Vision_Relabeled_Test_No_Blur_predictions = pd.read_excel('../../../Data/Predictions/GPT-4 Vision/GPT-4_Vision_Relabeled_Test_No_Blur_predictions.xlsx')\n",
    "    # Keep non_blurred_image_path column\n",
    "    GPT_4_Vision_Relabeled_Test_No_Blur_predictions = GPT_4_Vision_Relabeled_Test_No_Blur_predictions[['non_blurred_image_path', 'gpt_4_v_classification']]\n",
    "    # Left join relabeled_test_no_blur_old_and_new_labels and GPT_4_Vision_Relabeled_Test_No_Blur_predictions on 'non_blurred_image_path'\n",
    "    items_to_classify = pd.merge(relabeled_test_no_blur_old_and_new_labels, GPT_4_Vision_Relabeled_Test_No_Blur_predictions, on='non_blurred_image_path', how='left')\n",
    "    # Keep items where 'gpt_4_v_classification' is not in ['SUV', 'Sedan', 'Pickup', 'Convertible']\n",
    "    items_to_classify = items_to_classify[~items_to_classify['gpt_4_v_classification'].isin(['SUV', 'Sedan', 'Pickup', 'Convertible'])]\n",
    "else:\n",
    "    # Flag\n",
    "    pre_existing_file = False\n",
    "    # Set items_to_classify to relabeled_test_no_blur_old_and_new_labels\n",
    "    items_to_classify = relabeled_test_no_blur_old_and_new_labels\n",
    "\n",
    "items_to_classify"
   ]
  },
  {
   "cell_type": "markdown",
   "metadata": {},
   "source": [
    "## Classify Images"
   ]
  },
  {
   "cell_type": "code",
   "execution_count": 230,
   "metadata": {},
   "outputs": [
    {
     "data": {
      "text/html": [
       "<div>\n",
       "<style scoped>\n",
       "    .dataframe tbody tr th:only-of-type {\n",
       "        vertical-align: middle;\n",
       "    }\n",
       "\n",
       "    .dataframe tbody tr th {\n",
       "        vertical-align: top;\n",
       "    }\n",
       "\n",
       "    .dataframe thead th {\n",
       "        text-align: right;\n",
       "    }\n",
       "</style>\n",
       "<table border=\"1\" class=\"dataframe\">\n",
       "  <thead>\n",
       "    <tr style=\"text-align: right;\">\n",
       "      <th></th>\n",
       "      <th>filename</th>\n",
       "      <th>label</th>\n",
       "      <th>New Class</th>\n",
       "      <th>Old Class</th>\n",
       "      <th>non_blurred_image_path</th>\n",
       "      <th>gpt_4_v_classification</th>\n",
       "    </tr>\n",
       "  </thead>\n",
       "  <tbody>\n",
       "  </tbody>\n",
       "</table>\n",
       "</div>"
      ],
      "text/plain": [
       "Empty DataFrame\n",
       "Columns: [filename, label, New Class, Old Class, non_blurred_image_path, gpt_4_v_classification]\n",
       "Index: []"
      ]
     },
     "execution_count": 230,
     "metadata": {},
     "output_type": "execute_result"
    }
   ],
   "source": [
    "# Iterate over rows of items_to_classify\n",
    "for index, row in items_to_classify.iterrows():\n",
    "    # Classify the image\n",
    "    response = classify_image(row['non_blurred_image_path'])\n",
    "    # Get the classification\n",
    "    classification = response['choices'][0]['message']['content']\n",
    "    # Add the classification to the dataframe\n",
    "    items_to_classify.loc[index, 'gpt_4_v_classification'] = classification\n",
    "\n",
    "items_to_classify"
   ]
  },
  {
   "cell_type": "markdown",
   "metadata": {},
   "source": [
    "## Export Results"
   ]
  },
  {
   "cell_type": "code",
   "execution_count": 231,
   "metadata": {},
   "outputs": [],
   "source": [
    "if pre_existing_file:\n",
    "    # Append items_to_classify to '../../../Data/Predictions/GPT-4 Vision/GPT-4_Vision_Relabeled_Test_No_Blur_predictions.xlsx'\n",
    "    GPT_4_Vision_Relabeled_Test_No_Blur_predictions = pd.read_excel('../../../Data/Predictions/GPT-4 Vision/GPT-4_Vision_Relabeled_Test_No_Blur_predictions.xlsx')\n",
    "    # Drop NaN rows on Classification\n",
    "    GPT_4_Vision_Relabeled_Test_No_Blur_predictions = GPT_4_Vision_Relabeled_Test_No_Blur_predictions.dropna(subset=['gpt_4_v_classification'])\n",
    "    # Concatenate GPT_4_Vision_Relabeled_Test_No_Blur_predictions and items_to_classify\n",
    "    concatenated_df = pd.concat([GPT_4_Vision_Relabeled_Test_No_Blur_predictions, items_to_classify])\n",
    "    # Check values and potentially cleanup\n",
    "    #print(concatenated_df['gpt_4_v_classification'].value_counts())\n",
    "    # Set items to NaN if not 'SUV', 'Sedan', 'Pickup', or 'Convertible'\n",
    "    concatenated_df.loc[~concatenated_df['gpt_4_v_classification'].isin(['SUV', 'Sedan', 'Pickup', 'Convertible']), 'gpt_4_v_classification'] = None\n",
    "    # For each non_blurred_image_path, keep the last classification\n",
    "    concatenated_df = concatenated_df.drop_duplicates(subset=['non_blurred_image_path'], keep='last')\n",
    "    # Output DF\n",
    "    concatenated_df.to_excel('../../../Data/Predictions/GPT-4 Vision/GPT-4_Vision_Relabeled_Test_No_Blur_predictions.xlsx', index=False)\n",
    "if not pre_existing_file:\n",
    "    # Check values and potentially cleanup\n",
    "    #print(items_to_classify['gpt_4_v_classification'].value_counts())\n",
    "    # Set items to NaN if not 'SUV', 'Sedan', 'Pickup', or 'Convertible'\n",
    "    items_to_classify.loc[~items_to_classify['gpt_4_v_classification'].isin(['SUV', 'Sedan', 'Pickup', 'Convertible']), 'gpt_4_v_classification'] = None\n",
    "    # If pre_existing_file no pre-exisitng file, just save items_to_classify to '../../../Data/Predictions/GPT-4 Vision/GPT-4_Vision_Relabeled_Test_No_Blur_predictions.xlsx'\n",
    "    items_to_classify.to_excel('../../../Data/Predictions/GPT-4 Vision/GPT-4_Vision_Relabeled_Test_No_Blur_predictions.xlsx', index=False)\n"
   ]
  }
 ],
 "metadata": {
  "kernelspec": {
   "display_name": "computervision",
   "language": "python",
   "name": "python3"
  },
  "language_info": {
   "codemirror_mode": {
    "name": "ipython",
    "version": 3
   },
   "file_extension": ".py",
   "mimetype": "text/x-python",
   "name": "python",
   "nbconvert_exporter": "python",
   "pygments_lexer": "ipython3",
   "version": "3.11.8"
  }
 },
 "nbformat": 4,
 "nbformat_minor": 2
}
