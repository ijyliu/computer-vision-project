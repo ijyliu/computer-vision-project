{
 "cells": [
  {
   "cell_type": "markdown",
   "metadata": {},
   "source": [
    "# GPT-4 Vision Relabeled Test\n",
    "\n",
    "Test accuracy of GPT-4 Vision on relabeled test set."
   ]
  },
  {
   "cell_type": "code",
   "execution_count": 83,
   "metadata": {},
   "outputs": [],
   "source": [
    "# Packages\n",
    "import base64\n",
    "import requests\n",
    "import openai\n",
    "import os\n",
    "import pandas as pd"
   ]
  },
  {
   "cell_type": "code",
   "execution_count": 84,
   "metadata": {},
   "outputs": [],
   "source": [
    "# Get and set API key\n",
    "with open(os.path.expanduser('~') + '/Documents/OpenAI/computer-vision-project.txt', 'r') as file:\n",
    "    api_key = file.read()\n",
    "openai.api_key = api_key"
   ]
  },
  {
   "cell_type": "code",
   "execution_count": 85,
   "metadata": {},
   "outputs": [],
   "source": [
    "# test run or not\n",
    "test_run = True"
   ]
  },
  {
   "cell_type": "markdown",
   "metadata": {},
   "source": [
    "## Load Data"
   ]
  },
  {
   "cell_type": "code",
   "execution_count": 86,
   "metadata": {},
   "outputs": [
    {
     "name": "stdout",
     "output_type": "stream",
     "text": [
      "                                            filename  label    New Class  \\\n",
      "0  Convertible_test_orig_test_00023_resized_no_bl...      2  Convertible   \n",
      "1  Convertible_test_orig_test_00096_resized_no_bl...      2  Convertible   \n",
      "2  Convertible_test_orig_test_00107_resized_no_bl...      2  Convertible   \n",
      "3  Convertible_test_orig_test_00135_resized_no_bl...      2  Convertible   \n",
      "4  Convertible_test_orig_test_00147_resized_no_bl...      2  Convertible   \n",
      "\n",
      "     Old Class                             non_blurred_image_path  \n",
      "0  Convertible  ../../../Images/test/No Blur/Convertible_test_...  \n",
      "1  Convertible  ../../../Images/test/No Blur/Convertible_test_...  \n",
      "2  Convertible  ../../../Images/test/No Blur/Convertible_test_...  \n",
      "3  Convertible  ../../../Images/test/No Blur/Convertible_test_...  \n",
      "4  Convertible  ../../../Images/test/No Blur/Convertible_test_...  \n"
     ]
    }
   ],
   "source": [
    "# Load \"relabeled_test_no_blur_old_and_new_labels.xlsx\"\n",
    "relabeled_test_no_blur_old_and_new_labels = pd.read_excel('../../../Data/Relabeled_Test_No_Blur/relabeled_test_no_blur_old_and_new_labels.xlsx')\n",
    "\n",
    "# Delete if 'New Class' is not 'SUV', 'Sedan', 'Pickup', or 'Convertible'\n",
    "relabeled_test_no_blur_old_and_new_labels = relabeled_test_no_blur_old_and_new_labels[relabeled_test_no_blur_old_and_new_labels['New Class'].isin(['SUV', 'Sedan', 'Pickup', 'Convertible'])]\n",
    "\n",
    "# For testing, limit to 5 rows\n",
    "if test_run:\n",
    "    relabeled_test_no_blur_old_and_new_labels = relabeled_test_no_blur_old_and_new_labels.head(5)\n",
    "\n",
    "# Delete if 'New Class' is not 'SUV', 'Sedan', 'Pickup', or 'Convertible'\n",
    "relabeled_test_no_blur_old_and_new_labels = relabeled_test_no_blur_old_and_new_labels[relabeled_test_no_blur_old_and_new_labels['New Class'].isin(['SUV', 'Sedan', 'Pickup', 'Convertible'])]\n",
    "\n",
    "# Construct image path\n",
    "relabeled_test_no_blur_old_and_new_labels['non_blurred_image_path'] = '../../../Images/test/No Blur/' + relabeled_test_no_blur_old_and_new_labels['filename']\n",
    "\n",
    "# Print the first few rows of the dataframe\n",
    "print(relabeled_test_no_blur_old_and_new_labels.head())"
   ]
  },
  {
   "cell_type": "markdown",
   "metadata": {},
   "source": [
    "## Image Processing"
   ]
  },
  {
   "cell_type": "code",
   "execution_count": 87,
   "metadata": {},
   "outputs": [],
   "source": [
    "# Function to encode the image\n",
    "def encode_image(image_path):\n",
    "  with open(image_path, \"rb\") as image_file:\n",
    "    return base64.b64encode(image_file.read()).decode('utf-8')\n",
    "\n",
    "# Function to classify the image\n",
    "def classify_image(image_path):\n",
    "\n",
    "  # Getting the base64 string\n",
    "  base64_image = encode_image(image_path)\n",
    "\n",
    "  # Setting the headers\n",
    "  headers = {\n",
    "    \"Content-Type\": \"application/json\",\n",
    "    \"Authorization\": f\"Bearer {api_key}\"\n",
    "  }\n",
    "\n",
    "  # Create payload\n",
    "  payload = {\n",
    "    \"model\": \"gpt-4-vision-preview\",\n",
    "    \"messages\": [\n",
    "      {\n",
    "        \"role\": \"user\",\n",
    "        \"content\": [\n",
    "          {\n",
    "            \"type\": \"text\",\n",
    "            \"text\": \"Please classify the image as one of the following classes: SUV, Sedan, Pickup, or Convertible. Return only the word SUV, Sedan, Pickup, or Convertible.\"\n",
    "          },\n",
    "          {\n",
    "            \"type\": \"image_url\",\n",
    "            \"image_url\": {\n",
    "              \"url\": f\"data:image/jpeg;base64,{base64_image}\"\n",
    "            }\n",
    "          }\n",
    "        ]\n",
    "      }\n",
    "    ],\n",
    "    \"max_tokens\": 300\n",
    "  }\n",
    "\n",
    "  response = requests.post(\"https://api.openai.com/v1/chat/completions\", headers=headers, json=payload)\n",
    "\n",
    "  return response.json()"
   ]
  },
  {
   "cell_type": "code",
   "execution_count": 88,
   "metadata": {},
   "outputs": [
    {
     "data": {
      "text/plain": [
       "{'id': 'chatcmpl-95ozZpJWIHtuh3pXsK9irEFlKdxPH',\n",
       " 'object': 'chat.completion',\n",
       " 'created': 1711174681,\n",
       " 'model': 'gpt-4-1106-vision-preview',\n",
       " 'choices': [{'index': 0,\n",
       "   'message': {'role': 'assistant', 'content': 'Convertible'},\n",
       "   'finish_reason': 'stop'}],\n",
       " 'usage': {'prompt_tokens': 299, 'completion_tokens': 1, 'total_tokens': 300},\n",
       " 'system_fingerprint': None}"
      ]
     },
     "execution_count": 88,
     "metadata": {},
     "output_type": "execute_result"
    }
   ],
   "source": [
    "# Test on one image\n",
    "response = classify_image(relabeled_test_no_blur_old_and_new_labels['non_blurred_image_path'].iloc[0])\n",
    "response"
   ]
  },
  {
   "cell_type": "code",
   "execution_count": 89,
   "metadata": {},
   "outputs": [
    {
     "data": {
      "text/plain": [
       "'Convertible'"
      ]
     },
     "execution_count": 89,
     "metadata": {},
     "output_type": "execute_result"
    }
   ],
   "source": [
    "response['choices'][0]['message']['content']"
   ]
  },
  {
   "cell_type": "markdown",
   "metadata": {},
   "source": [
    "## Classify Images"
   ]
  },
  {
   "cell_type": "code",
   "execution_count": 90,
   "metadata": {},
   "outputs": [
    {
     "data": {
      "text/html": [
       "<div>\n",
       "<style scoped>\n",
       "    .dataframe tbody tr th:only-of-type {\n",
       "        vertical-align: middle;\n",
       "    }\n",
       "\n",
       "    .dataframe tbody tr th {\n",
       "        vertical-align: top;\n",
       "    }\n",
       "\n",
       "    .dataframe thead th {\n",
       "        text-align: right;\n",
       "    }\n",
       "</style>\n",
       "<table border=\"1\" class=\"dataframe\">\n",
       "  <thead>\n",
       "    <tr style=\"text-align: right;\">\n",
       "      <th></th>\n",
       "      <th>filename</th>\n",
       "      <th>label</th>\n",
       "      <th>New Class</th>\n",
       "      <th>Old Class</th>\n",
       "      <th>non_blurred_image_path</th>\n",
       "      <th>gpt_4_v_classification</th>\n",
       "    </tr>\n",
       "  </thead>\n",
       "  <tbody>\n",
       "    <tr>\n",
       "      <th>0</th>\n",
       "      <td>Convertible_test_orig_test_00023_resized_no_bl...</td>\n",
       "      <td>2</td>\n",
       "      <td>Convertible</td>\n",
       "      <td>Convertible</td>\n",
       "      <td>../../../Images/test/No Blur/Convertible_test_...</td>\n",
       "      <td>Convertible</td>\n",
       "    </tr>\n",
       "    <tr>\n",
       "      <th>1</th>\n",
       "      <td>Convertible_test_orig_test_00096_resized_no_bl...</td>\n",
       "      <td>2</td>\n",
       "      <td>Convertible</td>\n",
       "      <td>Convertible</td>\n",
       "      <td>../../../Images/test/No Blur/Convertible_test_...</td>\n",
       "      <td>Convertible</td>\n",
       "    </tr>\n",
       "    <tr>\n",
       "      <th>2</th>\n",
       "      <td>Convertible_test_orig_test_00107_resized_no_bl...</td>\n",
       "      <td>2</td>\n",
       "      <td>Convertible</td>\n",
       "      <td>Convertible</td>\n",
       "      <td>../../../Images/test/No Blur/Convertible_test_...</td>\n",
       "      <td>Sedan</td>\n",
       "    </tr>\n",
       "    <tr>\n",
       "      <th>3</th>\n",
       "      <td>Convertible_test_orig_test_00135_resized_no_bl...</td>\n",
       "      <td>2</td>\n",
       "      <td>Convertible</td>\n",
       "      <td>Convertible</td>\n",
       "      <td>../../../Images/test/No Blur/Convertible_test_...</td>\n",
       "      <td>Convertible</td>\n",
       "    </tr>\n",
       "    <tr>\n",
       "      <th>4</th>\n",
       "      <td>Convertible_test_orig_test_00147_resized_no_bl...</td>\n",
       "      <td>2</td>\n",
       "      <td>Convertible</td>\n",
       "      <td>Convertible</td>\n",
       "      <td>../../../Images/test/No Blur/Convertible_test_...</td>\n",
       "      <td>Convertible</td>\n",
       "    </tr>\n",
       "  </tbody>\n",
       "</table>\n",
       "</div>"
      ],
      "text/plain": [
       "                                            filename  label    New Class  \\\n",
       "0  Convertible_test_orig_test_00023_resized_no_bl...      2  Convertible   \n",
       "1  Convertible_test_orig_test_00096_resized_no_bl...      2  Convertible   \n",
       "2  Convertible_test_orig_test_00107_resized_no_bl...      2  Convertible   \n",
       "3  Convertible_test_orig_test_00135_resized_no_bl...      2  Convertible   \n",
       "4  Convertible_test_orig_test_00147_resized_no_bl...      2  Convertible   \n",
       "\n",
       "     Old Class                             non_blurred_image_path  \\\n",
       "0  Convertible  ../../../Images/test/No Blur/Convertible_test_...   \n",
       "1  Convertible  ../../../Images/test/No Blur/Convertible_test_...   \n",
       "2  Convertible  ../../../Images/test/No Blur/Convertible_test_...   \n",
       "3  Convertible  ../../../Images/test/No Blur/Convertible_test_...   \n",
       "4  Convertible  ../../../Images/test/No Blur/Convertible_test_...   \n",
       "\n",
       "  gpt_4_v_classification  \n",
       "0            Convertible  \n",
       "1            Convertible  \n",
       "2                  Sedan  \n",
       "3            Convertible  \n",
       "4            Convertible  "
      ]
     },
     "execution_count": 90,
     "metadata": {},
     "output_type": "execute_result"
    }
   ],
   "source": [
    "# Iterate over rows of relabeled_test_no_blur_old_and_new_labels\n",
    "for index, row in relabeled_test_no_blur_old_and_new_labels.iterrows():\n",
    "    # Classify the image\n",
    "    response = classify_image(row['non_blurred_image_path'])\n",
    "    # Get the classification\n",
    "    classification = response['choices'][0]['message']['content']\n",
    "    # Add the classification to the dataframe\n",
    "    relabeled_test_no_blur_old_and_new_labels.loc[index, 'gpt_4_v_classification'] = classification\n",
    "\n",
    "relabeled_test_no_blur_old_and_new_labels"
   ]
  },
  {
   "cell_type": "markdown",
   "metadata": {},
   "source": [
    "## Export Results"
   ]
  },
  {
   "cell_type": "code",
   "execution_count": 91,
   "metadata": {},
   "outputs": [],
   "source": [
    "relabeled_test_no_blur_old_and_new_labels.to_excel('../../../Data/Predictions/GPT-4 Vision/GPT-4_Vision_Test_No_Blur_predictions.xlsx', index=False)\n"
   ]
  }
 ],
 "metadata": {
  "kernelspec": {
   "display_name": "computervision",
   "language": "python",
   "name": "python3"
  },
  "language_info": {
   "codemirror_mode": {
    "name": "ipython",
    "version": 3
   },
   "file_extension": ".py",
   "mimetype": "text/x-python",
   "name": "python",
   "nbconvert_exporter": "python",
   "pygments_lexer": "ipython3",
   "version": "3.11.8"
  }
 },
 "nbformat": 4,
 "nbformat_minor": 2
}
