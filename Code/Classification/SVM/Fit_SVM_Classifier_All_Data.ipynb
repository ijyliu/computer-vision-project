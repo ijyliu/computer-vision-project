{
 "cells": [
  {
   "cell_type": "markdown",
   "metadata": {},
   "source": [
    "# Fit SVM Classifier on All Data"
   ]
  },
  {
   "cell_type": "code",
   "execution_count": 1,
   "metadata": {},
   "outputs": [],
   "source": [
    "# Packages\n",
    "from SVM_Classifier_Functions import *"
   ]
  },
  {
   "cell_type": "code",
   "execution_count": 2,
   "metadata": {},
   "outputs": [],
   "source": [
    "# Set classifier name\n",
    "classifier_name = 'All_Data'"
   ]
  },
  {
   "cell_type": "code",
   "execution_count": 3,
   "metadata": {},
   "outputs": [],
   "source": [
    "# Sample run or not\n",
    "sample_run = False"
   ]
  },
  {
   "cell_type": "markdown",
   "metadata": {},
   "source": [
    "## Load Training Data"
   ]
  },
  {
   "cell_type": "code",
   "execution_count": 4,
   "metadata": {},
   "outputs": [
    {
     "name": "stdout",
     "output_type": "stream",
     "text": [
      "all training data\n",
      "           Class                             harmonized_filename  \\\n",
      "0          Sedan         Sedan_train_orig_test_01516_resized.jpg   \n",
      "1            SUV          SUV_train_orig_train_00294_resized.jpg   \n",
      "2    Convertible  Convertible_train_orig_train_04236_resized.jpg   \n",
      "3         Pickup       Pickup_train_orig_train_03906_resized.jpg   \n",
      "4            SUV           SUV_train_orig_test_01344_resized.jpg   \n",
      "..           ...                                             ...   \n",
      "370          SUV           SUV_train_orig_test_06937_resized.jpg   \n",
      "371        Sedan         Sedan_train_orig_test_02708_resized.jpg   \n",
      "372        Sedan         Sedan_train_orig_test_05010_resized.jpg   \n",
      "373        Sedan        Sedan_train_orig_train_02045_resized.jpg   \n",
      "374  Convertible   Convertible_train_orig_test_02191_resized.jpg   \n",
      "\n",
      "                                       image_path_blur  \\\n",
      "0    ../../../Images/train/Blurred/Sedan_train_orig...   \n",
      "1    ../../../Images/train/Blurred/SUV_train_orig_t...   \n",
      "2    ../../../Images/train/Blurred/Convertible_trai...   \n",
      "3    ../../../Images/train/Blurred/Pickup_train_ori...   \n",
      "4    ../../../Images/train/Blurred/SUV_train_orig_t...   \n",
      "..                                                 ...   \n",
      "370  ../../../Images/train/Blurred/SUV_train_orig_t...   \n",
      "371  ../../../Images/train/Blurred/Sedan_train_orig...   \n",
      "372  ../../../Images/train/Blurred/Sedan_train_orig...   \n",
      "373  ../../../Images/train/Blurred/Sedan_train_orig...   \n",
      "374  ../../../Images/train/Blurred/Convertible_trai...   \n",
      "\n",
      "                                    image_path_no_blur  \\\n",
      "0    ../../../Images/train/No_Blur/Sedan_train_orig...   \n",
      "1    ../../../Images/train/No_Blur/SUV_train_orig_t...   \n",
      "2    ../../../Images/train/No_Blur/Convertible_trai...   \n",
      "3    ../../../Images/train/No_Blur/Pickup_train_ori...   \n",
      "4    ../../../Images/train/No_Blur/SUV_train_orig_t...   \n",
      "..                                                 ...   \n",
      "370  ../../../Images/train/No_Blur/SUV_train_orig_t...   \n",
      "371  ../../../Images/train/No_Blur/Sedan_train_orig...   \n",
      "372  ../../../Images/train/No_Blur/Sedan_train_orig...   \n",
      "373  ../../../Images/train/No_Blur/Sedan_train_orig...   \n",
      "374  ../../../Images/train/No_Blur/Convertible_trai...   \n",
      "\n",
      "     ViT_Embedding_Element_0  ViT_Embedding_Element_1  \\\n",
      "0                  -0.244975                 0.085045   \n",
      "1                  -0.311410                 0.080667   \n",
      "2                  -0.048161                 0.171966   \n",
      "3                  -0.291613                 0.124919   \n",
      "4                  -0.288975                 0.369587   \n",
      "..                       ...                      ...   \n",
      "370                -0.202336                 0.099946   \n",
      "371                 0.127041                 0.055380   \n",
      "372                -0.300395                 0.217117   \n",
      "373                -0.253200                 0.179523   \n",
      "374                -0.135949                 0.092534   \n",
      "\n",
      "     ViT_Embedding_Element_2  ViT_Embedding_Element_3  \\\n",
      "0                  -0.117774                -0.399902   \n",
      "1                   0.144856                -0.376064   \n",
      "2                  -0.329507                -0.446328   \n",
      "3                   0.101113                -0.145411   \n",
      "4                  -0.056602                -0.335338   \n",
      "..                       ...                      ...   \n",
      "370                 0.110363                -0.436125   \n",
      "371                -0.221383                -0.264069   \n",
      "372                -0.080194                -0.262580   \n",
      "373                -0.103014                -0.333927   \n",
      "374                -0.418505                -0.514147   \n",
      "\n",
      "     ViT_Embedding_Element_4  ViT_Embedding_Element_5  ...  \\\n",
      "0                   0.034330                 0.196966  ...   \n",
      "1                  -0.551460                 0.375702  ...   \n",
      "2                  -0.108216                 0.354181  ...   \n",
      "3                  -0.197138                 0.369833  ...   \n",
      "4                   0.238191                 0.122485  ...   \n",
      "..                       ...                      ...  ...   \n",
      "370                -0.054367                 0.523574  ...   \n",
      "371                -0.133391                 0.367513  ...   \n",
      "372                 0.088478                 0.233494  ...   \n",
      "373                 0.201362                 0.246128  ...   \n",
      "374                -0.023249                 0.308386  ...   \n",
      "\n",
      "     VGG_Embedding_Element_502  VGG_Embedding_Element_503  \\\n",
      "0                     0.019599                   0.631864   \n",
      "1                     0.009478                   0.577905   \n",
      "2                     0.142523                   0.609230   \n",
      "3                     0.030089                   0.077514   \n",
      "4                     0.249159                   2.016973   \n",
      "..                         ...                        ...   \n",
      "370                   0.020363                   0.212081   \n",
      "371                   0.157728                   0.245139   \n",
      "372                   0.537558                   0.845226   \n",
      "373                   0.089902                   0.155345   \n",
      "374                   0.054892                   0.777595   \n",
      "\n",
      "     VGG_Embedding_Element_504  VGG_Embedding_Element_505  \\\n",
      "0                     0.040191                   0.000000   \n",
      "1                     0.050671                   0.000000   \n",
      "2                     0.356170                   0.000000   \n",
      "3                     0.183065                   0.000000   \n",
      "4                     0.275861                   0.083213   \n",
      "..                         ...                        ...   \n",
      "370                   0.182358                   0.000000   \n",
      "371                   0.279121                   0.091376   \n",
      "372                   0.190554                   0.000000   \n",
      "373                   0.534039                   0.000000   \n",
      "374                   0.226955                   0.145662   \n",
      "\n",
      "     VGG_Embedding_Element_506  VGG_Embedding_Element_507  \\\n",
      "0                     0.000000                   0.000000   \n",
      "1                     0.000000                   0.181632   \n",
      "2                     0.004893                   0.068126   \n",
      "3                     0.000000                   0.289010   \n",
      "4                     0.000000                   0.418786   \n",
      "..                         ...                        ...   \n",
      "370                   0.000000                   0.013313   \n",
      "371                   0.000000                   0.007251   \n",
      "372                   0.000000                   0.104770   \n",
      "373                   0.040990                   0.001010   \n",
      "374                   0.000000                   0.000396   \n",
      "\n",
      "     VGG_Embedding_Element_508  VGG_Embedding_Element_509  \\\n",
      "0                     0.098337                   0.000000   \n",
      "1                     0.077526                   0.056239   \n",
      "2                     0.000000                   0.000000   \n",
      "3                     0.286223                   0.002977   \n",
      "4                     0.430101                   0.094569   \n",
      "..                         ...                        ...   \n",
      "370                   0.375799                   0.283265   \n",
      "371                   0.036993                   0.486448   \n",
      "372                   0.759120                   0.534464   \n",
      "373                   0.027271                   0.027224   \n",
      "374                   0.174742                   0.000000   \n",
      "\n",
      "     VGG_Embedding_Element_510  VGG_Embedding_Element_511  \n",
      "0                     0.550390                   0.000368  \n",
      "1                     0.071139                   0.000000  \n",
      "2                     0.496660                   0.000000  \n",
      "3                     0.412420                   0.000000  \n",
      "4                     1.051647                   0.781257  \n",
      "..                         ...                        ...  \n",
      "370                   0.173897                   0.003399  \n",
      "371                   0.476121                   0.015854  \n",
      "372                   0.083200                   0.215112  \n",
      "373                   0.192944                   0.154796  \n",
      "374                   1.680681                   0.007063  \n",
      "\n",
      "[6003 rows x 4893 columns]\n"
     ]
    }
   ],
   "source": [
    "training_data = combine_directory_parquets('../../../Data/Features/All Features/train')\n",
    "print('all training data')\n",
    "print(training_data)\n",
    "\n",
    "# If sample run, take a sample of the data and a reduced number of features\n",
    "if sample_run:\n",
    "    training_data = training_data.sample(frac=0.01).iloc[:, 0:10]"
   ]
  },
  {
   "cell_type": "markdown",
   "metadata": {},
   "source": [
    "## Prepare Matrices"
   ]
  },
  {
   "cell_type": "code",
   "execution_count": 5,
   "metadata": {},
   "outputs": [],
   "source": [
    "X_train, y_train = prepare_matrices(training_data)"
   ]
  },
  {
   "cell_type": "markdown",
   "metadata": {},
   "source": [
    "## Fit Classifier"
   ]
  },
  {
   "cell_type": "code",
   "execution_count": 6,
   "metadata": {},
   "outputs": [
    {
     "name": "stdout",
     "output_type": "stream",
     "text": [
      "Training time in minutes:  0.047627496719360354\n",
      "Training time per image in minutes:  0.0007937916119893393\n",
      "Train accuracy of best model:  0.6333333333333333\n",
      "Mean cross validated accuracy of best model:  0.4833333333333333\n",
      "Hyperparameters searched:  {'c_values': array([  0.1,   1. ,  10. , 100. ]), 'kernel_grid': ['rbf', 'poly'], 'gamma_grid': array([  0.1,   1. ,  10. , 100. ]), 'degree_grid': [2, 3, 5, 7], 'k_folds': 5}\n",
      "Tuned hyperparameters:  {'C': 1.0, 'degree': 2, 'gamma': 0.1, 'kernel': 'rbf'}\n"
     ]
    }
   ],
   "source": [
    "fit_svm_classifier(X_train, y_train, classifier_name)"
   ]
  }
 ],
 "metadata": {
  "kernelspec": {
   "display_name": "Python 3",
   "language": "python",
   "name": "python3"
  },
  "language_info": {
   "codemirror_mode": {
    "name": "ipython",
    "version": 3
   },
   "file_extension": ".py",
   "mimetype": "text/x-python",
   "name": "python",
   "nbconvert_exporter": "python",
   "pygments_lexer": "ipython3",
   "version": "3.12.0"
  }
 },
 "nbformat": 4,
 "nbformat_minor": 2
}
