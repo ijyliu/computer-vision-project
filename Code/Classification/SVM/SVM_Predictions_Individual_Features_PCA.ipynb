{
 "cells": [
  {
   "cell_type": "markdown",
   "metadata": {},
   "source": [
    "# SVM Classifier Predictions"
   ]
  },
  {
   "cell_type": "code",
   "execution_count": 1,
   "metadata": {},
   "outputs": [],
   "source": [
    "# Packages\n",
    "from SVM_Classifier_Functions import *"
   ]
  },
  {
   "cell_type": "code",
   "execution_count": 2,
   "metadata": {},
   "outputs": [],
   "source": [
    "# Classifier Name\n",
    "classifier_name = 'Individual_Features_PCA'"
   ]
  },
  {
   "cell_type": "code",
   "execution_count": 3,
   "metadata": {},
   "outputs": [],
   "source": [
    "# Whether this is a sample run or not\n",
    "sample_run = False"
   ]
  },
  {
   "cell_type": "markdown",
   "metadata": {},
   "source": [
    "## Load Test Data"
   ]
  },
  {
   "cell_type": "code",
   "execution_count": 4,
   "metadata": {},
   "outputs": [
    {
     "name": "stdout",
     "output_type": "stream",
     "text": [
      "all test data\n",
      "          Class                           harmonized_filename  \\\n",
      "0        Pickup       Pickup_test_orig_test_05620_resized.jpg   \n",
      "1           SUV          SUV_test_orig_test_08041_resized.jpg   \n",
      "2   Convertible  Convertible_test_orig_test_00822_resized.jpg   \n",
      "3   Convertible  Convertible_test_orig_test_00618_resized.jpg   \n",
      "4        Pickup       Pickup_test_orig_test_05241_resized.jpg   \n",
      "..          ...                                           ...   \n",
      "88          SUV          SUV_test_orig_test_07199_resized.jpg   \n",
      "89  Convertible  Convertible_test_orig_test_06645_resized.jpg   \n",
      "90        Sedan       Sedan_test_orig_train_00676_resized.jpg   \n",
      "91        Sedan       Sedan_test_orig_train_04786_resized.jpg   \n",
      "92          SUV         SUV_test_orig_train_03571_resized.jpg   \n",
      "\n",
      "                                      image_path_blur  \\\n",
      "0   ../../../Images/test/Blurred/Pickup_test_orig_...   \n",
      "1   ../../../Images/test/Blurred/SUV_test_orig_tes...   \n",
      "2   ../../../Images/test/Blurred/Convertible_test_...   \n",
      "3   ../../../Images/test/Blurred/Convertible_test_...   \n",
      "4   ../../../Images/test/Blurred/Pickup_test_orig_...   \n",
      "..                                                ...   \n",
      "88  ../../../Images/test/Blurred/SUV_test_orig_tes...   \n",
      "89  ../../../Images/test/Blurred/Convertible_test_...   \n",
      "90  ../../../Images/test/Blurred/Sedan_test_orig_t...   \n",
      "91  ../../../Images/test/Blurred/Sedan_test_orig_t...   \n",
      "92  ../../../Images/test/Blurred/SUV_test_orig_tra...   \n",
      "\n",
      "                                   image_path_no_blur  \\\n",
      "0   ../../../Images/test/No_Blur/Pickup_test_orig_...   \n",
      "1   ../../../Images/test/No_Blur/SUV_test_orig_tes...   \n",
      "2   ../../../Images/test/No_Blur/Convertible_test_...   \n",
      "3   ../../../Images/test/No_Blur/Convertible_test_...   \n",
      "4   ../../../Images/test/No_Blur/Pickup_test_orig_...   \n",
      "..                                                ...   \n",
      "88  ../../../Images/test/No_Blur/SUV_test_orig_tes...   \n",
      "89  ../../../Images/test/No_Blur/Convertible_test_...   \n",
      "90  ../../../Images/test/No_Blur/Sedan_test_orig_t...   \n",
      "91  ../../../Images/test/No_Blur/Sedan_test_orig_t...   \n",
      "92  ../../../Images/test/No_Blur/SUV_test_orig_tra...   \n",
      "\n",
      "    HOG 24 PPC Features_PCA_0  HOG 24 PPC Features_PCA_1  \\\n",
      "0                   -8.171346                  10.907465   \n",
      "1                   -7.908929                 -12.021455   \n",
      "2                   -2.761179                 -13.419586   \n",
      "3                    8.337411                 -12.332863   \n",
      "4                   -7.020214                   0.821890   \n",
      "..                        ...                        ...   \n",
      "88                   8.618802                  -5.132743   \n",
      "89                  14.162828                   7.220504   \n",
      "90                  -4.772583                   5.103560   \n",
      "91                  -1.309276                   1.988129   \n",
      "92                 -15.766613                   4.067275   \n",
      "\n",
      "    HOG 24 PPC Features_PCA_2  HOG 24 PPC Features_PCA_3  \\\n",
      "0                    6.934272                  -8.374407   \n",
      "1                  -12.251577                   2.993799   \n",
      "2                    8.544027                   0.846963   \n",
      "3                    1.286367                 -14.327971   \n",
      "4                  -10.487839                   3.726795   \n",
      "..                        ...                        ...   \n",
      "88                 -15.258827                 -10.960776   \n",
      "89                  -5.953671                  23.990736   \n",
      "90                  -4.954823                 -14.171807   \n",
      "91                   0.160798                 -21.169916   \n",
      "92                  -1.537296                  -3.532320   \n",
      "\n",
      "    HOG 24 PPC Features_PCA_4  HOG 24 PPC Features_PCA_5  ...  \\\n",
      "0                  -14.052191                  -4.553552  ...   \n",
      "1                    6.497160                  -2.495471  ...   \n",
      "2                   -6.792910                  -4.064059  ...   \n",
      "3                    4.907377                  -0.513369  ...   \n",
      "4                    6.608122                   1.193544  ...   \n",
      "..                        ...                        ...  ...   \n",
      "88                  12.627867                   5.629945  ...   \n",
      "89                 -10.802123                   1.655817  ...   \n",
      "90                   2.424875                   0.411529  ...   \n",
      "91                   0.085971                  10.768375  ...   \n",
      "92                   5.164307                  -2.787842  ...   \n",
      "\n",
      "    Vision Transformer Features_PCA_390  Vision Transformer Features_PCA_391  \\\n",
      "0                             -0.189529                             0.535701   \n",
      "1                              0.055926                            -0.167209   \n",
      "2                             -0.004382                             0.218005   \n",
      "3                              0.003909                             0.499471   \n",
      "4                             -0.367148                             0.222508   \n",
      "..                                  ...                                  ...   \n",
      "88                             0.821093                            -0.246899   \n",
      "89                            -0.687428                            -0.287870   \n",
      "90                            -0.468466                            -0.114980   \n",
      "91                             0.095852                             0.655286   \n",
      "92                            -0.670028                            -0.602416   \n",
      "\n",
      "    Vision Transformer Features_PCA_392  Vision Transformer Features_PCA_393  \\\n",
      "0                              0.702582                            -0.038611   \n",
      "1                              0.120064                            -0.815811   \n",
      "2                              1.055876                             0.526673   \n",
      "3                             -0.298391                             0.335714   \n",
      "4                             -1.311149                            -0.595861   \n",
      "..                                  ...                                  ...   \n",
      "88                            -0.609032                             0.538544   \n",
      "89                             0.701228                            -0.454707   \n",
      "90                            -0.467131                             0.110080   \n",
      "91                             0.173191                            -0.767070   \n",
      "92                            -0.964628                             0.198312   \n",
      "\n",
      "    Vision Transformer Features_PCA_394  Vision Transformer Features_PCA_395  \\\n",
      "0                              0.353812                             0.312935   \n",
      "1                             -0.198176                            -0.082439   \n",
      "2                             -0.584284                             0.908134   \n",
      "3                             -0.441088                            -0.011428   \n",
      "4                             -0.738300                            -0.310890   \n",
      "..                                  ...                                  ...   \n",
      "88                            -0.393911                             0.215795   \n",
      "89                             0.387769                             0.297274   \n",
      "90                             0.636542                             0.308689   \n",
      "91                            -0.498907                             0.337963   \n",
      "92                            -0.631441                             0.253384   \n",
      "\n",
      "    Vision Transformer Features_PCA_396  Vision Transformer Features_PCA_397  \\\n",
      "0                              0.095524                            -0.680569   \n",
      "1                              0.090081                             0.891070   \n",
      "2                              0.213602                             0.272771   \n",
      "3                             -0.243596                             0.283617   \n",
      "4                             -0.042749                             0.200668   \n",
      "..                                  ...                                  ...   \n",
      "88                             0.489158                             0.020285   \n",
      "89                            -0.221273                            -0.057582   \n",
      "90                            -0.630767                            -0.428011   \n",
      "91                            -0.421245                            -0.020473   \n",
      "92                            -0.488798                            -1.250909   \n",
      "\n",
      "    Vision Transformer Features_PCA_398  Vision Transformer Features_PCA_399  \n",
      "0                              0.189687                             0.200746  \n",
      "1                             -0.018568                            -0.862321  \n",
      "2                              0.295467                            -0.714622  \n",
      "3                              0.646975                             0.001201  \n",
      "4                             -1.048752                            -0.138182  \n",
      "..                                  ...                                  ...  \n",
      "88                            -0.210545                            -0.086266  \n",
      "89                            -0.665964                             0.790212  \n",
      "90                            -0.827721                             0.580010  \n",
      "91                            -0.087248                            -0.028382  \n",
      "92                             0.873967                            -0.651705  \n",
      "\n",
      "[1489 rows x 1614 columns]\n"
     ]
    }
   ],
   "source": [
    "test_data = combine_directory_parquets('../../../Data/Features/All Features Individual Features PCA/test')\n",
    "print('all test data')\n",
    "print(test_data)\n",
    "\n",
    "if sample_run:\n",
    "    test_data = test_data.sample(frac=0.01).iloc[:, 0:10]"
   ]
  },
  {
   "cell_type": "markdown",
   "metadata": {},
   "source": [
    "## Prepare Matrices"
   ]
  },
  {
   "cell_type": "code",
   "execution_count": 5,
   "metadata": {},
   "outputs": [],
   "source": [
    "# Prepare matrices\n",
    "X_test, _ = prepare_matrices(test_data)"
   ]
  },
  {
   "cell_type": "markdown",
   "metadata": {},
   "source": [
    "## Make Predictions"
   ]
  },
  {
   "cell_type": "code",
   "execution_count": 6,
   "metadata": {},
   "outputs": [
    {
     "name": "stderr",
     "output_type": "stream",
     "text": [
      "c:\\Users\\ijyli\\miniforge3\\envs\\computervision\\Lib\\site-packages\\sklearn\\base.py:347: InconsistentVersionWarning: Trying to unpickle estimator SVC from version 1.4.1.post1 when using version 1.3.0. This might lead to breaking code or invalid results. Use at your own risk. For more info please refer to:\n",
      "https://scikit-learn.org/stable/model_persistence.html#security-maintainability-limitations\n",
      "  warnings.warn(\n"
     ]
    },
    {
     "name": "stdout",
     "output_type": "stream",
     "text": [
      "Prediction time in minutes:  0.15348895390828451\n",
      "Prediction time per image in minutes:  0.00010308190322920384\n"
     ]
    }
   ],
   "source": [
    "make_predictions(test_data, X_test, classifier_name)"
   ]
  }
 ],
 "metadata": {
  "kernelspec": {
   "display_name": "Python 3",
   "language": "python",
   "name": "python3"
  },
  "language_info": {
   "codemirror_mode": {
    "name": "ipython",
    "version": 3
   },
   "file_extension": ".py",
   "mimetype": "text/x-python",
   "name": "python",
   "nbconvert_exporter": "python",
   "pygments_lexer": "ipython3",
   "version": "3.12.0"
  }
 },
 "nbformat": 4,
 "nbformat_minor": 2
}
