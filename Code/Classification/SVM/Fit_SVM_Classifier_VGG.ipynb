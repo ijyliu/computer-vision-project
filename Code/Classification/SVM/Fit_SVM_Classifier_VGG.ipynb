{
 "cells": [
  {
   "cell_type": "markdown",
   "metadata": {},
   "source": [
    "# Fit SVM Classifier on VGG"
   ]
  },
  {
   "cell_type": "code",
   "execution_count": 1,
   "metadata": {
    "execution": {
     "iopub.execute_input": "2024-04-15T00:53:33.876918Z",
     "iopub.status.busy": "2024-04-15T00:53:33.876620Z",
     "iopub.status.idle": "2024-04-15T00:53:35.150141Z",
     "shell.execute_reply": "2024-04-15T00:53:35.149209Z"
    }
   },
   "outputs": [],
   "source": [
    "# Packages\n",
    "from SVM_Classifier_Functions import *"
   ]
  },
  {
   "cell_type": "code",
   "execution_count": 2,
   "metadata": {
    "execution": {
     "iopub.execute_input": "2024-04-15T00:53:35.152810Z",
     "iopub.status.busy": "2024-04-15T00:53:35.152533Z",
     "iopub.status.idle": "2024-04-15T00:53:35.155833Z",
     "shell.execute_reply": "2024-04-15T00:53:35.155130Z"
    }
   },
   "outputs": [],
   "source": [
    "# Set classifier name\n",
    "classifier_name = 'VGG'"
   ]
  },
  {
   "cell_type": "code",
   "execution_count": 3,
   "metadata": {
    "execution": {
     "iopub.execute_input": "2024-04-15T00:53:35.157548Z",
     "iopub.status.busy": "2024-04-15T00:53:35.157404Z",
     "iopub.status.idle": "2024-04-15T00:53:35.160099Z",
     "shell.execute_reply": "2024-04-15T00:53:35.159548Z"
    }
   },
   "outputs": [],
   "source": [
    "# Sample run or not\n",
    "sample_run = False"
   ]
  },
  {
   "cell_type": "markdown",
   "metadata": {},
   "source": [
    "## Load Training Data"
   ]
  },
  {
   "cell_type": "code",
   "execution_count": 4,
   "metadata": {
    "execution": {
     "iopub.execute_input": "2024-04-15T00:53:35.161719Z",
     "iopub.status.busy": "2024-04-15T00:53:35.161582Z",
     "iopub.status.idle": "2024-04-15T00:53:35.719726Z",
     "shell.execute_reply": "2024-04-15T00:53:35.719310Z"
    }
   },
   "outputs": [
    {
     "name": "stdout",
     "output_type": "stream",
     "text": [
      "all training data\n",
      "           Class                             harmonized_filename  \\\n",
      "0            SUV           SUV_train_orig_test_04845_resized.jpg   \n",
      "1          Sedan        Sedan_train_orig_train_07188_resized.jpg   \n",
      "2            SUV           SUV_train_orig_test_00028_resized.jpg   \n",
      "3    Convertible  Convertible_train_orig_train_02584_resized.jpg   \n",
      "4          Sedan         Sedan_train_orig_test_06273_resized.jpg   \n",
      "..           ...                                             ...   \n",
      "370          SUV          SUV_train_orig_train_06863_resized.jpg   \n",
      "371          SUV          SUV_train_orig_train_01462_resized.jpg   \n",
      "372        Sedan         Sedan_train_orig_test_00447_resized.jpg   \n",
      "373        Sedan        Sedan_train_orig_train_00248_resized.jpg   \n",
      "374          SUV           SUV_train_orig_test_06498_resized.jpg   \n",
      "\n",
      "                                       image_path_blur  \\\n",
      "0    ../../../Images/train/Blurred/SUV_train_orig_t...   \n",
      "1    ../../../Images/train/Blurred/Sedan_train_orig...   \n",
      "2    ../../../Images/train/Blurred/SUV_train_orig_t...   \n",
      "3    ../../../Images/train/Blurred/Convertible_trai...   \n",
      "4    ../../../Images/train/Blurred/Sedan_train_orig...   \n",
      "..                                                 ...   \n",
      "370  ../../../Images/train/Blurred/SUV_train_orig_t...   \n",
      "371  ../../../Images/train/Blurred/SUV_train_orig_t...   \n",
      "372  ../../../Images/train/Blurred/Sedan_train_orig...   \n",
      "373  ../../../Images/train/Blurred/Sedan_train_orig...   \n",
      "374  ../../../Images/train/Blurred/SUV_train_orig_t...   \n",
      "\n",
      "                                    image_path_no_blur  \\\n",
      "0    ../../../Images/train/No_Blur/SUV_train_orig_t...   \n",
      "1    ../../../Images/train/No_Blur/Sedan_train_orig...   \n",
      "2    ../../../Images/train/No_Blur/SUV_train_orig_t...   \n",
      "3    ../../../Images/train/No_Blur/Convertible_trai...   \n",
      "4    ../../../Images/train/No_Blur/Sedan_train_orig...   \n",
      "..                                                 ...   \n",
      "370  ../../../Images/train/No_Blur/SUV_train_orig_t...   \n",
      "371  ../../../Images/train/No_Blur/SUV_train_orig_t...   \n",
      "372  ../../../Images/train/No_Blur/Sedan_train_orig...   \n",
      "373  ../../../Images/train/No_Blur/Sedan_train_orig...   \n",
      "374  ../../../Images/train/No_Blur/SUV_train_orig_t...   \n",
      "\n",
      "     VGG_Embedding_Element_0  VGG_Embedding_Element_1  \\\n",
      "0                   0.117054                 0.232666   \n",
      "1                   0.446453                 0.515624   \n",
      "2                   0.036808                 0.577907   \n",
      "3                   0.233910                 2.060855   \n",
      "4                   0.271945                 0.940774   \n",
      "..                       ...                      ...   \n",
      "370                 0.084982                 0.347321   \n",
      "371                 0.374684                 0.409171   \n",
      "372                 0.099367                 0.029753   \n",
      "373                 0.388457                 0.963108   \n",
      "374                 0.017682                 0.349721   \n",
      "\n",
      "     VGG_Embedding_Element_2  VGG_Embedding_Element_3  \\\n",
      "0                   0.025450                 0.018369   \n",
      "1                   0.038028                 0.000000   \n",
      "2                   0.023794                 0.000000   \n",
      "3                   0.000000                 0.099423   \n",
      "4                   0.005265                 0.000000   \n",
      "..                       ...                      ...   \n",
      "370                 0.000000                 0.000000   \n",
      "371                 0.000000                 0.027036   \n",
      "372                 0.002249                 0.057514   \n",
      "373                 0.000000                 0.000000   \n",
      "374                 0.018899                 0.065000   \n",
      "\n",
      "     VGG_Embedding_Element_4  VGG_Embedding_Element_5  ...  \\\n",
      "0                   0.000000                 0.000000  ...   \n",
      "1                   0.110964                 0.013567  ...   \n",
      "2                   0.044597                 0.005704  ...   \n",
      "3                   0.000000                 0.000000  ...   \n",
      "4                   0.000000                 0.000000  ...   \n",
      "..                       ...                      ...  ...   \n",
      "370                 0.000000                 0.000000  ...   \n",
      "371                 0.019062                 0.000000  ...   \n",
      "372                 0.060027                 0.000000  ...   \n",
      "373                 0.000000                 0.012721  ...   \n",
      "374                 0.683379                 0.141726  ...   \n",
      "\n",
      "     VGG_Embedding_Element_502  VGG_Embedding_Element_503  \\\n",
      "0                     0.315772                   0.219058   \n",
      "1                     0.023726                   0.533029   \n",
      "2                     0.041408                   0.095915   \n",
      "3                     0.240094                   0.007807   \n",
      "4                     0.599146                   1.068433   \n",
      "..                         ...                        ...   \n",
      "370                   0.119653                   0.424786   \n",
      "371                   0.043383                   0.339691   \n",
      "372                   0.054231                   0.839363   \n",
      "373                   0.265267                   0.026011   \n",
      "374                   0.136066                   0.222768   \n",
      "\n",
      "     VGG_Embedding_Element_504  VGG_Embedding_Element_505  \\\n",
      "0                     0.339360                   0.000000   \n",
      "1                     0.525720                   0.000000   \n",
      "2                     0.079542                   0.000000   \n",
      "3                     0.358982                   0.000000   \n",
      "4                     0.063600                   0.000000   \n",
      "..                         ...                        ...   \n",
      "370                   0.073681                   0.613023   \n",
      "371                   0.132173                   0.000000   \n",
      "372                   0.163768                   0.000000   \n",
      "373                   0.055237                   0.000000   \n",
      "374                   0.527103                   0.030765   \n",
      "\n",
      "     VGG_Embedding_Element_506  VGG_Embedding_Element_507  \\\n",
      "0                     0.000000                   0.059981   \n",
      "1                     0.000000                   0.006917   \n",
      "2                     0.000000                   0.117475   \n",
      "3                     0.000000                   0.007604   \n",
      "4                     0.000000                   0.055242   \n",
      "..                         ...                        ...   \n",
      "370                   0.000000                   0.030949   \n",
      "371                   0.000000                   0.037711   \n",
      "372                   0.035609                   0.082619   \n",
      "373                   0.000000                   0.000000   \n",
      "374                   0.000000                   0.058966   \n",
      "\n",
      "     VGG_Embedding_Element_508  VGG_Embedding_Element_509  \\\n",
      "0                     0.007358                   0.371689   \n",
      "1                     0.293425                   0.003084   \n",
      "2                     0.013135                   0.000000   \n",
      "3                     0.059529                   0.185582   \n",
      "4                     0.475629                   0.727911   \n",
      "..                         ...                        ...   \n",
      "370                   0.000000                   0.160083   \n",
      "371                   0.404705                   0.000000   \n",
      "372                   0.082794                   0.387321   \n",
      "373                   0.101233                   0.602741   \n",
      "374                   0.118444                   0.113864   \n",
      "\n",
      "     VGG_Embedding_Element_510  VGG_Embedding_Element_511  \n",
      "0                     0.002072                   0.232559  \n",
      "1                     0.320716                   0.015170  \n",
      "2                     0.206518                   0.000000  \n",
      "3                     0.313550                   0.000000  \n",
      "4                     0.383444                   0.000000  \n",
      "..                         ...                        ...  \n",
      "370                   0.000000                   0.005173  \n",
      "371                   1.060452                   0.019516  \n",
      "372                   0.371584                   0.000000  \n",
      "373                   0.158400                   0.000000  \n",
      "374                   0.549723                   0.031593  \n",
      "\n",
      "[6003 rows x 516 columns]\n"
     ]
    }
   ],
   "source": [
    "training_data = combine_directory_parquets('../../../Data/Features/VGG/train')\n",
    "print('all training data')\n",
    "print(training_data)\n",
    "\n",
    "# If sample run, take a sample of the data and a reduced number of features\n",
    "if sample_run:\n",
    "    training_data = training_data.sample(frac=0.01).iloc[:, 0:10]"
   ]
  },
  {
   "cell_type": "markdown",
   "metadata": {},
   "source": [
    "## Prepare Matrices"
   ]
  },
  {
   "cell_type": "code",
   "execution_count": 5,
   "metadata": {
    "execution": {
     "iopub.execute_input": "2024-04-15T00:53:35.767967Z",
     "iopub.status.busy": "2024-04-15T00:53:35.767720Z",
     "iopub.status.idle": "2024-04-15T00:53:35.801291Z",
     "shell.execute_reply": "2024-04-15T00:53:35.800834Z"
    }
   },
   "outputs": [],
   "source": [
    "X_train, y_train = prepare_matrices(training_data)"
   ]
  },
  {
   "cell_type": "markdown",
   "metadata": {},
   "source": [
    "## Fit Classifier"
   ]
  },
  {
   "cell_type": "code",
   "execution_count": 6,
   "metadata": {
    "execution": {
     "iopub.execute_input": "2024-04-15T00:53:35.803872Z",
     "iopub.status.busy": "2024-04-15T00:53:35.803681Z",
     "iopub.status.idle": "2024-04-15T01:03:58.424775Z",
     "shell.execute_reply": "2024-04-15T01:03:58.424317Z"
    }
   },
   "outputs": [
    {
     "name": "stdout",
     "output_type": "stream",
     "text": [
      "Training time in minutes:  10.27968738079071\n",
      "Training time per image in minutes:  0.0017124250176229735\n"
     ]
    },
    {
     "name": "stdout",
     "output_type": "stream",
     "text": [
      "Train accuracy of best model:  1.0\n",
      "Mean cross validated accuracy of best model:  0.8697293921731891\n"
     ]
    },
    {
     "name": "stdout",
     "output_type": "stream",
     "text": [
      "Hyperparameters searched:  {'c_values': [0.01, 0.31622776601683794, 10.0], 'kernel_grid': ['rbf'], 'gamma_grid': [1e-05, 0.00025118864315095795, 0.00630957344480193, 0.1584893192461111, 3.981071705534969, 100.0, 'scale'], 'class_weight': ['balanced', None], 'k_folds': 5}\n",
      "Tuned hyperparameters:  {'C': 10.0, 'class_weight': 'balanced', 'gamma': 'scale', 'kernel': 'rbf'}\n"
     ]
    }
   ],
   "source": [
    "fit_svm_classifier(X_train, y_train, classifier_name)"
   ]
  }
 ],
 "metadata": {
  "kernelspec": {
   "display_name": "Python 3",
   "language": "python",
   "name": "python3"
  },
  "language_info": {
   "codemirror_mode": {
    "name": "ipython",
    "version": 3
   },
   "file_extension": ".py",
   "mimetype": "text/x-python",
   "name": "python",
   "nbconvert_exporter": "python",
   "pygments_lexer": "ipython3",
   "version": "3.11.8"
  }
 },
 "nbformat": 4,
 "nbformat_minor": 2
}
