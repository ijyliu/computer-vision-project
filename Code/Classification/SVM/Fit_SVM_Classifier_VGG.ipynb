{
 "cells": [
  {
   "cell_type": "markdown",
   "metadata": {},
   "source": [
    "# Fit SVM Classifier on VGG"
   ]
  },
  {
   "cell_type": "code",
   "execution_count": 7,
   "metadata": {
    "execution": {
     "iopub.execute_input": "2024-04-14T19:36:03.985506Z",
     "iopub.status.busy": "2024-04-14T19:36:03.985213Z",
     "iopub.status.idle": "2024-04-14T19:36:05.386210Z",
     "shell.execute_reply": "2024-04-14T19:36:05.385756Z"
    }
   },
   "outputs": [],
   "source": [
    "# Packages\n",
    "from SVM_Classifier_Functions import *"
   ]
  },
  {
   "cell_type": "code",
   "execution_count": 8,
   "metadata": {
    "execution": {
     "iopub.execute_input": "2024-04-14T19:36:05.388615Z",
     "iopub.status.busy": "2024-04-14T19:36:05.388366Z",
     "iopub.status.idle": "2024-04-14T19:36:05.390848Z",
     "shell.execute_reply": "2024-04-14T19:36:05.390558Z"
    }
   },
   "outputs": [],
   "source": [
    "# Set classifier name\n",
    "classifier_name = 'VGG'"
   ]
  },
  {
   "cell_type": "code",
   "execution_count": 9,
   "metadata": {
    "execution": {
     "iopub.execute_input": "2024-04-14T19:36:05.392373Z",
     "iopub.status.busy": "2024-04-14T19:36:05.392253Z",
     "iopub.status.idle": "2024-04-14T19:36:05.394131Z",
     "shell.execute_reply": "2024-04-14T19:36:05.393866Z"
    }
   },
   "outputs": [],
   "source": [
    "# Sample run or not\n",
    "sample_run = False"
   ]
  },
  {
   "cell_type": "markdown",
   "metadata": {},
   "source": [
    "## Load Training Data"
   ]
  },
  {
   "cell_type": "code",
   "execution_count": 10,
   "metadata": {
    "execution": {
     "iopub.execute_input": "2024-04-14T19:36:05.395642Z",
     "iopub.status.busy": "2024-04-14T19:36:05.395527Z",
     "iopub.status.idle": "2024-04-14T19:36:05.910304Z",
     "shell.execute_reply": "2024-04-14T19:36:05.909924Z"
    }
   },
   "outputs": [
    {
     "name": "stdout",
     "output_type": "stream",
     "text": [
      "all training data\n",
      "           Class                            harmonized_filename  \\\n",
      "0          Sedan       Sedan_train_orig_train_04172_resized.jpg   \n",
      "1    Convertible  Convertible_train_orig_test_01764_resized.jpg   \n",
      "2          Sedan        Sedan_train_orig_test_07195_resized.jpg   \n",
      "3          Sedan        Sedan_train_orig_test_04947_resized.jpg   \n",
      "4          Sedan       Sedan_train_orig_train_00667_resized.jpg   \n",
      "..           ...                                            ...   \n",
      "370        Sedan       Sedan_train_orig_train_05923_resized.jpg   \n",
      "371        Sedan        Sedan_train_orig_test_02976_resized.jpg   \n",
      "372          SUV         SUV_train_orig_train_00181_resized.jpg   \n",
      "373        Sedan        Sedan_train_orig_test_00031_resized.jpg   \n",
      "374  Convertible  Convertible_train_orig_test_07617_resized.jpg   \n",
      "\n",
      "                                       image_path_blur  \\\n",
      "0    ../../../Images/train/Blurred/Sedan_train_orig...   \n",
      "1    ../../../Images/train/Blurred/Convertible_trai...   \n",
      "2    ../../../Images/train/Blurred/Sedan_train_orig...   \n",
      "3    ../../../Images/train/Blurred/Sedan_train_orig...   \n",
      "4    ../../../Images/train/Blurred/Sedan_train_orig...   \n",
      "..                                                 ...   \n",
      "370  ../../../Images/train/Blurred/Sedan_train_orig...   \n",
      "371  ../../../Images/train/Blurred/Sedan_train_orig...   \n",
      "372  ../../../Images/train/Blurred/SUV_train_orig_t...   \n",
      "373  ../../../Images/train/Blurred/Sedan_train_orig...   \n",
      "374  ../../../Images/train/Blurred/Convertible_trai...   \n",
      "\n",
      "                                    image_path_no_blur  \\\n",
      "0    ../../../Images/train/No_Blur/Sedan_train_orig...   \n",
      "1    ../../../Images/train/No_Blur/Convertible_trai...   \n",
      "2    ../../../Images/train/No_Blur/Sedan_train_orig...   \n",
      "3    ../../../Images/train/No_Blur/Sedan_train_orig...   \n",
      "4    ../../../Images/train/No_Blur/Sedan_train_orig...   \n",
      "..                                                 ...   \n",
      "370  ../../../Images/train/No_Blur/Sedan_train_orig...   \n",
      "371  ../../../Images/train/No_Blur/Sedan_train_orig...   \n",
      "372  ../../../Images/train/No_Blur/SUV_train_orig_t...   \n",
      "373  ../../../Images/train/No_Blur/Sedan_train_orig...   \n",
      "374  ../../../Images/train/No_Blur/Convertible_trai...   \n",
      "\n",
      "     VGG_Embedding_Element_0  VGG_Embedding_Element_1  \\\n",
      "0                   0.057273                 0.085857   \n",
      "1                   0.293713                 0.714101   \n",
      "2                   0.043017                 1.089323   \n",
      "3                   0.027134                 0.049786   \n",
      "4                   0.023348                 0.939732   \n",
      "..                       ...                      ...   \n",
      "370                 0.138330                 0.425333   \n",
      "371                 0.039520                 0.194579   \n",
      "372                 0.281609                 0.897176   \n",
      "373                 0.106821                 0.752331   \n",
      "374                 0.039092                 1.276866   \n",
      "\n",
      "     VGG_Embedding_Element_2  VGG_Embedding_Element_3  \\\n",
      "0                   0.014088                 0.000000   \n",
      "1                   0.075956                 0.144106   \n",
      "2                   0.000000                 0.004603   \n",
      "3                   0.030874                 0.000000   \n",
      "4                   0.000000                 0.000000   \n",
      "..                       ...                      ...   \n",
      "370                 0.000000                 0.028009   \n",
      "371                 0.012314                 0.142561   \n",
      "372                 0.000000                 0.000000   \n",
      "373                 0.000000                 0.000000   \n",
      "374                 0.061325                 0.047357   \n",
      "\n",
      "     VGG_Embedding_Element_4  VGG_Embedding_Element_5  ...  \\\n",
      "0                   0.000000                 0.000000  ...   \n",
      "1                   0.011360                 0.000000  ...   \n",
      "2                   0.012446                 0.000000  ...   \n",
      "3                   0.003062                 0.000000  ...   \n",
      "4                   0.000000                 0.007038  ...   \n",
      "..                       ...                      ...  ...   \n",
      "370                 0.000000                 0.003680  ...   \n",
      "371                 0.007664                 0.098090  ...   \n",
      "372                 0.030831                 0.002207  ...   \n",
      "373                 0.000000                 0.004228  ...   \n",
      "374                 0.136799                 0.000000  ...   \n",
      "\n",
      "     VGG_Embedding_Element_502  VGG_Embedding_Element_503  \\\n",
      "0                     0.052797                   0.479325   \n",
      "1                     0.066524                   0.156991   \n",
      "2                     0.252442                   0.081028   \n",
      "3                     0.119230                   1.161802   \n",
      "4                     0.055250                   0.061042   \n",
      "..                         ...                        ...   \n",
      "370                   0.392718                   0.222710   \n",
      "371                   0.233647                   1.119824   \n",
      "372                   0.024648                   0.023285   \n",
      "373                   0.086037                   0.045013   \n",
      "374                   0.182090                   1.072800   \n",
      "\n",
      "     VGG_Embedding_Element_504  VGG_Embedding_Element_505  \\\n",
      "0                     0.288115                   0.000000   \n",
      "1                     0.154690                   0.000000   \n",
      "2                     0.072416                   0.164781   \n",
      "3                     0.791576                   0.000000   \n",
      "4                     0.148557                   0.000000   \n",
      "..                         ...                        ...   \n",
      "370                   0.109660                   0.000000   \n",
      "371                   0.244126                   0.000000   \n",
      "372                   0.429421                   0.000000   \n",
      "373                   0.152437                   0.066771   \n",
      "374                   0.205382                   0.034821   \n",
      "\n",
      "     VGG_Embedding_Element_506  VGG_Embedding_Element_507  \\\n",
      "0                     0.005827                   0.039591   \n",
      "1                     0.000000                   0.037017   \n",
      "2                     0.000000                   0.063925   \n",
      "3                     0.000000                   0.017989   \n",
      "4                     0.000000                   0.009107   \n",
      "..                         ...                        ...   \n",
      "370                   0.000000                   0.008461   \n",
      "371                   0.045671                   0.010076   \n",
      "372                   0.000000                   0.127531   \n",
      "373                   0.000000                   0.000135   \n",
      "374                   0.376554                   0.079916   \n",
      "\n",
      "     VGG_Embedding_Element_508  VGG_Embedding_Element_509  \\\n",
      "0                     0.000000                   0.063602   \n",
      "1                     0.350120                   0.543494   \n",
      "2                     0.189980                   0.426336   \n",
      "3                     0.000000                   0.532629   \n",
      "4                     0.030275                   0.246710   \n",
      "..                         ...                        ...   \n",
      "370                   0.007822                   0.203890   \n",
      "371                   0.005839                   0.638770   \n",
      "372                   0.007794                   0.404744   \n",
      "373                   0.000000                   1.026834   \n",
      "374                   0.039738                   0.206868   \n",
      "\n",
      "     VGG_Embedding_Element_510  VGG_Embedding_Element_511  \n",
      "0                     0.365371                   0.000000  \n",
      "1                     0.100478                   0.000000  \n",
      "2                     0.031850                   0.021951  \n",
      "3                     0.047045                   0.000000  \n",
      "4                     0.672856                   0.009486  \n",
      "..                         ...                        ...  \n",
      "370                   0.141630                   0.000000  \n",
      "371                   0.360463                   0.000000  \n",
      "372                   0.025683                   0.175783  \n",
      "373                   0.064968                   0.000000  \n",
      "374                   0.416895                   0.034706  \n",
      "\n",
      "[6003 rows x 516 columns]\n"
     ]
    }
   ],
   "source": [
    "training_data = combine_directory_parquets('../../../Data/Features/VGG/train')\n",
    "print('all training data')\n",
    "print(training_data)\n",
    "\n",
    "# If sample run, take a sample of the data and a reduced number of features\n",
    "if sample_run:\n",
    "    training_data = training_data.sample(frac=0.01).iloc[:, 0:10]"
   ]
  },
  {
   "cell_type": "markdown",
   "metadata": {},
   "source": [
    "## Prepare Matrices"
   ]
  },
  {
   "cell_type": "code",
   "execution_count": 11,
   "metadata": {
    "execution": {
     "iopub.execute_input": "2024-04-14T19:36:05.947057Z",
     "iopub.status.busy": "2024-04-14T19:36:05.946858Z",
     "iopub.status.idle": "2024-04-14T19:36:05.976053Z",
     "shell.execute_reply": "2024-04-14T19:36:05.975629Z"
    }
   },
   "outputs": [],
   "source": [
    "X_train, y_train = prepare_matrices(training_data)"
   ]
  },
  {
   "cell_type": "markdown",
   "metadata": {},
   "source": [
    "## Fit Classifier"
   ]
  },
  {
   "cell_type": "code",
   "execution_count": 12,
   "metadata": {
    "execution": {
     "iopub.execute_input": "2024-04-14T19:36:05.978018Z",
     "iopub.status.busy": "2024-04-14T19:36:05.977888Z",
     "iopub.status.idle": "2024-04-14T20:05:07.345274Z",
     "shell.execute_reply": "2024-04-14T20:05:07.344740Z"
    }
   },
   "outputs": [
    {
     "name": "stdout",
     "output_type": "stream",
     "text": [
      "Training time in minutes:  0.05271441539128621\n",
      "Training time per image in minutes:  0.0008785735898547702\n",
      "Train accuracy of best model:  0.8166666666666667\n",
      "Mean cross validated accuracy of best model:  0.45\n",
      "Hyperparameters searched:  {'c_values': [0.01, 0.1, 1, 10], 'kernel_grid': ['rbf'], 'gamma_grid': [1e-05, 0.00025118864315095795, 0.00630957344480193, 0.1584893192461111, 3.981071705534969, 100.0, 'scale'], 'class_weight': ['balanced', None], 'k_folds': 5}\n",
      "Tuned hyperparameters:  {'C': 10, 'class_weight': None, 'gamma': 'scale', 'kernel': 'rbf'}\n"
     ]
    }
   ],
   "source": [
    "fit_svm_classifier(X_train, y_train, classifier_name)"
   ]
  }
 ],
 "metadata": {
  "kernelspec": {
   "display_name": "Python 3",
   "language": "python",
   "name": "python3"
  },
  "language_info": {
   "codemirror_mode": {
    "name": "ipython",
    "version": 3
   },
   "file_extension": ".py",
   "mimetype": "text/x-python",
   "name": "python",
   "nbconvert_exporter": "python",
   "pygments_lexer": "ipython3",
   "version": "3.12.0"
  }
 },
 "nbformat": 4,
 "nbformat_minor": 2
}
