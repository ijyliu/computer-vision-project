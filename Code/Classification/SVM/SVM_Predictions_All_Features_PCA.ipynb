{
 "cells": [
  {
   "cell_type": "markdown",
   "metadata": {},
   "source": [
    "# SVM Predictions"
   ]
  },
  {
   "cell_type": "code",
   "execution_count": 1,
   "metadata": {},
   "outputs": [],
   "source": [
    "# Packages\n",
    "from SVM_Classifier_Functions import *"
   ]
  },
  {
   "cell_type": "code",
   "execution_count": 2,
   "metadata": {},
   "outputs": [],
   "source": [
    "# Classifier Name\n",
    "classifier_name = 'All_Features_PCA'"
   ]
  },
  {
   "cell_type": "code",
   "execution_count": 3,
   "metadata": {},
   "outputs": [],
   "source": [
    "# Whether this is a sample run or not\n",
    "sample_run = False"
   ]
  },
  {
   "cell_type": "markdown",
   "metadata": {},
   "source": [
    "## Load Test Data"
   ]
  },
  {
   "cell_type": "code",
   "execution_count": 4,
   "metadata": {},
   "outputs": [
    {
     "name": "stdout",
     "output_type": "stream",
     "text": [
      "all test data\n",
      "          Class                           harmonized_filename  \\\n",
      "0        Pickup       Pickup_test_orig_test_05620_resized.jpg   \n",
      "1           SUV          SUV_test_orig_test_08041_resized.jpg   \n",
      "2   Convertible  Convertible_test_orig_test_00822_resized.jpg   \n",
      "3   Convertible  Convertible_test_orig_test_00618_resized.jpg   \n",
      "4        Pickup       Pickup_test_orig_test_05241_resized.jpg   \n",
      "..          ...                                           ...   \n",
      "88          SUV          SUV_test_orig_test_07199_resized.jpg   \n",
      "89  Convertible  Convertible_test_orig_test_06645_resized.jpg   \n",
      "90        Sedan       Sedan_test_orig_train_00676_resized.jpg   \n",
      "91        Sedan       Sedan_test_orig_train_04786_resized.jpg   \n",
      "92          SUV         SUV_test_orig_train_03571_resized.jpg   \n",
      "\n",
      "                                      image_path_blur  \\\n",
      "0   ../../../Images/test/Blurred/Pickup_test_orig_...   \n",
      "1   ../../../Images/test/Blurred/SUV_test_orig_tes...   \n",
      "2   ../../../Images/test/Blurred/Convertible_test_...   \n",
      "3   ../../../Images/test/Blurred/Convertible_test_...   \n",
      "4   ../../../Images/test/Blurred/Pickup_test_orig_...   \n",
      "..                                                ...   \n",
      "88  ../../../Images/test/Blurred/SUV_test_orig_tes...   \n",
      "89  ../../../Images/test/Blurred/Convertible_test_...   \n",
      "90  ../../../Images/test/Blurred/Sedan_test_orig_t...   \n",
      "91  ../../../Images/test/Blurred/Sedan_test_orig_t...   \n",
      "92  ../../../Images/test/Blurred/SUV_test_orig_tra...   \n",
      "\n",
      "                                   image_path_no_blur  All Features_PCA_0  \\\n",
      "0   ../../../Images/test/No_Blur/Pickup_test_orig_...           22.973553   \n",
      "1   ../../../Images/test/No_Blur/SUV_test_orig_tes...            5.961664   \n",
      "2   ../../../Images/test/No_Blur/Convertible_test_...          -12.207156   \n",
      "3   ../../../Images/test/No_Blur/Convertible_test_...           -5.629666   \n",
      "4   ../../../Images/test/No_Blur/Pickup_test_orig_...           22.388667   \n",
      "..                                                ...                 ...   \n",
      "88  ../../../Images/test/No_Blur/SUV_test_orig_tes...           11.499346   \n",
      "89  ../../../Images/test/No_Blur/Convertible_test_...          -19.857812   \n",
      "90  ../../../Images/test/No_Blur/Sedan_test_orig_t...            5.816799   \n",
      "91  ../../../Images/test/No_Blur/Sedan_test_orig_t...          -11.683421   \n",
      "92  ../../../Images/test/No_Blur/SUV_test_orig_tra...           13.214886   \n",
      "\n",
      "    All Features_PCA_1  All Features_PCA_2  All Features_PCA_3  \\\n",
      "0            20.998905            6.563697           12.701136   \n",
      "1           -12.432886          -13.545941            5.289027   \n",
      "2           -20.436217           16.482607           -9.366273   \n",
      "3           -18.343653            9.365736          -14.630939   \n",
      "4             6.962591            6.695841            4.297897   \n",
      "..                 ...                 ...                 ...   \n",
      "88           -0.009996          -13.638639           -6.299581   \n",
      "89           13.045699           11.519343          -10.447213   \n",
      "90           -4.898177          -12.652016           11.481651   \n",
      "91           11.623267          -14.621022            9.876198   \n",
      "92           -8.091207           -5.508527           17.332663   \n",
      "\n",
      "    All Features_PCA_4  All Features_PCA_5  ...  All Features_PCA_1240  \\\n",
      "0             7.964405            1.083558  ...               0.392209   \n",
      "1             1.271997            4.281756  ...              -0.515538   \n",
      "2             7.696901          -10.725749  ...              -0.251145   \n",
      "3            12.209700          -11.077177  ...              -0.075696   \n",
      "4            13.043093            5.451719  ...              -1.543443   \n",
      "..                 ...                 ...  ...                    ...   \n",
      "88            4.551846           -3.843374  ...              -0.164451   \n",
      "89            6.136510           -2.518590  ...               0.224751   \n",
      "90            0.548339          -12.737478  ...               0.240004   \n",
      "91            0.176486           -5.066620  ...               0.254412   \n",
      "92           -2.428351            0.525998  ...              -0.613803   \n",
      "\n",
      "    All Features_PCA_1241  All Features_PCA_1242  All Features_PCA_1243  \\\n",
      "0                0.431248              -0.762200               1.197558   \n",
      "1               -0.035794               0.323531              -0.406426   \n",
      "2                0.366024              -0.179400              -1.078422   \n",
      "3               -1.079036               0.759869              -0.617673   \n",
      "4                0.331695               0.328752              -0.013205   \n",
      "..                    ...                    ...                    ...   \n",
      "88              -0.028136               0.221309              -1.752510   \n",
      "89               0.497925              -0.610726              -0.024579   \n",
      "90               0.654972              -0.256768               0.005606   \n",
      "91              -0.048216              -0.336135              -0.111575   \n",
      "92               0.498929              -0.200079               0.010925   \n",
      "\n",
      "    All Features_PCA_1244  All Features_PCA_1245  All Features_PCA_1246  \\\n",
      "0               -0.129846               0.726487              -1.211721   \n",
      "1               -0.816935              -0.203141              -0.579614   \n",
      "2               -0.062062               1.047896               0.175091   \n",
      "3                0.773769               0.152802              -0.268483   \n",
      "4               -0.818107              -1.065723              -1.016969   \n",
      "..                    ...                    ...                    ...   \n",
      "88              -0.397213               0.502855               0.050493   \n",
      "89               0.469170               0.751854               0.651190   \n",
      "90              -0.408048              -0.552364              -0.129252   \n",
      "91               0.377692               0.360716               0.552224   \n",
      "92              -1.437460               0.102954               0.325945   \n",
      "\n",
      "    All Features_PCA_1247  All Features_PCA_1248  All Features_PCA_1249  \n",
      "0               -0.554877               0.943314               0.964773  \n",
      "1               -0.119499              -0.837906              -0.183398  \n",
      "2               -0.885347              -0.805116              -0.129853  \n",
      "3               -0.113670              -0.017256               0.178108  \n",
      "4               -0.175945              -0.164543              -0.404169  \n",
      "..                    ...                    ...                    ...  \n",
      "88              -0.337516              -1.451758              -1.219367  \n",
      "89              -0.157917               0.061688               0.671482  \n",
      "90               0.131717              -0.055589               0.599182  \n",
      "91              -0.290395              -0.337396               1.240404  \n",
      "92              -0.261540              -0.916725              -0.606214  \n",
      "\n",
      "[1489 rows x 1254 columns]\n"
     ]
    }
   ],
   "source": [
    "test_data = combine_directory_parquets('../../../Data/Features/All Features All Features PCA/test')\n",
    "print('all test data')\n",
    "print(test_data)\n",
    "\n",
    "if sample_run:\n",
    "    test_data = test_data.sample(frac=0.01).iloc[:, 0:10]"
   ]
  },
  {
   "cell_type": "markdown",
   "metadata": {},
   "source": [
    "## Prepare Matrices"
   ]
  },
  {
   "cell_type": "code",
   "execution_count": 5,
   "metadata": {},
   "outputs": [],
   "source": [
    "# Prepare matrices\n",
    "X_test, _ = prepare_matrices(test_data)"
   ]
  },
  {
   "cell_type": "markdown",
   "metadata": {},
   "source": [
    "## Make Predictions"
   ]
  },
  {
   "cell_type": "code",
   "execution_count": 6,
   "metadata": {},
   "outputs": [
    {
     "name": "stderr",
     "output_type": "stream",
     "text": [
      "c:\\Users\\ijyli\\miniforge3\\envs\\computervision\\Lib\\site-packages\\sklearn\\base.py:347: InconsistentVersionWarning: Trying to unpickle estimator SVC from version 1.4.1.post1 when using version 1.3.0. This might lead to breaking code or invalid results. Use at your own risk. For more info please refer to:\n",
      "https://scikit-learn.org/stable/model_persistence.html#security-maintainability-limitations\n",
      "  warnings.warn(\n"
     ]
    },
    {
     "name": "stdout",
     "output_type": "stream",
     "text": [
      "Prediction time in minutes:  0.10190941095352173\n",
      "Prediction time per image in minutes:  6.844151172163984e-05\n"
     ]
    }
   ],
   "source": [
    "make_predictions(test_data, X_test, classifier_name)"
   ]
  }
 ],
 "metadata": {
  "kernelspec": {
   "display_name": "Python 3",
   "language": "python",
   "name": "python3"
  },
  "language_info": {
   "codemirror_mode": {
    "name": "ipython",
    "version": 3
   },
   "file_extension": ".py",
   "mimetype": "text/x-python",
   "name": "python",
   "nbconvert_exporter": "python",
   "pygments_lexer": "ipython3",
   "version": "3.12.0"
  }
 },
 "nbformat": 4,
 "nbformat_minor": 2
}
