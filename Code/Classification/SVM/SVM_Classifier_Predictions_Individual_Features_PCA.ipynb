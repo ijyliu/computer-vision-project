{
 "cells": [
  {
   "cell_type": "markdown",
   "metadata": {},
   "source": [
    "# Logistic Regression Classifier Predictions"
   ]
  },
  {
   "cell_type": "code",
   "execution_count": 1,
   "metadata": {},
   "outputs": [],
   "source": [
    "# Packages\n",
    "from SVM_Classifier_Functions import *"
   ]
  },
  {
   "cell_type": "code",
   "execution_count": 2,
   "metadata": {},
   "outputs": [],
   "source": [
    "# Classifier Name\n",
    "classifier_name = 'Individual_Features_PCA'"
   ]
  },
  {
   "cell_type": "code",
   "execution_count": 3,
   "metadata": {},
   "outputs": [],
   "source": [
    "# Whether this is a sample run or not\n",
    "sample_run = False"
   ]
  },
  {
   "cell_type": "markdown",
   "metadata": {},
   "source": [
    "## Load Test Data"
   ]
  },
  {
   "cell_type": "code",
   "execution_count": 4,
   "metadata": {},
   "outputs": [
    {
     "name": "stdout",
     "output_type": "stream",
     "text": [
      "all test data\n",
      "     Class                       harmonized_filename  \\\n",
      "0    Sedan    Sedan_test_orig_test_02070_resized.jpg   \n",
      "1    Sedan    Sedan_test_orig_test_05952_resized.jpg   \n",
      "2    Sedan   Sedan_test_orig_train_08046_resized.jpg   \n",
      "3      SUV      SUV_test_orig_test_00921_resized.jpg   \n",
      "4      SUV     SUV_test_orig_train_03917_resized.jpg   \n",
      "..     ...                                       ...   \n",
      "88     SUV      SUV_test_orig_test_05041_resized.jpg   \n",
      "89   Sedan    Sedan_test_orig_test_03443_resized.jpg   \n",
      "90  Pickup  Pickup_test_orig_train_04088_resized.jpg   \n",
      "91   Sedan   Sedan_test_orig_train_03673_resized.jpg   \n",
      "92   Sedan   Sedan_test_orig_train_06616_resized.jpg   \n",
      "\n",
      "                                      image_path_blur  \\\n",
      "0   ../../../Images/test/Blurred/Sedan_test_orig_t...   \n",
      "1   ../../../Images/test/Blurred/Sedan_test_orig_t...   \n",
      "2   ../../../Images/test/Blurred/Sedan_test_orig_t...   \n",
      "3   ../../../Images/test/Blurred/SUV_test_orig_tes...   \n",
      "4   ../../../Images/test/Blurred/SUV_test_orig_tra...   \n",
      "..                                                ...   \n",
      "88  ../../../Images/test/Blurred/SUV_test_orig_tes...   \n",
      "89  ../../../Images/test/Blurred/Sedan_test_orig_t...   \n",
      "90  ../../../Images/test/Blurred/Pickup_test_orig_...   \n",
      "91  ../../../Images/test/Blurred/Sedan_test_orig_t...   \n",
      "92  ../../../Images/test/Blurred/Sedan_test_orig_t...   \n",
      "\n",
      "                                   image_path_no_blur  \\\n",
      "0   ../../../Images/test/No_Blur/Sedan_test_orig_t...   \n",
      "1   ../../../Images/test/No_Blur/Sedan_test_orig_t...   \n",
      "2   ../../../Images/test/No_Blur/Sedan_test_orig_t...   \n",
      "3   ../../../Images/test/No_Blur/SUV_test_orig_tes...   \n",
      "4   ../../../Images/test/No_Blur/SUV_test_orig_tra...   \n",
      "..                                                ...   \n",
      "88  ../../../Images/test/No_Blur/SUV_test_orig_tes...   \n",
      "89  ../../../Images/test/No_Blur/Sedan_test_orig_t...   \n",
      "90  ../../../Images/test/No_Blur/Pickup_test_orig_...   \n",
      "91  ../../../Images/test/No_Blur/Sedan_test_orig_t...   \n",
      "92  ../../../Images/test/No_Blur/Sedan_test_orig_t...   \n",
      "\n",
      "    HOG 16 PPC Features_PCA_0  HOG 16 PPC Features_PCA_1  \\\n",
      "0                  -10.033085                  -4.258962   \n",
      "1                    3.284757                  29.462938   \n",
      "2                    6.578737                  22.096769   \n",
      "3                    7.386494                 -12.090981   \n",
      "4                   12.184397                   5.489727   \n",
      "..                        ...                        ...   \n",
      "88                   0.929130                   4.677822   \n",
      "89                   8.725648                  -5.814429   \n",
      "90                 -22.288601                  11.331275   \n",
      "91                   5.741500                 -19.275459   \n",
      "92                   9.804991                 -23.688238   \n",
      "\n",
      "    HOG 16 PPC Features_PCA_2  HOG 16 PPC Features_PCA_3  \\\n",
      "0                   -4.318964                   8.117750   \n",
      "1                   10.067602                   7.054305   \n",
      "2                   -8.462910                   4.094893   \n",
      "3                   -9.172257                 -12.632769   \n",
      "4                   19.034243                  -1.945839   \n",
      "..                        ...                        ...   \n",
      "88                   4.176296                  19.223522   \n",
      "89                   6.013440                  20.274649   \n",
      "90                  -4.282315                  -1.069919   \n",
      "91                  -7.287906                  -9.269636   \n",
      "92                   0.985694                  -7.257874   \n",
      "\n",
      "    HOG 16 PPC Features_PCA_4  HOG 16 PPC Features_PCA_5  ...  \\\n",
      "0                    8.575540                  -8.333313  ...   \n",
      "1                    0.956392                   3.416246  ...   \n",
      "2                    5.873109                   3.604262  ...   \n",
      "3                    9.928095                  -8.001042  ...   \n",
      "4                    2.033158                  -4.242357  ...   \n",
      "..                        ...                        ...  ...   \n",
      "88                  13.967873                   6.100868  ...   \n",
      "89                  -7.567081                 -13.604478  ...   \n",
      "90                  15.976128                  10.382876  ...   \n",
      "91                 -23.874403                  17.396570  ...   \n",
      "92                  -7.358021                  30.020344  ...   \n",
      "\n",
      "    Vision Transformer Features_PCA_390  Vision Transformer Features_PCA_391  \\\n",
      "0                              0.618853                            -0.360697   \n",
      "1                              0.104717                             0.562424   \n",
      "2                             -0.604565                             0.331870   \n",
      "3                             -0.208138                             0.237270   \n",
      "4                             -0.109621                             0.144540   \n",
      "..                                  ...                                  ...   \n",
      "88                             1.005623                            -0.753219   \n",
      "89                             0.107829                            -0.336549   \n",
      "90                            -0.191142                            -0.105875   \n",
      "91                             0.771457                            -0.139723   \n",
      "92                            -0.729130                            -1.008371   \n",
      "\n",
      "    Vision Transformer Features_PCA_392  Vision Transformer Features_PCA_393  \\\n",
      "0                              0.302610                            -0.213299   \n",
      "1                             -0.197502                            -0.133475   \n",
      "2                             -0.278129                            -0.412072   \n",
      "3                             -0.378632                             0.441533   \n",
      "4                             -0.548344                            -0.094499   \n",
      "..                                  ...                                  ...   \n",
      "88                             0.384792                             0.251712   \n",
      "89                            -0.312938                             0.635898   \n",
      "90                             0.258602                            -0.030482   \n",
      "91                             0.640287                             0.281838   \n",
      "92                            -0.675234                            -0.464005   \n",
      "\n",
      "    Vision Transformer Features_PCA_394  Vision Transformer Features_PCA_395  \\\n",
      "0                             -0.467674                            -0.137300   \n",
      "1                              0.220343                            -0.826704   \n",
      "2                              1.123919                             0.012018   \n",
      "3                              0.459886                            -0.117341   \n",
      "4                              0.635516                            -0.255292   \n",
      "..                                  ...                                  ...   \n",
      "88                             0.239949                             0.860349   \n",
      "89                             1.101893                            -0.183075   \n",
      "90                            -0.092742                             0.215432   \n",
      "91                             0.240514                             0.140749   \n",
      "92                             0.571388                             1.132134   \n",
      "\n",
      "    Vision Transformer Features_PCA_396  Vision Transformer Features_PCA_397  \\\n",
      "0                             -0.363550                             0.259865   \n",
      "1                              0.715268                            -0.079091   \n",
      "2                             -0.474614                            -0.181110   \n",
      "3                              0.284990                            -0.178644   \n",
      "4                             -0.071119                             0.302482   \n",
      "..                                  ...                                  ...   \n",
      "88                             1.058246                            -0.156810   \n",
      "89                            -1.510760                            -0.511526   \n",
      "90                             0.858956                             0.080786   \n",
      "91                            -0.725716                             1.077346   \n",
      "92                            -0.206895                             0.345376   \n",
      "\n",
      "    Vision Transformer Features_PCA_398  Vision Transformer Features_PCA_399  \n",
      "0                             -0.366166                            -0.298230  \n",
      "1                              0.070120                            -0.827068  \n",
      "2                             -0.522103                            -0.005284  \n",
      "3                              0.048309                            -0.073035  \n",
      "4                              0.909783                            -0.229771  \n",
      "..                                  ...                                  ...  \n",
      "88                             0.143426                             0.187644  \n",
      "89                            -0.127101                             0.493973  \n",
      "90                             0.159631                            -0.189948  \n",
      "91                             0.589736                             0.436771  \n",
      "92                            -0.405235                             0.646254  \n",
      "\n",
      "[1489 rows x 2614 columns]\n"
     ]
    }
   ],
   "source": [
    "test_data = combine_directory_parquets('../../../Data/Features/All Features Individual Features PCA/test')\n",
    "print('all test data')\n",
    "print(test_data)\n",
    "\n",
    "if sample_run:\n",
    "    test_data = test_data.sample(frac=0.01).iloc[:, 0:10]"
   ]
  },
  {
   "cell_type": "markdown",
   "metadata": {},
   "source": [
    "## Prepare Matrices"
   ]
  },
  {
   "cell_type": "code",
   "execution_count": 5,
   "metadata": {},
   "outputs": [],
   "source": [
    "# Prepare matrices\n",
    "X_test, _ = prepare_matrices(test_data)"
   ]
  },
  {
   "cell_type": "markdown",
   "metadata": {},
   "source": [
    "## Make Predictions"
   ]
  },
  {
   "cell_type": "code",
   "execution_count": 6,
   "metadata": {},
   "outputs": [
    {
     "name": "stdout",
     "output_type": "stream",
     "text": [
      "best model\n",
      "LogisticRegression(C=0.01, class_weight='balanced', l1_ratio=0.25,\n",
      "                   max_iter=1000, multi_class='ovr', penalty='elasticnet',\n",
      "                   solver='saga')\n",
      "predictions head\n",
      "['Sedan' 'Sedan' 'Sedan' 'SUV' 'SUV']\n",
      "prediction time in minutes:  0.0005798578262329101\n",
      "prediction time per image in minutes:  3.8942768719470126e-07\n"
     ]
    }
   ],
   "source": [
    "make_predictions(test_data, X_test, classifier_name)"
   ]
  }
 ],
 "metadata": {
  "kernelspec": {
   "display_name": "Python 3",
   "language": "python",
   "name": "python3"
  },
  "language_info": {
   "codemirror_mode": {
    "name": "ipython",
    "version": 3
   },
   "file_extension": ".py",
   "mimetype": "text/x-python",
   "name": "python",
   "nbconvert_exporter": "python",
   "pygments_lexer": "ipython3",
   "version": "3.8.8"
  }
 },
 "nbformat": 4,
 "nbformat_minor": 2
}
