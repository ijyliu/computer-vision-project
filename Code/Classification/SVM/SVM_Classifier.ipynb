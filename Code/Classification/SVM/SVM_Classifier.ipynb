{
 "cells": [
  {
   "cell_type": "code",
   "execution_count": 20,
   "id": "c61151bd",
   "metadata": {},
   "outputs": [],
   "source": [
    "import pandas as pd\n",
    "import numpy as np\n",
    "import glob\n",
    "import os\n",
    "import joblib\n",
    "import time\n",
    "from sklearn.svm import SVC\n",
    "from sklearn.model_selection import GridSearchCV\n",
    "from sklearn.metrics import accuracy_score\n",
    "from sklearn.model_selection import train_test_split"
   ]
  },
  {
   "cell_type": "markdown",
   "id": "a471ceaf",
   "metadata": {},
   "source": [
    "## Prepare Data"
   ]
  },
  {
   "cell_type": "code",
   "execution_count": 3,
   "id": "423cda12",
   "metadata": {},
   "outputs": [],
   "source": [
    "# Load Training Data\n",
    "def collect_parquets(train_path):\n",
    "    parquet_files = glob.glob(f\"{train_path}/*.parquet\")\n",
    "    dfs = [pd.read_parquet(file) for file in parquet_files]\n",
    "    train_df = pd.concat(dfs, ignore_index = True)\n",
    "    return train_df"
   ]
  },
  {
   "cell_type": "code",
   "execution_count": 9,
   "id": "f6684ebe",
   "metadata": {},
   "outputs": [
    {
     "name": "stdout",
     "output_type": "stream",
     "text": [
      "All training data:  (6003, 4893)\n"
     ]
    }
   ],
   "source": [
    "PATH = '../../../Data/Features/All Features/train'\n",
    "training_data = collect_parquets(PATH)\n",
    "print('Training data: ', training_data.shape)"
   ]
  },
  {
   "cell_type": "code",
   "execution_count": 10,
   "id": "a4cccf90",
   "metadata": {},
   "outputs": [
    {
     "data": {
      "text/plain": [
       "Index(['Class', 'harmonized_filename', 'image_path_blur', 'image_path_no_blur',\n",
       "       'ViT_Embedding_Element_0', 'ViT_Embedding_Element_1',\n",
       "       'ViT_Embedding_Element_2', 'ViT_Embedding_Element_3',\n",
       "       'ViT_Embedding_Element_4', 'ViT_Embedding_Element_5',\n",
       "       ...\n",
       "       'VGG_Embedding_Element_502', 'VGG_Embedding_Element_503',\n",
       "       'VGG_Embedding_Element_504', 'VGG_Embedding_Element_505',\n",
       "       'VGG_Embedding_Element_506', 'VGG_Embedding_Element_507',\n",
       "       'VGG_Embedding_Element_508', 'VGG_Embedding_Element_509',\n",
       "       'VGG_Embedding_Element_510', 'VGG_Embedding_Element_511'],\n",
       "      dtype='object', length=4893)"
      ]
     },
     "execution_count": 10,
     "metadata": {},
     "output_type": "execute_result"
    }
   ],
   "source": [
    "training_data.columns"
   ]
  },
  {
   "cell_type": "code",
   "execution_count": 11,
   "id": "8730d431",
   "metadata": {},
   "outputs": [],
   "source": [
    "target = training_data['Class']"
   ]
  },
  {
   "cell_type": "code",
   "execution_count": 12,
   "id": "66ce0546",
   "metadata": {},
   "outputs": [],
   "source": [
    "features = training_data.drop(columns = ['Class', 'harmonized_filename', 'image_path_blur', 'image_path_no_blur'])"
   ]
  },
  {
   "cell_type": "code",
   "execution_count": 17,
   "id": "2937f1ca",
   "metadata": {},
   "outputs": [],
   "source": [
    "hyperparameter_grid = {\n",
    "    'c_values' :  np.logspace(-1, 2, num = 4),\n",
    "    'kernel_grid' :  ['rbf', 'poly'],\n",
    "    'gamma_grid' :  np.logspace(-1, 2, num = 4),\n",
    "    'degree_grid':  [2, 3, 5, 7],\n",
    "    'k_folds' : 5\n",
    "}"
   ]
  },
  {
   "cell_type": "markdown",
   "id": "762955cc",
   "metadata": {},
   "source": [
    "## Train Model"
   ]
  },
  {
   "cell_type": "code",
   "execution_count": 18,
   "id": "c0e7c968",
   "metadata": {},
   "outputs": [],
   "source": [
    "def train_SVM(path, hyperparameter_grid):\n",
    "    # Start timer\n",
    "    start_time = time.time()\n",
    "    \n",
    "    # Load the data\n",
    "    training_data = collect_parquets(path)\n",
    "    target = training_data['Class']\n",
    "    features = training_data.drop(columns=['Class', 'harmonized_filename', 'image_path_blur', 'image_path_no_blur'])\n",
    "    \n",
    "    # Split the data into training and validation sets\n",
    "    X_train, X_val, y_train, y_val = train_test_split(features, target, test_size = 0.2, random_state = 42)\n",
    "    \n",
    "    # Setup the hyperparameter grid\n",
    "    param_grid = {\n",
    "        'C': hyperparameter_grid['c_values'],\n",
    "        'kernel': hyperparameter_grid['kernel_grid'],\n",
    "        'gamma': hyperparameter_grid['gamma_grid'],\n",
    "        'degree': hyperparameter_grid['degree_grid']\n",
    "    }\n",
    "    \n",
    "    # Initialize the SVM classifier\n",
    "    svm = SVC()\n",
    "    \n",
    "    # Setup GridSearchCV\n",
    "    grid_search = GridSearchCV(svm, param_grid, cv = hyperparameter_grid['k_folds'], scoring = 'accuracy', return_train_score = True)\n",
    "    \n",
    "    # Fit the model\n",
    "    grid_search.fit(X_train, y_train)\n",
    "    \n",
    "    # Training time\n",
    "    fit_time = time.time() - start_time\n",
    "    \n",
    "    # Best model\n",
    "    best_model = grid_search.best_estimator_\n",
    "    \n",
    "    # Predictions\n",
    "    train_preds = best_model.predict(X_train)\n",
    "    val_preds = best_model.predict(X_val)\n",
    "    \n",
    "    # Accuracies\n",
    "    train_accuracy = accuracy_score(y_train, train_preds)\n",
    "    val_accuracy = accuracy_score(y_val, val_preds)\n",
    "    \n",
    "    # Save the best model\n",
    "    joblib_file = \"best_svm_model.joblib\"\n",
    "    joblib.dump(best_model, joblib_file)\n",
    "    \n",
    "    # Output\n",
    "    output_dict = {\n",
    "        'fit_time': fit_time,\n",
    "        'train_accuracy': train_accuracy,\n",
    "        'validation_accuracy': val_accuracy\n",
    "    }\n",
    "    \n",
    "    optimal_hyperparameters = grid_search.best_params_\n",
    "    \n",
    "    return output_dict, optimal_hyperparameters, joblib_file"
   ]
  },
  {
   "cell_type": "markdown",
   "id": "92b06f33",
   "metadata": {},
   "source": [
    "## Save Results"
   ]
  },
  {
   "cell_type": "code",
   "execution_count": null,
   "id": "8c82befa",
   "metadata": {},
   "outputs": [],
   "source": [
    "PATH = '../../../Data/Features/All Features/train'\n",
    "output_dict, optimal_hyperparameters, joblib_file = train_SVM(PATH, hyperparameter_grid)\n",
    "print(output_dict)\n",
    "print(optimal_hyperparameters)"
   ]
  },
  {
   "cell_type": "code",
   "execution_count": null,
   "id": "ae714407",
   "metadata": {},
   "outputs": [],
   "source": []
  }
 ],
 "metadata": {
  "kernelspec": {
   "display_name": "Python 3",
   "language": "python",
   "name": "python3"
  },
  "language_info": {
   "codemirror_mode": {
    "name": "ipython",
    "version": 3
   },
   "file_extension": ".py",
   "mimetype": "text/x-python",
   "name": "python",
   "nbconvert_exporter": "python",
   "pygments_lexer": "ipython3",
   "version": "3.8.8"
  }
 },
 "nbformat": 4,
 "nbformat_minor": 5
}
