{
 "cells": [
  {
   "cell_type": "code",
   "execution_count": 27,
   "id": "f6ffd314",
   "metadata": {},
   "outputs": [],
   "source": [
    "import os\n",
    "import glob\n",
    "import pandas as pd\n",
    "import matplotlib.pyplot as plt\n",
    "import seaborn as sns\n",
    "from sklearn.metrics import confusion_matrix,classification_report\n",
    "from PIL import Image\n",
    "import numpy as np\n",
    "import random"
   ]
  },
  {
   "cell_type": "code",
   "execution_count": 28,
   "id": "add26373",
   "metadata": {},
   "outputs": [
    {
     "ename": "FileNotFoundError",
     "evalue": "[Errno 2] No such file or directory: '../../Data/Predictions/Logistic Regression/Logistic_Regression_Classifier_Predictions_All_Data.xlsx'",
     "output_type": "error",
     "traceback": [
      "\u001b[0;31m---------------------------------------------------------------------------\u001b[0m",
      "\u001b[0;31mFileNotFoundError\u001b[0m                         Traceback (most recent call last)",
      "Cell \u001b[0;32mIn[28], line 1\u001b[0m\n\u001b[0;32m----> 1\u001b[0m data \u001b[38;5;241m=\u001b[39m pd\u001b[38;5;241m.\u001b[39mread_excel(\u001b[38;5;124m'\u001b[39m\u001b[38;5;124m../../Data/Predictions/Logistic Regression/Logistic_Regression_Classifier_Predictions_All_Data.xlsx\u001b[39m\u001b[38;5;124m'\u001b[39m)\n\u001b[1;32m      2\u001b[0m \u001b[38;5;28mprint\u001b[39m(data)\n",
      "File \u001b[0;32m~/anaconda3/lib/python3.11/site-packages/pandas/io/excel/_base.py:478\u001b[0m, in \u001b[0;36mread_excel\u001b[0;34m(io, sheet_name, header, names, index_col, usecols, dtype, engine, converters, true_values, false_values, skiprows, nrows, na_values, keep_default_na, na_filter, verbose, parse_dates, date_parser, date_format, thousands, decimal, comment, skipfooter, storage_options, dtype_backend)\u001b[0m\n\u001b[1;32m    476\u001b[0m \u001b[38;5;28;01mif\u001b[39;00m \u001b[38;5;129;01mnot\u001b[39;00m \u001b[38;5;28misinstance\u001b[39m(io, ExcelFile):\n\u001b[1;32m    477\u001b[0m     should_close \u001b[38;5;241m=\u001b[39m \u001b[38;5;28;01mTrue\u001b[39;00m\n\u001b[0;32m--> 478\u001b[0m     io \u001b[38;5;241m=\u001b[39m ExcelFile(io, storage_options\u001b[38;5;241m=\u001b[39mstorage_options, engine\u001b[38;5;241m=\u001b[39mengine)\n\u001b[1;32m    479\u001b[0m \u001b[38;5;28;01melif\u001b[39;00m engine \u001b[38;5;129;01mand\u001b[39;00m engine \u001b[38;5;241m!=\u001b[39m io\u001b[38;5;241m.\u001b[39mengine:\n\u001b[1;32m    480\u001b[0m     \u001b[38;5;28;01mraise\u001b[39;00m \u001b[38;5;167;01mValueError\u001b[39;00m(\n\u001b[1;32m    481\u001b[0m         \u001b[38;5;124m\"\u001b[39m\u001b[38;5;124mEngine should not be specified when passing \u001b[39m\u001b[38;5;124m\"\u001b[39m\n\u001b[1;32m    482\u001b[0m         \u001b[38;5;124m\"\u001b[39m\u001b[38;5;124man ExcelFile - ExcelFile already has the engine set\u001b[39m\u001b[38;5;124m\"\u001b[39m\n\u001b[1;32m    483\u001b[0m     )\n",
      "File \u001b[0;32m~/anaconda3/lib/python3.11/site-packages/pandas/io/excel/_base.py:1496\u001b[0m, in \u001b[0;36mExcelFile.__init__\u001b[0;34m(self, path_or_buffer, engine, storage_options)\u001b[0m\n\u001b[1;32m   1494\u001b[0m     ext \u001b[38;5;241m=\u001b[39m \u001b[38;5;124m\"\u001b[39m\u001b[38;5;124mxls\u001b[39m\u001b[38;5;124m\"\u001b[39m\n\u001b[1;32m   1495\u001b[0m \u001b[38;5;28;01melse\u001b[39;00m:\n\u001b[0;32m-> 1496\u001b[0m     ext \u001b[38;5;241m=\u001b[39m inspect_excel_format(\n\u001b[1;32m   1497\u001b[0m         content_or_path\u001b[38;5;241m=\u001b[39mpath_or_buffer, storage_options\u001b[38;5;241m=\u001b[39mstorage_options\n\u001b[1;32m   1498\u001b[0m     )\n\u001b[1;32m   1499\u001b[0m     \u001b[38;5;28;01mif\u001b[39;00m ext \u001b[38;5;129;01mis\u001b[39;00m \u001b[38;5;28;01mNone\u001b[39;00m:\n\u001b[1;32m   1500\u001b[0m         \u001b[38;5;28;01mraise\u001b[39;00m \u001b[38;5;167;01mValueError\u001b[39;00m(\n\u001b[1;32m   1501\u001b[0m             \u001b[38;5;124m\"\u001b[39m\u001b[38;5;124mExcel file format cannot be determined, you must specify \u001b[39m\u001b[38;5;124m\"\u001b[39m\n\u001b[1;32m   1502\u001b[0m             \u001b[38;5;124m\"\u001b[39m\u001b[38;5;124man engine manually.\u001b[39m\u001b[38;5;124m\"\u001b[39m\n\u001b[1;32m   1503\u001b[0m         )\n",
      "File \u001b[0;32m~/anaconda3/lib/python3.11/site-packages/pandas/io/excel/_base.py:1371\u001b[0m, in \u001b[0;36minspect_excel_format\u001b[0;34m(content_or_path, storage_options)\u001b[0m\n\u001b[1;32m   1368\u001b[0m \u001b[38;5;28;01mif\u001b[39;00m \u001b[38;5;28misinstance\u001b[39m(content_or_path, \u001b[38;5;28mbytes\u001b[39m):\n\u001b[1;32m   1369\u001b[0m     content_or_path \u001b[38;5;241m=\u001b[39m BytesIO(content_or_path)\n\u001b[0;32m-> 1371\u001b[0m \u001b[38;5;28;01mwith\u001b[39;00m get_handle(\n\u001b[1;32m   1372\u001b[0m     content_or_path, \u001b[38;5;124m\"\u001b[39m\u001b[38;5;124mrb\u001b[39m\u001b[38;5;124m\"\u001b[39m, storage_options\u001b[38;5;241m=\u001b[39mstorage_options, is_text\u001b[38;5;241m=\u001b[39m\u001b[38;5;28;01mFalse\u001b[39;00m\n\u001b[1;32m   1373\u001b[0m ) \u001b[38;5;28;01mas\u001b[39;00m handle:\n\u001b[1;32m   1374\u001b[0m     stream \u001b[38;5;241m=\u001b[39m handle\u001b[38;5;241m.\u001b[39mhandle\n\u001b[1;32m   1375\u001b[0m     stream\u001b[38;5;241m.\u001b[39mseek(\u001b[38;5;241m0\u001b[39m)\n",
      "File \u001b[0;32m~/anaconda3/lib/python3.11/site-packages/pandas/io/common.py:868\u001b[0m, in \u001b[0;36mget_handle\u001b[0;34m(path_or_buf, mode, encoding, compression, memory_map, is_text, errors, storage_options)\u001b[0m\n\u001b[1;32m    859\u001b[0m         handle \u001b[38;5;241m=\u001b[39m \u001b[38;5;28mopen\u001b[39m(\n\u001b[1;32m    860\u001b[0m             handle,\n\u001b[1;32m    861\u001b[0m             ioargs\u001b[38;5;241m.\u001b[39mmode,\n\u001b[0;32m   (...)\u001b[0m\n\u001b[1;32m    864\u001b[0m             newline\u001b[38;5;241m=\u001b[39m\u001b[38;5;124m\"\u001b[39m\u001b[38;5;124m\"\u001b[39m,\n\u001b[1;32m    865\u001b[0m         )\n\u001b[1;32m    866\u001b[0m     \u001b[38;5;28;01melse\u001b[39;00m:\n\u001b[1;32m    867\u001b[0m         \u001b[38;5;66;03m# Binary mode\u001b[39;00m\n\u001b[0;32m--> 868\u001b[0m         handle \u001b[38;5;241m=\u001b[39m \u001b[38;5;28mopen\u001b[39m(handle, ioargs\u001b[38;5;241m.\u001b[39mmode)\n\u001b[1;32m    869\u001b[0m     handles\u001b[38;5;241m.\u001b[39mappend(handle)\n\u001b[1;32m    871\u001b[0m \u001b[38;5;66;03m# Convert BytesIO or file objects passed with an encoding\u001b[39;00m\n",
      "\u001b[0;31mFileNotFoundError\u001b[0m: [Errno 2] No such file or directory: '../../Data/Predictions/Logistic Regression/Logistic_Regression_Classifier_Predictions_All_Data.xlsx'"
     ]
    }
   ],
   "source": [
    "data = pd.read_excel('../../Data/Predictions/Logistic Regression/Logistic_Regression_Classifier_Predictions_All_Data.xlsx')\n",
    "print(data)"
   ]
  },
  {
   "cell_type": "code",
   "execution_count": null,
   "id": "616fda68",
   "metadata": {},
   "outputs": [],
   "source": [
    "actual_labels = data['Class']\n",
    "predicted_column = f'Logistic_Regression_Classification'\n",
    "predicted_labels = data[predicted_column]\n",
    "\n",
    "cm = confusion_matrix(actual_labels, predicted_labels, labels=actual_labels.unique())\n",
    "\n",
    "#Visualize the confusion matrix\n",
    "plt.figure(figsize=(10, 7))\n",
    "sns.heatmap(cm, annot=True, fmt=\"d\", cmap=\"Blues\", xticklabels=actual_labels.unique(), yticklabels=actual_labels.unique())\n",
    "plt.xlabel('Predicted Labels')\n",
    "plt.ylabel('Actual Labels')\n",
    "plt.title(f'Confusion Matrix for Logistic Regression')\n",
    "plt.show()"
   ]
  },
  {
   "cell_type": "markdown",
   "id": "6e91c4b2",
   "metadata": {},
   "source": [
    "## Generic Function to viz Confusion Matrix"
   ]
  },
  {
   "cell_type": "code",
   "execution_count": null,
   "id": "ce6bce9f",
   "metadata": {},
   "outputs": [],
   "source": [
    "base_path = '../../Data/Predictions/'"
   ]
  },
  {
   "cell_type": "code",
   "execution_count": null,
   "id": "f4bf94fb",
   "metadata": {},
   "outputs": [],
   "source": [
    "classifier_name = 'Logistic Regression'"
   ]
  },
  {
   "cell_type": "code",
   "execution_count": null,
   "id": "d198e1a1",
   "metadata": {},
   "outputs": [],
   "source": [
    "def visualize_classifier_confusion_matrix(base_path, classifier_name):\n",
    "    classifier_dir = os.path.join(base_path, classifier_name)\n",
    "    \n",
    "    file_pattern = os.path.join(classifier_dir, f'{classifier_name.replace(\" \", \"_\")}*.xlsx')\n",
    "    files = glob.glob(file_pattern)\n",
    "\n",
    "    if not files:\n",
    "        print(f\"No Excel files found for classifier '{classifier_name}' in '{classifier_dir}'.\")\n",
    "        return\n",
    "    \n",
    "    file_path = files[0]\n",
    "\n",
    "    data = pd.read_excel(file_path)\n",
    "\n",
    "    actual_labels = data['Class']\n",
    "    predicted_column = [col for col in data.columns if 'Classification' in col][0] \n",
    "    predicted_labels = data[predicted_column]\n",
    "\n",
    "    # Compute the confusion matrix\n",
    "    cm = confusion_matrix(actual_labels, predicted_labels, labels=actual_labels.unique())\n",
    "\n",
    "    # Visualize the confusion matrix\n",
    "    plt.figure(figsize=(10, 7))\n",
    "    sns.heatmap(cm, annot=True, fmt=\"d\", cmap=\"Blues\", xticklabels=actual_labels.unique(), yticklabels=actual_labels.unique())\n",
    "    plt.xlabel('Predicted Labels')\n",
    "    plt.ylabel('Actual Labels')\n",
    "    plt.title(f'Confusion Matrix for {classifier_name}')\n",
    "    plt.show()"
   ]
  },
  {
   "cell_type": "code",
   "execution_count": null,
   "id": "68d7d4f6",
   "metadata": {},
   "outputs": [],
   "source": [
    "# visualize_classifier_confusion_matrix('path/to/Predictions', 'Logistic Regression')\n",
    "# visualize_classifier_confusion_matrix('path/to/Predictions', 'XGBoost')"
   ]
  },
  {
   "cell_type": "code",
   "execution_count": null,
   "id": "1b5fe0b0",
   "metadata": {},
   "outputs": [],
   "source": [
    "visualize_classifier_confusion_matrix(base_path, classifier_name)"
   ]
  },
  {
   "cell_type": "markdown",
   "id": "879aa3ed",
   "metadata": {},
   "source": [
    "## Classification Report"
   ]
  },
  {
   "cell_type": "code",
   "execution_count": null,
   "id": "de075311",
   "metadata": {},
   "outputs": [],
   "source": [
    "def analyze_classifier_performance(base_path, classifier_name,images_root_dir):\n",
    "    \n",
    "    classifier_colors = {\n",
    "        'Logistic Regression': 'Blues',\n",
    "        'XGBoost': 'Reds',\n",
    "        'SVM': 'Greens'\n",
    "    }\n",
    "    \n",
    "    classifier_dir = os.path.join(base_path, classifier_name)\n",
    "    file_pattern = os.path.join(classifier_dir, f'{classifier_name.replace(\" \", \"_\")}*.xlsx')\n",
    "    files = glob.glob(file_pattern)\n",
    "\n",
    "    if not files:\n",
    "        print(f\"No Excel files found for classifier '{classifier_name}' in '{classifier_dir}'.\")\n",
    "        return\n",
    "\n",
    "    file_path = files[0]\n",
    "    data = pd.read_excel(file_path)\n",
    "    actual_labels = data['Class']\n",
    "    predicted_column = [col for col in data.columns if 'Classification' in col][0]\n",
    "    predicted_labels = data[predicted_column]\n",
    "\n",
    "    #Classification Report\n",
    "    report = classification_report(actual_labels, predicted_labels, output_dict=True)\n",
    "    pd.DataFrame(report).transpose().to_excel(f'{classifier_name}_Classification_Report.xlsx')\n",
    "\n",
    "     # Confusion Matrix\n",
    "    cm_color = classifier_colors.get(classifier_name, 'Blues')\n",
    "    cm = confusion_matrix(actual_labels, predicted_labels, labels=actual_labels.unique())\n",
    "    plt.figure(figsize=(10, 7))\n",
    "    sns.heatmap(cm, annot=True, fmt=\"d\", cmap=cm_color, xticklabels=actual_labels.unique(), yticklabels=actual_labels.unique())\n",
    "    plt.xlabel('Predicted Labels')\n",
    "    plt.ylabel('Actual Labels')\n",
    "    plt.title(f'Confusion Matrix for {classifier_name}')\n",
    "    plt.savefig(f'{classifier_name}_Confusion_Matrix.png')\n",
    "    plt.close()\n",
    "\n",
    "    # Misclassified Images\n",
    "    misclassified_indices = np.where(actual_labels != predicted_labels)[0]\n",
    "    selected_indices = random.sample(list(misclassified_indices), min(5, len(misclassified_indices)))\n",
    "    if selected_indices:\n",
    "        plt.figure(figsize=(20, 4))\n",
    "        for i, index in enumerate(selected_indices, 1):\n",
    "            excel_image_path = data.iloc[index]['image_path_no_blur'].strip()\n",
    "            adjusted_image_path = excel_image_path.lstrip('.').lstrip('/').split('/', 3)[-1]\n",
    "            full_image_path = os.path.join(images_root_dir, adjusted_image_path)\n",
    "            image = Image.open(full_image_path)\n",
    "            plt.subplot(1, 5, i)\n",
    "            plt.imshow(image)\n",
    "            plt.title(f'{actual_labels[index]} Misclassified As {predicted_labels[index]}')\n",
    "            plt.axis('off')\n",
    "        plt.savefig(f'{classifier_name}_Misclassified_Images.png')\n",
    "        plt.close()"
   ]
  },
  {
   "cell_type": "code",
   "execution_count": null,
   "id": "370b3d50",
   "metadata": {},
   "outputs": [],
   "source": [
    "analyze_classifier_performance('../../Data/Predictions/', 'Logistic Regression','../../Images')"
   ]
  }
 ],
 "metadata": {
  "kernelspec": {
   "display_name": "Python 3 (ipykernel)",
   "language": "python",
   "name": "python3"
  },
  "language_info": {
   "codemirror_mode": {
    "name": "ipython",
    "version": 3
   },
   "file_extension": ".py",
   "mimetype": "text/x-python",
   "name": "python",
   "nbconvert_exporter": "python",
   "pygments_lexer": "ipython3",
   "version": "3.11.5"
  }
 },
 "nbformat": 4,
 "nbformat_minor": 5
}
