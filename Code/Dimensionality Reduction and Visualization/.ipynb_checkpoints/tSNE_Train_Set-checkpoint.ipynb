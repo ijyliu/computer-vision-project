{
 "cells": [
  {
   "cell_type": "markdown",
   "metadata": {},
   "source": [
    "# tSNE on Train Set"
   ]
  },
  {
   "cell_type": "code",
   "execution_count": null,
   "metadata": {},
   "outputs": [],
   "source": [
    "# Packages\n",
    "import numpy as np\n",
    "import matplotlib.pyplot as plt\n",
    "from sklearn.manifold import TSNE\n",
    "from Create_Mappings_and_Matrices import create_mappings_and_matrices"
   ]
  },
  {
   "cell_type": "markdown",
   "metadata": {},
   "source": [
    "## Create Mappings and Matrices"
   ]
  },
  {
   "cell_type": "code",
   "execution_count": null,
   "metadata": {},
   "outputs": [],
   "source": [
    "y, class_mapping, feature_matrices, feature_matrices_rescaled, feature_matrix_labels = create_mappings_and_matrices()"
   ]
  },
  {
   "cell_type": "markdown",
   "metadata": {},
   "source": [
    "## Function to Run tSNE"
   ]
  },
  {
   "cell_type": "code",
   "execution_count": null,
   "metadata": {},
   "outputs": [],
   "source": [
    "def get_tsne(X_list, n_components=2):\n",
    "  '''\n",
    "  Takes as input a list of feature matrices and returns a list of transformed feature matrices using t-SNE.\n",
    "  '''\n",
    "  xtsne_list = []\n",
    "  for X in X_list:\n",
    "    tsne = TSNE(n_components=n_components, random_state=0, n_jobs=-1)\n",
    "    X_tsne = tsne.fit_transform(X)\n",
    "    xtsne_list.append(X_tsne)\n",
    "  return xtsne_list"
   ]
  },
  {
   "cell_type": "markdown",
   "metadata": {},
   "source": [
    "## Transform Matrices"
   ]
  },
  {
   "cell_type": "code",
   "execution_count": null,
   "metadata": {},
   "outputs": [],
   "source": [
    "# dimensionality reduction\n",
    "tsne_transformed_items  = get_tsne(X_list=feature_matrices_rescaled, n_components=2)\n",
    "tsne_transformed_items_no_rescaling = get_tsne(X_list=feature_matrices, n_components=2)\n",
    "\n",
    "# Check shapes\n",
    "print('tsne transformed items length and first element shape')\n",
    "print(len(tsne_transformed_items))\n",
    "print(tsne_transformed_items[0].shape)\n",
    "print('tsne transformed items no rescaling length and first element shape')\n",
    "print(len(tsne_transformed_items_no_rescaling))\n",
    "print(tsne_transformed_items_no_rescaling[0].shape)"
   ]
  },
  {
   "cell_type": "markdown",
   "metadata": {},
   "source": [
    "## Discriminability of Features"
   ]
  },
  {
   "cell_type": "code",
   "execution_count": null,
   "metadata": {},
   "outputs": [],
   "source": [
    "def plot_classes(X, y, ax, title):\n",
    "  '''\n",
    "  Plot the classes in a 2D space.\n",
    "  '''\n",
    "\n",
    "  # color code each cluster (class)\n",
    "  colormap = plt.cm.tab20\n",
    "  colorst = [colormap(i) for i in np.linspace(0, 1.0, len(list(class_mapping.keys())))]\n",
    "\n",
    "  # project the features into 2 dimensions\n",
    "  for k in range(len(np.unique(y))):\n",
    "    ax.scatter(X[y==list(class_mapping.values())[k], 0], X[y==list(class_mapping.values())[k], 1], alpha=0.5, facecolors=colorst[k], label = list(class_mapping.keys())[k])\n",
    "\n",
    "  ax.set_title(title)\n",
    "  ax.legend()"
   ]
  },
  {
   "cell_type": "code",
   "execution_count": null,
   "metadata": {
    "tags": []
   },
   "outputs": [],
   "source": [
    "# plot results\n",
    "fig, ax = plt.subplots(nrows=3, ncols=len(feature_matrices), figsize=(20, 7.5))\n",
    "\n",
    "# Iterate over feature matrices transformed and plot\n",
    "for idx in range(len(feature_matrices)):\n",
    "  # y is the class labels\n",
    "  plot_classes(tsne_transformed_items[idx], y, ax[1, idx], title=feature_matrix_labels[idx] + ' tSNE')\n",
    "  plot_classes(tsne_transformed_items_no_rescaling[idx], y, ax[2, idx], title=feature_matrix_labels[idx] + ' tSNE No Rescaling')\n",
    "\n",
    "plt.tight_layout()\n",
    "plt.savefig('../../Output/PCA and tSNE/tSNE_Class_Discrinimability.png')\n",
    "plt.show()"
   ]
  }
 ],
 "metadata": {
  "kernelspec": {
   "display_name": "scf_general",
   "language": "python",
   "name": "scf_general"
  },
  "language_info": {
   "codemirror_mode": {
    "name": "ipython",
    "version": 3
   },
   "file_extension": ".py",
   "mimetype": "text/x-python",
   "name": "python",
   "nbconvert_exporter": "python",
   "pygments_lexer": "ipython3",
   "version": "3.11.8"
  }
 },
 "nbformat": 4,
 "nbformat_minor": 4
}
