{
 "cells": [
  {
   "cell_type": "markdown",
   "metadata": {},
   "source": [
    "# Evaluate Logistic Regression"
   ]
  },
  {
   "cell_type": "code",
   "execution_count": 1,
   "metadata": {},
   "outputs": [],
   "source": [
    "# Packages\n",
    "import pandas as pd\n",
    "from Classifier_Evaluation_Functions import *"
   ]
  },
  {
   "cell_type": "code",
   "execution_count": 2,
   "metadata": {},
   "outputs": [
    {
     "data": {
      "text/html": [
       "<div>\n",
       "<style scoped>\n",
       "    .dataframe tbody tr th:only-of-type {\n",
       "        vertical-align: middle;\n",
       "    }\n",
       "\n",
       "    .dataframe tbody tr th {\n",
       "        vertical-align: top;\n",
       "    }\n",
       "\n",
       "    .dataframe thead th {\n",
       "        text-align: right;\n",
       "    }\n",
       "</style>\n",
       "<table border=\"1\" class=\"dataframe\">\n",
       "  <thead>\n",
       "    <tr style=\"text-align: right;\">\n",
       "      <th></th>\n",
       "      <th>Image Path</th>\n",
       "      <th>Logistic_Regression_Classification</th>\n",
       "      <th>filename</th>\n",
       "    </tr>\n",
       "  </thead>\n",
       "  <tbody>\n",
       "    <tr>\n",
       "      <th>0</th>\n",
       "      <td>../../../Images/test/No Blur/Pickup_test_orig_...</td>\n",
       "      <td>SUV</td>\n",
       "      <td>Pickup_test_orig_test_05620_resized_no_blur.jpg</td>\n",
       "    </tr>\n",
       "    <tr>\n",
       "      <th>1</th>\n",
       "      <td>../../../Images/test/No Blur/SUV_test_orig_tes...</td>\n",
       "      <td>Sedan</td>\n",
       "      <td>SUV_test_orig_test_08041_resized_no_blur.jpg</td>\n",
       "    </tr>\n",
       "    <tr>\n",
       "      <th>2</th>\n",
       "      <td>../../../Images/test/No Blur/Convertible_test_...</td>\n",
       "      <td>Convertible</td>\n",
       "      <td>Convertible_test_orig_test_00822_resized_no_bl...</td>\n",
       "    </tr>\n",
       "    <tr>\n",
       "      <th>3</th>\n",
       "      <td>../../../Images/test/No Blur/Convertible_test_...</td>\n",
       "      <td>Convertible</td>\n",
       "      <td>Convertible_test_orig_test_00618_resized_no_bl...</td>\n",
       "    </tr>\n",
       "    <tr>\n",
       "      <th>4</th>\n",
       "      <td>../../../Images/test/No Blur/Sedan_test_orig_t...</td>\n",
       "      <td>Convertible</td>\n",
       "      <td>Sedan_test_orig_test_02727_resized_no_blur.jpg</td>\n",
       "    </tr>\n",
       "    <tr>\n",
       "      <th>...</th>\n",
       "      <td>...</td>\n",
       "      <td>...</td>\n",
       "      <td>...</td>\n",
       "    </tr>\n",
       "    <tr>\n",
       "      <th>1651</th>\n",
       "      <td>../../../Images/test/No Blur/SUV_test_orig_tes...</td>\n",
       "      <td>SUV</td>\n",
       "      <td>SUV_test_orig_test_06465_resized_no_blur.jpg</td>\n",
       "    </tr>\n",
       "    <tr>\n",
       "      <th>1652</th>\n",
       "      <td>../../../Images/test/No Blur/Convertible_test_...</td>\n",
       "      <td>Convertible</td>\n",
       "      <td>Convertible_test_orig_test_04413_resized_no_bl...</td>\n",
       "    </tr>\n",
       "    <tr>\n",
       "      <th>1653</th>\n",
       "      <td>../../../Images/test/No Blur/Sedan_test_orig_t...</td>\n",
       "      <td>Sedan</td>\n",
       "      <td>Sedan_test_orig_train_06492_resized_no_blur.jpg</td>\n",
       "    </tr>\n",
       "    <tr>\n",
       "      <th>1654</th>\n",
       "      <td>../../../Images/test/No Blur/SUV_test_orig_tra...</td>\n",
       "      <td>Pickup</td>\n",
       "      <td>SUV_test_orig_train_07271_resized_no_blur.jpg</td>\n",
       "    </tr>\n",
       "    <tr>\n",
       "      <th>1655</th>\n",
       "      <td>../../../Images/test/No Blur/Convertible_test_...</td>\n",
       "      <td>Convertible</td>\n",
       "      <td>Convertible_test_orig_test_02283_resized_no_bl...</td>\n",
       "    </tr>\n",
       "  </tbody>\n",
       "</table>\n",
       "<p>1656 rows × 3 columns</p>\n",
       "</div>"
      ],
      "text/plain": [
       "                                             Image Path  \\\n",
       "0     ../../../Images/test/No Blur/Pickup_test_orig_...   \n",
       "1     ../../../Images/test/No Blur/SUV_test_orig_tes...   \n",
       "2     ../../../Images/test/No Blur/Convertible_test_...   \n",
       "3     ../../../Images/test/No Blur/Convertible_test_...   \n",
       "4     ../../../Images/test/No Blur/Sedan_test_orig_t...   \n",
       "...                                                 ...   \n",
       "1651  ../../../Images/test/No Blur/SUV_test_orig_tes...   \n",
       "1652  ../../../Images/test/No Blur/Convertible_test_...   \n",
       "1653  ../../../Images/test/No Blur/Sedan_test_orig_t...   \n",
       "1654  ../../../Images/test/No Blur/SUV_test_orig_tra...   \n",
       "1655  ../../../Images/test/No Blur/Convertible_test_...   \n",
       "\n",
       "     Logistic_Regression_Classification  \\\n",
       "0                                   SUV   \n",
       "1                                 Sedan   \n",
       "2                           Convertible   \n",
       "3                           Convertible   \n",
       "4                           Convertible   \n",
       "...                                 ...   \n",
       "1651                                SUV   \n",
       "1652                        Convertible   \n",
       "1653                              Sedan   \n",
       "1654                             Pickup   \n",
       "1655                        Convertible   \n",
       "\n",
       "                                               filename  \n",
       "0       Pickup_test_orig_test_05620_resized_no_blur.jpg  \n",
       "1          SUV_test_orig_test_08041_resized_no_blur.jpg  \n",
       "2     Convertible_test_orig_test_00822_resized_no_bl...  \n",
       "3     Convertible_test_orig_test_00618_resized_no_bl...  \n",
       "4        Sedan_test_orig_test_02727_resized_no_blur.jpg  \n",
       "...                                                 ...  \n",
       "1651       SUV_test_orig_test_06465_resized_no_blur.jpg  \n",
       "1652  Convertible_test_orig_test_04413_resized_no_bl...  \n",
       "1653    Sedan_test_orig_train_06492_resized_no_blur.jpg  \n",
       "1654      SUV_test_orig_train_07271_resized_no_blur.jpg  \n",
       "1655  Convertible_test_orig_test_02283_resized_no_bl...  \n",
       "\n",
       "[1656 rows x 3 columns]"
      ]
     },
     "execution_count": 2,
     "metadata": {},
     "output_type": "execute_result"
    }
   ],
   "source": [
    "# Load '../../Data/Predictions/Logistic Regression/Logistic_Regression_Classifier_Predictions.xlsx'\n",
    "Logistic_Regression_Classifier_Predictions = pd.read_excel('../../Data/Predictions/Logistic Regression/Logistic_Regression_Classifier_Predictions.xlsx')\n",
    "# Create filename variable by splitting Image Path on '/' and taking the last element\n",
    "Logistic_Regression_Classifier_Predictions['filename'] = Logistic_Regression_Classifier_Predictions['Image Path'].apply(lambda x: x.split('/')[-1])\n",
    "Logistic_Regression_Classifier_Predictions"
   ]
  },
  {
   "cell_type": "code",
   "execution_count": 3,
   "metadata": {},
   "outputs": [
    {
     "name": "stdout",
     "output_type": "stream",
     "text": [
      "Unexpected exception formatting exception. Falling back to standard exception\n"
     ]
    },
    {
     "name": "stderr",
     "output_type": "stream",
     "text": [
      "Traceback (most recent call last):\n",
      "  File \"c:\\Users\\ijyli\\anaconda3\\envs\\computervision\\Lib\\site-packages\\IPython\\core\\interactiveshell.py\", line 3553, in run_code\n",
      "    exec(code_obj, self.user_global_ns, self.user_ns)\n",
      "  File \"C:\\Users\\ijyli\\AppData\\Local\\Temp\\ipykernel_3448\\80475775.py\", line 2, in <module>\n",
      "    Logistic_Regression_Classifier_Predictions = Logistic_Regression_Classifier_Predictions.merge(class_labels, on='filename', how='inner')\n",
      "                                                                                                  ^^^^^^^^^^^^\n",
      "NameError: name 'class_labels' is not defined\n",
      "\n",
      "During handling of the above exception, another exception occurred:\n",
      "\n",
      "Traceback (most recent call last):\n",
      "  File \"c:\\Users\\ijyli\\anaconda3\\envs\\computervision\\Lib\\site-packages\\IPython\\core\\interactiveshell.py\", line 2144, in showtraceback\n",
      "    stb = self.InteractiveTB.structured_traceback(\n",
      "          ^^^^^^^^^^^^^^^^^^^^^^^^^^^^^^^^^^^^^^^^\n",
      "  File \"c:\\Users\\ijyli\\anaconda3\\envs\\computervision\\Lib\\site-packages\\IPython\\core\\ultratb.py\", line 1435, in structured_traceback\n",
      "    return FormattedTB.structured_traceback(\n",
      "           ^^^^^^^^^^^^^^^^^^^^^^^^^^^^^^^^^\n",
      "  File \"c:\\Users\\ijyli\\anaconda3\\envs\\computervision\\Lib\\site-packages\\IPython\\core\\ultratb.py\", line 1326, in structured_traceback\n",
      "    return VerboseTB.structured_traceback(\n",
      "           ^^^^^^^^^^^^^^^^^^^^^^^^^^^^^^^\n",
      "  File \"c:\\Users\\ijyli\\anaconda3\\envs\\computervision\\Lib\\site-packages\\IPython\\core\\ultratb.py\", line 1173, in structured_traceback\n",
      "    formatted_exception = self.format_exception_as_a_whole(etype, evalue, etb, number_of_lines_of_context,\n",
      "                          ^^^^^^^^^^^^^^^^^^^^^^^^^^^^^^^^^^^^^^^^^^^^^^^^^^^^^^^^^^^^^^^^^^^^^^^^^^^^^^^^\n",
      "  File \"c:\\Users\\ijyli\\anaconda3\\envs\\computervision\\Lib\\site-packages\\IPython\\core\\ultratb.py\", line 1088, in format_exception_as_a_whole\n",
      "    frames.append(self.format_record(record))\n",
      "                  ^^^^^^^^^^^^^^^^^^^^^^^^^^\n",
      "  File \"c:\\Users\\ijyli\\anaconda3\\envs\\computervision\\Lib\\site-packages\\IPython\\core\\ultratb.py\", line 970, in format_record\n",
      "    frame_info.lines, Colors, self.has_colors, lvals\n",
      "    ^^^^^^^^^^^^^^^^\n",
      "  File \"c:\\Users\\ijyli\\anaconda3\\envs\\computervision\\Lib\\site-packages\\IPython\\core\\ultratb.py\", line 792, in lines\n",
      "    return self._sd.lines\n",
      "           ^^^^^^^^^^^^^^\n",
      "  File \"c:\\Users\\ijyli\\anaconda3\\envs\\computervision\\Lib\\site-packages\\stack_data\\utils.py\", line 144, in cached_property_wrapper\n",
      "    value = obj.__dict__[self.func.__name__] = self.func(obj)\n",
      "                                               ^^^^^^^^^^^^^^\n",
      "  File \"c:\\Users\\ijyli\\anaconda3\\envs\\computervision\\Lib\\site-packages\\stack_data\\core.py\", line 734, in lines\n",
      "    pieces = self.included_pieces\n",
      "             ^^^^^^^^^^^^^^^^^^^^\n",
      "  File \"c:\\Users\\ijyli\\anaconda3\\envs\\computervision\\Lib\\site-packages\\stack_data\\utils.py\", line 144, in cached_property_wrapper\n",
      "    value = obj.__dict__[self.func.__name__] = self.func(obj)\n",
      "                                               ^^^^^^^^^^^^^^\n",
      "  File \"c:\\Users\\ijyli\\anaconda3\\envs\\computervision\\Lib\\site-packages\\stack_data\\core.py\", line 677, in included_pieces\n",
      "    scope_pieces = self.scope_pieces\n",
      "                   ^^^^^^^^^^^^^^^^^\n",
      "  File \"c:\\Users\\ijyli\\anaconda3\\envs\\computervision\\Lib\\site-packages\\stack_data\\utils.py\", line 144, in cached_property_wrapper\n",
      "    value = obj.__dict__[self.func.__name__] = self.func(obj)\n",
      "                                               ^^^^^^^^^^^^^^\n",
      "  File \"c:\\Users\\ijyli\\anaconda3\\envs\\computervision\\Lib\\site-packages\\stack_data\\core.py\", line 614, in scope_pieces\n",
      "    scope_start, scope_end = self.source.line_range(self.scope)\n",
      "                             ^^^^^^^^^^^^^^^^^^^^^^^^^^^^^^^^^^\n",
      "  File \"c:\\Users\\ijyli\\anaconda3\\envs\\computervision\\Lib\\site-packages\\stack_data\\core.py\", line 178, in line_range\n",
      "    return line_range(self.asttext(), node)\n",
      "                      ^^^^^^^^^^^^\n",
      "AttributeError: 'Source' object has no attribute 'asttext'\n"
     ]
    }
   ],
   "source": [
    "# Inner join dota\n",
    "Logistic_Regression_Classifier_Predictions = Logistic_Regression_Classifier_Predictions.merge(class_labels, on='filename', how='inner')\n",
    "print(Logistic_Regression_Classifier_Predictions['New Class'].value_counts())\n",
    "# Keep only if New Class in ['SUV', 'Sedan', 'Pickup', 'Convertible']\n",
    "Logistic_Regression_Classifier_Predictions = Logistic_Regression_Classifier_Predictions[Logistic_Regression_Classifier_Predictions['New Class'].isin(['SUV', 'Sedan', 'Pickup', 'Convertible'])]\n",
    "Logistic_Regression_Classifier_Predictions"
   ]
  },
  {
   "cell_type": "code",
   "execution_count": null,
   "metadata": {},
   "outputs": [
    {
     "name": "stdout",
     "output_type": "stream",
     "text": [
      "Classification Report for Logistic Regression:\n",
      "              precision    recall  f1-score   support\n",
      "\n",
      "         SUV       0.79      0.77      0.78       441\n",
      "       Sedan       0.79      0.90      0.84       580\n",
      "      Pickup       0.86      0.59      0.70       189\n",
      " Convertible       0.79      0.77      0.78       279\n",
      "\n",
      "    accuracy                           0.80      1489\n",
      "   macro avg       0.81      0.76      0.78      1489\n",
      "weighted avg       0.80      0.80      0.79      1489\n",
      "\n"
     ]
    },
    {
     "data": {
      "image/png": "[encoded data removed]",
      "text/plain": [
       "<Figure size 1000x800 with 2 Axes>"
      ]
     },
     "metadata": {},
     "output_type": "display_data"
    }
   ],
   "source": [
    "# Evaluate on 'New Class' and 'Logistic_Regression_Classification'\n",
    "evaluate_classifier(Logistic_Regression_Classifier_Predictions['New Class'], Logistic_Regression_Classifier_Predictions['Logistic_Regression_Classification'], 'Logistic Regression')"
   ]
  }
 ],
 "metadata": {
  "kernelspec": {
   "display_name": "computervision",
   "language": "python",
   "name": "python3"
  },
  "language_info": {
   "codemirror_mode": {
    "name": "ipython",
    "version": 3
   },
   "file_extension": ".py",
   "mimetype": "text/x-python",
   "name": "python",
   "nbconvert_exporter": "python",
   "pygments_lexer": "ipython3",
   "version": "3.11.8"
  }
 },
 "nbformat": 4,
 "nbformat_minor": 2
}
